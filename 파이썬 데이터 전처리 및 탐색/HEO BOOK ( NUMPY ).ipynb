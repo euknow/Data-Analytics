{
 "cells": [
  {
   "cell_type": "code",
   "execution_count": 6,
   "metadata": {
    "ExecuteTime": {
     "end_time": "2023-03-25T00:31:19.646855Z",
     "start_time": "2023-03-25T00:31:19.636014Z"
    }
   },
   "outputs": [],
   "source": [
    "import numpy as np"
   ]
  },
  {
   "cell_type": "code",
   "execution_count": 15,
   "metadata": {
    "ExecuteTime": {
     "end_time": "2023-03-25T00:35:23.517886Z",
     "start_time": "2023-03-25T00:35:23.508097Z"
    }
   },
   "outputs": [
    {
     "name": "stdout",
     "output_type": "stream",
     "text": [
      "(2, 2, 5)\n"
     ]
    },
    {
     "data": {
      "text/plain": [
       "array([[[ 1,  2,  3,  4,  5],\n",
       "        [ 6,  7,  8,  9, 10]],\n",
       "\n",
       "       [[ 1,  2,  3,  4,  5],\n",
       "        [ 6,  7,  8,  9, 10]]])"
      ]
     },
     "execution_count": 15,
     "metadata": {},
     "output_type": "execute_result"
    }
   ],
   "source": [
    "a = np.array([[[1,2,3,4,5],[6,7,8,9,10]],[[1,2,3,4,5],[6,7,8,9,10]]])\n",
    "print(a.shape)\n",
    "a"
   ]
  },
  {
   "cell_type": "code",
   "execution_count": 26,
   "metadata": {
    "ExecuteTime": {
     "end_time": "2023-03-25T00:38:28.438880Z",
     "start_time": "2023-03-25T00:38:28.421908Z"
    }
   },
   "outputs": [
    {
     "data": {
      "text/plain": [
       "array(['2022-03'], dtype='datetime64[M]')"
      ]
     },
     "execution_count": 26,
     "metadata": {},
     "output_type": "execute_result"
    }
   ],
   "source": [
    "a = np.array([\"2022-03-18\"], dtype = 'datetime64[M]')\n",
    "a"
   ]
  },
  {
   "cell_type": "code",
   "execution_count": 33,
   "metadata": {
    "ExecuteTime": {
     "end_time": "2023-03-25T00:40:03.390623Z",
     "start_time": "2023-03-25T00:40:03.374895Z"
    }
   },
   "outputs": [
    {
     "data": {
      "text/plain": [
       "array([[[ 0,  1,  2,  3,  4],\n",
       "        [ 5,  6,  7,  8,  9],\n",
       "        [10, 11, 12, 13, 14],\n",
       "        [15, 16, 17, 18, 19],\n",
       "        [20, 21, 22, 23, 24]],\n",
       "\n",
       "       [[25, 26, 27, 28, 29],\n",
       "        [30, 31, 32, 33, 34],\n",
       "        [35, 36, 37, 38, 39],\n",
       "        [40, 41, 42, 43, 44],\n",
       "        [45, 46, 47, 48, 49]]])"
      ]
     },
     "execution_count": 33,
     "metadata": {},
     "output_type": "execute_result"
    }
   ],
   "source": [
    "a = np.arange(0, 50, 1)\n",
    "a.reshape(2,-1,5)"
   ]
  },
  {
   "cell_type": "code",
   "execution_count": 37,
   "metadata": {
    "ExecuteTime": {
     "end_time": "2023-03-25T00:40:59.385904Z",
     "start_time": "2023-03-25T00:40:59.373274Z"
    }
   },
   "outputs": [
    {
     "data": {
      "text/plain": [
       "array([1. , 1.9, 2.8, 3.7, 4.6, 5.5, 6.4, 7.3, 8.2, 9.1])"
      ]
     },
     "execution_count": 37,
     "metadata": {},
     "output_type": "execute_result"
    }
   ],
   "source": [
    "a = np.linspace(1,10,10, endpoint=False)\n"
   ]
  },
  {
   "cell_type": "code",
   "execution_count": 40,
   "metadata": {
    "ExecuteTime": {
     "end_time": "2023-03-25T00:42:13.557281Z",
     "start_time": "2023-03-25T00:42:13.542794Z"
    }
   },
   "outputs": [
    {
     "data": {
      "text/plain": [
       "array([1.e-03, 1.e-02, 1.e-01, 1.e+00, 1.e+01, 1.e+02])"
      ]
     },
     "execution_count": 40,
     "metadata": {},
     "output_type": "execute_result"
    }
   ],
   "source": [
    "a = np.logspace(-3,2,6)\n",
    "a"
   ]
  },
  {
   "cell_type": "code",
   "execution_count": 41,
   "metadata": {
    "ExecuteTime": {
     "end_time": "2023-03-25T00:42:36.223650Z",
     "start_time": "2023-03-25T00:42:36.211861Z"
    }
   },
   "outputs": [
    {
     "data": {
      "text/plain": [
       "array([[0., 0., 0., 0.],\n",
       "       [0., 0., 0., 0.],\n",
       "       [0., 0., 0., 0.]])"
      ]
     },
     "execution_count": 41,
     "metadata": {},
     "output_type": "execute_result"
    }
   ],
   "source": [
    "a = np.zeros((3,4))\n",
    "a"
   ]
  },
  {
   "cell_type": "code",
   "execution_count": 43,
   "metadata": {
    "ExecuteTime": {
     "end_time": "2023-03-25T00:43:00.467985Z",
     "start_time": "2023-03-25T00:43:00.448408Z"
    }
   },
   "outputs": [
    {
     "data": {
      "text/plain": [
       "array([[1., 1., 1., 1.],\n",
       "       [1., 1., 1., 1.],\n",
       "       [1., 1., 1., 1.],\n",
       "       [1., 1., 1., 1.]])"
      ]
     },
     "execution_count": 43,
     "metadata": {},
     "output_type": "execute_result"
    }
   ],
   "source": [
    "a = np.ones((4,4))\n",
    "a\n",
    "\n"
   ]
  },
  {
   "cell_type": "code",
   "execution_count": 46,
   "metadata": {
    "ExecuteTime": {
     "end_time": "2023-03-25T00:44:05.645498Z",
     "start_time": "2023-03-25T00:44:05.624000Z"
    }
   },
   "outputs": [
    {
     "data": {
      "text/plain": [
       "array([[ 0,  1,  2,  3,  4,  5,  6,  7,  8,  9],\n",
       "       [10, 11, 12, 13, 14, 15, 16, 17, 18, 19],\n",
       "       [20, 21, 22, 23, 24, 25, 26, 27, 28, 29],\n",
       "       [30, 31, 32, 33, 34, 35, 36, 37, 38, 39],\n",
       "       [40, 41, 42, 43, 44, 45, 46, 47, 48, 49]])"
      ]
     },
     "execution_count": 46,
     "metadata": {},
     "output_type": "execute_result"
    }
   ],
   "source": [
    "a = np.arange(0,50,1)\n",
    "a = a.reshape(5,10)\n",
    "a"
   ]
  },
  {
   "cell_type": "code",
   "execution_count": 47,
   "metadata": {
    "ExecuteTime": {
     "end_time": "2023-03-25T00:46:25.295629Z",
     "start_time": "2023-03-25T00:46:25.283773Z"
    }
   },
   "outputs": [
    {
     "data": {
      "text/plain": [
       "(5, 10)"
      ]
     },
     "execution_count": 47,
     "metadata": {},
     "output_type": "execute_result"
    }
   ],
   "source": [
    "a.shape"
   ]
  },
  {
   "cell_type": "code",
   "execution_count": 52,
   "metadata": {
    "ExecuteTime": {
     "end_time": "2023-03-25T00:47:28.005601Z",
     "start_time": "2023-03-25T00:47:27.992562Z"
    }
   },
   "outputs": [
    {
     "data": {
      "text/plain": [
       "(5, 10, 1)"
      ]
     },
     "execution_count": 52,
     "metadata": {},
     "output_type": "execute_result"
    }
   ],
   "source": [
    "np.expand_dims(a, 2).shape\n"
   ]
  },
  {
   "cell_type": "code",
   "execution_count": 53,
   "metadata": {
    "ExecuteTime": {
     "end_time": "2023-03-25T00:47:39.932951Z",
     "start_time": "2023-03-25T00:47:39.915066Z"
    }
   },
   "outputs": [
    {
     "data": {
      "text/plain": [
       "array([[[ 0],\n",
       "        [ 1],\n",
       "        [ 2],\n",
       "        [ 3],\n",
       "        [ 4],\n",
       "        [ 5],\n",
       "        [ 6],\n",
       "        [ 7],\n",
       "        [ 8],\n",
       "        [ 9]],\n",
       "\n",
       "       [[10],\n",
       "        [11],\n",
       "        [12],\n",
       "        [13],\n",
       "        [14],\n",
       "        [15],\n",
       "        [16],\n",
       "        [17],\n",
       "        [18],\n",
       "        [19]],\n",
       "\n",
       "       [[20],\n",
       "        [21],\n",
       "        [22],\n",
       "        [23],\n",
       "        [24],\n",
       "        [25],\n",
       "        [26],\n",
       "        [27],\n",
       "        [28],\n",
       "        [29]],\n",
       "\n",
       "       [[30],\n",
       "        [31],\n",
       "        [32],\n",
       "        [33],\n",
       "        [34],\n",
       "        [35],\n",
       "        [36],\n",
       "        [37],\n",
       "        [38],\n",
       "        [39]],\n",
       "\n",
       "       [[40],\n",
       "        [41],\n",
       "        [42],\n",
       "        [43],\n",
       "        [44],\n",
       "        [45],\n",
       "        [46],\n",
       "        [47],\n",
       "        [48],\n",
       "        [49]]])"
      ]
     },
     "execution_count": 53,
     "metadata": {},
     "output_type": "execute_result"
    }
   ],
   "source": [
    "np.expand_dims(a, 2)"
   ]
  },
  {
   "cell_type": "code",
   "execution_count": 50,
   "metadata": {
    "ExecuteTime": {
     "end_time": "2023-03-25T00:47:14.202126Z",
     "start_time": "2023-03-25T00:47:14.176985Z"
    }
   },
   "outputs": [
    {
     "data": {
      "text/plain": [
       "(5, 1, 10)"
      ]
     },
     "execution_count": 50,
     "metadata": {},
     "output_type": "execute_result"
    }
   ],
   "source": [
    "a[:,np.newaxis,:].shape"
   ]
  },
  {
   "cell_type": "code",
   "execution_count": 63,
   "metadata": {
    "ExecuteTime": {
     "end_time": "2023-03-25T00:51:41.999995Z",
     "start_time": "2023-03-25T00:51:41.984566Z"
    }
   },
   "outputs": [
    {
     "data": {
      "text/plain": [
       "array([[[ 0,  1,  2,  3,  4],\n",
       "        [ 5,  6,  7,  8,  9],\n",
       "        [10, 11, 12, 13, 14],\n",
       "        [15, 16, 17, 18, 19],\n",
       "        [20, 21, 22, 23, 24]],\n",
       "\n",
       "       [[25, 26, 27, 28, 29],\n",
       "        [30, 31, 32, 33, 34],\n",
       "        [35, 36, 37, 38, 39],\n",
       "        [40, 41, 42, 43, 44],\n",
       "        [45, 46, 47, 48, 49]]])"
      ]
     },
     "execution_count": 63,
     "metadata": {},
     "output_type": "execute_result"
    }
   ],
   "source": [
    "a = np.arange(0,50).reshape(2,5,5)\n",
    "a"
   ]
  },
  {
   "cell_type": "code",
   "execution_count": 64,
   "metadata": {
    "ExecuteTime": {
     "end_time": "2023-03-25T00:52:26.962586Z",
     "start_time": "2023-03-25T00:52:26.951387Z"
    }
   },
   "outputs": [
    {
     "data": {
      "text/plain": [
       "(2, 5, 5)"
      ]
     },
     "execution_count": 64,
     "metadata": {},
     "output_type": "execute_result"
    }
   ],
   "source": [
    "a.shape"
   ]
  },
  {
   "cell_type": "code",
   "execution_count": 67,
   "metadata": {
    "ExecuteTime": {
     "end_time": "2023-03-25T00:55:38.937677Z",
     "start_time": "2023-03-25T00:55:38.927054Z"
    }
   },
   "outputs": [
    {
     "data": {
      "text/plain": [
       "array([[ 10,  35,  60,  85, 110],\n",
       "       [135, 160, 185, 210, 235]])"
      ]
     },
     "execution_count": 67,
     "metadata": {},
     "output_type": "execute_result"
    }
   ],
   "source": [
    "a.sum(axis=2)"
   ]
  },
  {
   "cell_type": "code",
   "execution_count": 70,
   "metadata": {
    "ExecuteTime": {
     "end_time": "2023-03-25T01:09:16.955005Z",
     "start_time": "2023-03-25T01:09:16.943206Z"
    }
   },
   "outputs": [
    {
     "data": {
      "text/plain": [
       "(2, 3, 4)"
      ]
     },
     "execution_count": 70,
     "metadata": {},
     "output_type": "execute_result"
    }
   ],
   "source": [
    "A = np.array([[[2,4,6,8],[7,6,3,4],[5,2,3,6]],\n",
    "              [[4,3,2,1],[4,3,7,6],[8,10,7,8]]])\n",
    "A.shape"
   ]
  },
  {
   "cell_type": "code",
   "execution_count": 71,
   "metadata": {
    "ExecuteTime": {
     "end_time": "2023-03-25T01:09:17.364938Z",
     "start_time": "2023-03-25T01:09:17.346268Z"
    }
   },
   "outputs": [
    {
     "data": {
      "text/plain": [
       "array([[14, 12, 12, 18],\n",
       "       [16, 16, 16, 15]])"
      ]
     },
     "execution_count": 71,
     "metadata": {},
     "output_type": "execute_result"
    }
   ],
   "source": [
    "A.sum(axis=1)"
   ]
  },
  {
   "cell_type": "code",
   "execution_count": 72,
   "metadata": {
    "ExecuteTime": {
     "end_time": "2023-03-25T01:09:28.170125Z",
     "start_time": "2023-03-25T01:09:28.156194Z"
    }
   },
   "outputs": [
    {
     "data": {
      "text/plain": [
       "array([[ 6,  7,  8,  9],\n",
       "       [11,  9, 10, 10],\n",
       "       [13, 12, 10, 14]])"
      ]
     },
     "execution_count": 72,
     "metadata": {},
     "output_type": "execute_result"
    }
   ],
   "source": [
    "A.sum(axis=0)"
   ]
  },
  {
   "cell_type": "code",
   "execution_count": 73,
   "metadata": {
    "ExecuteTime": {
     "end_time": "2023-03-25T01:09:36.465022Z",
     "start_time": "2023-03-25T01:09:36.453135Z"
    }
   },
   "outputs": [
    {
     "data": {
      "text/plain": [
       "array([[20, 20, 16],\n",
       "       [10, 20, 33]])"
      ]
     },
     "execution_count": 73,
     "metadata": {},
     "output_type": "execute_result"
    }
   ],
   "source": [
    "A.sum(axis=2)"
   ]
  },
  {
   "cell_type": "code",
   "execution_count": 76,
   "metadata": {
    "ExecuteTime": {
     "end_time": "2023-03-25T01:10:49.353490Z",
     "start_time": "2023-03-25T01:10:49.342408Z"
    }
   },
   "outputs": [
    {
     "data": {
      "text/plain": [
       "array([[ 8,  7,  6],\n",
       "       [ 4,  7, 10]])"
      ]
     },
     "execution_count": 76,
     "metadata": {},
     "output_type": "execute_result"
    }
   ],
   "source": [
    "A.max(axis=2)"
   ]
  },
  {
   "cell_type": "code",
   "execution_count": 77,
   "metadata": {
    "ExecuteTime": {
     "end_time": "2023-03-25T01:11:11.544481Z",
     "start_time": "2023-03-25T01:11:11.529802Z"
    }
   },
   "outputs": [
    {
     "data": {
      "text/plain": [
       "(2, 3, 4)"
      ]
     },
     "execution_count": 77,
     "metadata": {},
     "output_type": "execute_result"
    }
   ],
   "source": [
    "A = np.array([[[2,4,6,8],[7,6,3,4],[5,2,3,6]],\n",
    "              [[4,3,2,1],[4,3,7,6],[8,10,7,8]]])\n",
    "A.shape"
   ]
  },
  {
   "cell_type": "code",
   "execution_count": 79,
   "metadata": {
    "ExecuteTime": {
     "end_time": "2023-03-25T01:11:15.743330Z",
     "start_time": "2023-03-25T01:11:15.731283Z"
    }
   },
   "outputs": [
    {
     "data": {
      "text/plain": [
       "array([[[ 2,  4,  6,  8],\n",
       "        [ 7,  6,  3,  4],\n",
       "        [ 5,  2,  3,  6]],\n",
       "\n",
       "       [[ 4,  3,  2,  1],\n",
       "        [ 4,  3,  7,  6],\n",
       "        [ 8, 10,  7,  8]]])"
      ]
     },
     "execution_count": 79,
     "metadata": {},
     "output_type": "execute_result"
    }
   ],
   "source": [
    "A"
   ]
  },
  {
   "cell_type": "code",
   "execution_count": 81,
   "metadata": {
    "ExecuteTime": {
     "end_time": "2023-03-25T01:11:30.723854Z",
     "start_time": "2023-03-25T01:11:30.711592Z"
    }
   },
   "outputs": [
    {
     "data": {
      "text/plain": [
       "array([[2, 4, 6, 8],\n",
       "       [7, 6, 3, 4],\n",
       "       [5, 2, 3, 6]])"
      ]
     },
     "execution_count": 81,
     "metadata": {},
     "output_type": "execute_result"
    }
   ],
   "source": [
    "a1 = A[0]\n",
    "a1"
   ]
  },
  {
   "cell_type": "code",
   "execution_count": 82,
   "metadata": {
    "ExecuteTime": {
     "end_time": "2023-03-25T01:11:42.471421Z",
     "start_time": "2023-03-25T01:11:42.457912Z"
    }
   },
   "outputs": [],
   "source": [
    "a = np.array([1,2,3,4])"
   ]
  },
  {
   "cell_type": "code",
   "execution_count": 84,
   "metadata": {
    "ExecuteTime": {
     "end_time": "2023-03-25T01:12:00.137962Z",
     "start_time": "2023-03-25T01:12:00.107037Z"
    }
   },
   "outputs": [
    {
     "data": {
      "text/plain": [
       "(1, 2, 3, 4)"
      ]
     },
     "execution_count": 84,
     "metadata": {},
     "output_type": "execute_result"
    }
   ],
   "source": [
    "a[0], a[1], a[2], a[3]"
   ]
  },
  {
   "cell_type": "code",
   "execution_count": 85,
   "metadata": {
    "ExecuteTime": {
     "end_time": "2023-03-25T01:12:18.619356Z",
     "start_time": "2023-03-25T01:12:18.607257Z"
    }
   },
   "outputs": [
    {
     "data": {
      "text/plain": [
       "array([[2, 4, 6, 8],\n",
       "       [7, 6, 3, 4],\n",
       "       [5, 2, 3, 6]])"
      ]
     },
     "execution_count": 85,
     "metadata": {},
     "output_type": "execute_result"
    }
   ],
   "source": [
    "a1"
   ]
  },
  {
   "cell_type": "code",
   "execution_count": 90,
   "metadata": {
    "ExecuteTime": {
     "end_time": "2023-03-25T01:13:24.459070Z",
     "start_time": "2023-03-25T01:13:24.445834Z"
    }
   },
   "outputs": [
    {
     "data": {
      "text/plain": [
       "(2, 6, 4, 5)"
      ]
     },
     "execution_count": 90,
     "metadata": {},
     "output_type": "execute_result"
    }
   ],
   "source": [
    "a1[0,0], a1[1,1], a1[1,3], a1[2,0]"
   ]
  },
  {
   "cell_type": "code",
   "execution_count": 91,
   "metadata": {
    "ExecuteTime": {
     "end_time": "2023-03-25T01:13:33.346908Z",
     "start_time": "2023-03-25T01:13:33.334853Z"
    }
   },
   "outputs": [
    {
     "data": {
      "text/plain": [
       "array([[[ 2,  4,  6,  8],\n",
       "        [ 7,  6,  3,  4],\n",
       "        [ 5,  2,  3,  6]],\n",
       "\n",
       "       [[ 4,  3,  2,  1],\n",
       "        [ 4,  3,  7,  6],\n",
       "        [ 8, 10,  7,  8]]])"
      ]
     },
     "execution_count": 91,
     "metadata": {},
     "output_type": "execute_result"
    }
   ],
   "source": [
    "A"
   ]
  },
  {
   "cell_type": "code",
   "execution_count": 103,
   "metadata": {
    "ExecuteTime": {
     "end_time": "2023-03-25T01:17:12.640644Z",
     "start_time": "2023-03-25T01:17:12.616494Z"
    }
   },
   "outputs": [
    {
     "data": {
      "text/plain": [
       "array([ 1,  2,  3,  4,  5,  6,  7,  8,  9, 10, 11, 12, 13, 14, 15, 16, 17,\n",
       "       18, 19, 20, 21, 22, 23, 24, 25, 26, 27, 28, 29, 30, 31, 32, 33, 34,\n",
       "       35, 36, 37, 38, 39, 40, 41, 42, 43, 44, 45, 46, 47, 48, 49, 50, 51,\n",
       "       52, 53, 54, 55, 56, 57, 58, 59, 60, 61, 62, 63, 64, 65, 66, 67, 68,\n",
       "       69, 70, 71, 72, 73, 74, 75, 76, 77, 78, 79, 80, 81, 82, 83, 84, 85,\n",
       "       86, 87, 88, 89, 90, 91, 92, 93, 94, 95, 96])"
      ]
     },
     "execution_count": 103,
     "metadata": {},
     "output_type": "execute_result"
    }
   ],
   "source": [
    "b = np.arange(1,97)\n",
    "b"
   ]
  },
  {
   "cell_type": "code",
   "execution_count": 104,
   "metadata": {
    "ExecuteTime": {
     "end_time": "2023-03-25T01:17:27.376262Z",
     "start_time": "2023-03-25T01:17:27.365077Z"
    }
   },
   "outputs": [
    {
     "data": {
      "text/plain": [
       "array([ 4,  5,  6,  7,  8,  9, 10, 11, 12, 13, 14, 15, 16, 17, 18, 19, 20,\n",
       "       21, 22, 23, 24, 25, 26, 27, 28, 29, 30, 31, 32, 33, 34, 35, 36, 37,\n",
       "       38, 39, 40, 41, 42, 43, 44, 45, 46, 47, 48, 49, 50, 51, 52, 53, 54,\n",
       "       55, 56, 57, 58, 59, 60, 61, 62, 63, 64, 65, 66, 67, 68, 69, 70, 71,\n",
       "       72, 73, 74, 75, 76, 77, 78, 79, 80, 81, 82, 83, 84, 85, 86, 87, 88,\n",
       "       89, 90, 91, 92, 93, 94])"
      ]
     },
     "execution_count": 104,
     "metadata": {},
     "output_type": "execute_result"
    }
   ],
   "source": [
    "b[3:-2]"
   ]
  },
  {
   "cell_type": "code",
   "execution_count": 107,
   "metadata": {
    "ExecuteTime": {
     "end_time": "2023-03-25T01:18:57.219290Z",
     "start_time": "2023-03-25T01:18:57.203065Z"
    }
   },
   "outputs": [
    {
     "data": {
      "text/plain": [
       "array([[2, 4, 6, 8],\n",
       "       [7, 6, 3, 4],\n",
       "       [5, 2, 3, 6]])"
      ]
     },
     "execution_count": 107,
     "metadata": {},
     "output_type": "execute_result"
    }
   ],
   "source": [
    "a1"
   ]
  },
  {
   "cell_type": "code",
   "execution_count": 106,
   "metadata": {
    "ExecuteTime": {
     "end_time": "2023-03-25T01:18:53.183512Z",
     "start_time": "2023-03-25T01:18:53.170959Z"
    }
   },
   "outputs": [
    {
     "data": {
      "text/plain": [
       "array([[2, 4],\n",
       "       [7, 6]])"
      ]
     },
     "execution_count": 106,
     "metadata": {},
     "output_type": "execute_result"
    }
   ],
   "source": [
    "a1[:2, :2]"
   ]
  },
  {
   "cell_type": "code",
   "execution_count": 109,
   "metadata": {
    "ExecuteTime": {
     "end_time": "2023-03-25T01:19:39.223479Z",
     "start_time": "2023-03-25T01:19:39.204733Z"
    }
   },
   "outputs": [
    {
     "data": {
      "text/plain": [
       "array([[6, 3],\n",
       "       [2, 3]])"
      ]
     },
     "execution_count": 109,
     "metadata": {},
     "output_type": "execute_result"
    }
   ],
   "source": [
    "a1[1:, 1:3]"
   ]
  },
  {
   "cell_type": "code",
   "execution_count": 110,
   "metadata": {
    "ExecuteTime": {
     "end_time": "2023-03-25T01:20:43.686985Z",
     "start_time": "2023-03-25T01:20:43.670873Z"
    }
   },
   "outputs": [
    {
     "data": {
      "text/plain": [
       "array([[6, 8],\n",
       "       [3, 4]])"
      ]
     },
     "execution_count": 110,
     "metadata": {},
     "output_type": "execute_result"
    }
   ],
   "source": [
    "a1[:2, 2:]"
   ]
  },
  {
   "cell_type": "code",
   "execution_count": 111,
   "metadata": {
    "ExecuteTime": {
     "end_time": "2023-03-25T01:20:49.297802Z",
     "start_time": "2023-03-25T01:20:49.283851Z"
    }
   },
   "outputs": [
    {
     "data": {
      "text/plain": [
       "array([[[ 2,  4,  6,  8],\n",
       "        [ 7,  6,  3,  4],\n",
       "        [ 5,  2,  3,  6]],\n",
       "\n",
       "       [[ 4,  3,  2,  1],\n",
       "        [ 4,  3,  7,  6],\n",
       "        [ 8, 10,  7,  8]]])"
      ]
     },
     "execution_count": 111,
     "metadata": {},
     "output_type": "execute_result"
    }
   ],
   "source": [
    "A"
   ]
  },
  {
   "cell_type": "code",
   "execution_count": 112,
   "metadata": {
    "ExecuteTime": {
     "end_time": "2023-03-25T01:21:50.975697Z",
     "start_time": "2023-03-25T01:21:50.963225Z"
    }
   },
   "outputs": [
    {
     "data": {
      "text/plain": [
       "array([[6, 8],\n",
       "       [3, 4]])"
      ]
     },
     "execution_count": 112,
     "metadata": {},
     "output_type": "execute_result"
    }
   ],
   "source": [
    "A[0, :2, 2:]"
   ]
  },
  {
   "cell_type": "code",
   "execution_count": 115,
   "metadata": {
    "ExecuteTime": {
     "end_time": "2023-03-25T01:22:25.314904Z",
     "start_time": "2023-03-25T01:22:25.305518Z"
    }
   },
   "outputs": [
    {
     "data": {
      "text/plain": [
       "array([1, 2, 3, 4])"
      ]
     },
     "execution_count": 115,
     "metadata": {},
     "output_type": "execute_result"
    }
   ],
   "source": [
    "a"
   ]
  },
  {
   "cell_type": "code",
   "execution_count": 117,
   "metadata": {
    "ExecuteTime": {
     "end_time": "2023-03-25T01:22:52.922079Z",
     "start_time": "2023-03-25T01:22:52.909834Z"
    }
   },
   "outputs": [
    {
     "data": {
      "text/plain": [
       "array([1, 3, 4])"
      ]
     },
     "execution_count": 117,
     "metadata": {},
     "output_type": "execute_result"
    }
   ],
   "source": [
    "a[[0,2,3]]"
   ]
  },
  {
   "cell_type": "code",
   "execution_count": 119,
   "metadata": {
    "ExecuteTime": {
     "end_time": "2023-03-25T01:28:48.141636Z",
     "start_time": "2023-03-25T01:28:48.123459Z"
    }
   },
   "outputs": [
    {
     "data": {
      "text/plain": [
       "array([6, 6])"
      ]
     },
     "execution_count": 119,
     "metadata": {},
     "output_type": "execute_result"
    }
   ],
   "source": [
    "a1[[1,2] , [1,3]]"
   ]
  },
  {
   "cell_type": "code",
   "execution_count": 120,
   "metadata": {
    "ExecuteTime": {
     "end_time": "2023-03-25T01:29:19.290357Z",
     "start_time": "2023-03-25T01:29:19.266882Z"
    }
   },
   "outputs": [
    {
     "data": {
      "text/plain": [
       "array([[2, 4, 6, 8],\n",
       "       [7, 6, 3, 4],\n",
       "       [5, 2, 3, 6]])"
      ]
     },
     "execution_count": 120,
     "metadata": {},
     "output_type": "execute_result"
    }
   ],
   "source": [
    "a1"
   ]
  },
  {
   "cell_type": "code",
   "execution_count": 121,
   "metadata": {
    "ExecuteTime": {
     "end_time": "2023-03-25T01:30:08.175433Z",
     "start_time": "2023-03-25T01:30:08.160435Z"
    }
   },
   "outputs": [
    {
     "data": {
      "text/plain": [
       "array([2, 4])"
      ]
     },
     "execution_count": 121,
     "metadata": {},
     "output_type": "execute_result"
    }
   ],
   "source": [
    "a1[[2,1] , [1,3]]"
   ]
  },
  {
   "cell_type": "code",
   "execution_count": 123,
   "metadata": {
    "ExecuteTime": {
     "end_time": "2023-03-25T01:31:34.720708Z",
     "start_time": "2023-03-25T01:31:34.708838Z"
    }
   },
   "outputs": [
    {
     "data": {
      "text/plain": [
       "array([2, 3, 7])"
      ]
     },
     "execution_count": 123,
     "metadata": {},
     "output_type": "execute_result"
    }
   ],
   "source": [
    "A[[0,0,1],[2,1,1],[1,2,2]]"
   ]
  },
  {
   "cell_type": "code",
   "execution_count": 134,
   "metadata": {
    "ExecuteTime": {
     "end_time": "2023-03-25T01:49:32.223924Z",
     "start_time": "2023-03-25T01:49:32.198056Z"
    },
    "scrolled": true
   },
   "outputs": [
    {
     "data": {
      "text/plain": [
       "array([[[ 2,  4,  6,  8],\n",
       "        [ 7,  6,  3,  4],\n",
       "        [ 5,  2,  3,  6]],\n",
       "\n",
       "       [[ 4,  3,  2,  1],\n",
       "        [ 4,  3,  7,  6],\n",
       "        [ 8, 10,  7,  8]]])"
      ]
     },
     "execution_count": 134,
     "metadata": {},
     "output_type": "execute_result"
    }
   ],
   "source": [
    "A"
   ]
  },
  {
   "cell_type": "code",
   "execution_count": 96,
   "metadata": {
    "ExecuteTime": {
     "end_time": "2023-03-25T01:15:15.246366Z",
     "start_time": "2023-03-25T01:15:15.237492Z"
    }
   },
   "outputs": [
    {
     "data": {
      "text/plain": [
       "(3, 10, 6)"
      ]
     },
     "execution_count": 96,
     "metadata": {},
     "output_type": "execute_result"
    }
   ],
   "source": [
    "A[0,2,2], A[1,2,1], A[1,1,3]"
   ]
  },
  {
   "cell_type": "code",
   "execution_count": 100,
   "metadata": {
    "ExecuteTime": {
     "end_time": "2023-03-25T01:15:46.902115Z",
     "start_time": "2023-03-25T01:15:46.887833Z"
    }
   },
   "outputs": [
    {
     "data": {
      "text/plain": [
       "array([1, 2, 3, 4])"
      ]
     },
     "execution_count": 100,
     "metadata": {},
     "output_type": "execute_result"
    }
   ],
   "source": [
    "a"
   ]
  },
  {
   "cell_type": "code",
   "execution_count": 99,
   "metadata": {
    "ExecuteTime": {
     "end_time": "2023-03-25T01:15:37.817777Z",
     "start_time": "2023-03-25T01:15:37.805694Z"
    }
   },
   "outputs": [
    {
     "data": {
      "text/plain": [
       "array([1, 2])"
      ]
     },
     "execution_count": 99,
     "metadata": {},
     "output_type": "execute_result"
    }
   ],
   "source": [
    "a[0:2]"
   ]
  },
  {
   "cell_type": "code",
   "execution_count": 149,
   "metadata": {
    "ExecuteTime": {
     "end_time": "2023-03-25T01:55:35.781377Z",
     "start_time": "2023-03-25T01:55:35.769038Z"
    }
   },
   "outputs": [
    {
     "data": {
      "text/plain": [
       "array([[[ 2,  4,  6,  8],\n",
       "        [ 7,  6,  3,  4],\n",
       "        [ 5,  2,  3,  6]],\n",
       "\n",
       "       [[ 4,  3,  2,  1],\n",
       "        [ 4,  3,  7,  6],\n",
       "        [ 8, 10,  7,  8]]])"
      ]
     },
     "execution_count": 149,
     "metadata": {},
     "output_type": "execute_result"
    }
   ],
   "source": [
    "A"
   ]
  },
  {
   "cell_type": "code",
   "execution_count": 152,
   "metadata": {
    "ExecuteTime": {
     "end_time": "2023-03-25T01:56:05.894693Z",
     "start_time": "2023-03-25T01:56:05.885063Z"
    }
   },
   "outputs": [
    {
     "data": {
      "text/plain": [
       "array([[[6, 8],\n",
       "        [3, 4],\n",
       "        [3, 6]],\n",
       "\n",
       "       [[2, 1],\n",
       "        [7, 6],\n",
       "        [7, 8]]])"
      ]
     },
     "execution_count": 152,
     "metadata": {},
     "output_type": "execute_result"
    }
   ],
   "source": [
    "A[...,2:]"
   ]
  },
  {
   "cell_type": "code",
   "execution_count": 97,
   "metadata": {
    "ExecuteTime": {
     "end_time": "2023-03-25T01:15:27.550357Z",
     "start_time": "2023-03-25T01:15:27.531653Z"
    }
   },
   "outputs": [
    {
     "data": {
      "text/plain": [
       "array([[2, 4, 6, 8],\n",
       "       [7, 6, 3, 4],\n",
       "       [5, 2, 3, 6]])"
      ]
     },
     "execution_count": 97,
     "metadata": {},
     "output_type": "execute_result"
    }
   ],
   "source": [
    "a1"
   ]
  },
  {
   "cell_type": "code",
   "execution_count": 166,
   "metadata": {
    "ExecuteTime": {
     "end_time": "2023-03-25T02:05:58.695107Z",
     "start_time": "2023-03-25T02:05:58.679073Z"
    }
   },
   "outputs": [
    {
     "data": {
      "text/plain": [
       "(4, 1)"
      ]
     },
     "execution_count": 166,
     "metadata": {},
     "output_type": "execute_result"
    }
   ],
   "source": [
    "a = np.array([1,2,3,4])\n",
    "a = a[:,np.newaxis]\n",
    "a.shape"
   ]
  },
  {
   "cell_type": "code",
   "execution_count": 174,
   "metadata": {
    "ExecuteTime": {
     "end_time": "2023-03-25T02:07:21.605997Z",
     "start_time": "2023-03-25T02:07:21.592404Z"
    }
   },
   "outputs": [
    {
     "data": {
      "text/plain": [
       "array([[10, 20, 30]])"
      ]
     },
     "execution_count": 174,
     "metadata": {},
     "output_type": "execute_result"
    }
   ],
   "source": [
    "b = np.array([10,20,30])\n",
    "b = b[np.newaxis,:]\n",
    "b.shape\n",
    "b"
   ]
  },
  {
   "cell_type": "code",
   "execution_count": 172,
   "metadata": {
    "ExecuteTime": {
     "end_time": "2023-03-25T02:07:03.409147Z",
     "start_time": "2023-03-25T02:07:03.392201Z"
    }
   },
   "outputs": [
    {
     "data": {
      "text/plain": [
       "array([[ 0,  1,  2],\n",
       "       [ 3,  4,  5],\n",
       "       [ 6,  7,  8],\n",
       "       [ 9, 10, 11],\n",
       "       [12, 13, 14],\n",
       "       [15, 16, 17],\n",
       "       [18, 19, 20],\n",
       "       [21, 22, 23],\n",
       "       [24, 25, 26],\n",
       "       [27, 28, 29]])"
      ]
     },
     "execution_count": 172,
     "metadata": {},
     "output_type": "execute_result"
    }
   ],
   "source": [
    "a = np.arange(0,30).reshape(10,3)\n",
    "a"
   ]
  },
  {
   "cell_type": "code",
   "execution_count": 173,
   "metadata": {
    "ExecuteTime": {
     "end_time": "2023-03-25T02:07:09.458269Z",
     "start_time": "2023-03-25T02:07:09.444094Z"
    }
   },
   "outputs": [
    {
     "data": {
      "text/plain": [
       "array([[10, 21, 32],\n",
       "       [13, 24, 35],\n",
       "       [16, 27, 38],\n",
       "       [19, 30, 41],\n",
       "       [22, 33, 44],\n",
       "       [25, 36, 47],\n",
       "       [28, 39, 50],\n",
       "       [31, 42, 53],\n",
       "       [34, 45, 56],\n",
       "       [37, 48, 59]])"
      ]
     },
     "execution_count": 173,
     "metadata": {},
     "output_type": "execute_result"
    }
   ],
   "source": [
    "a +b"
   ]
  },
  {
   "cell_type": "code",
   "execution_count": 62,
   "metadata": {
    "ExecuteTime": {
     "end_time": "2023-03-25T00:51:20.144953Z",
     "start_time": "2023-03-25T00:51:20.129651Z"
    }
   },
   "outputs": [
    {
     "data": {
      "text/plain": [
       "array([ 45, 145, 245, 345, 445])"
      ]
     },
     "execution_count": 62,
     "metadata": {},
     "output_type": "execute_result"
    }
   ],
   "source": [
    "a.sum(axis=1)"
   ]
  },
  {
   "cell_type": "code",
   "execution_count": 6,
   "metadata": {},
   "outputs": [
    {
     "data": {
      "text/plain": [
       "array([ 0,  1,  2,  3,  4,  5,  6,  7,  8,  9, 10, 11, 12, 13, 14])"
      ]
     },
     "execution_count": 6,
     "metadata": {},
     "output_type": "execute_result"
    }
   ],
   "source": [
    "a = np.arange(15)\n",
    "a"
   ]
  },
  {
   "cell_type": "code",
   "execution_count": 9,
   "metadata": {},
   "outputs": [
    {
     "data": {
      "text/plain": [
       "array([[ 0,  1,  2,  3,  4],\n",
       "       [ 5,  6,  7,  8,  9],\n",
       "       [10, 11, 12, 13, 14]])"
      ]
     },
     "execution_count": 9,
     "metadata": {},
     "output_type": "execute_result"
    }
   ],
   "source": [
    "a = a.reshape(3,5)\n",
    "a"
   ]
  },
  {
   "cell_type": "code",
   "execution_count": 10,
   "metadata": {},
   "outputs": [
    {
     "data": {
      "text/plain": [
       "numpy.ndarray"
      ]
     },
     "execution_count": 10,
     "metadata": {},
     "output_type": "execute_result"
    }
   ],
   "source": [
    "type(a)"
   ]
  },
  {
   "cell_type": "code",
   "execution_count": 11,
   "metadata": {},
   "outputs": [
    {
     "data": {
      "text/plain": [
       "(3, 5)"
      ]
     },
     "execution_count": 11,
     "metadata": {},
     "output_type": "execute_result"
    }
   ],
   "source": [
    "a.shape"
   ]
  },
  {
   "cell_type": "code",
   "execution_count": 12,
   "metadata": {},
   "outputs": [
    {
     "data": {
      "text/plain": [
       "2"
      ]
     },
     "execution_count": 12,
     "metadata": {},
     "output_type": "execute_result"
    }
   ],
   "source": [
    "a.ndim"
   ]
  },
  {
   "cell_type": "code",
   "execution_count": 13,
   "metadata": {},
   "outputs": [
    {
     "data": {
      "text/plain": [
       "'int32'"
      ]
     },
     "execution_count": 13,
     "metadata": {},
     "output_type": "execute_result"
    }
   ],
   "source": [
    "a.dtype.name"
   ]
  },
  {
   "cell_type": "code",
   "execution_count": 14,
   "metadata": {},
   "outputs": [
    {
     "data": {
      "text/plain": [
       "dtype('int32')"
      ]
     },
     "execution_count": 14,
     "metadata": {},
     "output_type": "execute_result"
    }
   ],
   "source": [
    "a.dtype"
   ]
  },
  {
   "cell_type": "code",
   "execution_count": 15,
   "metadata": {},
   "outputs": [
    {
     "data": {
      "text/plain": [
       "4"
      ]
     },
     "execution_count": 15,
     "metadata": {},
     "output_type": "execute_result"
    }
   ],
   "source": [
    "a.itemsize"
   ]
  },
  {
   "cell_type": "code",
   "execution_count": 17,
   "metadata": {},
   "outputs": [
    {
     "data": {
      "text/plain": [
       "15"
      ]
     },
     "execution_count": 17,
     "metadata": {},
     "output_type": "execute_result"
    }
   ],
   "source": [
    "a.size"
   ]
  },
  {
   "cell_type": "code",
   "execution_count": 20,
   "metadata": {},
   "outputs": [
    {
     "data": {
      "text/plain": [
       "array([[ 0,  1,  2,  3],\n",
       "       [ 4,  5,  6,  7],\n",
       "       [ 8,  9, 10, 11]])"
      ]
     },
     "execution_count": 20,
     "metadata": {},
     "output_type": "execute_result"
    }
   ],
   "source": [
    "a = np.arange(12,dtype = np.int32).reshape(3,4)\n",
    "a"
   ]
  },
  {
   "cell_type": "code",
   "execution_count": 21,
   "metadata": {},
   "outputs": [
    {
     "data": {
      "text/plain": [
       "dtype('int32')"
      ]
     },
     "execution_count": 21,
     "metadata": {},
     "output_type": "execute_result"
    }
   ],
   "source": [
    "a.dtype"
   ]
  },
  {
   "cell_type": "code",
   "execution_count": 22,
   "metadata": {},
   "outputs": [
    {
     "data": {
      "text/plain": [
       "'int32'"
      ]
     },
     "execution_count": 22,
     "metadata": {},
     "output_type": "execute_result"
    }
   ],
   "source": [
    "a.dtype.name"
   ]
  },
  {
   "cell_type": "code",
   "execution_count": 24,
   "metadata": {},
   "outputs": [
    {
     "data": {
      "text/plain": [
       "array([[ 0,  1,  2,  3],\n",
       "       [ 4,  5,  6,  7],\n",
       "       [ 8,  9, 10, 11]], dtype=int64)"
      ]
     },
     "execution_count": 24,
     "metadata": {},
     "output_type": "execute_result"
    }
   ],
   "source": [
    "# 배열의 요소 타입을 변경하기 위해서는\n",
    "\n",
    "a.astype(np.int64)"
   ]
  },
  {
   "cell_type": "code",
   "execution_count": 25,
   "metadata": {},
   "outputs": [
    {
     "data": {
      "text/plain": [
       "array([2, 3, 4])"
      ]
     },
     "execution_count": 25,
     "metadata": {},
     "output_type": "execute_result"
    }
   ],
   "source": [
    "a = np.array([2,3,4])\n",
    "a"
   ]
  },
  {
   "cell_type": "code",
   "execution_count": 26,
   "metadata": {},
   "outputs": [
    {
     "data": {
      "text/plain": [
       "dtype('int32')"
      ]
     },
     "execution_count": 26,
     "metadata": {},
     "output_type": "execute_result"
    }
   ],
   "source": [
    "a.dtype"
   ]
  },
  {
   "cell_type": "code",
   "execution_count": 28,
   "metadata": {},
   "outputs": [
    {
     "data": {
      "text/plain": [
       "array([1.2, 3.5, 5.1])"
      ]
     },
     "execution_count": 28,
     "metadata": {},
     "output_type": "execute_result"
    }
   ],
   "source": [
    "b = np.array([1.2,3.5,5.1])\n",
    "b"
   ]
  },
  {
   "cell_type": "code",
   "execution_count": 29,
   "metadata": {},
   "outputs": [
    {
     "data": {
      "text/plain": [
       "dtype('float64')"
      ]
     },
     "execution_count": 29,
     "metadata": {},
     "output_type": "execute_result"
    }
   ],
   "source": [
    "b.dtype"
   ]
  },
  {
   "cell_type": "code",
   "execution_count": 31,
   "metadata": {},
   "outputs": [
    {
     "data": {
      "text/plain": [
       "array([[1.5, 2. , 3. ],\n",
       "       [4. , 5. , 6. ]])"
      ]
     },
     "execution_count": 31,
     "metadata": {},
     "output_type": "execute_result"
    }
   ],
   "source": [
    "b = np.array([[1.5,2,3], [4,5,6]])\n",
    "b"
   ]
  },
  {
   "cell_type": "code",
   "execution_count": 8,
   "metadata": {},
   "outputs": [
    {
     "data": {
      "text/plain": [
       "array([[ 1,  2,  3,  4],\n",
       "       [ 5,  6,  7,  8],\n",
       "       [ 9, 10, 11, 12]])"
      ]
     },
     "execution_count": 8,
     "metadata": {},
     "output_type": "execute_result"
    }
   ],
   "source": [
    "b = np.array([[1,2,3,4],[5,6,7,8],[9,10,11,12]])\n",
    "b"
   ]
  },
  {
   "cell_type": "code",
   "execution_count": 32,
   "metadata": {},
   "outputs": [
    {
     "data": {
      "text/plain": [
       "array([[1.+0.j, 2.+0.j],\n",
       "       [3.+0.j, 4.+0.j]])"
      ]
     },
     "execution_count": 32,
     "metadata": {},
     "output_type": "execute_result"
    }
   ],
   "source": [
    "c = np.array([[1,2],[3,4]], dtype = complex)\n",
    "c"
   ]
  },
  {
   "cell_type": "code",
   "execution_count": 33,
   "metadata": {},
   "outputs": [
    {
     "data": {
      "text/plain": [
       "array([[1., 2.],\n",
       "       [3., 4.]], dtype=float32)"
      ]
     },
     "execution_count": 33,
     "metadata": {},
     "output_type": "execute_result"
    }
   ],
   "source": [
    "c = np.array([[1,2],[3,4]], dtype = np.float32)\n",
    "c"
   ]
  },
  {
   "cell_type": "code",
   "execution_count": 39,
   "metadata": {},
   "outputs": [
    {
     "name": "stdout",
     "output_type": "stream",
     "text": [
      "1258629542256 1258629542256\n"
     ]
    }
   ],
   "source": [
    "# copy = False 이면 복사본 생성 x\n",
    "\n",
    "d = np.array(c, copy = False)\n",
    "print(id(c),id(d))"
   ]
  },
  {
   "cell_type": "code",
   "execution_count": 9,
   "metadata": {},
   "outputs": [
    {
     "data": {
      "text/plain": [
       "array([[ 1,  2,  3,  4],\n",
       "       [ 5,  6,  7,  8],\n",
       "       [ 9, 10, 11, 12]])"
      ]
     },
     "execution_count": 9,
     "metadata": {},
     "output_type": "execute_result"
    }
   ],
   "source": [
    "b"
   ]
  },
  {
   "cell_type": "code",
   "execution_count": 16,
   "metadata": {},
   "outputs": [],
   "source": [
    "c = np.array(b, copy = True)"
   ]
  },
  {
   "cell_type": "code",
   "execution_count": 17,
   "metadata": {},
   "outputs": [
    {
     "name": "stdout",
     "output_type": "stream",
     "text": [
      "2647205200640 2647205200640\n"
     ]
    }
   ],
   "source": [
    "print(id(c),id(b))"
   ]
  },
  {
   "cell_type": "code",
   "execution_count": 18,
   "metadata": {},
   "outputs": [],
   "source": [
    "c[1,1] = 2"
   ]
  },
  {
   "cell_type": "code",
   "execution_count": 19,
   "metadata": {},
   "outputs": [
    {
     "data": {
      "text/plain": [
       "array([[ 1,  2,  3,  4],\n",
       "       [ 5,  2,  7,  8],\n",
       "       [ 9, 10, 11, 12]])"
      ]
     },
     "execution_count": 19,
     "metadata": {},
     "output_type": "execute_result"
    }
   ],
   "source": [
    "c"
   ]
  },
  {
   "cell_type": "code",
   "execution_count": 20,
   "metadata": {},
   "outputs": [
    {
     "data": {
      "text/plain": [
       "array([[ 1,  2,  3,  4],\n",
       "       [ 5,  2,  7,  8],\n",
       "       [ 9, 10, 11, 12]])"
      ]
     },
     "execution_count": 20,
     "metadata": {},
     "output_type": "execute_result"
    }
   ],
   "source": [
    "b"
   ]
  },
  {
   "cell_type": "code",
   "execution_count": 42,
   "metadata": {},
   "outputs": [],
   "source": [
    "d[1] = [1,2]"
   ]
  },
  {
   "cell_type": "code",
   "execution_count": 43,
   "metadata": {},
   "outputs": [
    {
     "data": {
      "text/plain": [
       "array([[1., 2.],\n",
       "       [1., 2.]], dtype=float32)"
      ]
     },
     "execution_count": 43,
     "metadata": {},
     "output_type": "execute_result"
    }
   ],
   "source": [
    "c"
   ]
  },
  {
   "cell_type": "code",
   "execution_count": 44,
   "metadata": {},
   "outputs": [
    {
     "name": "stdout",
     "output_type": "stream",
     "text": [
      "1258629542256 1258629491568\n"
     ]
    }
   ],
   "source": [
    "# copy = False 여도 dtype에 다른 유형이 지정되면 복사본이 생성됩니다.\n",
    "\n",
    "d = np.array(c, copy = False, dtype = int)\n",
    "print(id(c), id(d))"
   ]
  },
  {
   "cell_type": "markdown",
   "metadata": {},
   "source": [
    "## 2.2 기본값이 있는 배열 만들기\n",
    " - zeros() 함수는 0으로 채워진 배열을 만듭니다\n",
    " - ones() 함수는 1로 구성된 배열을 만듭니다\n",
    " - empty() 함수는 초기 내용이 임의 값인 배열을 만듭니다"
   ]
  },
  {
   "cell_type": "code",
   "execution_count": 47,
   "metadata": {},
   "outputs": [
    {
     "data": {
      "text/plain": [
       "array([[0., 0., 0., 0.],\n",
       "       [0., 0., 0., 0.],\n",
       "       [0., 0., 0., 0.]])"
      ]
     },
     "execution_count": 47,
     "metadata": {},
     "output_type": "execute_result"
    }
   ],
   "source": [
    "x = np.zeros((3,4))\n",
    "x"
   ]
  },
  {
   "cell_type": "code",
   "execution_count": 48,
   "metadata": {},
   "outputs": [
    {
     "data": {
      "text/plain": [
       "dtype('float64')"
      ]
     },
     "execution_count": 48,
     "metadata": {},
     "output_type": "execute_result"
    }
   ],
   "source": [
    "x.dtype"
   ]
  },
  {
   "cell_type": "code",
   "execution_count": 49,
   "metadata": {},
   "outputs": [
    {
     "data": {
      "text/plain": [
       "array([[[1, 1, 1, 1],\n",
       "        [1, 1, 1, 1],\n",
       "        [1, 1, 1, 1]],\n",
       "\n",
       "       [[1, 1, 1, 1],\n",
       "        [1, 1, 1, 1],\n",
       "        [1, 1, 1, 1]]], dtype=int16)"
      ]
     },
     "execution_count": 49,
     "metadata": {},
     "output_type": "execute_result"
    }
   ],
   "source": [
    "np.ones((2,3,4), dtype = np.int16)"
   ]
  },
  {
   "cell_type": "code",
   "execution_count": 52,
   "metadata": {},
   "outputs": [
    {
     "data": {
      "text/plain": [
       "array([[1.5, 2. , 3. ],\n",
       "       [4. , 5. , 6. ]])"
      ]
     },
     "execution_count": 52,
     "metadata": {},
     "output_type": "execute_result"
    }
   ],
   "source": [
    "# empty 함수는 임의의 값으로 채워진 배열을 만듭니다. empty()함수에 의해 채워지는 값은 랜덤 값이 아닙니다. 현재 커널에 있는 쓰레기 데이터입니다.\n",
    "\n",
    "np.empty((2,3))"
   ]
  },
  {
   "cell_type": "code",
   "execution_count": 113,
   "metadata": {},
   "outputs": [
    {
     "data": {
      "text/plain": [
       "array([[1., 0., 0., 0., 0.],\n",
       "       [0., 1., 0., 0., 0.],\n",
       "       [0., 0., 1., 0., 0.],\n",
       "       [0., 0., 0., 1., 0.],\n",
       "       [0., 0., 0., 0., 1.]])"
      ]
     },
     "execution_count": 113,
     "metadata": {},
     "output_type": "execute_result"
    }
   ],
   "source": [
    "np.eye(5)"
   ]
  },
  {
   "cell_type": "code",
   "execution_count": 114,
   "metadata": {},
   "outputs": [
    {
     "data": {
      "text/plain": [
       "array([[7, 7, 7, 7],\n",
       "       [7, 7, 7, 7],\n",
       "       [7, 7, 7, 7]])"
      ]
     },
     "execution_count": 114,
     "metadata": {},
     "output_type": "execute_result"
    }
   ],
   "source": [
    "np.full((3,4),7)"
   ]
  },
  {
   "cell_type": "markdown",
   "metadata": {},
   "source": [
    "## 2.3 연속된 값을 갖는 배열 만들기"
   ]
  },
  {
   "cell_type": "code",
   "execution_count": 53,
   "metadata": {},
   "outputs": [
    {
     "data": {
      "text/plain": [
       "array([11, 12, 13, 14, 15, 16, 17, 18, 19])"
      ]
     },
     "execution_count": 53,
     "metadata": {},
     "output_type": "execute_result"
    }
   ],
   "source": [
    "np.arange(11,20)"
   ]
  },
  {
   "cell_type": "code",
   "execution_count": 54,
   "metadata": {},
   "outputs": [
    {
     "data": {
      "text/plain": [
       "array([10, 15, 20, 25])"
      ]
     },
     "execution_count": 54,
     "metadata": {},
     "output_type": "execute_result"
    }
   ],
   "source": [
    "np.arange(10,30,5)"
   ]
  },
  {
   "cell_type": "code",
   "execution_count": 55,
   "metadata": {},
   "outputs": [
    {
     "data": {
      "text/plain": [
       "array([0. , 0.3, 0.6, 0.9, 1.2, 1.5, 1.8])"
      ]
     },
     "execution_count": 55,
     "metadata": {},
     "output_type": "execute_result"
    }
   ],
   "source": [
    "np.arange(0,2 ,0.3)"
   ]
  },
  {
   "cell_type": "code",
   "execution_count": 56,
   "metadata": {},
   "outputs": [
    {
     "data": {
      "text/plain": [
       "array([0.  , 0.25, 0.5 , 0.75, 1.  , 1.25, 1.5 , 1.75, 2.  ])"
      ]
     },
     "execution_count": 56,
     "metadata": {},
     "output_type": "execute_result"
    }
   ],
   "source": [
    "# endpoint = False 일 경우, end는 포함하지 않습니다.\n",
    "# True일 경우, 맨 처음과 끝을 포함하는 갯수를 반환\n",
    "\n",
    "np.linspace(0,2,9)"
   ]
  },
  {
   "cell_type": "code",
   "execution_count": 102,
   "metadata": {},
   "outputs": [
    {
     "data": {
      "text/plain": [
       "array([1.e-04, 1.e-03, 1.e-02, 1.e-01, 1.e+00, 1.e+01, 1.e+02, 1.e+03,\n",
       "       1.e+04, 1.e+05])"
      ]
     },
     "execution_count": 102,
     "metadata": {},
     "output_type": "execute_result"
    }
   ],
   "source": [
    "np.logspace(-4,5,10,endpoint = True)"
   ]
  },
  {
   "cell_type": "code",
   "execution_count": 57,
   "metadata": {},
   "outputs": [
    {
     "data": {
      "text/plain": [
       "array([0.        , 0.22222222, 0.44444444, 0.66666667, 0.88888889,\n",
       "       1.11111111, 1.33333333, 1.55555556, 1.77777778])"
      ]
     },
     "execution_count": 57,
     "metadata": {},
     "output_type": "execute_result"
    }
   ],
   "source": [
    "np.linspace(0,2,9, endpoint = False)"
   ]
  },
  {
   "cell_type": "code",
   "execution_count": 59,
   "metadata": {},
   "outputs": [],
   "source": [
    "X = np.linspace(0, 2*np.pi, 100)\n",
    "y = np.sin(X)"
   ]
  },
  {
   "cell_type": "code",
   "execution_count": 60,
   "metadata": {},
   "outputs": [
    {
     "data": {
      "text/plain": [
       "<matplotlib.collections.PathCollection at 0x1250e658d30>"
      ]
     },
     "execution_count": 60,
     "metadata": {},
     "output_type": "execute_result"
    },
    {
     "data": {
      "image/png": "[encoded data removed]",
      "text/plain": [
       "<Figure size 432x288 with 1 Axes>"
      ]
     },
     "metadata": {
      "needs_background": "light"
     },
     "output_type": "display_data"
    }
   ],
   "source": [
    "import matplotlib.pyplot as plt\n",
    "\n",
    "plt.scatter(X,y)"
   ]
  },
  {
   "cell_type": "code",
   "execution_count": 63,
   "metadata": {},
   "outputs": [
    {
     "data": {
      "text/plain": [
       "array([[ 0,  1,  2,  3],\n",
       "       [ 4,  5,  6,  7],\n",
       "       [ 8,  9, 10, 11]])"
      ]
     },
     "execution_count": 63,
     "metadata": {},
     "output_type": "execute_result"
    }
   ],
   "source": [
    "a = np.arange(12).reshape(3,4)\n",
    "a"
   ]
  },
  {
   "cell_type": "code",
   "execution_count": 64,
   "metadata": {},
   "outputs": [
    {
     "data": {
      "text/plain": [
       "array([ 0,  1,  2,  3,  4,  5,  6,  7,  8,  9, 10, 11])"
      ]
     },
     "execution_count": 64,
     "metadata": {},
     "output_type": "execute_result"
    }
   ],
   "source": [
    "# ravel은 배열이 풀린 배열을 반환\n",
    "\n",
    "a.ravel()"
   ]
  },
  {
   "cell_type": "code",
   "execution_count": 65,
   "metadata": {},
   "outputs": [
    {
     "data": {
      "text/plain": [
       "array([[ 0,  4,  8],\n",
       "       [ 1,  5,  9],\n",
       "       [ 2,  6, 10],\n",
       "       [ 3,  7, 11]])"
      ]
     },
     "execution_count": 65,
     "metadata": {},
     "output_type": "execute_result"
    }
   ],
   "source": [
    "# 전치행렬\n",
    "\n",
    "a.T"
   ]
  },
  {
   "cell_type": "code",
   "execution_count": 67,
   "metadata": {},
   "outputs": [
    {
     "data": {
      "text/plain": [
       "array([[ 0,  1,  2,  3],\n",
       "       [ 4,  5,  6,  7],\n",
       "       [ 8,  9, 10, 11]])"
      ]
     },
     "execution_count": 67,
     "metadata": {},
     "output_type": "execute_result"
    }
   ],
   "source": [
    "a = np.arange(12).reshape(3,4)\n",
    "a"
   ]
  },
  {
   "cell_type": "code",
   "execution_count": 68,
   "metadata": {},
   "outputs": [
    {
     "data": {
      "text/plain": [
       "array([[ 0,  1,  2,  3,  4,  5],\n",
       "       [ 6,  7,  8,  9, 10, 11]])"
      ]
     },
     "execution_count": 68,
     "metadata": {},
     "output_type": "execute_result"
    }
   ],
   "source": [
    "a.resize(2,6)\n",
    "a"
   ]
  },
  {
   "cell_type": "code",
   "execution_count": 69,
   "metadata": {},
   "outputs": [
    {
     "data": {
      "text/plain": [
       "array([[ 0,  1],\n",
       "       [ 2,  3],\n",
       "       [ 4,  5],\n",
       "       [ 6,  7],\n",
       "       [ 8,  9],\n",
       "       [10, 11]])"
      ]
     },
     "execution_count": 69,
     "metadata": {},
     "output_type": "execute_result"
    }
   ],
   "source": [
    "# reshape 작업에서 크기가 -1로 주어지면 해당 차원의 크기는 자동으로 계산됩니다.\n",
    "\n",
    "a.reshape(6,-1)"
   ]
  },
  {
   "cell_type": "code",
   "execution_count": 104,
   "metadata": {},
   "outputs": [
    {
     "data": {
      "text/plain": [
       "array([[ 0,  1,  2,  3],\n",
       "       [ 4,  5,  6,  7],\n",
       "       [ 8,  9, 10, 11]])"
      ]
     },
     "execution_count": 104,
     "metadata": {},
     "output_type": "execute_result"
    }
   ],
   "source": [
    "# 축을 추가하기\n",
    "\n",
    "a = np.arange(12).reshape(3,4)\n",
    "\n",
    "a"
   ]
  },
  {
   "cell_type": "code",
   "execution_count": 105,
   "metadata": {},
   "outputs": [
    {
     "data": {
      "text/plain": [
       "(3, 4)"
      ]
     },
     "execution_count": 105,
     "metadata": {},
     "output_type": "execute_result"
    }
   ],
   "source": [
    "a.shape"
   ]
  },
  {
   "cell_type": "code",
   "execution_count": 106,
   "metadata": {},
   "outputs": [
    {
     "data": {
      "text/plain": [
       "array([[ 0,  1,  2,  3],\n",
       "       [ 4,  5,  6,  7],\n",
       "       [ 8,  9, 10, 11]])"
      ]
     },
     "execution_count": 106,
     "metadata": {},
     "output_type": "execute_result"
    }
   ],
   "source": [
    "a"
   ]
  },
  {
   "cell_type": "code",
   "execution_count": 107,
   "metadata": {},
   "outputs": [
    {
     "data": {
      "text/plain": [
       "array([[[ 0,  1,  2,  3]],\n",
       "\n",
       "       [[ 4,  5,  6,  7]],\n",
       "\n",
       "       [[ 8,  9, 10, 11]]])"
      ]
     },
     "execution_count": 107,
     "metadata": {},
     "output_type": "execute_result"
    }
   ],
   "source": [
    "# aa가 2차원이면 axis의 값은 0,1,2를 가질 수 있습니다.\n",
    "# axis에 입력한 값에 해당하는 자리에 1을 추가\n",
    "# 만약 axis = 1 로 입력하면 행의 자리에 1이 들어가고 재배열 된다.\n",
    "\n",
    "aa= np.expand_dims(a, axis = 1)\n",
    "aa"
   ]
  },
  {
   "cell_type": "code",
   "execution_count": 108,
   "metadata": {},
   "outputs": [
    {
     "data": {
      "text/plain": [
       "array([[[ 0,  1,  2,  3],\n",
       "        [ 4,  5,  6,  7],\n",
       "        [ 8,  9, 10, 11]]])"
      ]
     },
     "execution_count": 108,
     "metadata": {},
     "output_type": "execute_result"
    }
   ],
   "source": [
    "aaa = np.expand_dims(a , axis = 0)\n",
    "aaa"
   ]
  },
  {
   "cell_type": "code",
   "execution_count": 109,
   "metadata": {},
   "outputs": [
    {
     "data": {
      "text/plain": [
       "array([[[ 0],\n",
       "        [ 1],\n",
       "        [ 2],\n",
       "        [ 3]],\n",
       "\n",
       "       [[ 4],\n",
       "        [ 5],\n",
       "        [ 6],\n",
       "        [ 7]],\n",
       "\n",
       "       [[ 8],\n",
       "        [ 9],\n",
       "        [10],\n",
       "        [11]]])"
      ]
     },
     "execution_count": 109,
     "metadata": {},
     "output_type": "execute_result"
    }
   ],
   "source": [
    "aaaa = np.expand_dims(a, axis = 2)\n",
    "aaaa"
   ]
  },
  {
   "cell_type": "code",
   "execution_count": 13,
   "metadata": {},
   "outputs": [
    {
     "data": {
      "text/plain": [
       "array([[ 0,  1,  2,  3],\n",
       "       [ 4,  5,  6,  7],\n",
       "       [ 8,  9, 10, 11]])"
      ]
     },
     "execution_count": 13,
     "metadata": {},
     "output_type": "execute_result"
    }
   ],
   "source": [
    "np.squeeze(aaaa, axis = 2)"
   ]
  },
  {
   "cell_type": "code",
   "execution_count": 94,
   "metadata": {},
   "outputs": [
    {
     "data": {
      "text/plain": [
       "(3, 1, 4)"
      ]
     },
     "execution_count": 94,
     "metadata": {},
     "output_type": "execute_result"
    }
   ],
   "source": [
    "aa.shape"
   ]
  },
  {
   "cell_type": "code",
   "execution_count": 97,
   "metadata": {},
   "outputs": [],
   "source": [
    "# 차원 줄이기\n",
    "\n",
    "aa = np.squeeze(aa, axis = 1)"
   ]
  },
  {
   "cell_type": "code",
   "execution_count": 98,
   "metadata": {},
   "outputs": [
    {
     "data": {
      "text/plain": [
       "array([[ 0,  1,  2,  3],\n",
       "       [ 4,  5,  6,  7],\n",
       "       [ 8,  9, 10, 11]])"
      ]
     },
     "execution_count": 98,
     "metadata": {},
     "output_type": "execute_result"
    }
   ],
   "source": [
    "b  = np.array(aa, copy = True)\n",
    "b"
   ]
  },
  {
   "cell_type": "code",
   "execution_count": 99,
   "metadata": {},
   "outputs": [
    {
     "name": "stdout",
     "output_type": "stream",
     "text": [
      "1258667528720 1258667398048\n"
     ]
    }
   ],
   "source": [
    "print(id(aa),id(b))\n"
   ]
  },
  {
   "cell_type": "code",
   "execution_count": 100,
   "metadata": {},
   "outputs": [
    {
     "data": {
      "text/plain": [
       "array([[[ 0,  1,  2,  3],\n",
       "        [ 4,  5,  6,  7],\n",
       "        [ 8,  9, 10, 11]],\n",
       "\n",
       "       [[12, 13, 14, 15],\n",
       "        [16, 17, 18, 19],\n",
       "        [20, 21, 22, 23]]])"
      ]
     },
     "execution_count": 100,
     "metadata": {},
     "output_type": "execute_result"
    }
   ],
   "source": [
    "np.arange(24).reshape(2,3,4)"
   ]
  },
  {
   "cell_type": "code",
   "execution_count": 102,
   "metadata": {},
   "outputs": [
    {
     "name": "stdout",
     "output_type": "stream",
     "text": [
      "[[   0    1    2 ...   97   98   99]\n",
      " [ 100  101  102 ...  197  198  199]\n",
      " [ 200  201  202 ...  297  298  299]\n",
      " ...\n",
      " [9700 9701 9702 ... 9797 9798 9799]\n",
      " [9800 9801 9802 ... 9897 9898 9899]\n",
      " [9900 9901 9902 ... 9997 9998 9999]]\n"
     ]
    }
   ],
   "source": [
    "# 전체 배열 인쇄\n",
    "\n",
    "print(np.arange(10000).reshape(100,100))"
   ]
  },
  {
   "cell_type": "code",
   "execution_count": 103,
   "metadata": {},
   "outputs": [],
   "source": [
    "# 넘파이 전체 배열 인쇄\n",
    "\n",
    "np.set_printoptions(threshold = 10000)"
   ]
  },
  {
   "cell_type": "code",
   "execution_count": 104,
   "metadata": {},
   "outputs": [
    {
     "name": "stdout",
     "output_type": "stream",
     "text": [
      "[[   0    1    2    3    4    5    6    7    8    9   10   11   12   13\n",
      "    14   15   16   17   18   19   20   21   22   23   24   25   26   27\n",
      "    28   29   30   31   32   33   34   35   36   37   38   39   40   41\n",
      "    42   43   44   45   46   47   48   49   50   51   52   53   54   55\n",
      "    56   57   58   59   60   61   62   63   64   65   66   67   68   69\n",
      "    70   71   72   73   74   75   76   77   78   79   80   81   82   83\n",
      "    84   85   86   87   88   89   90   91   92   93   94   95   96   97\n",
      "    98   99]\n",
      " [ 100  101  102  103  104  105  106  107  108  109  110  111  112  113\n",
      "   114  115  116  117  118  119  120  121  122  123  124  125  126  127\n",
      "   128  129  130  131  132  133  134  135  136  137  138  139  140  141\n",
      "   142  143  144  145  146  147  148  149  150  151  152  153  154  155\n",
      "   156  157  158  159  160  161  162  163  164  165  166  167  168  169\n",
      "   170  171  172  173  174  175  176  177  178  179  180  181  182  183\n",
      "   184  185  186  187  188  189  190  191  192  193  194  195  196  197\n",
      "   198  199]\n",
      " [ 200  201  202  203  204  205  206  207  208  209  210  211  212  213\n",
      "   214  215  216  217  218  219  220  221  222  223  224  225  226  227\n",
      "   228  229  230  231  232  233  234  235  236  237  238  239  240  241\n",
      "   242  243  244  245  246  247  248  249  250  251  252  253  254  255\n",
      "   256  257  258  259  260  261  262  263  264  265  266  267  268  269\n",
      "   270  271  272  273  274  275  276  277  278  279  280  281  282  283\n",
      "   284  285  286  287  288  289  290  291  292  293  294  295  296  297\n",
      "   298  299]\n",
      " [ 300  301  302  303  304  305  306  307  308  309  310  311  312  313\n",
      "   314  315  316  317  318  319  320  321  322  323  324  325  326  327\n",
      "   328  329  330  331  332  333  334  335  336  337  338  339  340  341\n",
      "   342  343  344  345  346  347  348  349  350  351  352  353  354  355\n",
      "   356  357  358  359  360  361  362  363  364  365  366  367  368  369\n",
      "   370  371  372  373  374  375  376  377  378  379  380  381  382  383\n",
      "   384  385  386  387  388  389  390  391  392  393  394  395  396  397\n",
      "   398  399]\n",
      " [ 400  401  402  403  404  405  406  407  408  409  410  411  412  413\n",
      "   414  415  416  417  418  419  420  421  422  423  424  425  426  427\n",
      "   428  429  430  431  432  433  434  435  436  437  438  439  440  441\n",
      "   442  443  444  445  446  447  448  449  450  451  452  453  454  455\n",
      "   456  457  458  459  460  461  462  463  464  465  466  467  468  469\n",
      "   470  471  472  473  474  475  476  477  478  479  480  481  482  483\n",
      "   484  485  486  487  488  489  490  491  492  493  494  495  496  497\n",
      "   498  499]\n",
      " [ 500  501  502  503  504  505  506  507  508  509  510  511  512  513\n",
      "   514  515  516  517  518  519  520  521  522  523  524  525  526  527\n",
      "   528  529  530  531  532  533  534  535  536  537  538  539  540  541\n",
      "   542  543  544  545  546  547  548  549  550  551  552  553  554  555\n",
      "   556  557  558  559  560  561  562  563  564  565  566  567  568  569\n",
      "   570  571  572  573  574  575  576  577  578  579  580  581  582  583\n",
      "   584  585  586  587  588  589  590  591  592  593  594  595  596  597\n",
      "   598  599]\n",
      " [ 600  601  602  603  604  605  606  607  608  609  610  611  612  613\n",
      "   614  615  616  617  618  619  620  621  622  623  624  625  626  627\n",
      "   628  629  630  631  632  633  634  635  636  637  638  639  640  641\n",
      "   642  643  644  645  646  647  648  649  650  651  652  653  654  655\n",
      "   656  657  658  659  660  661  662  663  664  665  666  667  668  669\n",
      "   670  671  672  673  674  675  676  677  678  679  680  681  682  683\n",
      "   684  685  686  687  688  689  690  691  692  693  694  695  696  697\n",
      "   698  699]\n",
      " [ 700  701  702  703  704  705  706  707  708  709  710  711  712  713\n",
      "   714  715  716  717  718  719  720  721  722  723  724  725  726  727\n",
      "   728  729  730  731  732  733  734  735  736  737  738  739  740  741\n",
      "   742  743  744  745  746  747  748  749  750  751  752  753  754  755\n",
      "   756  757  758  759  760  761  762  763  764  765  766  767  768  769\n",
      "   770  771  772  773  774  775  776  777  778  779  780  781  782  783\n",
      "   784  785  786  787  788  789  790  791  792  793  794  795  796  797\n",
      "   798  799]\n",
      " [ 800  801  802  803  804  805  806  807  808  809  810  811  812  813\n",
      "   814  815  816  817  818  819  820  821  822  823  824  825  826  827\n",
      "   828  829  830  831  832  833  834  835  836  837  838  839  840  841\n",
      "   842  843  844  845  846  847  848  849  850  851  852  853  854  855\n",
      "   856  857  858  859  860  861  862  863  864  865  866  867  868  869\n",
      "   870  871  872  873  874  875  876  877  878  879  880  881  882  883\n",
      "   884  885  886  887  888  889  890  891  892  893  894  895  896  897\n",
      "   898  899]\n",
      " [ 900  901  902  903  904  905  906  907  908  909  910  911  912  913\n",
      "   914  915  916  917  918  919  920  921  922  923  924  925  926  927\n",
      "   928  929  930  931  932  933  934  935  936  937  938  939  940  941\n",
      "   942  943  944  945  946  947  948  949  950  951  952  953  954  955\n",
      "   956  957  958  959  960  961  962  963  964  965  966  967  968  969\n",
      "   970  971  972  973  974  975  976  977  978  979  980  981  982  983\n",
      "   984  985  986  987  988  989  990  991  992  993  994  995  996  997\n",
      "   998  999]\n",
      " [1000 1001 1002 1003 1004 1005 1006 1007 1008 1009 1010 1011 1012 1013\n",
      "  1014 1015 1016 1017 1018 1019 1020 1021 1022 1023 1024 1025 1026 1027\n",
      "  1028 1029 1030 1031 1032 1033 1034 1035 1036 1037 1038 1039 1040 1041\n",
      "  1042 1043 1044 1045 1046 1047 1048 1049 1050 1051 1052 1053 1054 1055\n",
      "  1056 1057 1058 1059 1060 1061 1062 1063 1064 1065 1066 1067 1068 1069\n",
      "  1070 1071 1072 1073 1074 1075 1076 1077 1078 1079 1080 1081 1082 1083\n",
      "  1084 1085 1086 1087 1088 1089 1090 1091 1092 1093 1094 1095 1096 1097\n",
      "  1098 1099]\n",
      " [1100 1101 1102 1103 1104 1105 1106 1107 1108 1109 1110 1111 1112 1113\n",
      "  1114 1115 1116 1117 1118 1119 1120 1121 1122 1123 1124 1125 1126 1127\n",
      "  1128 1129 1130 1131 1132 1133 1134 1135 1136 1137 1138 1139 1140 1141\n",
      "  1142 1143 1144 1145 1146 1147 1148 1149 1150 1151 1152 1153 1154 1155\n",
      "  1156 1157 1158 1159 1160 1161 1162 1163 1164 1165 1166 1167 1168 1169\n",
      "  1170 1171 1172 1173 1174 1175 1176 1177 1178 1179 1180 1181 1182 1183\n",
      "  1184 1185 1186 1187 1188 1189 1190 1191 1192 1193 1194 1195 1196 1197\n",
      "  1198 1199]\n",
      " [1200 1201 1202 1203 1204 1205 1206 1207 1208 1209 1210 1211 1212 1213\n",
      "  1214 1215 1216 1217 1218 1219 1220 1221 1222 1223 1224 1225 1226 1227\n",
      "  1228 1229 1230 1231 1232 1233 1234 1235 1236 1237 1238 1239 1240 1241\n",
      "  1242 1243 1244 1245 1246 1247 1248 1249 1250 1251 1252 1253 1254 1255\n",
      "  1256 1257 1258 1259 1260 1261 1262 1263 1264 1265 1266 1267 1268 1269\n",
      "  1270 1271 1272 1273 1274 1275 1276 1277 1278 1279 1280 1281 1282 1283\n",
      "  1284 1285 1286 1287 1288 1289 1290 1291 1292 1293 1294 1295 1296 1297\n",
      "  1298 1299]\n",
      " [1300 1301 1302 1303 1304 1305 1306 1307 1308 1309 1310 1311 1312 1313\n",
      "  1314 1315 1316 1317 1318 1319 1320 1321 1322 1323 1324 1325 1326 1327\n",
      "  1328 1329 1330 1331 1332 1333 1334 1335 1336 1337 1338 1339 1340 1341\n",
      "  1342 1343 1344 1345 1346 1347 1348 1349 1350 1351 1352 1353 1354 1355\n",
      "  1356 1357 1358 1359 1360 1361 1362 1363 1364 1365 1366 1367 1368 1369\n",
      "  1370 1371 1372 1373 1374 1375 1376 1377 1378 1379 1380 1381 1382 1383\n",
      "  1384 1385 1386 1387 1388 1389 1390 1391 1392 1393 1394 1395 1396 1397\n",
      "  1398 1399]\n",
      " [1400 1401 1402 1403 1404 1405 1406 1407 1408 1409 1410 1411 1412 1413\n",
      "  1414 1415 1416 1417 1418 1419 1420 1421 1422 1423 1424 1425 1426 1427\n",
      "  1428 1429 1430 1431 1432 1433 1434 1435 1436 1437 1438 1439 1440 1441\n",
      "  1442 1443 1444 1445 1446 1447 1448 1449 1450 1451 1452 1453 1454 1455\n",
      "  1456 1457 1458 1459 1460 1461 1462 1463 1464 1465 1466 1467 1468 1469\n",
      "  1470 1471 1472 1473 1474 1475 1476 1477 1478 1479 1480 1481 1482 1483\n",
      "  1484 1485 1486 1487 1488 1489 1490 1491 1492 1493 1494 1495 1496 1497\n",
      "  1498 1499]\n",
      " [1500 1501 1502 1503 1504 1505 1506 1507 1508 1509 1510 1511 1512 1513\n",
      "  1514 1515 1516 1517 1518 1519 1520 1521 1522 1523 1524 1525 1526 1527\n",
      "  1528 1529 1530 1531 1532 1533 1534 1535 1536 1537 1538 1539 1540 1541\n",
      "  1542 1543 1544 1545 1546 1547 1548 1549 1550 1551 1552 1553 1554 1555\n",
      "  1556 1557 1558 1559 1560 1561 1562 1563 1564 1565 1566 1567 1568 1569\n",
      "  1570 1571 1572 1573 1574 1575 1576 1577 1578 1579 1580 1581 1582 1583\n",
      "  1584 1585 1586 1587 1588 1589 1590 1591 1592 1593 1594 1595 1596 1597\n",
      "  1598 1599]\n",
      " [1600 1601 1602 1603 1604 1605 1606 1607 1608 1609 1610 1611 1612 1613\n",
      "  1614 1615 1616 1617 1618 1619 1620 1621 1622 1623 1624 1625 1626 1627\n",
      "  1628 1629 1630 1631 1632 1633 1634 1635 1636 1637 1638 1639 1640 1641\n",
      "  1642 1643 1644 1645 1646 1647 1648 1649 1650 1651 1652 1653 1654 1655\n",
      "  1656 1657 1658 1659 1660 1661 1662 1663 1664 1665 1666 1667 1668 1669\n",
      "  1670 1671 1672 1673 1674 1675 1676 1677 1678 1679 1680 1681 1682 1683\n",
      "  1684 1685 1686 1687 1688 1689 1690 1691 1692 1693 1694 1695 1696 1697\n",
      "  1698 1699]\n",
      " [1700 1701 1702 1703 1704 1705 1706 1707 1708 1709 1710 1711 1712 1713\n",
      "  1714 1715 1716 1717 1718 1719 1720 1721 1722 1723 1724 1725 1726 1727\n",
      "  1728 1729 1730 1731 1732 1733 1734 1735 1736 1737 1738 1739 1740 1741\n",
      "  1742 1743 1744 1745 1746 1747 1748 1749 1750 1751 1752 1753 1754 1755\n",
      "  1756 1757 1758 1759 1760 1761 1762 1763 1764 1765 1766 1767 1768 1769\n",
      "  1770 1771 1772 1773 1774 1775 1776 1777 1778 1779 1780 1781 1782 1783\n",
      "  1784 1785 1786 1787 1788 1789 1790 1791 1792 1793 1794 1795 1796 1797\n",
      "  1798 1799]\n",
      " [1800 1801 1802 1803 1804 1805 1806 1807 1808 1809 1810 1811 1812 1813\n",
      "  1814 1815 1816 1817 1818 1819 1820 1821 1822 1823 1824 1825 1826 1827\n",
      "  1828 1829 1830 1831 1832 1833 1834 1835 1836 1837 1838 1839 1840 1841\n",
      "  1842 1843 1844 1845 1846 1847 1848 1849 1850 1851 1852 1853 1854 1855\n",
      "  1856 1857 1858 1859 1860 1861 1862 1863 1864 1865 1866 1867 1868 1869\n",
      "  1870 1871 1872 1873 1874 1875 1876 1877 1878 1879 1880 1881 1882 1883\n",
      "  1884 1885 1886 1887 1888 1889 1890 1891 1892 1893 1894 1895 1896 1897\n",
      "  1898 1899]\n",
      " [1900 1901 1902 1903 1904 1905 1906 1907 1908 1909 1910 1911 1912 1913\n",
      "  1914 1915 1916 1917 1918 1919 1920 1921 1922 1923 1924 1925 1926 1927\n",
      "  1928 1929 1930 1931 1932 1933 1934 1935 1936 1937 1938 1939 1940 1941\n",
      "  1942 1943 1944 1945 1946 1947 1948 1949 1950 1951 1952 1953 1954 1955\n",
      "  1956 1957 1958 1959 1960 1961 1962 1963 1964 1965 1966 1967 1968 1969\n",
      "  1970 1971 1972 1973 1974 1975 1976 1977 1978 1979 1980 1981 1982 1983\n",
      "  1984 1985 1986 1987 1988 1989 1990 1991 1992 1993 1994 1995 1996 1997\n",
      "  1998 1999]\n",
      " [2000 2001 2002 2003 2004 2005 2006 2007 2008 2009 2010 2011 2012 2013\n",
      "  2014 2015 2016 2017 2018 2019 2020 2021 2022 2023 2024 2025 2026 2027\n",
      "  2028 2029 2030 2031 2032 2033 2034 2035 2036 2037 2038 2039 2040 2041\n",
      "  2042 2043 2044 2045 2046 2047 2048 2049 2050 2051 2052 2053 2054 2055\n",
      "  2056 2057 2058 2059 2060 2061 2062 2063 2064 2065 2066 2067 2068 2069\n",
      "  2070 2071 2072 2073 2074 2075 2076 2077 2078 2079 2080 2081 2082 2083\n",
      "  2084 2085 2086 2087 2088 2089 2090 2091 2092 2093 2094 2095 2096 2097\n",
      "  2098 2099]\n",
      " [2100 2101 2102 2103 2104 2105 2106 2107 2108 2109 2110 2111 2112 2113\n",
      "  2114 2115 2116 2117 2118 2119 2120 2121 2122 2123 2124 2125 2126 2127\n",
      "  2128 2129 2130 2131 2132 2133 2134 2135 2136 2137 2138 2139 2140 2141\n",
      "  2142 2143 2144 2145 2146 2147 2148 2149 2150 2151 2152 2153 2154 2155\n",
      "  2156 2157 2158 2159 2160 2161 2162 2163 2164 2165 2166 2167 2168 2169\n",
      "  2170 2171 2172 2173 2174 2175 2176 2177 2178 2179 2180 2181 2182 2183\n",
      "  2184 2185 2186 2187 2188 2189 2190 2191 2192 2193 2194 2195 2196 2197\n",
      "  2198 2199]\n",
      " [2200 2201 2202 2203 2204 2205 2206 2207 2208 2209 2210 2211 2212 2213\n",
      "  2214 2215 2216 2217 2218 2219 2220 2221 2222 2223 2224 2225 2226 2227\n",
      "  2228 2229 2230 2231 2232 2233 2234 2235 2236 2237 2238 2239 2240 2241\n",
      "  2242 2243 2244 2245 2246 2247 2248 2249 2250 2251 2252 2253 2254 2255\n",
      "  2256 2257 2258 2259 2260 2261 2262 2263 2264 2265 2266 2267 2268 2269\n",
      "  2270 2271 2272 2273 2274 2275 2276 2277 2278 2279 2280 2281 2282 2283\n",
      "  2284 2285 2286 2287 2288 2289 2290 2291 2292 2293 2294 2295 2296 2297\n",
      "  2298 2299]\n",
      " [2300 2301 2302 2303 2304 2305 2306 2307 2308 2309 2310 2311 2312 2313\n",
      "  2314 2315 2316 2317 2318 2319 2320 2321 2322 2323 2324 2325 2326 2327\n",
      "  2328 2329 2330 2331 2332 2333 2334 2335 2336 2337 2338 2339 2340 2341\n",
      "  2342 2343 2344 2345 2346 2347 2348 2349 2350 2351 2352 2353 2354 2355\n",
      "  2356 2357 2358 2359 2360 2361 2362 2363 2364 2365 2366 2367 2368 2369\n",
      "  2370 2371 2372 2373 2374 2375 2376 2377 2378 2379 2380 2381 2382 2383\n",
      "  2384 2385 2386 2387 2388 2389 2390 2391 2392 2393 2394 2395 2396 2397\n",
      "  2398 2399]\n",
      " [2400 2401 2402 2403 2404 2405 2406 2407 2408 2409 2410 2411 2412 2413\n",
      "  2414 2415 2416 2417 2418 2419 2420 2421 2422 2423 2424 2425 2426 2427\n",
      "  2428 2429 2430 2431 2432 2433 2434 2435 2436 2437 2438 2439 2440 2441\n",
      "  2442 2443 2444 2445 2446 2447 2448 2449 2450 2451 2452 2453 2454 2455\n",
      "  2456 2457 2458 2459 2460 2461 2462 2463 2464 2465 2466 2467 2468 2469\n",
      "  2470 2471 2472 2473 2474 2475 2476 2477 2478 2479 2480 2481 2482 2483\n",
      "  2484 2485 2486 2487 2488 2489 2490 2491 2492 2493 2494 2495 2496 2497\n",
      "  2498 2499]\n",
      " [2500 2501 2502 2503 2504 2505 2506 2507 2508 2509 2510 2511 2512 2513\n",
      "  2514 2515 2516 2517 2518 2519 2520 2521 2522 2523 2524 2525 2526 2527\n",
      "  2528 2529 2530 2531 2532 2533 2534 2535 2536 2537 2538 2539 2540 2541\n",
      "  2542 2543 2544 2545 2546 2547 2548 2549 2550 2551 2552 2553 2554 2555\n",
      "  2556 2557 2558 2559 2560 2561 2562 2563 2564 2565 2566 2567 2568 2569\n",
      "  2570 2571 2572 2573 2574 2575 2576 2577 2578 2579 2580 2581 2582 2583\n",
      "  2584 2585 2586 2587 2588 2589 2590 2591 2592 2593 2594 2595 2596 2597\n",
      "  2598 2599]\n",
      " [2600 2601 2602 2603 2604 2605 2606 2607 2608 2609 2610 2611 2612 2613\n",
      "  2614 2615 2616 2617 2618 2619 2620 2621 2622 2623 2624 2625 2626 2627\n",
      "  2628 2629 2630 2631 2632 2633 2634 2635 2636 2637 2638 2639 2640 2641\n",
      "  2642 2643 2644 2645 2646 2647 2648 2649 2650 2651 2652 2653 2654 2655\n",
      "  2656 2657 2658 2659 2660 2661 2662 2663 2664 2665 2666 2667 2668 2669\n",
      "  2670 2671 2672 2673 2674 2675 2676 2677 2678 2679 2680 2681 2682 2683\n",
      "  2684 2685 2686 2687 2688 2689 2690 2691 2692 2693 2694 2695 2696 2697\n",
      "  2698 2699]\n",
      " [2700 2701 2702 2703 2704 2705 2706 2707 2708 2709 2710 2711 2712 2713\n",
      "  2714 2715 2716 2717 2718 2719 2720 2721 2722 2723 2724 2725 2726 2727\n",
      "  2728 2729 2730 2731 2732 2733 2734 2735 2736 2737 2738 2739 2740 2741\n",
      "  2742 2743 2744 2745 2746 2747 2748 2749 2750 2751 2752 2753 2754 2755\n",
      "  2756 2757 2758 2759 2760 2761 2762 2763 2764 2765 2766 2767 2768 2769\n",
      "  2770 2771 2772 2773 2774 2775 2776 2777 2778 2779 2780 2781 2782 2783\n",
      "  2784 2785 2786 2787 2788 2789 2790 2791 2792 2793 2794 2795 2796 2797\n",
      "  2798 2799]\n",
      " [2800 2801 2802 2803 2804 2805 2806 2807 2808 2809 2810 2811 2812 2813\n",
      "  2814 2815 2816 2817 2818 2819 2820 2821 2822 2823 2824 2825 2826 2827\n",
      "  2828 2829 2830 2831 2832 2833 2834 2835 2836 2837 2838 2839 2840 2841\n",
      "  2842 2843 2844 2845 2846 2847 2848 2849 2850 2851 2852 2853 2854 2855\n",
      "  2856 2857 2858 2859 2860 2861 2862 2863 2864 2865 2866 2867 2868 2869\n",
      "  2870 2871 2872 2873 2874 2875 2876 2877 2878 2879 2880 2881 2882 2883\n",
      "  2884 2885 2886 2887 2888 2889 2890 2891 2892 2893 2894 2895 2896 2897\n",
      "  2898 2899]\n",
      " [2900 2901 2902 2903 2904 2905 2906 2907 2908 2909 2910 2911 2912 2913\n",
      "  2914 2915 2916 2917 2918 2919 2920 2921 2922 2923 2924 2925 2926 2927\n",
      "  2928 2929 2930 2931 2932 2933 2934 2935 2936 2937 2938 2939 2940 2941\n",
      "  2942 2943 2944 2945 2946 2947 2948 2949 2950 2951 2952 2953 2954 2955\n",
      "  2956 2957 2958 2959 2960 2961 2962 2963 2964 2965 2966 2967 2968 2969\n",
      "  2970 2971 2972 2973 2974 2975 2976 2977 2978 2979 2980 2981 2982 2983\n",
      "  2984 2985 2986 2987 2988 2989 2990 2991 2992 2993 2994 2995 2996 2997\n",
      "  2998 2999]\n",
      " [3000 3001 3002 3003 3004 3005 3006 3007 3008 3009 3010 3011 3012 3013\n",
      "  3014 3015 3016 3017 3018 3019 3020 3021 3022 3023 3024 3025 3026 3027\n",
      "  3028 3029 3030 3031 3032 3033 3034 3035 3036 3037 3038 3039 3040 3041\n",
      "  3042 3043 3044 3045 3046 3047 3048 3049 3050 3051 3052 3053 3054 3055\n",
      "  3056 3057 3058 3059 3060 3061 3062 3063 3064 3065 3066 3067 3068 3069\n",
      "  3070 3071 3072 3073 3074 3075 3076 3077 3078 3079 3080 3081 3082 3083\n",
      "  3084 3085 3086 3087 3088 3089 3090 3091 3092 3093 3094 3095 3096 3097\n",
      "  3098 3099]\n",
      " [3100 3101 3102 3103 3104 3105 3106 3107 3108 3109 3110 3111 3112 3113\n",
      "  3114 3115 3116 3117 3118 3119 3120 3121 3122 3123 3124 3125 3126 3127\n",
      "  3128 3129 3130 3131 3132 3133 3134 3135 3136 3137 3138 3139 3140 3141\n",
      "  3142 3143 3144 3145 3146 3147 3148 3149 3150 3151 3152 3153 3154 3155\n",
      "  3156 3157 3158 3159 3160 3161 3162 3163 3164 3165 3166 3167 3168 3169\n",
      "  3170 3171 3172 3173 3174 3175 3176 3177 3178 3179 3180 3181 3182 3183\n",
      "  3184 3185 3186 3187 3188 3189 3190 3191 3192 3193 3194 3195 3196 3197\n",
      "  3198 3199]\n",
      " [3200 3201 3202 3203 3204 3205 3206 3207 3208 3209 3210 3211 3212 3213\n",
      "  3214 3215 3216 3217 3218 3219 3220 3221 3222 3223 3224 3225 3226 3227\n",
      "  3228 3229 3230 3231 3232 3233 3234 3235 3236 3237 3238 3239 3240 3241\n",
      "  3242 3243 3244 3245 3246 3247 3248 3249 3250 3251 3252 3253 3254 3255\n",
      "  3256 3257 3258 3259 3260 3261 3262 3263 3264 3265 3266 3267 3268 3269\n",
      "  3270 3271 3272 3273 3274 3275 3276 3277 3278 3279 3280 3281 3282 3283\n",
      "  3284 3285 3286 3287 3288 3289 3290 3291 3292 3293 3294 3295 3296 3297\n",
      "  3298 3299]\n",
      " [3300 3301 3302 3303 3304 3305 3306 3307 3308 3309 3310 3311 3312 3313\n",
      "  3314 3315 3316 3317 3318 3319 3320 3321 3322 3323 3324 3325 3326 3327\n",
      "  3328 3329 3330 3331 3332 3333 3334 3335 3336 3337 3338 3339 3340 3341\n",
      "  3342 3343 3344 3345 3346 3347 3348 3349 3350 3351 3352 3353 3354 3355\n",
      "  3356 3357 3358 3359 3360 3361 3362 3363 3364 3365 3366 3367 3368 3369\n",
      "  3370 3371 3372 3373 3374 3375 3376 3377 3378 3379 3380 3381 3382 3383\n",
      "  3384 3385 3386 3387 3388 3389 3390 3391 3392 3393 3394 3395 3396 3397\n",
      "  3398 3399]\n",
      " [3400 3401 3402 3403 3404 3405 3406 3407 3408 3409 3410 3411 3412 3413\n",
      "  3414 3415 3416 3417 3418 3419 3420 3421 3422 3423 3424 3425 3426 3427\n",
      "  3428 3429 3430 3431 3432 3433 3434 3435 3436 3437 3438 3439 3440 3441\n",
      "  3442 3443 3444 3445 3446 3447 3448 3449 3450 3451 3452 3453 3454 3455\n",
      "  3456 3457 3458 3459 3460 3461 3462 3463 3464 3465 3466 3467 3468 3469\n",
      "  3470 3471 3472 3473 3474 3475 3476 3477 3478 3479 3480 3481 3482 3483\n",
      "  3484 3485 3486 3487 3488 3489 3490 3491 3492 3493 3494 3495 3496 3497\n",
      "  3498 3499]\n",
      " [3500 3501 3502 3503 3504 3505 3506 3507 3508 3509 3510 3511 3512 3513\n",
      "  3514 3515 3516 3517 3518 3519 3520 3521 3522 3523 3524 3525 3526 3527\n",
      "  3528 3529 3530 3531 3532 3533 3534 3535 3536 3537 3538 3539 3540 3541\n",
      "  3542 3543 3544 3545 3546 3547 3548 3549 3550 3551 3552 3553 3554 3555\n",
      "  3556 3557 3558 3559 3560 3561 3562 3563 3564 3565 3566 3567 3568 3569\n",
      "  3570 3571 3572 3573 3574 3575 3576 3577 3578 3579 3580 3581 3582 3583\n",
      "  3584 3585 3586 3587 3588 3589 3590 3591 3592 3593 3594 3595 3596 3597\n",
      "  3598 3599]\n",
      " [3600 3601 3602 3603 3604 3605 3606 3607 3608 3609 3610 3611 3612 3613\n",
      "  3614 3615 3616 3617 3618 3619 3620 3621 3622 3623 3624 3625 3626 3627\n",
      "  3628 3629 3630 3631 3632 3633 3634 3635 3636 3637 3638 3639 3640 3641\n",
      "  3642 3643 3644 3645 3646 3647 3648 3649 3650 3651 3652 3653 3654 3655\n",
      "  3656 3657 3658 3659 3660 3661 3662 3663 3664 3665 3666 3667 3668 3669\n",
      "  3670 3671 3672 3673 3674 3675 3676 3677 3678 3679 3680 3681 3682 3683\n",
      "  3684 3685 3686 3687 3688 3689 3690 3691 3692 3693 3694 3695 3696 3697\n",
      "  3698 3699]\n",
      " [3700 3701 3702 3703 3704 3705 3706 3707 3708 3709 3710 3711 3712 3713\n",
      "  3714 3715 3716 3717 3718 3719 3720 3721 3722 3723 3724 3725 3726 3727\n",
      "  3728 3729 3730 3731 3732 3733 3734 3735 3736 3737 3738 3739 3740 3741\n",
      "  3742 3743 3744 3745 3746 3747 3748 3749 3750 3751 3752 3753 3754 3755\n",
      "  3756 3757 3758 3759 3760 3761 3762 3763 3764 3765 3766 3767 3768 3769\n",
      "  3770 3771 3772 3773 3774 3775 3776 3777 3778 3779 3780 3781 3782 3783\n",
      "  3784 3785 3786 3787 3788 3789 3790 3791 3792 3793 3794 3795 3796 3797\n",
      "  3798 3799]\n",
      " [3800 3801 3802 3803 3804 3805 3806 3807 3808 3809 3810 3811 3812 3813\n",
      "  3814 3815 3816 3817 3818 3819 3820 3821 3822 3823 3824 3825 3826 3827\n",
      "  3828 3829 3830 3831 3832 3833 3834 3835 3836 3837 3838 3839 3840 3841\n",
      "  3842 3843 3844 3845 3846 3847 3848 3849 3850 3851 3852 3853 3854 3855\n",
      "  3856 3857 3858 3859 3860 3861 3862 3863 3864 3865 3866 3867 3868 3869\n",
      "  3870 3871 3872 3873 3874 3875 3876 3877 3878 3879 3880 3881 3882 3883\n",
      "  3884 3885 3886 3887 3888 3889 3890 3891 3892 3893 3894 3895 3896 3897\n",
      "  3898 3899]\n",
      " [3900 3901 3902 3903 3904 3905 3906 3907 3908 3909 3910 3911 3912 3913\n",
      "  3914 3915 3916 3917 3918 3919 3920 3921 3922 3923 3924 3925 3926 3927\n",
      "  3928 3929 3930 3931 3932 3933 3934 3935 3936 3937 3938 3939 3940 3941\n",
      "  3942 3943 3944 3945 3946 3947 3948 3949 3950 3951 3952 3953 3954 3955\n",
      "  3956 3957 3958 3959 3960 3961 3962 3963 3964 3965 3966 3967 3968 3969\n",
      "  3970 3971 3972 3973 3974 3975 3976 3977 3978 3979 3980 3981 3982 3983\n",
      "  3984 3985 3986 3987 3988 3989 3990 3991 3992 3993 3994 3995 3996 3997\n",
      "  3998 3999]\n",
      " [4000 4001 4002 4003 4004 4005 4006 4007 4008 4009 4010 4011 4012 4013\n",
      "  4014 4015 4016 4017 4018 4019 4020 4021 4022 4023 4024 4025 4026 4027\n",
      "  4028 4029 4030 4031 4032 4033 4034 4035 4036 4037 4038 4039 4040 4041\n",
      "  4042 4043 4044 4045 4046 4047 4048 4049 4050 4051 4052 4053 4054 4055\n",
      "  4056 4057 4058 4059 4060 4061 4062 4063 4064 4065 4066 4067 4068 4069\n",
      "  4070 4071 4072 4073 4074 4075 4076 4077 4078 4079 4080 4081 4082 4083\n",
      "  4084 4085 4086 4087 4088 4089 4090 4091 4092 4093 4094 4095 4096 4097\n",
      "  4098 4099]\n",
      " [4100 4101 4102 4103 4104 4105 4106 4107 4108 4109 4110 4111 4112 4113\n",
      "  4114 4115 4116 4117 4118 4119 4120 4121 4122 4123 4124 4125 4126 4127\n",
      "  4128 4129 4130 4131 4132 4133 4134 4135 4136 4137 4138 4139 4140 4141\n",
      "  4142 4143 4144 4145 4146 4147 4148 4149 4150 4151 4152 4153 4154 4155\n",
      "  4156 4157 4158 4159 4160 4161 4162 4163 4164 4165 4166 4167 4168 4169\n",
      "  4170 4171 4172 4173 4174 4175 4176 4177 4178 4179 4180 4181 4182 4183\n",
      "  4184 4185 4186 4187 4188 4189 4190 4191 4192 4193 4194 4195 4196 4197\n",
      "  4198 4199]\n",
      " [4200 4201 4202 4203 4204 4205 4206 4207 4208 4209 4210 4211 4212 4213\n",
      "  4214 4215 4216 4217 4218 4219 4220 4221 4222 4223 4224 4225 4226 4227\n",
      "  4228 4229 4230 4231 4232 4233 4234 4235 4236 4237 4238 4239 4240 4241\n",
      "  4242 4243 4244 4245 4246 4247 4248 4249 4250 4251 4252 4253 4254 4255\n",
      "  4256 4257 4258 4259 4260 4261 4262 4263 4264 4265 4266 4267 4268 4269\n",
      "  4270 4271 4272 4273 4274 4275 4276 4277 4278 4279 4280 4281 4282 4283\n",
      "  4284 4285 4286 4287 4288 4289 4290 4291 4292 4293 4294 4295 4296 4297\n",
      "  4298 4299]\n",
      " [4300 4301 4302 4303 4304 4305 4306 4307 4308 4309 4310 4311 4312 4313\n",
      "  4314 4315 4316 4317 4318 4319 4320 4321 4322 4323 4324 4325 4326 4327\n",
      "  4328 4329 4330 4331 4332 4333 4334 4335 4336 4337 4338 4339 4340 4341\n",
      "  4342 4343 4344 4345 4346 4347 4348 4349 4350 4351 4352 4353 4354 4355\n",
      "  4356 4357 4358 4359 4360 4361 4362 4363 4364 4365 4366 4367 4368 4369\n",
      "  4370 4371 4372 4373 4374 4375 4376 4377 4378 4379 4380 4381 4382 4383\n",
      "  4384 4385 4386 4387 4388 4389 4390 4391 4392 4393 4394 4395 4396 4397\n",
      "  4398 4399]\n",
      " [4400 4401 4402 4403 4404 4405 4406 4407 4408 4409 4410 4411 4412 4413\n",
      "  4414 4415 4416 4417 4418 4419 4420 4421 4422 4423 4424 4425 4426 4427\n",
      "  4428 4429 4430 4431 4432 4433 4434 4435 4436 4437 4438 4439 4440 4441\n",
      "  4442 4443 4444 4445 4446 4447 4448 4449 4450 4451 4452 4453 4454 4455\n",
      "  4456 4457 4458 4459 4460 4461 4462 4463 4464 4465 4466 4467 4468 4469\n",
      "  4470 4471 4472 4473 4474 4475 4476 4477 4478 4479 4480 4481 4482 4483\n",
      "  4484 4485 4486 4487 4488 4489 4490 4491 4492 4493 4494 4495 4496 4497\n",
      "  4498 4499]\n",
      " [4500 4501 4502 4503 4504 4505 4506 4507 4508 4509 4510 4511 4512 4513\n",
      "  4514 4515 4516 4517 4518 4519 4520 4521 4522 4523 4524 4525 4526 4527\n",
      "  4528 4529 4530 4531 4532 4533 4534 4535 4536 4537 4538 4539 4540 4541\n",
      "  4542 4543 4544 4545 4546 4547 4548 4549 4550 4551 4552 4553 4554 4555\n",
      "  4556 4557 4558 4559 4560 4561 4562 4563 4564 4565 4566 4567 4568 4569\n",
      "  4570 4571 4572 4573 4574 4575 4576 4577 4578 4579 4580 4581 4582 4583\n",
      "  4584 4585 4586 4587 4588 4589 4590 4591 4592 4593 4594 4595 4596 4597\n",
      "  4598 4599]\n",
      " [4600 4601 4602 4603 4604 4605 4606 4607 4608 4609 4610 4611 4612 4613\n",
      "  4614 4615 4616 4617 4618 4619 4620 4621 4622 4623 4624 4625 4626 4627\n",
      "  4628 4629 4630 4631 4632 4633 4634 4635 4636 4637 4638 4639 4640 4641\n",
      "  4642 4643 4644 4645 4646 4647 4648 4649 4650 4651 4652 4653 4654 4655\n",
      "  4656 4657 4658 4659 4660 4661 4662 4663 4664 4665 4666 4667 4668 4669\n",
      "  4670 4671 4672 4673 4674 4675 4676 4677 4678 4679 4680 4681 4682 4683\n",
      "  4684 4685 4686 4687 4688 4689 4690 4691 4692 4693 4694 4695 4696 4697\n",
      "  4698 4699]\n",
      " [4700 4701 4702 4703 4704 4705 4706 4707 4708 4709 4710 4711 4712 4713\n",
      "  4714 4715 4716 4717 4718 4719 4720 4721 4722 4723 4724 4725 4726 4727\n",
      "  4728 4729 4730 4731 4732 4733 4734 4735 4736 4737 4738 4739 4740 4741\n",
      "  4742 4743 4744 4745 4746 4747 4748 4749 4750 4751 4752 4753 4754 4755\n",
      "  4756 4757 4758 4759 4760 4761 4762 4763 4764 4765 4766 4767 4768 4769\n",
      "  4770 4771 4772 4773 4774 4775 4776 4777 4778 4779 4780 4781 4782 4783\n",
      "  4784 4785 4786 4787 4788 4789 4790 4791 4792 4793 4794 4795 4796 4797\n",
      "  4798 4799]\n",
      " [4800 4801 4802 4803 4804 4805 4806 4807 4808 4809 4810 4811 4812 4813\n",
      "  4814 4815 4816 4817 4818 4819 4820 4821 4822 4823 4824 4825 4826 4827\n",
      "  4828 4829 4830 4831 4832 4833 4834 4835 4836 4837 4838 4839 4840 4841\n",
      "  4842 4843 4844 4845 4846 4847 4848 4849 4850 4851 4852 4853 4854 4855\n",
      "  4856 4857 4858 4859 4860 4861 4862 4863 4864 4865 4866 4867 4868 4869\n",
      "  4870 4871 4872 4873 4874 4875 4876 4877 4878 4879 4880 4881 4882 4883\n",
      "  4884 4885 4886 4887 4888 4889 4890 4891 4892 4893 4894 4895 4896 4897\n",
      "  4898 4899]\n",
      " [4900 4901 4902 4903 4904 4905 4906 4907 4908 4909 4910 4911 4912 4913\n",
      "  4914 4915 4916 4917 4918 4919 4920 4921 4922 4923 4924 4925 4926 4927\n",
      "  4928 4929 4930 4931 4932 4933 4934 4935 4936 4937 4938 4939 4940 4941\n",
      "  4942 4943 4944 4945 4946 4947 4948 4949 4950 4951 4952 4953 4954 4955\n",
      "  4956 4957 4958 4959 4960 4961 4962 4963 4964 4965 4966 4967 4968 4969\n",
      "  4970 4971 4972 4973 4974 4975 4976 4977 4978 4979 4980 4981 4982 4983\n",
      "  4984 4985 4986 4987 4988 4989 4990 4991 4992 4993 4994 4995 4996 4997\n",
      "  4998 4999]\n",
      " [5000 5001 5002 5003 5004 5005 5006 5007 5008 5009 5010 5011 5012 5013\n",
      "  5014 5015 5016 5017 5018 5019 5020 5021 5022 5023 5024 5025 5026 5027\n",
      "  5028 5029 5030 5031 5032 5033 5034 5035 5036 5037 5038 5039 5040 5041\n",
      "  5042 5043 5044 5045 5046 5047 5048 5049 5050 5051 5052 5053 5054 5055\n",
      "  5056 5057 5058 5059 5060 5061 5062 5063 5064 5065 5066 5067 5068 5069\n",
      "  5070 5071 5072 5073 5074 5075 5076 5077 5078 5079 5080 5081 5082 5083\n",
      "  5084 5085 5086 5087 5088 5089 5090 5091 5092 5093 5094 5095 5096 5097\n",
      "  5098 5099]\n",
      " [5100 5101 5102 5103 5104 5105 5106 5107 5108 5109 5110 5111 5112 5113\n",
      "  5114 5115 5116 5117 5118 5119 5120 5121 5122 5123 5124 5125 5126 5127\n",
      "  5128 5129 5130 5131 5132 5133 5134 5135 5136 5137 5138 5139 5140 5141\n",
      "  5142 5143 5144 5145 5146 5147 5148 5149 5150 5151 5152 5153 5154 5155\n",
      "  5156 5157 5158 5159 5160 5161 5162 5163 5164 5165 5166 5167 5168 5169\n",
      "  5170 5171 5172 5173 5174 5175 5176 5177 5178 5179 5180 5181 5182 5183\n",
      "  5184 5185 5186 5187 5188 5189 5190 5191 5192 5193 5194 5195 5196 5197\n",
      "  5198 5199]\n",
      " [5200 5201 5202 5203 5204 5205 5206 5207 5208 5209 5210 5211 5212 5213\n",
      "  5214 5215 5216 5217 5218 5219 5220 5221 5222 5223 5224 5225 5226 5227\n",
      "  5228 5229 5230 5231 5232 5233 5234 5235 5236 5237 5238 5239 5240 5241\n",
      "  5242 5243 5244 5245 5246 5247 5248 5249 5250 5251 5252 5253 5254 5255\n",
      "  5256 5257 5258 5259 5260 5261 5262 5263 5264 5265 5266 5267 5268 5269\n",
      "  5270 5271 5272 5273 5274 5275 5276 5277 5278 5279 5280 5281 5282 5283\n",
      "  5284 5285 5286 5287 5288 5289 5290 5291 5292 5293 5294 5295 5296 5297\n",
      "  5298 5299]\n",
      " [5300 5301 5302 5303 5304 5305 5306 5307 5308 5309 5310 5311 5312 5313\n",
      "  5314 5315 5316 5317 5318 5319 5320 5321 5322 5323 5324 5325 5326 5327\n",
      "  5328 5329 5330 5331 5332 5333 5334 5335 5336 5337 5338 5339 5340 5341\n",
      "  5342 5343 5344 5345 5346 5347 5348 5349 5350 5351 5352 5353 5354 5355\n",
      "  5356 5357 5358 5359 5360 5361 5362 5363 5364 5365 5366 5367 5368 5369\n",
      "  5370 5371 5372 5373 5374 5375 5376 5377 5378 5379 5380 5381 5382 5383\n",
      "  5384 5385 5386 5387 5388 5389 5390 5391 5392 5393 5394 5395 5396 5397\n",
      "  5398 5399]\n",
      " [5400 5401 5402 5403 5404 5405 5406 5407 5408 5409 5410 5411 5412 5413\n",
      "  5414 5415 5416 5417 5418 5419 5420 5421 5422 5423 5424 5425 5426 5427\n",
      "  5428 5429 5430 5431 5432 5433 5434 5435 5436 5437 5438 5439 5440 5441\n",
      "  5442 5443 5444 5445 5446 5447 5448 5449 5450 5451 5452 5453 5454 5455\n",
      "  5456 5457 5458 5459 5460 5461 5462 5463 5464 5465 5466 5467 5468 5469\n",
      "  5470 5471 5472 5473 5474 5475 5476 5477 5478 5479 5480 5481 5482 5483\n",
      "  5484 5485 5486 5487 5488 5489 5490 5491 5492 5493 5494 5495 5496 5497\n",
      "  5498 5499]\n",
      " [5500 5501 5502 5503 5504 5505 5506 5507 5508 5509 5510 5511 5512 5513\n",
      "  5514 5515 5516 5517 5518 5519 5520 5521 5522 5523 5524 5525 5526 5527\n",
      "  5528 5529 5530 5531 5532 5533 5534 5535 5536 5537 5538 5539 5540 5541\n",
      "  5542 5543 5544 5545 5546 5547 5548 5549 5550 5551 5552 5553 5554 5555\n",
      "  5556 5557 5558 5559 5560 5561 5562 5563 5564 5565 5566 5567 5568 5569\n",
      "  5570 5571 5572 5573 5574 5575 5576 5577 5578 5579 5580 5581 5582 5583\n",
      "  5584 5585 5586 5587 5588 5589 5590 5591 5592 5593 5594 5595 5596 5597\n",
      "  5598 5599]\n",
      " [5600 5601 5602 5603 5604 5605 5606 5607 5608 5609 5610 5611 5612 5613\n",
      "  5614 5615 5616 5617 5618 5619 5620 5621 5622 5623 5624 5625 5626 5627\n",
      "  5628 5629 5630 5631 5632 5633 5634 5635 5636 5637 5638 5639 5640 5641\n",
      "  5642 5643 5644 5645 5646 5647 5648 5649 5650 5651 5652 5653 5654 5655\n",
      "  5656 5657 5658 5659 5660 5661 5662 5663 5664 5665 5666 5667 5668 5669\n",
      "  5670 5671 5672 5673 5674 5675 5676 5677 5678 5679 5680 5681 5682 5683\n",
      "  5684 5685 5686 5687 5688 5689 5690 5691 5692 5693 5694 5695 5696 5697\n",
      "  5698 5699]\n",
      " [5700 5701 5702 5703 5704 5705 5706 5707 5708 5709 5710 5711 5712 5713\n",
      "  5714 5715 5716 5717 5718 5719 5720 5721 5722 5723 5724 5725 5726 5727\n",
      "  5728 5729 5730 5731 5732 5733 5734 5735 5736 5737 5738 5739 5740 5741\n",
      "  5742 5743 5744 5745 5746 5747 5748 5749 5750 5751 5752 5753 5754 5755\n",
      "  5756 5757 5758 5759 5760 5761 5762 5763 5764 5765 5766 5767 5768 5769\n",
      "  5770 5771 5772 5773 5774 5775 5776 5777 5778 5779 5780 5781 5782 5783\n",
      "  5784 5785 5786 5787 5788 5789 5790 5791 5792 5793 5794 5795 5796 5797\n",
      "  5798 5799]\n",
      " [5800 5801 5802 5803 5804 5805 5806 5807 5808 5809 5810 5811 5812 5813\n",
      "  5814 5815 5816 5817 5818 5819 5820 5821 5822 5823 5824 5825 5826 5827\n",
      "  5828 5829 5830 5831 5832 5833 5834 5835 5836 5837 5838 5839 5840 5841\n",
      "  5842 5843 5844 5845 5846 5847 5848 5849 5850 5851 5852 5853 5854 5855\n",
      "  5856 5857 5858 5859 5860 5861 5862 5863 5864 5865 5866 5867 5868 5869\n",
      "  5870 5871 5872 5873 5874 5875 5876 5877 5878 5879 5880 5881 5882 5883\n",
      "  5884 5885 5886 5887 5888 5889 5890 5891 5892 5893 5894 5895 5896 5897\n",
      "  5898 5899]\n",
      " [5900 5901 5902 5903 5904 5905 5906 5907 5908 5909 5910 5911 5912 5913\n",
      "  5914 5915 5916 5917 5918 5919 5920 5921 5922 5923 5924 5925 5926 5927\n",
      "  5928 5929 5930 5931 5932 5933 5934 5935 5936 5937 5938 5939 5940 5941\n",
      "  5942 5943 5944 5945 5946 5947 5948 5949 5950 5951 5952 5953 5954 5955\n",
      "  5956 5957 5958 5959 5960 5961 5962 5963 5964 5965 5966 5967 5968 5969\n",
      "  5970 5971 5972 5973 5974 5975 5976 5977 5978 5979 5980 5981 5982 5983\n",
      "  5984 5985 5986 5987 5988 5989 5990 5991 5992 5993 5994 5995 5996 5997\n",
      "  5998 5999]\n",
      " [6000 6001 6002 6003 6004 6005 6006 6007 6008 6009 6010 6011 6012 6013\n",
      "  6014 6015 6016 6017 6018 6019 6020 6021 6022 6023 6024 6025 6026 6027\n",
      "  6028 6029 6030 6031 6032 6033 6034 6035 6036 6037 6038 6039 6040 6041\n",
      "  6042 6043 6044 6045 6046 6047 6048 6049 6050 6051 6052 6053 6054 6055\n",
      "  6056 6057 6058 6059 6060 6061 6062 6063 6064 6065 6066 6067 6068 6069\n",
      "  6070 6071 6072 6073 6074 6075 6076 6077 6078 6079 6080 6081 6082 6083\n",
      "  6084 6085 6086 6087 6088 6089 6090 6091 6092 6093 6094 6095 6096 6097\n",
      "  6098 6099]\n",
      " [6100 6101 6102 6103 6104 6105 6106 6107 6108 6109 6110 6111 6112 6113\n",
      "  6114 6115 6116 6117 6118 6119 6120 6121 6122 6123 6124 6125 6126 6127\n",
      "  6128 6129 6130 6131 6132 6133 6134 6135 6136 6137 6138 6139 6140 6141\n",
      "  6142 6143 6144 6145 6146 6147 6148 6149 6150 6151 6152 6153 6154 6155\n",
      "  6156 6157 6158 6159 6160 6161 6162 6163 6164 6165 6166 6167 6168 6169\n",
      "  6170 6171 6172 6173 6174 6175 6176 6177 6178 6179 6180 6181 6182 6183\n",
      "  6184 6185 6186 6187 6188 6189 6190 6191 6192 6193 6194 6195 6196 6197\n",
      "  6198 6199]\n",
      " [6200 6201 6202 6203 6204 6205 6206 6207 6208 6209 6210 6211 6212 6213\n",
      "  6214 6215 6216 6217 6218 6219 6220 6221 6222 6223 6224 6225 6226 6227\n",
      "  6228 6229 6230 6231 6232 6233 6234 6235 6236 6237 6238 6239 6240 6241\n",
      "  6242 6243 6244 6245 6246 6247 6248 6249 6250 6251 6252 6253 6254 6255\n",
      "  6256 6257 6258 6259 6260 6261 6262 6263 6264 6265 6266 6267 6268 6269\n",
      "  6270 6271 6272 6273 6274 6275 6276 6277 6278 6279 6280 6281 6282 6283\n",
      "  6284 6285 6286 6287 6288 6289 6290 6291 6292 6293 6294 6295 6296 6297\n",
      "  6298 6299]\n",
      " [6300 6301 6302 6303 6304 6305 6306 6307 6308 6309 6310 6311 6312 6313\n",
      "  6314 6315 6316 6317 6318 6319 6320 6321 6322 6323 6324 6325 6326 6327\n",
      "  6328 6329 6330 6331 6332 6333 6334 6335 6336 6337 6338 6339 6340 6341\n",
      "  6342 6343 6344 6345 6346 6347 6348 6349 6350 6351 6352 6353 6354 6355\n",
      "  6356 6357 6358 6359 6360 6361 6362 6363 6364 6365 6366 6367 6368 6369\n",
      "  6370 6371 6372 6373 6374 6375 6376 6377 6378 6379 6380 6381 6382 6383\n",
      "  6384 6385 6386 6387 6388 6389 6390 6391 6392 6393 6394 6395 6396 6397\n",
      "  6398 6399]\n",
      " [6400 6401 6402 6403 6404 6405 6406 6407 6408 6409 6410 6411 6412 6413\n",
      "  6414 6415 6416 6417 6418 6419 6420 6421 6422 6423 6424 6425 6426 6427\n",
      "  6428 6429 6430 6431 6432 6433 6434 6435 6436 6437 6438 6439 6440 6441\n",
      "  6442 6443 6444 6445 6446 6447 6448 6449 6450 6451 6452 6453 6454 6455\n",
      "  6456 6457 6458 6459 6460 6461 6462 6463 6464 6465 6466 6467 6468 6469\n",
      "  6470 6471 6472 6473 6474 6475 6476 6477 6478 6479 6480 6481 6482 6483\n",
      "  6484 6485 6486 6487 6488 6489 6490 6491 6492 6493 6494 6495 6496 6497\n",
      "  6498 6499]\n",
      " [6500 6501 6502 6503 6504 6505 6506 6507 6508 6509 6510 6511 6512 6513\n",
      "  6514 6515 6516 6517 6518 6519 6520 6521 6522 6523 6524 6525 6526 6527\n",
      "  6528 6529 6530 6531 6532 6533 6534 6535 6536 6537 6538 6539 6540 6541\n",
      "  6542 6543 6544 6545 6546 6547 6548 6549 6550 6551 6552 6553 6554 6555\n",
      "  6556 6557 6558 6559 6560 6561 6562 6563 6564 6565 6566 6567 6568 6569\n",
      "  6570 6571 6572 6573 6574 6575 6576 6577 6578 6579 6580 6581 6582 6583\n",
      "  6584 6585 6586 6587 6588 6589 6590 6591 6592 6593 6594 6595 6596 6597\n",
      "  6598 6599]\n",
      " [6600 6601 6602 6603 6604 6605 6606 6607 6608 6609 6610 6611 6612 6613\n",
      "  6614 6615 6616 6617 6618 6619 6620 6621 6622 6623 6624 6625 6626 6627\n",
      "  6628 6629 6630 6631 6632 6633 6634 6635 6636 6637 6638 6639 6640 6641\n",
      "  6642 6643 6644 6645 6646 6647 6648 6649 6650 6651 6652 6653 6654 6655\n",
      "  6656 6657 6658 6659 6660 6661 6662 6663 6664 6665 6666 6667 6668 6669\n",
      "  6670 6671 6672 6673 6674 6675 6676 6677 6678 6679 6680 6681 6682 6683\n",
      "  6684 6685 6686 6687 6688 6689 6690 6691 6692 6693 6694 6695 6696 6697\n",
      "  6698 6699]\n",
      " [6700 6701 6702 6703 6704 6705 6706 6707 6708 6709 6710 6711 6712 6713\n",
      "  6714 6715 6716 6717 6718 6719 6720 6721 6722 6723 6724 6725 6726 6727\n",
      "  6728 6729 6730 6731 6732 6733 6734 6735 6736 6737 6738 6739 6740 6741\n",
      "  6742 6743 6744 6745 6746 6747 6748 6749 6750 6751 6752 6753 6754 6755\n",
      "  6756 6757 6758 6759 6760 6761 6762 6763 6764 6765 6766 6767 6768 6769\n",
      "  6770 6771 6772 6773 6774 6775 6776 6777 6778 6779 6780 6781 6782 6783\n",
      "  6784 6785 6786 6787 6788 6789 6790 6791 6792 6793 6794 6795 6796 6797\n",
      "  6798 6799]\n",
      " [6800 6801 6802 6803 6804 6805 6806 6807 6808 6809 6810 6811 6812 6813\n",
      "  6814 6815 6816 6817 6818 6819 6820 6821 6822 6823 6824 6825 6826 6827\n",
      "  6828 6829 6830 6831 6832 6833 6834 6835 6836 6837 6838 6839 6840 6841\n",
      "  6842 6843 6844 6845 6846 6847 6848 6849 6850 6851 6852 6853 6854 6855\n",
      "  6856 6857 6858 6859 6860 6861 6862 6863 6864 6865 6866 6867 6868 6869\n",
      "  6870 6871 6872 6873 6874 6875 6876 6877 6878 6879 6880 6881 6882 6883\n",
      "  6884 6885 6886 6887 6888 6889 6890 6891 6892 6893 6894 6895 6896 6897\n",
      "  6898 6899]\n",
      " [6900 6901 6902 6903 6904 6905 6906 6907 6908 6909 6910 6911 6912 6913\n",
      "  6914 6915 6916 6917 6918 6919 6920 6921 6922 6923 6924 6925 6926 6927\n",
      "  6928 6929 6930 6931 6932 6933 6934 6935 6936 6937 6938 6939 6940 6941\n",
      "  6942 6943 6944 6945 6946 6947 6948 6949 6950 6951 6952 6953 6954 6955\n",
      "  6956 6957 6958 6959 6960 6961 6962 6963 6964 6965 6966 6967 6968 6969\n",
      "  6970 6971 6972 6973 6974 6975 6976 6977 6978 6979 6980 6981 6982 6983\n",
      "  6984 6985 6986 6987 6988 6989 6990 6991 6992 6993 6994 6995 6996 6997\n",
      "  6998 6999]\n",
      " [7000 7001 7002 7003 7004 7005 7006 7007 7008 7009 7010 7011 7012 7013\n",
      "  7014 7015 7016 7017 7018 7019 7020 7021 7022 7023 7024 7025 7026 7027\n",
      "  7028 7029 7030 7031 7032 7033 7034 7035 7036 7037 7038 7039 7040 7041\n",
      "  7042 7043 7044 7045 7046 7047 7048 7049 7050 7051 7052 7053 7054 7055\n",
      "  7056 7057 7058 7059 7060 7061 7062 7063 7064 7065 7066 7067 7068 7069\n",
      "  7070 7071 7072 7073 7074 7075 7076 7077 7078 7079 7080 7081 7082 7083\n",
      "  7084 7085 7086 7087 7088 7089 7090 7091 7092 7093 7094 7095 7096 7097\n",
      "  7098 7099]\n",
      " [7100 7101 7102 7103 7104 7105 7106 7107 7108 7109 7110 7111 7112 7113\n",
      "  7114 7115 7116 7117 7118 7119 7120 7121 7122 7123 7124 7125 7126 7127\n",
      "  7128 7129 7130 7131 7132 7133 7134 7135 7136 7137 7138 7139 7140 7141\n",
      "  7142 7143 7144 7145 7146 7147 7148 7149 7150 7151 7152 7153 7154 7155\n",
      "  7156 7157 7158 7159 7160 7161 7162 7163 7164 7165 7166 7167 7168 7169\n",
      "  7170 7171 7172 7173 7174 7175 7176 7177 7178 7179 7180 7181 7182 7183\n",
      "  7184 7185 7186 7187 7188 7189 7190 7191 7192 7193 7194 7195 7196 7197\n",
      "  7198 7199]\n",
      " [7200 7201 7202 7203 7204 7205 7206 7207 7208 7209 7210 7211 7212 7213\n",
      "  7214 7215 7216 7217 7218 7219 7220 7221 7222 7223 7224 7225 7226 7227\n",
      "  7228 7229 7230 7231 7232 7233 7234 7235 7236 7237 7238 7239 7240 7241\n",
      "  7242 7243 7244 7245 7246 7247 7248 7249 7250 7251 7252 7253 7254 7255\n",
      "  7256 7257 7258 7259 7260 7261 7262 7263 7264 7265 7266 7267 7268 7269\n",
      "  7270 7271 7272 7273 7274 7275 7276 7277 7278 7279 7280 7281 7282 7283\n",
      "  7284 7285 7286 7287 7288 7289 7290 7291 7292 7293 7294 7295 7296 7297\n",
      "  7298 7299]\n",
      " [7300 7301 7302 7303 7304 7305 7306 7307 7308 7309 7310 7311 7312 7313\n",
      "  7314 7315 7316 7317 7318 7319 7320 7321 7322 7323 7324 7325 7326 7327\n",
      "  7328 7329 7330 7331 7332 7333 7334 7335 7336 7337 7338 7339 7340 7341\n",
      "  7342 7343 7344 7345 7346 7347 7348 7349 7350 7351 7352 7353 7354 7355\n",
      "  7356 7357 7358 7359 7360 7361 7362 7363 7364 7365 7366 7367 7368 7369\n",
      "  7370 7371 7372 7373 7374 7375 7376 7377 7378 7379 7380 7381 7382 7383\n",
      "  7384 7385 7386 7387 7388 7389 7390 7391 7392 7393 7394 7395 7396 7397\n",
      "  7398 7399]\n",
      " [7400 7401 7402 7403 7404 7405 7406 7407 7408 7409 7410 7411 7412 7413\n",
      "  7414 7415 7416 7417 7418 7419 7420 7421 7422 7423 7424 7425 7426 7427\n",
      "  7428 7429 7430 7431 7432 7433 7434 7435 7436 7437 7438 7439 7440 7441\n",
      "  7442 7443 7444 7445 7446 7447 7448 7449 7450 7451 7452 7453 7454 7455\n",
      "  7456 7457 7458 7459 7460 7461 7462 7463 7464 7465 7466 7467 7468 7469\n",
      "  7470 7471 7472 7473 7474 7475 7476 7477 7478 7479 7480 7481 7482 7483\n",
      "  7484 7485 7486 7487 7488 7489 7490 7491 7492 7493 7494 7495 7496 7497\n",
      "  7498 7499]\n",
      " [7500 7501 7502 7503 7504 7505 7506 7507 7508 7509 7510 7511 7512 7513\n",
      "  7514 7515 7516 7517 7518 7519 7520 7521 7522 7523 7524 7525 7526 7527\n",
      "  7528 7529 7530 7531 7532 7533 7534 7535 7536 7537 7538 7539 7540 7541\n",
      "  7542 7543 7544 7545 7546 7547 7548 7549 7550 7551 7552 7553 7554 7555\n",
      "  7556 7557 7558 7559 7560 7561 7562 7563 7564 7565 7566 7567 7568 7569\n",
      "  7570 7571 7572 7573 7574 7575 7576 7577 7578 7579 7580 7581 7582 7583\n",
      "  7584 7585 7586 7587 7588 7589 7590 7591 7592 7593 7594 7595 7596 7597\n",
      "  7598 7599]\n",
      " [7600 7601 7602 7603 7604 7605 7606 7607 7608 7609 7610 7611 7612 7613\n",
      "  7614 7615 7616 7617 7618 7619 7620 7621 7622 7623 7624 7625 7626 7627\n",
      "  7628 7629 7630 7631 7632 7633 7634 7635 7636 7637 7638 7639 7640 7641\n",
      "  7642 7643 7644 7645 7646 7647 7648 7649 7650 7651 7652 7653 7654 7655\n",
      "  7656 7657 7658 7659 7660 7661 7662 7663 7664 7665 7666 7667 7668 7669\n",
      "  7670 7671 7672 7673 7674 7675 7676 7677 7678 7679 7680 7681 7682 7683\n",
      "  7684 7685 7686 7687 7688 7689 7690 7691 7692 7693 7694 7695 7696 7697\n",
      "  7698 7699]\n",
      " [7700 7701 7702 7703 7704 7705 7706 7707 7708 7709 7710 7711 7712 7713\n",
      "  7714 7715 7716 7717 7718 7719 7720 7721 7722 7723 7724 7725 7726 7727\n",
      "  7728 7729 7730 7731 7732 7733 7734 7735 7736 7737 7738 7739 7740 7741\n",
      "  7742 7743 7744 7745 7746 7747 7748 7749 7750 7751 7752 7753 7754 7755\n",
      "  7756 7757 7758 7759 7760 7761 7762 7763 7764 7765 7766 7767 7768 7769\n",
      "  7770 7771 7772 7773 7774 7775 7776 7777 7778 7779 7780 7781 7782 7783\n",
      "  7784 7785 7786 7787 7788 7789 7790 7791 7792 7793 7794 7795 7796 7797\n",
      "  7798 7799]\n",
      " [7800 7801 7802 7803 7804 7805 7806 7807 7808 7809 7810 7811 7812 7813\n",
      "  7814 7815 7816 7817 7818 7819 7820 7821 7822 7823 7824 7825 7826 7827\n",
      "  7828 7829 7830 7831 7832 7833 7834 7835 7836 7837 7838 7839 7840 7841\n",
      "  7842 7843 7844 7845 7846 7847 7848 7849 7850 7851 7852 7853 7854 7855\n",
      "  7856 7857 7858 7859 7860 7861 7862 7863 7864 7865 7866 7867 7868 7869\n",
      "  7870 7871 7872 7873 7874 7875 7876 7877 7878 7879 7880 7881 7882 7883\n",
      "  7884 7885 7886 7887 7888 7889 7890 7891 7892 7893 7894 7895 7896 7897\n",
      "  7898 7899]\n",
      " [7900 7901 7902 7903 7904 7905 7906 7907 7908 7909 7910 7911 7912 7913\n",
      "  7914 7915 7916 7917 7918 7919 7920 7921 7922 7923 7924 7925 7926 7927\n",
      "  7928 7929 7930 7931 7932 7933 7934 7935 7936 7937 7938 7939 7940 7941\n",
      "  7942 7943 7944 7945 7946 7947 7948 7949 7950 7951 7952 7953 7954 7955\n",
      "  7956 7957 7958 7959 7960 7961 7962 7963 7964 7965 7966 7967 7968 7969\n",
      "  7970 7971 7972 7973 7974 7975 7976 7977 7978 7979 7980 7981 7982 7983\n",
      "  7984 7985 7986 7987 7988 7989 7990 7991 7992 7993 7994 7995 7996 7997\n",
      "  7998 7999]\n",
      " [8000 8001 8002 8003 8004 8005 8006 8007 8008 8009 8010 8011 8012 8013\n",
      "  8014 8015 8016 8017 8018 8019 8020 8021 8022 8023 8024 8025 8026 8027\n",
      "  8028 8029 8030 8031 8032 8033 8034 8035 8036 8037 8038 8039 8040 8041\n",
      "  8042 8043 8044 8045 8046 8047 8048 8049 8050 8051 8052 8053 8054 8055\n",
      "  8056 8057 8058 8059 8060 8061 8062 8063 8064 8065 8066 8067 8068 8069\n",
      "  8070 8071 8072 8073 8074 8075 8076 8077 8078 8079 8080 8081 8082 8083\n",
      "  8084 8085 8086 8087 8088 8089 8090 8091 8092 8093 8094 8095 8096 8097\n",
      "  8098 8099]\n",
      " [8100 8101 8102 8103 8104 8105 8106 8107 8108 8109 8110 8111 8112 8113\n",
      "  8114 8115 8116 8117 8118 8119 8120 8121 8122 8123 8124 8125 8126 8127\n",
      "  8128 8129 8130 8131 8132 8133 8134 8135 8136 8137 8138 8139 8140 8141\n",
      "  8142 8143 8144 8145 8146 8147 8148 8149 8150 8151 8152 8153 8154 8155\n",
      "  8156 8157 8158 8159 8160 8161 8162 8163 8164 8165 8166 8167 8168 8169\n",
      "  8170 8171 8172 8173 8174 8175 8176 8177 8178 8179 8180 8181 8182 8183\n",
      "  8184 8185 8186 8187 8188 8189 8190 8191 8192 8193 8194 8195 8196 8197\n",
      "  8198 8199]\n",
      " [8200 8201 8202 8203 8204 8205 8206 8207 8208 8209 8210 8211 8212 8213\n",
      "  8214 8215 8216 8217 8218 8219 8220 8221 8222 8223 8224 8225 8226 8227\n",
      "  8228 8229 8230 8231 8232 8233 8234 8235 8236 8237 8238 8239 8240 8241\n",
      "  8242 8243 8244 8245 8246 8247 8248 8249 8250 8251 8252 8253 8254 8255\n",
      "  8256 8257 8258 8259 8260 8261 8262 8263 8264 8265 8266 8267 8268 8269\n",
      "  8270 8271 8272 8273 8274 8275 8276 8277 8278 8279 8280 8281 8282 8283\n",
      "  8284 8285 8286 8287 8288 8289 8290 8291 8292 8293 8294 8295 8296 8297\n",
      "  8298 8299]\n",
      " [8300 8301 8302 8303 8304 8305 8306 8307 8308 8309 8310 8311 8312 8313\n",
      "  8314 8315 8316 8317 8318 8319 8320 8321 8322 8323 8324 8325 8326 8327\n",
      "  8328 8329 8330 8331 8332 8333 8334 8335 8336 8337 8338 8339 8340 8341\n",
      "  8342 8343 8344 8345 8346 8347 8348 8349 8350 8351 8352 8353 8354 8355\n",
      "  8356 8357 8358 8359 8360 8361 8362 8363 8364 8365 8366 8367 8368 8369\n",
      "  8370 8371 8372 8373 8374 8375 8376 8377 8378 8379 8380 8381 8382 8383\n",
      "  8384 8385 8386 8387 8388 8389 8390 8391 8392 8393 8394 8395 8396 8397\n",
      "  8398 8399]\n",
      " [8400 8401 8402 8403 8404 8405 8406 8407 8408 8409 8410 8411 8412 8413\n",
      "  8414 8415 8416 8417 8418 8419 8420 8421 8422 8423 8424 8425 8426 8427\n",
      "  8428 8429 8430 8431 8432 8433 8434 8435 8436 8437 8438 8439 8440 8441\n",
      "  8442 8443 8444 8445 8446 8447 8448 8449 8450 8451 8452 8453 8454 8455\n",
      "  8456 8457 8458 8459 8460 8461 8462 8463 8464 8465 8466 8467 8468 8469\n",
      "  8470 8471 8472 8473 8474 8475 8476 8477 8478 8479 8480 8481 8482 8483\n",
      "  8484 8485 8486 8487 8488 8489 8490 8491 8492 8493 8494 8495 8496 8497\n",
      "  8498 8499]\n",
      " [8500 8501 8502 8503 8504 8505 8506 8507 8508 8509 8510 8511 8512 8513\n",
      "  8514 8515 8516 8517 8518 8519 8520 8521 8522 8523 8524 8525 8526 8527\n",
      "  8528 8529 8530 8531 8532 8533 8534 8535 8536 8537 8538 8539 8540 8541\n",
      "  8542 8543 8544 8545 8546 8547 8548 8549 8550 8551 8552 8553 8554 8555\n",
      "  8556 8557 8558 8559 8560 8561 8562 8563 8564 8565 8566 8567 8568 8569\n",
      "  8570 8571 8572 8573 8574 8575 8576 8577 8578 8579 8580 8581 8582 8583\n",
      "  8584 8585 8586 8587 8588 8589 8590 8591 8592 8593 8594 8595 8596 8597\n",
      "  8598 8599]\n",
      " [8600 8601 8602 8603 8604 8605 8606 8607 8608 8609 8610 8611 8612 8613\n",
      "  8614 8615 8616 8617 8618 8619 8620 8621 8622 8623 8624 8625 8626 8627\n",
      "  8628 8629 8630 8631 8632 8633 8634 8635 8636 8637 8638 8639 8640 8641\n",
      "  8642 8643 8644 8645 8646 8647 8648 8649 8650 8651 8652 8653 8654 8655\n",
      "  8656 8657 8658 8659 8660 8661 8662 8663 8664 8665 8666 8667 8668 8669\n",
      "  8670 8671 8672 8673 8674 8675 8676 8677 8678 8679 8680 8681 8682 8683\n",
      "  8684 8685 8686 8687 8688 8689 8690 8691 8692 8693 8694 8695 8696 8697\n",
      "  8698 8699]\n",
      " [8700 8701 8702 8703 8704 8705 8706 8707 8708 8709 8710 8711 8712 8713\n",
      "  8714 8715 8716 8717 8718 8719 8720 8721 8722 8723 8724 8725 8726 8727\n",
      "  8728 8729 8730 8731 8732 8733 8734 8735 8736 8737 8738 8739 8740 8741\n",
      "  8742 8743 8744 8745 8746 8747 8748 8749 8750 8751 8752 8753 8754 8755\n",
      "  8756 8757 8758 8759 8760 8761 8762 8763 8764 8765 8766 8767 8768 8769\n",
      "  8770 8771 8772 8773 8774 8775 8776 8777 8778 8779 8780 8781 8782 8783\n",
      "  8784 8785 8786 8787 8788 8789 8790 8791 8792 8793 8794 8795 8796 8797\n",
      "  8798 8799]\n",
      " [8800 8801 8802 8803 8804 8805 8806 8807 8808 8809 8810 8811 8812 8813\n",
      "  8814 8815 8816 8817 8818 8819 8820 8821 8822 8823 8824 8825 8826 8827\n",
      "  8828 8829 8830 8831 8832 8833 8834 8835 8836 8837 8838 8839 8840 8841\n",
      "  8842 8843 8844 8845 8846 8847 8848 8849 8850 8851 8852 8853 8854 8855\n",
      "  8856 8857 8858 8859 8860 8861 8862 8863 8864 8865 8866 8867 8868 8869\n",
      "  8870 8871 8872 8873 8874 8875 8876 8877 8878 8879 8880 8881 8882 8883\n",
      "  8884 8885 8886 8887 8888 8889 8890 8891 8892 8893 8894 8895 8896 8897\n",
      "  8898 8899]\n",
      " [8900 8901 8902 8903 8904 8905 8906 8907 8908 8909 8910 8911 8912 8913\n",
      "  8914 8915 8916 8917 8918 8919 8920 8921 8922 8923 8924 8925 8926 8927\n",
      "  8928 8929 8930 8931 8932 8933 8934 8935 8936 8937 8938 8939 8940 8941\n",
      "  8942 8943 8944 8945 8946 8947 8948 8949 8950 8951 8952 8953 8954 8955\n",
      "  8956 8957 8958 8959 8960 8961 8962 8963 8964 8965 8966 8967 8968 8969\n",
      "  8970 8971 8972 8973 8974 8975 8976 8977 8978 8979 8980 8981 8982 8983\n",
      "  8984 8985 8986 8987 8988 8989 8990 8991 8992 8993 8994 8995 8996 8997\n",
      "  8998 8999]\n",
      " [9000 9001 9002 9003 9004 9005 9006 9007 9008 9009 9010 9011 9012 9013\n",
      "  9014 9015 9016 9017 9018 9019 9020 9021 9022 9023 9024 9025 9026 9027\n",
      "  9028 9029 9030 9031 9032 9033 9034 9035 9036 9037 9038 9039 9040 9041\n",
      "  9042 9043 9044 9045 9046 9047 9048 9049 9050 9051 9052 9053 9054 9055\n",
      "  9056 9057 9058 9059 9060 9061 9062 9063 9064 9065 9066 9067 9068 9069\n",
      "  9070 9071 9072 9073 9074 9075 9076 9077 9078 9079 9080 9081 9082 9083\n",
      "  9084 9085 9086 9087 9088 9089 9090 9091 9092 9093 9094 9095 9096 9097\n",
      "  9098 9099]\n",
      " [9100 9101 9102 9103 9104 9105 9106 9107 9108 9109 9110 9111 9112 9113\n",
      "  9114 9115 9116 9117 9118 9119 9120 9121 9122 9123 9124 9125 9126 9127\n",
      "  9128 9129 9130 9131 9132 9133 9134 9135 9136 9137 9138 9139 9140 9141\n",
      "  9142 9143 9144 9145 9146 9147 9148 9149 9150 9151 9152 9153 9154 9155\n",
      "  9156 9157 9158 9159 9160 9161 9162 9163 9164 9165 9166 9167 9168 9169\n",
      "  9170 9171 9172 9173 9174 9175 9176 9177 9178 9179 9180 9181 9182 9183\n",
      "  9184 9185 9186 9187 9188 9189 9190 9191 9192 9193 9194 9195 9196 9197\n",
      "  9198 9199]\n",
      " [9200 9201 9202 9203 9204 9205 9206 9207 9208 9209 9210 9211 9212 9213\n",
      "  9214 9215 9216 9217 9218 9219 9220 9221 9222 9223 9224 9225 9226 9227\n",
      "  9228 9229 9230 9231 9232 9233 9234 9235 9236 9237 9238 9239 9240 9241\n",
      "  9242 9243 9244 9245 9246 9247 9248 9249 9250 9251 9252 9253 9254 9255\n",
      "  9256 9257 9258 9259 9260 9261 9262 9263 9264 9265 9266 9267 9268 9269\n",
      "  9270 9271 9272 9273 9274 9275 9276 9277 9278 9279 9280 9281 9282 9283\n",
      "  9284 9285 9286 9287 9288 9289 9290 9291 9292 9293 9294 9295 9296 9297\n",
      "  9298 9299]\n",
      " [9300 9301 9302 9303 9304 9305 9306 9307 9308 9309 9310 9311 9312 9313\n",
      "  9314 9315 9316 9317 9318 9319 9320 9321 9322 9323 9324 9325 9326 9327\n",
      "  9328 9329 9330 9331 9332 9333 9334 9335 9336 9337 9338 9339 9340 9341\n",
      "  9342 9343 9344 9345 9346 9347 9348 9349 9350 9351 9352 9353 9354 9355\n",
      "  9356 9357 9358 9359 9360 9361 9362 9363 9364 9365 9366 9367 9368 9369\n",
      "  9370 9371 9372 9373 9374 9375 9376 9377 9378 9379 9380 9381 9382 9383\n",
      "  9384 9385 9386 9387 9388 9389 9390 9391 9392 9393 9394 9395 9396 9397\n",
      "  9398 9399]\n",
      " [9400 9401 9402 9403 9404 9405 9406 9407 9408 9409 9410 9411 9412 9413\n",
      "  9414 9415 9416 9417 9418 9419 9420 9421 9422 9423 9424 9425 9426 9427\n",
      "  9428 9429 9430 9431 9432 9433 9434 9435 9436 9437 9438 9439 9440 9441\n",
      "  9442 9443 9444 9445 9446 9447 9448 9449 9450 9451 9452 9453 9454 9455\n",
      "  9456 9457 9458 9459 9460 9461 9462 9463 9464 9465 9466 9467 9468 9469\n",
      "  9470 9471 9472 9473 9474 9475 9476 9477 9478 9479 9480 9481 9482 9483\n",
      "  9484 9485 9486 9487 9488 9489 9490 9491 9492 9493 9494 9495 9496 9497\n",
      "  9498 9499]\n",
      " [9500 9501 9502 9503 9504 9505 9506 9507 9508 9509 9510 9511 9512 9513\n",
      "  9514 9515 9516 9517 9518 9519 9520 9521 9522 9523 9524 9525 9526 9527\n",
      "  9528 9529 9530 9531 9532 9533 9534 9535 9536 9537 9538 9539 9540 9541\n",
      "  9542 9543 9544 9545 9546 9547 9548 9549 9550 9551 9552 9553 9554 9555\n",
      "  9556 9557 9558 9559 9560 9561 9562 9563 9564 9565 9566 9567 9568 9569\n",
      "  9570 9571 9572 9573 9574 9575 9576 9577 9578 9579 9580 9581 9582 9583\n",
      "  9584 9585 9586 9587 9588 9589 9590 9591 9592 9593 9594 9595 9596 9597\n",
      "  9598 9599]\n",
      " [9600 9601 9602 9603 9604 9605 9606 9607 9608 9609 9610 9611 9612 9613\n",
      "  9614 9615 9616 9617 9618 9619 9620 9621 9622 9623 9624 9625 9626 9627\n",
      "  9628 9629 9630 9631 9632 9633 9634 9635 9636 9637 9638 9639 9640 9641\n",
      "  9642 9643 9644 9645 9646 9647 9648 9649 9650 9651 9652 9653 9654 9655\n",
      "  9656 9657 9658 9659 9660 9661 9662 9663 9664 9665 9666 9667 9668 9669\n",
      "  9670 9671 9672 9673 9674 9675 9676 9677 9678 9679 9680 9681 9682 9683\n",
      "  9684 9685 9686 9687 9688 9689 9690 9691 9692 9693 9694 9695 9696 9697\n",
      "  9698 9699]\n",
      " [9700 9701 9702 9703 9704 9705 9706 9707 9708 9709 9710 9711 9712 9713\n",
      "  9714 9715 9716 9717 9718 9719 9720 9721 9722 9723 9724 9725 9726 9727\n",
      "  9728 9729 9730 9731 9732 9733 9734 9735 9736 9737 9738 9739 9740 9741\n",
      "  9742 9743 9744 9745 9746 9747 9748 9749 9750 9751 9752 9753 9754 9755\n",
      "  9756 9757 9758 9759 9760 9761 9762 9763 9764 9765 9766 9767 9768 9769\n",
      "  9770 9771 9772 9773 9774 9775 9776 9777 9778 9779 9780 9781 9782 9783\n",
      "  9784 9785 9786 9787 9788 9789 9790 9791 9792 9793 9794 9795 9796 9797\n",
      "  9798 9799]\n",
      " [9800 9801 9802 9803 9804 9805 9806 9807 9808 9809 9810 9811 9812 9813\n",
      "  9814 9815 9816 9817 9818 9819 9820 9821 9822 9823 9824 9825 9826 9827\n",
      "  9828 9829 9830 9831 9832 9833 9834 9835 9836 9837 9838 9839 9840 9841\n",
      "  9842 9843 9844 9845 9846 9847 9848 9849 9850 9851 9852 9853 9854 9855\n",
      "  9856 9857 9858 9859 9860 9861 9862 9863 9864 9865 9866 9867 9868 9869\n",
      "  9870 9871 9872 9873 9874 9875 9876 9877 9878 9879 9880 9881 9882 9883\n",
      "  9884 9885 9886 9887 9888 9889 9890 9891 9892 9893 9894 9895 9896 9897\n",
      "  9898 9899]\n",
      " [9900 9901 9902 9903 9904 9905 9906 9907 9908 9909 9910 9911 9912 9913\n",
      "  9914 9915 9916 9917 9918 9919 9920 9921 9922 9923 9924 9925 9926 9927\n",
      "  9928 9929 9930 9931 9932 9933 9934 9935 9936 9937 9938 9939 9940 9941\n",
      "  9942 9943 9944 9945 9946 9947 9948 9949 9950 9951 9952 9953 9954 9955\n",
      "  9956 9957 9958 9959 9960 9961 9962 9963 9964 9965 9966 9967 9968 9969\n",
      "  9970 9971 9972 9973 9974 9975 9976 9977 9978 9979 9980 9981 9982 9983\n",
      "  9984 9985 9986 9987 9988 9989 9990 9991 9992 9993 9994 9995 9996 9997\n",
      "  9998 9999]]\n"
     ]
    }
   ],
   "source": [
    "print(np.arange(10000).reshape(100,100))"
   ]
  },
  {
   "cell_type": "code",
   "execution_count": 106,
   "metadata": {},
   "outputs": [],
   "source": [
    "a = np.array([20,30,40,50])\n",
    "b = np.arange(4)"
   ]
  },
  {
   "cell_type": "markdown",
   "metadata": {},
   "source": [
    "## 배열의 요소별 연산"
   ]
  },
  {
   "cell_type": "code",
   "execution_count": 112,
   "metadata": {},
   "outputs": [
    {
     "data": {
      "text/html": [
       "<div>\n",
       "<style scoped>\n",
       "    .dataframe tbody tr th:only-of-type {\n",
       "        vertical-align: middle;\n",
       "    }\n",
       "\n",
       "    .dataframe tbody tr th {\n",
       "        vertical-align: top;\n",
       "    }\n",
       "\n",
       "    .dataframe thead tr th {\n",
       "        text-align: left;\n",
       "    }\n",
       "</style>\n",
       "<table border=\"1\" class=\"dataframe\">\n",
       "  <thead>\n",
       "    <tr>\n",
       "      <th></th>\n",
       "      <th>1</th>\n",
       "      <th>2</th>\n",
       "      <th>3</th>\n",
       "      <th>4</th>\n",
       "      <th>5</th>\n",
       "      <th>6</th>\n",
       "      <th>7</th>\n",
       "      <th>8</th>\n",
       "      <th>9</th>\n",
       "      <th>10</th>\n",
       "    </tr>\n",
       "  </thead>\n",
       "  <tbody>\n",
       "    <tr>\n",
       "      <th>0</th>\n",
       "      <td>0</td>\n",
       "      <td>1</td>\n",
       "      <td>2</td>\n",
       "      <td>3</td>\n",
       "      <td>4</td>\n",
       "      <td>5</td>\n",
       "      <td>6</td>\n",
       "      <td>7</td>\n",
       "      <td>8</td>\n",
       "      <td>9</td>\n",
       "    </tr>\n",
       "    <tr>\n",
       "      <th>1</th>\n",
       "      <td>10</td>\n",
       "      <td>11</td>\n",
       "      <td>12</td>\n",
       "      <td>13</td>\n",
       "      <td>14</td>\n",
       "      <td>15</td>\n",
       "      <td>16</td>\n",
       "      <td>17</td>\n",
       "      <td>18</td>\n",
       "      <td>19</td>\n",
       "    </tr>\n",
       "    <tr>\n",
       "      <th>2</th>\n",
       "      <td>20</td>\n",
       "      <td>21</td>\n",
       "      <td>22</td>\n",
       "      <td>23</td>\n",
       "      <td>24</td>\n",
       "      <td>25</td>\n",
       "      <td>26</td>\n",
       "      <td>27</td>\n",
       "      <td>28</td>\n",
       "      <td>29</td>\n",
       "    </tr>\n",
       "    <tr>\n",
       "      <th>3</th>\n",
       "      <td>30</td>\n",
       "      <td>31</td>\n",
       "      <td>32</td>\n",
       "      <td>33</td>\n",
       "      <td>34</td>\n",
       "      <td>35</td>\n",
       "      <td>36</td>\n",
       "      <td>37</td>\n",
       "      <td>38</td>\n",
       "      <td>39</td>\n",
       "    </tr>\n",
       "    <tr>\n",
       "      <th>4</th>\n",
       "      <td>40</td>\n",
       "      <td>41</td>\n",
       "      <td>42</td>\n",
       "      <td>43</td>\n",
       "      <td>44</td>\n",
       "      <td>45</td>\n",
       "      <td>46</td>\n",
       "      <td>47</td>\n",
       "      <td>48</td>\n",
       "      <td>49</td>\n",
       "    </tr>\n",
       "    <tr>\n",
       "      <th>5</th>\n",
       "      <td>50</td>\n",
       "      <td>51</td>\n",
       "      <td>52</td>\n",
       "      <td>53</td>\n",
       "      <td>54</td>\n",
       "      <td>55</td>\n",
       "      <td>56</td>\n",
       "      <td>57</td>\n",
       "      <td>58</td>\n",
       "      <td>59</td>\n",
       "    </tr>\n",
       "    <tr>\n",
       "      <th>6</th>\n",
       "      <td>60</td>\n",
       "      <td>61</td>\n",
       "      <td>62</td>\n",
       "      <td>63</td>\n",
       "      <td>64</td>\n",
       "      <td>65</td>\n",
       "      <td>66</td>\n",
       "      <td>67</td>\n",
       "      <td>68</td>\n",
       "      <td>69</td>\n",
       "    </tr>\n",
       "    <tr>\n",
       "      <th>7</th>\n",
       "      <td>70</td>\n",
       "      <td>71</td>\n",
       "      <td>72</td>\n",
       "      <td>73</td>\n",
       "      <td>74</td>\n",
       "      <td>75</td>\n",
       "      <td>76</td>\n",
       "      <td>77</td>\n",
       "      <td>78</td>\n",
       "      <td>79</td>\n",
       "    </tr>\n",
       "    <tr>\n",
       "      <th>8</th>\n",
       "      <td>80</td>\n",
       "      <td>81</td>\n",
       "      <td>82</td>\n",
       "      <td>83</td>\n",
       "      <td>84</td>\n",
       "      <td>85</td>\n",
       "      <td>86</td>\n",
       "      <td>87</td>\n",
       "      <td>88</td>\n",
       "      <td>89</td>\n",
       "    </tr>\n",
       "    <tr>\n",
       "      <th>9</th>\n",
       "      <td>90</td>\n",
       "      <td>91</td>\n",
       "      <td>92</td>\n",
       "      <td>93</td>\n",
       "      <td>94</td>\n",
       "      <td>95</td>\n",
       "      <td>96</td>\n",
       "      <td>97</td>\n",
       "      <td>98</td>\n",
       "      <td>99</td>\n",
       "    </tr>\n",
       "  </tbody>\n",
       "</table>\n",
       "</div>"
      ],
      "text/plain": [
       "   1   2   3   4   5   6   7   8   9   10\n",
       "0   0   1   2   3   4   5   6   7   8   9\n",
       "1  10  11  12  13  14  15  16  17  18  19\n",
       "2  20  21  22  23  24  25  26  27  28  29\n",
       "3  30  31  32  33  34  35  36  37  38  39\n",
       "4  40  41  42  43  44  45  46  47  48  49\n",
       "5  50  51  52  53  54  55  56  57  58  59\n",
       "6  60  61  62  63  64  65  66  67  68  69\n",
       "7  70  71  72  73  74  75  76  77  78  79\n",
       "8  80  81  82  83  84  85  86  87  88  89\n",
       "9  90  91  92  93  94  95  96  97  98  99"
      ]
     },
     "execution_count": 112,
     "metadata": {},
     "output_type": "execute_result"
    }
   ],
   "source": [
    "a = np.arange(0,100).reshape(10,10)\n",
    "a = pd.DataFrame(a,columns = [np.arange(1,11)])\n",
    "a"
   ]
  },
  {
   "cell_type": "code",
   "execution_count": 107,
   "metadata": {},
   "outputs": [
    {
     "data": {
      "text/plain": [
       "array([20, 29, 38, 47])"
      ]
     },
     "execution_count": 107,
     "metadata": {},
     "output_type": "execute_result"
    }
   ],
   "source": [
    "a - b"
   ]
  },
  {
   "cell_type": "code",
   "execution_count": 109,
   "metadata": {},
   "outputs": [
    {
     "data": {
      "text/plain": [
       "array([0, 1, 4, 9], dtype=int32)"
      ]
     },
     "execution_count": 109,
     "metadata": {},
     "output_type": "execute_result"
    }
   ],
   "source": [
    "b**2"
   ]
  },
  {
   "cell_type": "code",
   "execution_count": 110,
   "metadata": {},
   "outputs": [
    {
     "data": {
      "text/plain": [
       "array([ 9.12945251, -9.88031624,  7.4511316 , -2.62374854])"
      ]
     },
     "execution_count": 110,
     "metadata": {},
     "output_type": "execute_result"
    }
   ],
   "source": [
    "10*np.sin(a)"
   ]
  },
  {
   "cell_type": "code",
   "execution_count": 111,
   "metadata": {},
   "outputs": [
    {
     "data": {
      "text/plain": [
       "array([ True,  True, False, False])"
      ]
     },
     "execution_count": 111,
     "metadata": {},
     "output_type": "execute_result"
    }
   ],
   "source": [
    "a < 35"
   ]
  },
  {
   "cell_type": "code",
   "execution_count": 112,
   "metadata": {},
   "outputs": [
    {
     "data": {
      "text/plain": [
       "array([  0,  30,  80, 150])"
      ]
     },
     "execution_count": 112,
     "metadata": {},
     "output_type": "execute_result"
    }
   ],
   "source": [
    "a*b"
   ]
  },
  {
   "cell_type": "code",
   "execution_count": 113,
   "metadata": {},
   "outputs": [
    {
     "data": {
      "text/plain": [
       "array([20, 30, 40, 50])"
      ]
     },
     "execution_count": 113,
     "metadata": {},
     "output_type": "execute_result"
    }
   ],
   "source": [
    "a"
   ]
  },
  {
   "cell_type": "code",
   "execution_count": 114,
   "metadata": {},
   "outputs": [
    {
     "data": {
      "text/plain": [
       "array([0, 1, 2, 3])"
      ]
     },
     "execution_count": 114,
     "metadata": {},
     "output_type": "execute_result"
    }
   ],
   "source": [
    "b"
   ]
  },
  {
   "cell_type": "code",
   "execution_count": 115,
   "metadata": {},
   "outputs": [],
   "source": [
    "a = np.array([[1,1],[0,1]])\n",
    "b = np.array([[2,0],[3,4]])"
   ]
  },
  {
   "cell_type": "code",
   "execution_count": 116,
   "metadata": {},
   "outputs": [
    {
     "data": {
      "text/plain": [
       "array([[1, 1],\n",
       "       [0, 1]])"
      ]
     },
     "execution_count": 116,
     "metadata": {},
     "output_type": "execute_result"
    }
   ],
   "source": [
    "a"
   ]
  },
  {
   "cell_type": "code",
   "execution_count": 117,
   "metadata": {},
   "outputs": [
    {
     "data": {
      "text/plain": [
       "array([[2, 0],\n",
       "       [3, 4]])"
      ]
     },
     "execution_count": 117,
     "metadata": {},
     "output_type": "execute_result"
    }
   ],
   "source": [
    "b"
   ]
  },
  {
   "cell_type": "code",
   "execution_count": 118,
   "metadata": {},
   "outputs": [
    {
     "data": {
      "text/plain": [
       "array([[2, 0],\n",
       "       [0, 4]])"
      ]
     },
     "execution_count": 118,
     "metadata": {},
     "output_type": "execute_result"
    }
   ],
   "source": [
    "# 각 요소별 곱셈\n",
    "\n",
    "a*b"
   ]
  },
  {
   "cell_type": "code",
   "execution_count": 119,
   "metadata": {},
   "outputs": [
    {
     "data": {
      "text/plain": [
       "array([[5, 4],\n",
       "       [3, 4]])"
      ]
     },
     "execution_count": 119,
     "metadata": {},
     "output_type": "execute_result"
    }
   ],
   "source": [
    "# 행렬의 곱\n",
    "\n",
    "a.dot(b)"
   ]
  },
  {
   "cell_type": "code",
   "execution_count": 120,
   "metadata": {},
   "outputs": [
    {
     "data": {
      "text/plain": [
       "array([[5, 4],\n",
       "       [3, 4]])"
      ]
     },
     "execution_count": 120,
     "metadata": {},
     "output_type": "execute_result"
    }
   ],
   "source": [
    "a@b"
   ]
  },
  {
   "cell_type": "markdown",
   "metadata": {},
   "source": [
    "### 3) 복합대입연산자의 사용"
   ]
  },
  {
   "cell_type": "code",
   "execution_count": 15,
   "metadata": {},
   "outputs": [],
   "source": [
    "a = np.ones((2,3), dtype = np.int32)\n",
    "b = np.arange(6).reshape(2,3).astype(np.float32)"
   ]
  },
  {
   "cell_type": "code",
   "execution_count": 16,
   "metadata": {},
   "outputs": [
    {
     "data": {
      "text/plain": [
       "array([[1, 1, 1],\n",
       "       [1, 1, 1]])"
      ]
     },
     "execution_count": 16,
     "metadata": {},
     "output_type": "execute_result"
    }
   ],
   "source": [
    "a "
   ]
  },
  {
   "cell_type": "code",
   "execution_count": 17,
   "metadata": {},
   "outputs": [
    {
     "data": {
      "text/plain": [
       "array([[3, 3, 3],\n",
       "       [3, 3, 3]])"
      ]
     },
     "execution_count": 17,
     "metadata": {},
     "output_type": "execute_result"
    }
   ],
   "source": [
    "a * 3"
   ]
  },
  {
   "cell_type": "code",
   "execution_count": 18,
   "metadata": {},
   "outputs": [
    {
     "data": {
      "text/plain": [
       "array([[0., 1., 2.],\n",
       "       [3., 4., 5.]], dtype=float32)"
      ]
     },
     "execution_count": 18,
     "metadata": {},
     "output_type": "execute_result"
    }
   ],
   "source": [
    "b"
   ]
  },
  {
   "cell_type": "code",
   "execution_count": 19,
   "metadata": {},
   "outputs": [
    {
     "data": {
      "text/plain": [
       "array([[1., 2., 3.],\n",
       "       [4., 5., 6.]], dtype=float32)"
      ]
     },
     "execution_count": 19,
     "metadata": {},
     "output_type": "execute_result"
    }
   ],
   "source": [
    "b += a\n",
    "b"
   ]
  },
  {
   "cell_type": "code",
   "execution_count": 22,
   "metadata": {
    "scrolled": true
   },
   "outputs": [
    {
     "data": {
      "text/plain": [
       "2"
      ]
     },
     "execution_count": 22,
     "metadata": {},
     "output_type": "execute_result"
    }
   ],
   "source": [
    "a += 1"
   ]
  },
  {
   "cell_type": "code",
   "execution_count": 24,
   "metadata": {},
   "outputs": [
    {
     "data": {
      "text/plain": [
       "10"
      ]
     },
     "execution_count": 24,
     "metadata": {},
     "output_type": "execute_result"
    }
   ],
   "source": [
    "a"
   ]
  },
  {
   "cell_type": "code",
   "execution_count": 124,
   "metadata": {},
   "outputs": [
    {
     "data": {
      "text/plain": [
       "array([[3, 3, 3],\n",
       "       [3, 3, 3]])"
      ]
     },
     "execution_count": 124,
     "metadata": {},
     "output_type": "execute_result"
    }
   ],
   "source": [
    "a *= 3\n",
    "a"
   ]
  },
  {
   "cell_type": "code",
   "execution_count": 125,
   "metadata": {},
   "outputs": [
    {
     "data": {
      "text/plain": [
       "array([[0., 1., 2.],\n",
       "       [3., 4., 5.]], dtype=float32)"
      ]
     },
     "execution_count": 125,
     "metadata": {},
     "output_type": "execute_result"
    }
   ],
   "source": [
    "b"
   ]
  },
  {
   "cell_type": "code",
   "execution_count": 126,
   "metadata": {},
   "outputs": [
    {
     "data": {
      "text/plain": [
       "array([[3., 4., 5.],\n",
       "       [6., 7., 8.]])"
      ]
     },
     "execution_count": 126,
     "metadata": {},
     "output_type": "execute_result"
    }
   ],
   "source": [
    "b + a"
   ]
  },
  {
   "cell_type": "code",
   "execution_count": 20,
   "metadata": {},
   "outputs": [],
   "source": [
    "b += a"
   ]
  },
  {
   "cell_type": "code",
   "execution_count": 21,
   "metadata": {},
   "outputs": [
    {
     "data": {
      "text/plain": [
       "array([[2., 3., 4.],\n",
       "       [5., 6., 7.]], dtype=float32)"
      ]
     },
     "execution_count": 21,
     "metadata": {},
     "output_type": "execute_result"
    }
   ],
   "source": [
    "b"
   ]
  },
  {
   "cell_type": "code",
   "execution_count": 22,
   "metadata": {},
   "outputs": [],
   "source": [
    "a = np.ones(3, dtype = np.int32)\n",
    "b = np.linspace(0, np.pi, 3)"
   ]
  },
  {
   "cell_type": "code",
   "execution_count": 23,
   "metadata": {},
   "outputs": [
    {
     "data": {
      "text/plain": [
       "'float64'"
      ]
     },
     "execution_count": 23,
     "metadata": {},
     "output_type": "execute_result"
    }
   ],
   "source": [
    "b.dtype.name"
   ]
  },
  {
   "cell_type": "code",
   "execution_count": 24,
   "metadata": {},
   "outputs": [],
   "source": [
    "c = a + b"
   ]
  },
  {
   "cell_type": "code",
   "execution_count": 25,
   "metadata": {},
   "outputs": [
    {
     "data": {
      "text/plain": [
       "array([1.        , 2.57079633, 4.14159265])"
      ]
     },
     "execution_count": 25,
     "metadata": {},
     "output_type": "execute_result"
    }
   ],
   "source": [
    "c"
   ]
  },
  {
   "cell_type": "code",
   "execution_count": 135,
   "metadata": {},
   "outputs": [
    {
     "data": {
      "text/plain": [
       "'float64'"
      ]
     },
     "execution_count": 135,
     "metadata": {},
     "output_type": "execute_result"
    }
   ],
   "source": [
    "c.dtype.name"
   ]
  },
  {
   "cell_type": "code",
   "execution_count": 136,
   "metadata": {},
   "outputs": [],
   "source": [
    "d = a + b * 1j"
   ]
  },
  {
   "cell_type": "code",
   "execution_count": 137,
   "metadata": {},
   "outputs": [
    {
     "data": {
      "text/plain": [
       "array([1.+0.j        , 1.+1.57079633j, 1.+3.14159265j])"
      ]
     },
     "execution_count": 137,
     "metadata": {},
     "output_type": "execute_result"
    }
   ],
   "source": [
    "d"
   ]
  },
  {
   "cell_type": "code",
   "execution_count": 139,
   "metadata": {},
   "outputs": [
    {
     "data": {
      "text/plain": [
       "'complex128'"
      ]
     },
     "execution_count": 139,
     "metadata": {},
     "output_type": "execute_result"
    }
   ],
   "source": [
    "d.dtype.name"
   ]
  },
  {
   "cell_type": "code",
   "execution_count": 140,
   "metadata": {},
   "outputs": [
    {
     "data": {
      "text/plain": [
       "array([[ 0,  1,  2,  3],\n",
       "       [ 4,  5,  6,  7],\n",
       "       [ 8,  9, 10, 11]])"
      ]
     },
     "execution_count": 140,
     "metadata": {},
     "output_type": "execute_result"
    }
   ],
   "source": [
    "a = np.arange(12).reshape(3,4)\n",
    "a"
   ]
  },
  {
   "cell_type": "markdown",
   "metadata": {},
   "source": [
    "### 4) 배열 요소의 집계"
   ]
  },
  {
   "cell_type": "code",
   "execution_count": 141,
   "metadata": {},
   "outputs": [
    {
     "data": {
      "text/plain": [
       "66"
      ]
     },
     "execution_count": 141,
     "metadata": {},
     "output_type": "execute_result"
    }
   ],
   "source": [
    "a.sum()"
   ]
  },
  {
   "cell_type": "code",
   "execution_count": 142,
   "metadata": {},
   "outputs": [
    {
     "data": {
      "text/plain": [
       "0"
      ]
     },
     "execution_count": 142,
     "metadata": {},
     "output_type": "execute_result"
    }
   ],
   "source": [
    "a.min()"
   ]
  },
  {
   "cell_type": "code",
   "execution_count": 143,
   "metadata": {},
   "outputs": [
    {
     "data": {
      "text/plain": [
       "11"
      ]
     },
     "execution_count": 143,
     "metadata": {},
     "output_type": "execute_result"
    }
   ],
   "source": [
    "a.max()"
   ]
  },
  {
   "cell_type": "code",
   "execution_count": 144,
   "metadata": {},
   "outputs": [
    {
     "data": {
      "text/plain": [
       "5.5"
      ]
     },
     "execution_count": 144,
     "metadata": {},
     "output_type": "execute_result"
    }
   ],
   "source": [
    "a.mean()"
   ]
  },
  {
   "cell_type": "code",
   "execution_count": 145,
   "metadata": {},
   "outputs": [
    {
     "data": {
      "text/plain": [
       "3.452052529534663"
      ]
     },
     "execution_count": 145,
     "metadata": {},
     "output_type": "execute_result"
    }
   ],
   "source": [
    "a.std()"
   ]
  },
  {
   "cell_type": "code",
   "execution_count": 26,
   "metadata": {},
   "outputs": [
    {
     "data": {
      "text/plain": [
       "array([[ 0,  1,  2,  3,  4,  5,  6,  7,  8,  9],\n",
       "       [10, 11, 12, 13, 14, 15, 16, 17, 18, 19],\n",
       "       [20, 21, 22, 23, 24, 25, 26, 27, 28, 29],\n",
       "       [30, 31, 32, 33, 34, 35, 36, 37, 38, 39],\n",
       "       [40, 41, 42, 43, 44, 45, 46, 47, 48, 49],\n",
       "       [50, 51, 52, 53, 54, 55, 56, 57, 58, 59],\n",
       "       [60, 61, 62, 63, 64, 65, 66, 67, 68, 69],\n",
       "       [70, 71, 72, 73, 74, 75, 76, 77, 78, 79],\n",
       "       [80, 81, 82, 83, 84, 85, 86, 87, 88, 89],\n",
       "       [90, 91, 92, 93, 94, 95, 96, 97, 98, 99]])"
      ]
     },
     "execution_count": 26,
     "metadata": {},
     "output_type": "execute_result"
    }
   ],
   "source": [
    "np.arange(0,100,1).reshape(10,10)"
   ]
  },
  {
   "cell_type": "code",
   "execution_count": null,
   "metadata": {},
   "outputs": [],
   "source": []
  },
  {
   "cell_type": "code",
   "execution_count": 139,
   "metadata": {},
   "outputs": [],
   "source": [
    "np.random.randint?"
   ]
  },
  {
   "cell_type": "code",
   "execution_count": 144,
   "metadata": {
    "scrolled": false
   },
   "outputs": [],
   "source": [
    "a.iloc[np.random.randint(0,9,3),np.random.randint(1,5,3)] = np.nan"
   ]
  },
  {
   "cell_type": "code",
   "execution_count": 147,
   "metadata": {},
   "outputs": [
    {
     "data": {
      "text/html": [
       "<div>\n",
       "<style scoped>\n",
       "    .dataframe tbody tr th:only-of-type {\n",
       "        vertical-align: middle;\n",
       "    }\n",
       "\n",
       "    .dataframe tbody tr th {\n",
       "        vertical-align: top;\n",
       "    }\n",
       "\n",
       "    .dataframe thead tr th {\n",
       "        text-align: left;\n",
       "    }\n",
       "</style>\n",
       "<table border=\"1\" class=\"dataframe\">\n",
       "  <thead>\n",
       "    <tr>\n",
       "      <th></th>\n",
       "      <th>1</th>\n",
       "      <th>3</th>\n",
       "      <th>5</th>\n",
       "      <th>6</th>\n",
       "      <th>7</th>\n",
       "      <th>8</th>\n",
       "      <th>9</th>\n",
       "      <th>10</th>\n",
       "    </tr>\n",
       "  </thead>\n",
       "  <tbody>\n",
       "    <tr>\n",
       "      <th>0</th>\n",
       "      <td>0</td>\n",
       "      <td>2</td>\n",
       "      <td>4</td>\n",
       "      <td>5</td>\n",
       "      <td>6</td>\n",
       "      <td>7</td>\n",
       "      <td>8</td>\n",
       "      <td>9</td>\n",
       "    </tr>\n",
       "    <tr>\n",
       "      <th>1</th>\n",
       "      <td>10</td>\n",
       "      <td>12</td>\n",
       "      <td>14</td>\n",
       "      <td>15</td>\n",
       "      <td>16</td>\n",
       "      <td>17</td>\n",
       "      <td>18</td>\n",
       "      <td>19</td>\n",
       "    </tr>\n",
       "    <tr>\n",
       "      <th>2</th>\n",
       "      <td>20</td>\n",
       "      <td>22</td>\n",
       "      <td>24</td>\n",
       "      <td>25</td>\n",
       "      <td>26</td>\n",
       "      <td>27</td>\n",
       "      <td>28</td>\n",
       "      <td>29</td>\n",
       "    </tr>\n",
       "    <tr>\n",
       "      <th>3</th>\n",
       "      <td>30</td>\n",
       "      <td>32</td>\n",
       "      <td>34</td>\n",
       "      <td>35</td>\n",
       "      <td>36</td>\n",
       "      <td>37</td>\n",
       "      <td>38</td>\n",
       "      <td>39</td>\n",
       "    </tr>\n",
       "    <tr>\n",
       "      <th>4</th>\n",
       "      <td>40</td>\n",
       "      <td>42</td>\n",
       "      <td>44</td>\n",
       "      <td>45</td>\n",
       "      <td>46</td>\n",
       "      <td>47</td>\n",
       "      <td>48</td>\n",
       "      <td>49</td>\n",
       "    </tr>\n",
       "    <tr>\n",
       "      <th>5</th>\n",
       "      <td>50</td>\n",
       "      <td>52</td>\n",
       "      <td>54</td>\n",
       "      <td>55</td>\n",
       "      <td>56</td>\n",
       "      <td>57</td>\n",
       "      <td>58</td>\n",
       "      <td>59</td>\n",
       "    </tr>\n",
       "    <tr>\n",
       "      <th>6</th>\n",
       "      <td>60</td>\n",
       "      <td>62</td>\n",
       "      <td>64</td>\n",
       "      <td>65</td>\n",
       "      <td>66</td>\n",
       "      <td>67</td>\n",
       "      <td>68</td>\n",
       "      <td>69</td>\n",
       "    </tr>\n",
       "    <tr>\n",
       "      <th>7</th>\n",
       "      <td>70</td>\n",
       "      <td>72</td>\n",
       "      <td>74</td>\n",
       "      <td>75</td>\n",
       "      <td>76</td>\n",
       "      <td>77</td>\n",
       "      <td>78</td>\n",
       "      <td>79</td>\n",
       "    </tr>\n",
       "    <tr>\n",
       "      <th>8</th>\n",
       "      <td>80</td>\n",
       "      <td>82</td>\n",
       "      <td>84</td>\n",
       "      <td>85</td>\n",
       "      <td>86</td>\n",
       "      <td>87</td>\n",
       "      <td>88</td>\n",
       "      <td>89</td>\n",
       "    </tr>\n",
       "    <tr>\n",
       "      <th>9</th>\n",
       "      <td>90</td>\n",
       "      <td>92</td>\n",
       "      <td>94</td>\n",
       "      <td>95</td>\n",
       "      <td>96</td>\n",
       "      <td>97</td>\n",
       "      <td>98</td>\n",
       "      <td>99</td>\n",
       "    </tr>\n",
       "  </tbody>\n",
       "</table>\n",
       "</div>"
      ],
      "text/plain": [
       "   1   3   5   6   7   8   9   10\n",
       "0   0   2   4   5   6   7   8   9\n",
       "1  10  12  14  15  16  17  18  19\n",
       "2  20  22  24  25  26  27  28  29\n",
       "3  30  32  34  35  36  37  38  39\n",
       "4  40  42  44  45  46  47  48  49\n",
       "5  50  52  54  55  56  57  58  59\n",
       "6  60  62  64  65  66  67  68  69\n",
       "7  70  72  74  75  76  77  78  79\n",
       "8  80  82  84  85  86  87  88  89\n",
       "9  90  92  94  95  96  97  98  99"
      ]
     },
     "execution_count": 147,
     "metadata": {},
     "output_type": "execute_result"
    }
   ],
   "source": [
    "a.dropna(axis = 1)"
   ]
  },
  {
   "cell_type": "code",
   "execution_count": 146,
   "metadata": {},
   "outputs": [
    {
     "name": "stdout",
     "output_type": "stream",
     "text": [
      "[12 15 18 21]\n",
      "[ 6 22 38]\n"
     ]
    }
   ],
   "source": [
    "# axis를 지정할 경우 지정된 축을 따라 작업을 적용할 수 있다\n",
    "\n",
    "print(a.sum(axis = 0))\n",
    "print(a.sum(axis = 1))"
   ]
  },
  {
   "cell_type": "code",
   "execution_count": 36,
   "metadata": {},
   "outputs": [
    {
     "data": {
      "text/plain": [
       "(5, 20)"
      ]
     },
     "execution_count": 36,
     "metadata": {},
     "output_type": "execute_result"
    }
   ],
   "source": [
    "cc = np.arange(1,101).reshape(5,-1)\n",
    "cc.shape"
   ]
  },
  {
   "cell_type": "code",
   "execution_count": 27,
   "metadata": {
    "scrolled": true
   },
   "outputs": [
    {
     "data": {
      "text/plain": [
       "array([[[ 0,  1,  2,  3],\n",
       "        [ 4,  5,  6,  7],\n",
       "        [ 8,  9, 10, 11]],\n",
       "\n",
       "       [[12, 13, 14, 15],\n",
       "        [16, 17, 18, 19],\n",
       "        [20, 21, 22, 23]]])"
      ]
     },
     "execution_count": 27,
     "metadata": {},
     "output_type": "execute_result"
    }
   ],
   "source": [
    "b = np.arange(24).reshape(2,3,4)\n",
    "b"
   ]
  },
  {
   "cell_type": "code",
   "execution_count": 28,
   "metadata": {},
   "outputs": [
    {
     "data": {
      "text/plain": [
       "array([[12, 14, 16, 18],\n",
       "       [20, 22, 24, 26],\n",
       "       [28, 30, 32, 34]])"
      ]
     },
     "execution_count": 28,
     "metadata": {},
     "output_type": "execute_result"
    }
   ],
   "source": [
    "b.sum(axis = 0)"
   ]
  },
  {
   "cell_type": "code",
   "execution_count": 29,
   "metadata": {
    "scrolled": true
   },
   "outputs": [
    {
     "data": {
      "text/plain": [
       "array([[12, 15, 18, 21],\n",
       "       [48, 51, 54, 57]])"
      ]
     },
     "execution_count": 29,
     "metadata": {},
     "output_type": "execute_result"
    }
   ],
   "source": [
    "b.sum(axis = 1)"
   ]
  },
  {
   "cell_type": "code",
   "execution_count": null,
   "metadata": {},
   "outputs": [],
   "source": [
    "b.sum()"
   ]
  },
  {
   "cell_type": "code",
   "execution_count": 30,
   "metadata": {},
   "outputs": [
    {
     "data": {
      "text/plain": [
       "array([[12, 14, 16, 18],\n",
       "       [20, 22, 24, 26],\n",
       "       [28, 30, 32, 34]])"
      ]
     },
     "execution_count": 30,
     "metadata": {},
     "output_type": "execute_result"
    }
   ],
   "source": [
    "np.arange(12,36,2).reshape(3,4)"
   ]
  },
  {
   "cell_type": "code",
   "execution_count": 39,
   "metadata": {
    "scrolled": true
   },
   "outputs": [
    {
     "data": {
      "text/plain": [
       "array([[[ 0,  1,  2,  3],\n",
       "        [ 4,  5,  6,  7],\n",
       "        [ 8,  9, 10, 11]],\n",
       "\n",
       "       [[12, 14, 16, 18],\n",
       "        [20, 22, 24, 26],\n",
       "        [28, 30, 32, 34]]])"
      ]
     },
     "execution_count": 39,
     "metadata": {},
     "output_type": "execute_result"
    }
   ],
   "source": [
    "b[1]  = np.arange(12,36,2).reshape(3,4)\n",
    "b"
   ]
  },
  {
   "cell_type": "code",
   "execution_count": 38,
   "metadata": {},
   "outputs": [
    {
     "data": {
      "text/plain": [
       "array([[12, 15, 18, 21],\n",
       "       [24, 27, 30, 33],\n",
       "       [36, 39, 42, 45]])"
      ]
     },
     "execution_count": 38,
     "metadata": {},
     "output_type": "execute_result"
    }
   ],
   "source": [
    "b.sum(axis = 0)"
   ]
  },
  {
   "cell_type": "code",
   "execution_count": 40,
   "metadata": {},
   "outputs": [
    {
     "data": {
      "text/plain": [
       "array([[12, 15, 18, 21],\n",
       "       [60, 66, 72, 78]])"
      ]
     },
     "execution_count": 40,
     "metadata": {},
     "output_type": "execute_result"
    }
   ],
   "source": [
    "b.sum(axis = 1)"
   ]
  },
  {
   "cell_type": "code",
   "execution_count": 41,
   "metadata": {},
   "outputs": [
    {
     "data": {
      "text/plain": [
       "array([[  6,  22,  38],\n",
       "       [ 60,  92, 124]])"
      ]
     },
     "execution_count": 41,
     "metadata": {},
     "output_type": "execute_result"
    }
   ],
   "source": [
    "b.sum(axis = 2)"
   ]
  },
  {
   "cell_type": "markdown",
   "metadata": {},
   "source": [
    "## 2.7 범용함수\n",
    "\n",
    " - 범용함수는 배열 데이터의 연산, 형 변환 및 몇가지 다른 표준 기능을 지원하는 넘파이 배열에서 작동하는 함수입니다. 범용함수들은 넘파이 배열의 요소별로 함수가 적용된 배열을 반환합니다. sin(),cos() 등 삼각 함수와 exp() 등 수학 함수들이 범용함수에 해당합니다."
   ]
  },
  {
   "cell_type": "code",
   "execution_count": 151,
   "metadata": {},
   "outputs": [
    {
     "name": "stdout",
     "output_type": "stream",
     "text": [
      "[0 1 2]\n",
      "[4 5 6]\n"
     ]
    }
   ],
   "source": [
    "a = np.arange(3)\n",
    "b = np.arange(4,7)\n",
    "\n",
    "print(a)\n",
    "print(b)"
   ]
  },
  {
   "cell_type": "code",
   "execution_count": 152,
   "metadata": {},
   "outputs": [
    {
     "data": {
      "text/plain": [
       "array([4, 6, 8])"
      ]
     },
     "execution_count": 152,
     "metadata": {},
     "output_type": "execute_result"
    }
   ],
   "source": [
    "a + b"
   ]
  },
  {
   "cell_type": "code",
   "execution_count": 153,
   "metadata": {},
   "outputs": [
    {
     "data": {
      "text/plain": [
       "array([4, 6, 8])"
      ]
     },
     "execution_count": 153,
     "metadata": {},
     "output_type": "execute_result"
    }
   ],
   "source": [
    "np.add(a,b)"
   ]
  },
  {
   "cell_type": "code",
   "execution_count": 155,
   "metadata": {},
   "outputs": [
    {
     "data": {
      "text/plain": [
       "array([ 8, 11, 14])"
      ]
     },
     "execution_count": 155,
     "metadata": {},
     "output_type": "execute_result"
    }
   ],
   "source": [
    "# 출력 인수의 사용\n",
    "# 범용함수들은 마지막 결과를 저장할 변수를 지정할 수 있습니다.\n",
    "\n",
    "np.add(a,b,a) # a랑b를 더하고 그 값을 a에 저장\n",
    "\n",
    "a\n",
    "\n",
    "# 이러한 출력 인수의 지정은 많은 양의 데이터를 연산해야 할 때 메모리를 절약할 수 있습니다.\n",
    "# 배열의 크기가 크고 복잡한 표현식은 임시 계산 공간을 생성하고 삭제하는데 많은 시간과 공간이 필요합니다."
   ]
  },
  {
   "cell_type": "markdown",
   "metadata": {},
   "source": [
    "## 출력 인수의 사용과 메모리 사용량 및 실행시간 비교"
   ]
  },
  {
   "cell_type": "code",
   "execution_count": 156,
   "metadata": {},
   "outputs": [
    {
     "name": "stdout",
     "output_type": "stream",
     "text": [
      "Collecting memory_profiler\n",
      "  Downloading memory_profiler-0.60.0.tar.gz (38 kB)\n",
      "  Preparing metadata (setup.py): started\n",
      "  Preparing metadata (setup.py): finished with status 'done'\n",
      "Requirement already satisfied: psutil in c:\\users\\82106\\anaconda3\\lib\\site-packages (from memory_profiler) (5.7.0)\n",
      "Building wheels for collected packages: memory_profiler\n",
      "  Building wheel for memory_profiler (setup.py): started\n",
      "  Building wheel for memory_profiler (setup.py): finished with status 'done'\n",
      "  Created wheel for memory_profiler: filename=memory_profiler-0.60.0-py3-none-any.whl size=31278 sha256=773433d47436eabd2b59184bb1f4050f4380922630cac02bae8f8b8cbc1262ed\n",
      "  Stored in directory: c:\\users\\82106\\appdata\\local\\pip\\cache\\wheels\\01\\ca\\8b\\b518dd2aef69635ad6fcab87069c9c52f355a2e9c5d4c02da9\n",
      "Successfully built memory_profiler\n",
      "Installing collected packages: memory_profiler\n",
      "Successfully installed memory_profiler-0.60.0\n",
      "Note: you may need to restart the kernel to use updated packages.\n"
     ]
    }
   ],
   "source": [
    "pip install memory_profiler"
   ]
  },
  {
   "cell_type": "code",
   "execution_count": 157,
   "metadata": {},
   "outputs": [],
   "source": [
    "%load_ext memory_profiler\n",
    "import numpy as np"
   ]
  },
  {
   "cell_type": "code",
   "execution_count": 158,
   "metadata": {},
   "outputs": [],
   "source": [
    "a = np.random.randn(100000000)\n",
    "b = np.random.randn(100000000)\n",
    "c = np.random.randn(100000000)"
   ]
  },
  {
   "cell_type": "code",
   "execution_count": 166,
   "metadata": {},
   "outputs": [
    {
     "name": "stdout",
     "output_type": "stream",
     "text": [
      "Wall time: 0 ns\n",
      "peak memory: 4583.76 MiB, increment: 1511.32 MiB\n",
      "[ 0.24734498 -1.06032076 -1.52969085 ...  0.58304067  0.99193808\n",
      "  0.31753797]\n"
     ]
    }
   ],
   "source": [
    "# 셀의 첫 라인에 %%time을 입력하면 셀을 실행시킨 시간을 출력합니다.\n",
    "# 실행할 라인의 맨 앞에 %memit을 입력하면 해당 구문을 실행할 때의 메모리 사용량을 알 수 있습니다.\n",
    "\n",
    "\n",
    "%time\n",
    "%memit G = a * b + c\n",
    "print(G)"
   ]
  },
  {
   "cell_type": "code",
   "execution_count": 164,
   "metadata": {},
   "outputs": [],
   "source": [
    "time?"
   ]
  },
  {
   "cell_type": "code",
   "execution_count": 167,
   "metadata": {},
   "outputs": [
    {
     "name": "stdout",
     "output_type": "stream",
     "text": [
      "peak memory: 4528.61 MiB, increment: 1420.58 MiB\n",
      "[ 0.24734498 -1.06032076 -1.52969085 ...  0.58304067  0.99193808\n",
      "  0.31753797]\n"
     ]
    }
   ],
   "source": [
    "%memit T1 = a * b; G = T1 + c; del T1\n",
    "print(G)"
   ]
  },
  {
   "cell_type": "code",
   "execution_count": 169,
   "metadata": {},
   "outputs": [
    {
     "name": "stdout",
     "output_type": "stream",
     "text": [
      "peak memory: 3856.59 MiB, increment: 748.53 MiB\n",
      "[ 0.24734498 -1.06032076 -1.52969085 ...  0.58304067  0.99193808\n",
      "  0.31753797]\n"
     ]
    }
   ],
   "source": [
    "%memit G = a * b; G += c\n",
    "print(G)"
   ]
  },
  {
   "cell_type": "code",
   "execution_count": 42,
   "metadata": {},
   "outputs": [
    {
     "data": {
      "text/plain": [
       "True"
      ]
     },
     "execution_count": 42,
     "metadata": {},
     "output_type": "execute_result"
    }
   ],
   "source": [
    "np.isinf(np.inf)"
   ]
  },
  {
   "cell_type": "markdown",
   "metadata": {},
   "source": [
    "# 결론 : 넘파이의 범용함수들을 사용하면 연산 시 메모리를 더 효율적으로 사용할 수 있다."
   ]
  },
  {
   "cell_type": "markdown",
   "metadata": {},
   "source": [
    "## 2.8 브로드캐스팅\n",
    " - 브로드캐스팅은 넘파이가 산술 연산 중에 다른 모양의 배열을 처리하는 방법을 설명합니다.\n",
    " - 늘어나는 쪽은 1이고 아닌 쪽 축은 같아야하거나 1이어야 한다."
   ]
  },
  {
   "cell_type": "markdown",
   "metadata": {},
   "source": [
    "## 1) 배열과 스칼라 연산"
   ]
  },
  {
   "cell_type": "code",
   "execution_count": 100,
   "metadata": {},
   "outputs": [],
   "source": [
    "import numpy as np"
   ]
  },
  {
   "cell_type": "code",
   "execution_count": 101,
   "metadata": {},
   "outputs": [],
   "source": [
    "A = np.array([1,2,3])\n",
    "B = np.array([2,2,2])"
   ]
  },
  {
   "cell_type": "code",
   "execution_count": 102,
   "metadata": {},
   "outputs": [
    {
     "data": {
      "text/plain": [
       "array([2, 4, 6])"
      ]
     },
     "execution_count": 102,
     "metadata": {},
     "output_type": "execute_result"
    }
   ],
   "source": [
    "np.multiply(A,B)"
   ]
  },
  {
   "cell_type": "code",
   "execution_count": 103,
   "metadata": {},
   "outputs": [
    {
     "data": {
      "text/plain": [
       "array([2, 4, 6])"
      ]
     },
     "execution_count": 103,
     "metadata": {},
     "output_type": "execute_result"
    }
   ],
   "source": [
    "b = 2\n",
    "\n",
    "np.multiply(A,b)\n",
    "\n",
    "# 배열의 모양이 특정 제약조건을 충족할 때, 두 배열이 두 배열이 같아야 하는 제약조건을 완화시킨다.\n",
    "# 스칼라값이 스트레치 되어 배열과 스칼라값이 연산된다."
   ]
  },
  {
   "cell_type": "markdown",
   "metadata": {},
   "source": [
    "## 2) 브로드캐스팅 규칙\n",
    " - '브로드캐스팅을 하려면 연산의 두배열에 대한 후미축의 크기가 같거나 둘 중 하나가 1이어야 한다.'입니다.\n",
    " - 배열의 후미 축이 같으면 브로드캐스팅 가능 (하나의 배열이 1 x n 배열인데 열의 갯수가 같으면)"
   ]
  },
  {
   "cell_type": "code",
   "execution_count": 19,
   "metadata": {},
   "outputs": [],
   "source": [
    "A = np.array([[0,0,0],[10,10,10],[20,20,20],[30,30,30]])\n",
    "B = np.array([1,2,3])\n",
    "\n",
    "# 4 x 3, 3 x 1"
   ]
  },
  {
   "cell_type": "code",
   "execution_count": 20,
   "metadata": {},
   "outputs": [
    {
     "data": {
      "text/plain": [
       "array([[ 1,  2,  3],\n",
       "       [11, 12, 13],\n",
       "       [21, 22, 23],\n",
       "       [31, 32, 33]])"
      ]
     },
     "execution_count": 20,
     "metadata": {},
     "output_type": "execute_result"
    }
   ],
   "source": [
    "A+B"
   ]
  },
  {
   "cell_type": "code",
   "execution_count": 104,
   "metadata": {},
   "outputs": [],
   "source": [
    "a = np.array([1,2,3,4])\n",
    "b = np.array([4,5,6])"
   ]
  },
  {
   "cell_type": "code",
   "execution_count": 105,
   "metadata": {},
   "outputs": [
    {
     "data": {
      "text/plain": [
       "array([1, 2, 3, 4])"
      ]
     },
     "execution_count": 105,
     "metadata": {},
     "output_type": "execute_result"
    }
   ],
   "source": [
    "a"
   ]
  },
  {
   "cell_type": "code",
   "execution_count": 106,
   "metadata": {},
   "outputs": [
    {
     "data": {
      "text/plain": [
       "array([4, 5, 6])"
      ]
     },
     "execution_count": 106,
     "metadata": {},
     "output_type": "execute_result"
    }
   ],
   "source": [
    "b"
   ]
  },
  {
   "cell_type": "code",
   "execution_count": 110,
   "metadata": {},
   "outputs": [],
   "source": [
    "a.shape = (4,1)"
   ]
  },
  {
   "cell_type": "code",
   "execution_count": 111,
   "metadata": {},
   "outputs": [
    {
     "data": {
      "text/plain": [
       "array([[1],\n",
       "       [2],\n",
       "       [3],\n",
       "       [4]])"
      ]
     },
     "execution_count": 111,
     "metadata": {},
     "output_type": "execute_result"
    }
   ],
   "source": [
    "a"
   ]
  },
  {
   "cell_type": "code",
   "execution_count": 112,
   "metadata": {},
   "outputs": [
    {
     "data": {
      "text/plain": [
       "array([4, 5, 6])"
      ]
     },
     "execution_count": 112,
     "metadata": {},
     "output_type": "execute_result"
    }
   ],
   "source": [
    "b"
   ]
  },
  {
   "cell_type": "code",
   "execution_count": 113,
   "metadata": {},
   "outputs": [
    {
     "data": {
      "text/plain": [
       "array([[ 4,  5,  6],\n",
       "       [ 8, 10, 12],\n",
       "       [12, 15, 18],\n",
       "       [16, 20, 24]])"
      ]
     },
     "execution_count": 113,
     "metadata": {},
     "output_type": "execute_result"
    }
   ],
   "source": [
    "a*b"
   ]
  },
  {
   "cell_type": "code",
   "execution_count": 21,
   "metadata": {},
   "outputs": [
    {
     "data": {
      "text/plain": [
       "array([  0,  60, 120, 180])"
      ]
     },
     "execution_count": 21,
     "metadata": {},
     "output_type": "execute_result"
    }
   ],
   "source": [
    "A@B"
   ]
  },
  {
   "cell_type": "code",
   "execution_count": 22,
   "metadata": {},
   "outputs": [
    {
     "data": {
      "text/plain": [
       "(4, 3)"
      ]
     },
     "execution_count": 22,
     "metadata": {},
     "output_type": "execute_result"
    }
   ],
   "source": [
    "A.shape"
   ]
  },
  {
   "cell_type": "code",
   "execution_count": 23,
   "metadata": {},
   "outputs": [
    {
     "data": {
      "text/plain": [
       "(3,)"
      ]
     },
     "execution_count": 23,
     "metadata": {},
     "output_type": "execute_result"
    }
   ],
   "source": [
    "B.shape"
   ]
  },
  {
   "cell_type": "code",
   "execution_count": 24,
   "metadata": {},
   "outputs": [],
   "source": [
    "a  = np.ones((12,4))\n",
    "b = np.array([1,2,3,4])"
   ]
  },
  {
   "cell_type": "code",
   "execution_count": 25,
   "metadata": {},
   "outputs": [
    {
     "data": {
      "text/plain": [
       "array([[1., 1., 1., 1.],\n",
       "       [1., 1., 1., 1.],\n",
       "       [1., 1., 1., 1.],\n",
       "       [1., 1., 1., 1.],\n",
       "       [1., 1., 1., 1.],\n",
       "       [1., 1., 1., 1.],\n",
       "       [1., 1., 1., 1.],\n",
       "       [1., 1., 1., 1.],\n",
       "       [1., 1., 1., 1.],\n",
       "       [1., 1., 1., 1.],\n",
       "       [1., 1., 1., 1.],\n",
       "       [1., 1., 1., 1.]])"
      ]
     },
     "execution_count": 25,
     "metadata": {},
     "output_type": "execute_result"
    }
   ],
   "source": [
    "a"
   ]
  },
  {
   "cell_type": "code",
   "execution_count": 26,
   "metadata": {},
   "outputs": [
    {
     "data": {
      "text/html": [
       "<div>\n",
       "<style scoped>\n",
       "    .dataframe tbody tr th:only-of-type {\n",
       "        vertical-align: middle;\n",
       "    }\n",
       "\n",
       "    .dataframe tbody tr th {\n",
       "        vertical-align: top;\n",
       "    }\n",
       "\n",
       "    .dataframe thead th {\n",
       "        text-align: right;\n",
       "    }\n",
       "</style>\n",
       "<table border=\"1\" class=\"dataframe\">\n",
       "  <thead>\n",
       "    <tr style=\"text-align: right;\">\n",
       "      <th></th>\n",
       "      <th>1</th>\n",
       "      <th>2</th>\n",
       "      <th>3</th>\n",
       "      <th>4</th>\n",
       "    </tr>\n",
       "  </thead>\n",
       "  <tbody>\n",
       "    <tr>\n",
       "      <th>0</th>\n",
       "      <td>1.0</td>\n",
       "      <td>1.0</td>\n",
       "      <td>1.0</td>\n",
       "      <td>1.0</td>\n",
       "    </tr>\n",
       "    <tr>\n",
       "      <th>1</th>\n",
       "      <td>1.0</td>\n",
       "      <td>1.0</td>\n",
       "      <td>1.0</td>\n",
       "      <td>1.0</td>\n",
       "    </tr>\n",
       "    <tr>\n",
       "      <th>2</th>\n",
       "      <td>1.0</td>\n",
       "      <td>1.0</td>\n",
       "      <td>1.0</td>\n",
       "      <td>1.0</td>\n",
       "    </tr>\n",
       "    <tr>\n",
       "      <th>3</th>\n",
       "      <td>1.0</td>\n",
       "      <td>1.0</td>\n",
       "      <td>1.0</td>\n",
       "      <td>1.0</td>\n",
       "    </tr>\n",
       "    <tr>\n",
       "      <th>4</th>\n",
       "      <td>1.0</td>\n",
       "      <td>1.0</td>\n",
       "      <td>1.0</td>\n",
       "      <td>1.0</td>\n",
       "    </tr>\n",
       "    <tr>\n",
       "      <th>5</th>\n",
       "      <td>1.0</td>\n",
       "      <td>1.0</td>\n",
       "      <td>1.0</td>\n",
       "      <td>1.0</td>\n",
       "    </tr>\n",
       "    <tr>\n",
       "      <th>6</th>\n",
       "      <td>1.0</td>\n",
       "      <td>1.0</td>\n",
       "      <td>1.0</td>\n",
       "      <td>1.0</td>\n",
       "    </tr>\n",
       "    <tr>\n",
       "      <th>7</th>\n",
       "      <td>1.0</td>\n",
       "      <td>1.0</td>\n",
       "      <td>1.0</td>\n",
       "      <td>1.0</td>\n",
       "    </tr>\n",
       "    <tr>\n",
       "      <th>8</th>\n",
       "      <td>1.0</td>\n",
       "      <td>1.0</td>\n",
       "      <td>1.0</td>\n",
       "      <td>1.0</td>\n",
       "    </tr>\n",
       "    <tr>\n",
       "      <th>9</th>\n",
       "      <td>1.0</td>\n",
       "      <td>1.0</td>\n",
       "      <td>1.0</td>\n",
       "      <td>1.0</td>\n",
       "    </tr>\n",
       "    <tr>\n",
       "      <th>10</th>\n",
       "      <td>1.0</td>\n",
       "      <td>1.0</td>\n",
       "      <td>1.0</td>\n",
       "      <td>1.0</td>\n",
       "    </tr>\n",
       "    <tr>\n",
       "      <th>11</th>\n",
       "      <td>1.0</td>\n",
       "      <td>1.0</td>\n",
       "      <td>1.0</td>\n",
       "      <td>1.0</td>\n",
       "    </tr>\n",
       "  </tbody>\n",
       "</table>\n",
       "</div>"
      ],
      "text/plain": [
       "      1    2    3    4\n",
       "0   1.0  1.0  1.0  1.0\n",
       "1   1.0  1.0  1.0  1.0\n",
       "2   1.0  1.0  1.0  1.0\n",
       "3   1.0  1.0  1.0  1.0\n",
       "4   1.0  1.0  1.0  1.0\n",
       "5   1.0  1.0  1.0  1.0\n",
       "6   1.0  1.0  1.0  1.0\n",
       "7   1.0  1.0  1.0  1.0\n",
       "8   1.0  1.0  1.0  1.0\n",
       "9   1.0  1.0  1.0  1.0\n",
       "10  1.0  1.0  1.0  1.0\n",
       "11  1.0  1.0  1.0  1.0"
      ]
     },
     "execution_count": 26,
     "metadata": {},
     "output_type": "execute_result"
    }
   ],
   "source": [
    "import pandas as pd\n",
    "a = pd.DataFrame(a, columns = [1,2,3,4])\n",
    "a"
   ]
  },
  {
   "cell_type": "code",
   "execution_count": 27,
   "metadata": {},
   "outputs": [
    {
     "data": {
      "text/html": [
       "<div>\n",
       "<style scoped>\n",
       "    .dataframe tbody tr th:only-of-type {\n",
       "        vertical-align: middle;\n",
       "    }\n",
       "\n",
       "    .dataframe tbody tr th {\n",
       "        vertical-align: top;\n",
       "    }\n",
       "\n",
       "    .dataframe thead th {\n",
       "        text-align: right;\n",
       "    }\n",
       "</style>\n",
       "<table border=\"1\" class=\"dataframe\">\n",
       "  <thead>\n",
       "    <tr style=\"text-align: right;\">\n",
       "      <th></th>\n",
       "      <th>1</th>\n",
       "      <th>2</th>\n",
       "      <th>3</th>\n",
       "      <th>4</th>\n",
       "    </tr>\n",
       "  </thead>\n",
       "  <tbody>\n",
       "    <tr>\n",
       "      <th>0</th>\n",
       "      <td>2.0</td>\n",
       "      <td>3.0</td>\n",
       "      <td>4.0</td>\n",
       "      <td>5.0</td>\n",
       "    </tr>\n",
       "    <tr>\n",
       "      <th>1</th>\n",
       "      <td>2.0</td>\n",
       "      <td>3.0</td>\n",
       "      <td>4.0</td>\n",
       "      <td>5.0</td>\n",
       "    </tr>\n",
       "    <tr>\n",
       "      <th>2</th>\n",
       "      <td>2.0</td>\n",
       "      <td>3.0</td>\n",
       "      <td>4.0</td>\n",
       "      <td>5.0</td>\n",
       "    </tr>\n",
       "    <tr>\n",
       "      <th>3</th>\n",
       "      <td>2.0</td>\n",
       "      <td>3.0</td>\n",
       "      <td>4.0</td>\n",
       "      <td>5.0</td>\n",
       "    </tr>\n",
       "    <tr>\n",
       "      <th>4</th>\n",
       "      <td>2.0</td>\n",
       "      <td>3.0</td>\n",
       "      <td>4.0</td>\n",
       "      <td>5.0</td>\n",
       "    </tr>\n",
       "    <tr>\n",
       "      <th>5</th>\n",
       "      <td>2.0</td>\n",
       "      <td>3.0</td>\n",
       "      <td>4.0</td>\n",
       "      <td>5.0</td>\n",
       "    </tr>\n",
       "    <tr>\n",
       "      <th>6</th>\n",
       "      <td>2.0</td>\n",
       "      <td>3.0</td>\n",
       "      <td>4.0</td>\n",
       "      <td>5.0</td>\n",
       "    </tr>\n",
       "    <tr>\n",
       "      <th>7</th>\n",
       "      <td>2.0</td>\n",
       "      <td>3.0</td>\n",
       "      <td>4.0</td>\n",
       "      <td>5.0</td>\n",
       "    </tr>\n",
       "    <tr>\n",
       "      <th>8</th>\n",
       "      <td>2.0</td>\n",
       "      <td>3.0</td>\n",
       "      <td>4.0</td>\n",
       "      <td>5.0</td>\n",
       "    </tr>\n",
       "    <tr>\n",
       "      <th>9</th>\n",
       "      <td>2.0</td>\n",
       "      <td>3.0</td>\n",
       "      <td>4.0</td>\n",
       "      <td>5.0</td>\n",
       "    </tr>\n",
       "    <tr>\n",
       "      <th>10</th>\n",
       "      <td>2.0</td>\n",
       "      <td>3.0</td>\n",
       "      <td>4.0</td>\n",
       "      <td>5.0</td>\n",
       "    </tr>\n",
       "    <tr>\n",
       "      <th>11</th>\n",
       "      <td>2.0</td>\n",
       "      <td>3.0</td>\n",
       "      <td>4.0</td>\n",
       "      <td>5.0</td>\n",
       "    </tr>\n",
       "  </tbody>\n",
       "</table>\n",
       "</div>"
      ],
      "text/plain": [
       "      1    2    3    4\n",
       "0   2.0  3.0  4.0  5.0\n",
       "1   2.0  3.0  4.0  5.0\n",
       "2   2.0  3.0  4.0  5.0\n",
       "3   2.0  3.0  4.0  5.0\n",
       "4   2.0  3.0  4.0  5.0\n",
       "5   2.0  3.0  4.0  5.0\n",
       "6   2.0  3.0  4.0  5.0\n",
       "7   2.0  3.0  4.0  5.0\n",
       "8   2.0  3.0  4.0  5.0\n",
       "9   2.0  3.0  4.0  5.0\n",
       "10  2.0  3.0  4.0  5.0\n",
       "11  2.0  3.0  4.0  5.0"
      ]
     },
     "execution_count": 27,
     "metadata": {},
     "output_type": "execute_result"
    }
   ],
   "source": [
    "a + b"
   ]
  },
  {
   "cell_type": "code",
   "execution_count": 114,
   "metadata": {},
   "outputs": [
    {
     "data": {
      "text/plain": [
       "array([[ 1.,  2.,  3.],\n",
       "       [11., 12., 13.],\n",
       "       [21., 22., 23.],\n",
       "       [31., 32., 33.]])"
      ]
     },
     "execution_count": 114,
     "metadata": {},
     "output_type": "execute_result"
    }
   ],
   "source": [
    "A = np.array([0.0,10.0,20.0,30.0])\n",
    "B = np.array([1.0,2.0,3.0])\n",
    "A[:, np.newaxis] + B\n",
    "\n",
    "# A와 B의 행과 열이 한쪽이 1이 아니면 다른 한 쪽이 1이 되는 조건을 만족하면 가능\n",
    "# 더불어 행과 열 한쪽은 서로 반대편이 1이여야한다."
   ]
  },
  {
   "cell_type": "code",
   "execution_count": 118,
   "metadata": {},
   "outputs": [
    {
     "data": {
      "text/plain": [
       "(4, 1, 1)"
      ]
     },
     "execution_count": 118,
     "metadata": {},
     "output_type": "execute_result"
    }
   ],
   "source": [
    "AA = A[:, np.newaxis]\n",
    "AA[:,:,np.newaxis].shape"
   ]
  },
  {
   "cell_type": "code",
   "execution_count": 30,
   "metadata": {},
   "outputs": [
    {
     "ename": "ValueError",
     "evalue": "operands could not be broadcast together with shapes (4,) (3,) ",
     "output_type": "error",
     "traceback": [
      "\u001b[1;31m---------------------------------------------------------------------------\u001b[0m",
      "\u001b[1;31mValueError\u001b[0m                                Traceback (most recent call last)",
      "\u001b[1;32m<ipython-input-30-151064de832d>\u001b[0m in \u001b[0;36m<module>\u001b[1;34m\u001b[0m\n\u001b[1;32m----> 1\u001b[1;33m \u001b[0mA\u001b[0m \u001b[1;33m+\u001b[0m \u001b[0mB\u001b[0m\u001b[1;33m\u001b[0m\u001b[1;33m\u001b[0m\u001b[0m\n\u001b[0m",
      "\u001b[1;31mValueError\u001b[0m: operands could not be broadcast together with shapes (4,) (3,) "
     ]
    }
   ],
   "source": [
    "A + B"
   ]
  },
  {
   "cell_type": "code",
   "execution_count": 32,
   "metadata": {},
   "outputs": [
    {
     "data": {
      "text/plain": [
       "array([ 0., 10., 20., 30.])"
      ]
     },
     "execution_count": 32,
     "metadata": {},
     "output_type": "execute_result"
    }
   ],
   "source": [
    "A"
   ]
  },
  {
   "cell_type": "code",
   "execution_count": 31,
   "metadata": {},
   "outputs": [
    {
     "data": {
      "text/plain": [
       "array([[ 0.],\n",
       "       [10.],\n",
       "       [20.],\n",
       "       [30.]])"
      ]
     },
     "execution_count": 31,
     "metadata": {},
     "output_type": "execute_result"
    }
   ],
   "source": [
    "A[:,np.newaxis] \n",
    "#원래 축이 하나이기 때문에, 인덱싱 슬라이싱을 하면 하나의 값만 입력하는데 \n",
    "#np.newaxis를 행열 인덱싱 슬라이싱 하듯이 언급하여 2차원 배열로 만들어 줬다."
   ]
  },
  {
   "cell_type": "markdown",
   "metadata": {},
   "source": [
    "## 3.1 인덱싱과 슬라이싱"
   ]
  },
  {
   "cell_type": "code",
   "execution_count": 43,
   "metadata": {},
   "outputs": [
    {
     "data": {
      "text/plain": [
       "array([  0,   1,   8,  27,  64, 125, 216, 343, 512, 729], dtype=int32)"
      ]
     },
     "execution_count": 43,
     "metadata": {},
     "output_type": "execute_result"
    }
   ],
   "source": [
    "A = np.arange(10)**3\n",
    "A"
   ]
  },
  {
   "cell_type": "code",
   "execution_count": 44,
   "metadata": {},
   "outputs": [
    {
     "data": {
      "text/plain": [
       "729"
      ]
     },
     "execution_count": 44,
     "metadata": {},
     "output_type": "execute_result"
    }
   ],
   "source": [
    "A[9]"
   ]
  },
  {
   "cell_type": "code",
   "execution_count": 45,
   "metadata": {},
   "outputs": [
    {
     "data": {
      "text/plain": [
       "729"
      ]
     },
     "execution_count": 45,
     "metadata": {},
     "output_type": "execute_result"
    }
   ],
   "source": [
    "A[-1]"
   ]
  },
  {
   "cell_type": "code",
   "execution_count": 46,
   "metadata": {},
   "outputs": [
    {
     "data": {
      "text/plain": [
       "array([ 8, 27, 64], dtype=int32)"
      ]
     },
     "execution_count": 46,
     "metadata": {},
     "output_type": "execute_result"
    }
   ],
   "source": [
    "A[2:5]"
   ]
  },
  {
   "cell_type": "code",
   "execution_count": 47,
   "metadata": {},
   "outputs": [
    {
     "data": {
      "text/plain": [
       "array([  8,  27,  64, 125, 216, 343, 512, 729], dtype=int32)"
      ]
     },
     "execution_count": 47,
     "metadata": {},
     "output_type": "execute_result"
    }
   ],
   "source": [
    "A[2:]"
   ]
  },
  {
   "cell_type": "code",
   "execution_count": 43,
   "metadata": {},
   "outputs": [
    {
     "data": {
      "text/plain": [
       "array([  0,   1,   8,  27,  64, 125, 216, 343, 512], dtype=int32)"
      ]
     },
     "execution_count": 43,
     "metadata": {},
     "output_type": "execute_result"
    }
   ],
   "source": [
    "A[:9]"
   ]
  },
  {
   "cell_type": "code",
   "execution_count": 44,
   "metadata": {},
   "outputs": [
    {
     "data": {
      "text/plain": [
       "array([125, 216, 343], dtype=int32)"
      ]
     },
     "execution_count": 44,
     "metadata": {},
     "output_type": "execute_result"
    }
   ],
   "source": [
    "A[5:-2]"
   ]
  },
  {
   "cell_type": "code",
   "execution_count": 120,
   "metadata": {},
   "outputs": [
    {
     "data": {
      "text/plain": [
       "array([125, 216, 343], dtype=int32)"
      ]
     },
     "execution_count": 120,
     "metadata": {},
     "output_type": "execute_result"
    }
   ],
   "source": [
    "A[5:8]"
   ]
  },
  {
   "cell_type": "code",
   "execution_count": 121,
   "metadata": {},
   "outputs": [
    {
     "data": {
      "text/plain": [
       "array([  0,   1,   8,  27,  64, 125, 216], dtype=int32)"
      ]
     },
     "execution_count": 121,
     "metadata": {},
     "output_type": "execute_result"
    }
   ],
   "source": [
    "A[0:7]"
   ]
  },
  {
   "cell_type": "code",
   "execution_count": 48,
   "metadata": {},
   "outputs": [
    {
     "data": {
      "text/plain": [
       "array([  0,   8,  64, 216], dtype=int32)"
      ]
     },
     "execution_count": 48,
     "metadata": {},
     "output_type": "execute_result"
    }
   ],
   "source": [
    "# np.array[from:to:by]   : by는 간격\n",
    "\n",
    "A[0:7:2]"
   ]
  },
  {
   "cell_type": "code",
   "execution_count": 122,
   "metadata": {},
   "outputs": [
    {
     "data": {
      "text/plain": [
       "array([  0,   1,   8,  27,  64, 125, 216, 343, 512, 729], dtype=int32)"
      ]
     },
     "execution_count": 122,
     "metadata": {},
     "output_type": "execute_result"
    }
   ],
   "source": [
    "A"
   ]
  },
  {
   "cell_type": "code",
   "execution_count": 49,
   "metadata": {},
   "outputs": [
    {
     "data": {
      "text/plain": [
       "array([  0,   8,  64, 216, 512], dtype=int32)"
      ]
     },
     "execution_count": 49,
     "metadata": {},
     "output_type": "execute_result"
    }
   ],
   "source": [
    "A[::2]\n",
    "\n",
    "# from, to를 언급을 안하여도 알아서 처리된다."
   ]
  },
  {
   "cell_type": "code",
   "execution_count": 50,
   "metadata": {},
   "outputs": [
    {
     "data": {
      "text/plain": [
       "array([729, 512, 343, 216, 125,  64,  27,   8,   1,   0], dtype=int32)"
      ]
     },
     "execution_count": 50,
     "metadata": {},
     "output_type": "execute_result"
    }
   ],
   "source": [
    "# 반대로 출력\n",
    "\n",
    "A[::-1]"
   ]
  },
  {
   "cell_type": "code",
   "execution_count": 123,
   "metadata": {},
   "outputs": [
    {
     "data": {
      "text/plain": [
       "array([  0,   1,   8,  27,  64, 125], dtype=int32)"
      ]
     },
     "execution_count": 123,
     "metadata": {},
     "output_type": "execute_result"
    }
   ],
   "source": [
    "A[:6]"
   ]
  },
  {
   "cell_type": "code",
   "execution_count": 50,
   "metadata": {},
   "outputs": [
    {
     "data": {
      "text/plain": [
       "array([-1000,     1, -1000,    27, -1000,   125,   216,   343,   512,\n",
       "         729], dtype=int32)"
      ]
     },
     "execution_count": 50,
     "metadata": {},
     "output_type": "execute_result"
    }
   ],
   "source": [
    "A[:6:2] = -1000 # 처음부터 6인덱스 까지 매 2번째마다 -1000 할당\n",
    "A"
   ]
  },
  {
   "cell_type": "markdown",
   "metadata": {},
   "source": [
    "## 3) 다차원 배열 인덱싱"
   ]
  },
  {
   "cell_type": "code",
   "execution_count": 52,
   "metadata": {},
   "outputs": [],
   "source": [
    "B = np.arange(20).reshape(5,4)"
   ]
  },
  {
   "cell_type": "code",
   "execution_count": 125,
   "metadata": {},
   "outputs": [
    {
     "data": {
      "text/plain": [
       "array([[ 0,  1,  2,  3],\n",
       "       [ 4,  5,  6,  7],\n",
       "       [ 8,  9, 10, 11],\n",
       "       [12, 13, 14, 15],\n",
       "       [16, 17, 18, 19]])"
      ]
     },
     "execution_count": 125,
     "metadata": {},
     "output_type": "execute_result"
    }
   ],
   "source": [
    "B"
   ]
  },
  {
   "cell_type": "code",
   "execution_count": 53,
   "metadata": {},
   "outputs": [
    {
     "data": {
      "text/plain": [
       "11"
      ]
     },
     "execution_count": 53,
     "metadata": {},
     "output_type": "execute_result"
    }
   ],
   "source": [
    "B[2,3]"
   ]
  },
  {
   "cell_type": "code",
   "execution_count": 54,
   "metadata": {},
   "outputs": [
    {
     "data": {
      "text/plain": [
       "11"
      ]
     },
     "execution_count": 54,
     "metadata": {},
     "output_type": "execute_result"
    }
   ],
   "source": [
    "B[-3,-1]"
   ]
  },
  {
   "cell_type": "code",
   "execution_count": 55,
   "metadata": {},
   "outputs": [],
   "source": [
    "C = np.arange(24).reshape(2,3,4)"
   ]
  },
  {
   "cell_type": "code",
   "execution_count": 127,
   "metadata": {},
   "outputs": [
    {
     "data": {
      "text/plain": [
       "array([[[ 0,  1,  2,  3],\n",
       "        [ 4,  5,  6,  7],\n",
       "        [ 8,  9, 10, 11]],\n",
       "\n",
       "       [[12, 13, 14, 15],\n",
       "        [16, 17, 18, 19],\n",
       "        [20, 21, 22, 23]]])"
      ]
     },
     "execution_count": 127,
     "metadata": {},
     "output_type": "execute_result"
    }
   ],
   "source": [
    "C"
   ]
  },
  {
   "cell_type": "code",
   "execution_count": 131,
   "metadata": {},
   "outputs": [
    {
     "data": {
      "text/plain": [
       "6"
      ]
     },
     "execution_count": 131,
     "metadata": {},
     "output_type": "execute_result"
    }
   ],
   "source": [
    "C[0][1][2]"
   ]
  },
  {
   "cell_type": "code",
   "execution_count": 128,
   "metadata": {},
   "outputs": [
    {
     "data": {
      "text/plain": [
       "6"
      ]
     },
     "execution_count": 128,
     "metadata": {},
     "output_type": "execute_result"
    }
   ],
   "source": [
    "C[0,1,2]"
   ]
  },
  {
   "cell_type": "code",
   "execution_count": 58,
   "metadata": {},
   "outputs": [
    {
     "data": {
      "text/plain": [
       "23"
      ]
     },
     "execution_count": 58,
     "metadata": {},
     "output_type": "execute_result"
    }
   ],
   "source": [
    "C[1,2,3]"
   ]
  },
  {
   "cell_type": "markdown",
   "metadata": {},
   "source": [
    "## 4) 다차원 배열 슬라이싱"
   ]
  },
  {
   "cell_type": "code",
   "execution_count": 53,
   "metadata": {},
   "outputs": [
    {
     "data": {
      "text/plain": [
       "array([ 1,  5,  9, 13, 17])"
      ]
     },
     "execution_count": 53,
     "metadata": {},
     "output_type": "execute_result"
    }
   ],
   "source": [
    "B[0:5,1]"
   ]
  },
  {
   "cell_type": "code",
   "execution_count": 60,
   "metadata": {},
   "outputs": [
    {
     "data": {
      "text/plain": [
       "array([ 1,  5,  9, 13, 17])"
      ]
     },
     "execution_count": 60,
     "metadata": {},
     "output_type": "execute_result"
    }
   ],
   "source": [
    "B[:,1]"
   ]
  },
  {
   "cell_type": "code",
   "execution_count": 61,
   "metadata": {},
   "outputs": [
    {
     "data": {
      "text/plain": [
       "array([[ 4,  5,  6,  7],\n",
       "       [ 8,  9, 10, 11]])"
      ]
     },
     "execution_count": 61,
     "metadata": {},
     "output_type": "execute_result"
    }
   ],
   "source": [
    "B[1:3,:]"
   ]
  },
  {
   "cell_type": "code",
   "execution_count": 133,
   "metadata": {},
   "outputs": [
    {
     "ename": "SyntaxError",
     "evalue": "invalid syntax (<ipython-input-133-1cdb260825ae>, line 1)",
     "output_type": "error",
     "traceback": [
      "\u001b[1;36m  File \u001b[1;32m\"<ipython-input-133-1cdb260825ae>\"\u001b[1;36m, line \u001b[1;32m1\u001b[0m\n\u001b[1;33m    B[,:]\u001b[0m\n\u001b[1;37m      ^\u001b[0m\n\u001b[1;31mSyntaxError\u001b[0m\u001b[1;31m:\u001b[0m invalid syntax\n"
     ]
    }
   ],
   "source": [
    "B[,:] \n",
    "\n",
    "# 2차원 배열인 경우 열 인덱스는 생략할 수 있지만 행 인덱스는 생략할 수 없다."
   ]
  },
  {
   "cell_type": "code",
   "execution_count": 63,
   "metadata": {},
   "outputs": [
    {
     "data": {
      "text/plain": [
       "array([[ 0,  1,  2,  3],\n",
       "       [ 4,  5,  6,  7],\n",
       "       [ 8,  9, 10, 11],\n",
       "       [12, 13, 14, 15],\n",
       "       [16, 17, 18, 19]])"
      ]
     },
     "execution_count": 63,
     "metadata": {},
     "output_type": "execute_result"
    }
   ],
   "source": [
    "B[:,]"
   ]
  },
  {
   "cell_type": "markdown",
   "metadata": {},
   "source": [
    "## 5) 축 인덱스의 생략\n",
    "- 축의 수보다 더 적은 수의 인덱스가 언급되면 누락된 인덱스는 모든 요소를 선택하는 것으로 간주됩니다."
   ]
  },
  {
   "cell_type": "code",
   "execution_count": 66,
   "metadata": {
    "scrolled": true
   },
   "outputs": [
    {
     "data": {
      "text/plain": [
       "array([[ 0,  1,  2,  3],\n",
       "       [ 4,  5,  6,  7],\n",
       "       [ 8,  9, 10, 11],\n",
       "       [12, 13, 14, 15],\n",
       "       [16, 17, 18, 19]])"
      ]
     },
     "execution_count": 66,
     "metadata": {},
     "output_type": "execute_result"
    }
   ],
   "source": [
    "B"
   ]
  },
  {
   "cell_type": "code",
   "execution_count": 67,
   "metadata": {},
   "outputs": [
    {
     "data": {
      "text/plain": [
       "array([[[ 0,  1,  2,  3],\n",
       "        [ 4,  5,  6,  7],\n",
       "        [ 8,  9, 10, 11]],\n",
       "\n",
       "       [[12, 13, 14, 15],\n",
       "        [16, 17, 18, 19],\n",
       "        [20, 21, 22, 23]]])"
      ]
     },
     "execution_count": 67,
     "metadata": {},
     "output_type": "execute_result"
    }
   ],
   "source": [
    "C"
   ]
  },
  {
   "cell_type": "code",
   "execution_count": 64,
   "metadata": {},
   "outputs": [
    {
     "data": {
      "text/plain": [
       "array([16, 17, 18, 19])"
      ]
     },
     "execution_count": 64,
     "metadata": {},
     "output_type": "execute_result"
    }
   ],
   "source": [
    "B[-1]"
   ]
  },
  {
   "cell_type": "code",
   "execution_count": 134,
   "metadata": {},
   "outputs": [
    {
     "data": {
      "text/plain": [
       "array([[ 0,  1,  2,  3],\n",
       "       [ 4,  5,  6,  7],\n",
       "       [ 8,  9, 10, 11]])"
      ]
     },
     "execution_count": 134,
     "metadata": {},
     "output_type": "execute_result"
    }
   ],
   "source": [
    "C[0]"
   ]
  },
  {
   "cell_type": "code",
   "execution_count": 70,
   "metadata": {},
   "outputs": [
    {
     "data": {
      "text/plain": [
       "array([0, 1, 2, 3])"
      ]
     },
     "execution_count": 70,
     "metadata": {},
     "output_type": "execute_result"
    }
   ],
   "source": [
    "C[0,0]\n",
    "\n",
    "# 앞에 것을 생략하고 뒤에 걸 언급하는 것은 불가능"
   ]
  },
  {
   "cell_type": "code",
   "execution_count": 135,
   "metadata": {},
   "outputs": [
    {
     "data": {
      "text/plain": [
       "array([[[ 0,  1,  2,  3],\n",
       "        [ 4,  5,  6,  7],\n",
       "        [ 8,  9, 10, 11]],\n",
       "\n",
       "       [[12, 13, 14, 15],\n",
       "        [16, 17, 18, 19],\n",
       "        [20, 21, 22, 23]]])"
      ]
     },
     "execution_count": 135,
     "metadata": {},
     "output_type": "execute_result"
    }
   ],
   "source": [
    "C[:,:]"
   ]
  },
  {
   "cell_type": "code",
   "execution_count": 71,
   "metadata": {},
   "outputs": [
    {
     "data": {
      "text/plain": [
       "array([[ 0,  4,  8],\n",
       "       [12, 16, 20]])"
      ]
     },
     "execution_count": 71,
     "metadata": {},
     "output_type": "execute_result"
    }
   ],
   "source": [
    "# 만일 선행 축의 모든 요소를 선택하고 후행 축의 인덱스만 지정해야 한다면 \n",
    "# 다음처럼 선행축의 인덱스에는 FROM:TO가 생략된 :를 입력해야한다\n",
    "\n",
    "C[:,:,0]"
   ]
  },
  {
   "cell_type": "code",
   "execution_count": 72,
   "metadata": {},
   "outputs": [
    {
     "data": {
      "text/plain": [
       "array([[ 0,  4,  8],\n",
       "       [12, 16, 20]])"
      ]
     },
     "execution_count": 72,
     "metadata": {},
     "output_type": "execute_result"
    }
   ],
   "source": [
    "C[...,0]"
   ]
  },
  {
   "cell_type": "code",
   "execution_count": 73,
   "metadata": {},
   "outputs": [
    {
     "data": {
      "text/plain": [
       "array([[-1000],\n",
       "       [    1],\n",
       "       [-1000],\n",
       "       [   27],\n",
       "       [-1000],\n",
       "       [  125],\n",
       "       [  216],\n",
       "       [  343],\n",
       "       [  512],\n",
       "       [  729]], dtype=int32)"
      ]
     },
     "execution_count": 73,
     "metadata": {},
     "output_type": "execute_result"
    }
   ],
   "source": [
    "# 축 인덱스 생략을 위한 ... 표기법은 다차원 배열에 새로운 축을 추가할 때 유용하게 사용됩니다. \n",
    "# 만약 배열 A에 마지막 축을 추가해야 한다면 다음처럼 할 수 있다.\n",
    "\n",
    "A[..., np.newaxis]"
   ]
  },
  {
   "cell_type": "markdown",
   "metadata": {},
   "source": [
    "## 6) 다차원 배열 반복문\n",
    " - 다차원 배열을 반복문으로 처리하면 첫번째 축을 기준으로 수행됩니다. 앞에서 수행했던 2차원 배열을 반복문으로 수행하면 \n",
    " - 5행 차례대로 나열"
   ]
  },
  {
   "cell_type": "code",
   "execution_count": 138,
   "metadata": {},
   "outputs": [
    {
     "name": "stdout",
     "output_type": "stream",
     "text": [
      "1\n",
      "2\n",
      "3\n",
      "4\n",
      "5\n"
     ]
    }
   ],
   "source": [
    "b = [1,2,3,4,5]\n",
    "\n",
    "for row in b :\n",
    "    print(row)"
   ]
  },
  {
   "cell_type": "code",
   "execution_count": 137,
   "metadata": {},
   "outputs": [
    {
     "data": {
      "text/plain": [
       "array([[0, 1, 2, 3],\n",
       "       [4, 5, 6, 7]])"
      ]
     },
     "execution_count": 137,
     "metadata": {},
     "output_type": "execute_result"
    }
   ],
   "source": [
    "np.array([[0,1,2,3],[4,5,6,7]])"
   ]
  },
  {
   "cell_type": "code",
   "execution_count": 136,
   "metadata": {
    "scrolled": true
   },
   "outputs": [
    {
     "data": {
      "text/plain": [
       "array([[ 0,  1,  2,  3],\n",
       "       [ 4,  5,  6,  7],\n",
       "       [ 8,  9, 10, 11],\n",
       "       [12, 13, 14, 15],\n",
       "       [16, 17, 18, 19]])"
      ]
     },
     "execution_count": 136,
     "metadata": {},
     "output_type": "execute_result"
    }
   ],
   "source": [
    "B"
   ]
  },
  {
   "cell_type": "code",
   "execution_count": 77,
   "metadata": {
    "scrolled": true
   },
   "outputs": [
    {
     "name": "stdout",
     "output_type": "stream",
     "text": [
      "[0 1 2 3]\n",
      "[4 5 6 7]\n",
      "[ 8  9 10 11]\n",
      "[12 13 14 15]\n",
      "[16 17 18 19]\n"
     ]
    }
   ],
   "source": [
    "for row in B :\n",
    "    print(row)"
   ]
  },
  {
   "cell_type": "code",
   "execution_count": 56,
   "metadata": {},
   "outputs": [
    {
     "data": {
      "text/plain": [
       "array([[[ 0,  1,  2,  3],\n",
       "        [ 4,  5,  6,  7],\n",
       "        [ 8,  9, 10, 11]],\n",
       "\n",
       "       [[12, 13, 14, 15],\n",
       "        [16, 17, 18, 19],\n",
       "        [20, 21, 22, 23]]])"
      ]
     },
     "execution_count": 56,
     "metadata": {},
     "output_type": "execute_result"
    }
   ],
   "source": [
    "C"
   ]
  },
  {
   "cell_type": "code",
   "execution_count": 57,
   "metadata": {},
   "outputs": [
    {
     "name": "stdout",
     "output_type": "stream",
     "text": [
      "[0,0,0]-0, [0,0,1]-1, [0,0,2]-2, [0,0,3]-3, [0,1,0]-4, [0,1,1]-5, [0,1,2]-6, [0,1,3]-7, [0,2,0]-8, [0,2,1]-9, [0,2,2]-10, [0,2,3]-11, [1,0,0]-12, [1,0,1]-13, [1,0,2]-14, [1,0,3]-15, [1,1,0]-16, [1,1,1]-17, [1,1,2]-18, [1,1,3]-19, [1,2,0]-20, [1,2,1]-21, [1,2,2]-22, [1,2,3]-23, "
     ]
    }
   ],
   "source": [
    "for i, data in enumerate(C)  :\n",
    "    for j, row in enumerate(data) :\n",
    "        for k, cell in enumerate(row) : \n",
    "            print(\"[{},{},{}]-{}\".format(i,j,k,cell), end = ', ')"
   ]
  },
  {
   "cell_type": "code",
   "execution_count": 142,
   "metadata": {},
   "outputs": [
    {
     "data": {
      "text/plain": [
       "11"
      ]
     },
     "execution_count": 142,
     "metadata": {},
     "output_type": "execute_result"
    }
   ],
   "source": [
    "C[0,2,3]"
   ]
  },
  {
   "cell_type": "code",
   "execution_count": 86,
   "metadata": {},
   "outputs": [
    {
     "name": "stdout",
     "output_type": "stream",
     "text": [
      "[0,0,0]-0\n",
      "[0,0,1]-1\n",
      "[0,0,2]-2\n",
      "[0,0,3]-3\n",
      "[0,1,0]-4\n",
      "[0,1,1]-5\n",
      "[0,1,2]-6\n",
      "[0,1,3]-7\n",
      "[0,2,0]-8\n",
      "[0,2,1]-9\n",
      "[0,2,2]-10\n",
      "[0,2,3]-11\n",
      "[1,0,0]-12\n",
      "[1,0,1]-13\n",
      "[1,0,2]-14\n",
      "[1,0,3]-15\n",
      "[1,1,0]-16\n",
      "[1,1,1]-17\n",
      "[1,1,2]-18\n",
      "[1,1,3]-19\n",
      "[1,2,0]-20\n",
      "[1,2,1]-21\n",
      "[1,2,2]-22\n",
      "[1,2,3]-23\n"
     ]
    }
   ],
   "source": [
    "for i, data in enumerate(C)  :\n",
    "    for j, row in enumerate(data) :\n",
    "        for k, cell in enumerate(row) : \n",
    "            print(\"[{},{},{}]-{}\".format(i,j,k,cell))"
   ]
  },
  {
   "cell_type": "markdown",
   "metadata": {},
   "source": [
    "## 3.2 두 배열을 쌓아 합치기\n",
    "### 1) vstack(), hstack(), dstack()\n",
    " - vstack은 배열을 아래에 추가하는 방식(row wise)\n",
    " - hstack은 배열을 옆에 추가하는 방식(columns wise)\n",
    " - dstack은 3번째 축(depth)을 쌓아 합칩니다."
   ]
  },
  {
   "cell_type": "code",
   "execution_count": 58,
   "metadata": {},
   "outputs": [],
   "source": [
    "A = np.arange(12).reshape(3,4)\n",
    "B = np.arange(12,24).reshape(3,4)"
   ]
  },
  {
   "cell_type": "code",
   "execution_count": 90,
   "metadata": {},
   "outputs": [
    {
     "data": {
      "text/plain": [
       "array([[ 0,  1,  2,  3],\n",
       "       [ 4,  5,  6,  7],\n",
       "       [ 8,  9, 10, 11]])"
      ]
     },
     "execution_count": 90,
     "metadata": {},
     "output_type": "execute_result"
    }
   ],
   "source": [
    "A"
   ]
  },
  {
   "cell_type": "code",
   "execution_count": 91,
   "metadata": {},
   "outputs": [
    {
     "data": {
      "text/plain": [
       "array([[12, 13, 14, 15],\n",
       "       [16, 17, 18, 19],\n",
       "       [20, 21, 22, 23]])"
      ]
     },
     "execution_count": 91,
     "metadata": {},
     "output_type": "execute_result"
    }
   ],
   "source": [
    "B"
   ]
  },
  {
   "cell_type": "code",
   "execution_count": 93,
   "metadata": {},
   "outputs": [
    {
     "data": {
      "text/plain": [
       "array([[ 0,  1,  2,  3],\n",
       "       [ 4,  5,  6,  7],\n",
       "       [ 8,  9, 10, 11],\n",
       "       [12, 13, 14, 15],\n",
       "       [16, 17, 18, 19],\n",
       "       [20, 21, 22, 23]])"
      ]
     },
     "execution_count": 93,
     "metadata": {},
     "output_type": "execute_result"
    }
   ],
   "source": [
    "np.vstack((A,B))"
   ]
  },
  {
   "cell_type": "code",
   "execution_count": 95,
   "metadata": {},
   "outputs": [
    {
     "data": {
      "text/plain": [
       "array([[ 0,  1,  2,  3, 12, 13, 14, 15],\n",
       "       [ 4,  5,  6,  7, 16, 17, 18, 19],\n",
       "       [ 8,  9, 10, 11, 20, 21, 22, 23]])"
      ]
     },
     "execution_count": 95,
     "metadata": {},
     "output_type": "execute_result"
    }
   ],
   "source": [
    "np.hstack((A,B))"
   ]
  },
  {
   "cell_type": "code",
   "execution_count": 96,
   "metadata": {},
   "outputs": [
    {
     "data": {
      "text/plain": [
       "array([[[ 0, 12],\n",
       "        [ 1, 13],\n",
       "        [ 2, 14],\n",
       "        [ 3, 15]],\n",
       "\n",
       "       [[ 4, 16],\n",
       "        [ 5, 17],\n",
       "        [ 6, 18],\n",
       "        [ 7, 19]],\n",
       "\n",
       "       [[ 8, 20],\n",
       "        [ 9, 21],\n",
       "        [10, 22],\n",
       "        [11, 23]]])"
      ]
     },
     "execution_count": 96,
     "metadata": {},
     "output_type": "execute_result"
    }
   ],
   "source": [
    "# dstack은 깊이 별로 배열을 쌓아 새로운 배열을 만듭니다. 이 경우 배열 두개를 이용하면 3차원 배열 하나가 만들어집니다.\n",
    "\n",
    "np.dstack((A,B))"
   ]
  },
  {
   "cell_type": "markdown",
   "metadata": {},
   "source": [
    "###  2) column_stack()\n",
    " - columns_stack() 함수는 1차원 배열을 열로 쌓아서 단일 2차원 배열을 만듭니다. 2차원 배열은 hstack과 마찬가지로 그대로 쌓입니다.\n",
    " - 배열들은 모두 같은 모양이어야 합니다."
   ]
  },
  {
   "cell_type": "code",
   "execution_count": 59,
   "metadata": {},
   "outputs": [],
   "source": [
    "A = np.arange(12).reshape(3,4)\n",
    "B = np.arange(12,24).reshape(3,4)\n",
    "\n"
   ]
  },
  {
   "cell_type": "code",
   "execution_count": 144,
   "metadata": {},
   "outputs": [
    {
     "data": {
      "text/plain": [
       "array([[ 0,  1,  2,  3],\n",
       "       [ 4,  5,  6,  7],\n",
       "       [ 8,  9, 10, 11]])"
      ]
     },
     "execution_count": 144,
     "metadata": {},
     "output_type": "execute_result"
    }
   ],
   "source": [
    "A"
   ]
  },
  {
   "cell_type": "code",
   "execution_count": 145,
   "metadata": {},
   "outputs": [
    {
     "data": {
      "text/plain": [
       "array([[12, 13, 14, 15],\n",
       "       [16, 17, 18, 19],\n",
       "       [20, 21, 22, 23]])"
      ]
     },
     "execution_count": 145,
     "metadata": {},
     "output_type": "execute_result"
    }
   ],
   "source": [
    "B"
   ]
  },
  {
   "cell_type": "code",
   "execution_count": 146,
   "metadata": {},
   "outputs": [
    {
     "data": {
      "text/plain": [
       "array([[ 0,  1,  2,  3, 12, 13, 14, 15],\n",
       "       [ 4,  5,  6,  7, 16, 17, 18, 19],\n",
       "       [ 8,  9, 10, 11, 20, 21, 22, 23]])"
      ]
     },
     "execution_count": 146,
     "metadata": {},
     "output_type": "execute_result"
    }
   ],
   "source": [
    "np.column_stack((A,B))"
   ]
  },
  {
   "cell_type": "code",
   "execution_count": 147,
   "metadata": {},
   "outputs": [],
   "source": [
    "A = np.array((1,2,3,4))\n",
    "B = np.array((5,6,7,8))\n",
    "C = np.array((9,19,11,12))"
   ]
  },
  {
   "cell_type": "code",
   "execution_count": 148,
   "metadata": {
    "scrolled": true
   },
   "outputs": [
    {
     "data": {
      "text/plain": [
       "array([[ 1,  5,  9],\n",
       "       [ 2,  6, 19],\n",
       "       [ 3,  7, 11],\n",
       "       [ 4,  8, 12]])"
      ]
     },
     "execution_count": 148,
     "metadata": {},
     "output_type": "execute_result"
    }
   ],
   "source": [
    "np.column_stack((A,B,C))"
   ]
  },
  {
   "cell_type": "code",
   "execution_count": 149,
   "metadata": {},
   "outputs": [
    {
     "data": {
      "text/plain": [
       "array([1, 2, 3, 4, 5, 6, 7, 8])"
      ]
     },
     "execution_count": 149,
     "metadata": {},
     "output_type": "execute_result"
    }
   ],
   "source": [
    "np.hstack((A,B))"
   ]
  },
  {
   "cell_type": "code",
   "execution_count": 151,
   "metadata": {},
   "outputs": [
    {
     "data": {
      "text/plain": [
       "array([[1, 5],\n",
       "       [2, 6],\n",
       "       [3, 7],\n",
       "       [4, 8]])"
      ]
     },
     "execution_count": 151,
     "metadata": {},
     "output_type": "execute_result"
    }
   ],
   "source": [
    "np.column_stack((A,B))"
   ]
  },
  {
   "cell_type": "markdown",
   "metadata": {},
   "source": [
    " - column_stack 함수가 hstack과 같게 동작하는 것 같지만 그렇지 않다.\n",
    " - column_stack 함수는 1차원 배열들을 입력받아 2차원 배열을 만듭니다. 그러나 hstack은 1차원 배열을 입력받으면 그 결과는 1차원입니다."
   ]
  },
  {
   "cell_type": "code",
   "execution_count": 107,
   "metadata": {},
   "outputs": [
    {
     "data": {
      "text/plain": [
       "array([1, 2, 3, 4, 5, 6, 7, 8])"
      ]
     },
     "execution_count": 107,
     "metadata": {},
     "output_type": "execute_result"
    }
   ],
   "source": [
    "np.hstack((np.array([1,2,3,4]),np.array([5,6,7,8])))"
   ]
  },
  {
   "cell_type": "code",
   "execution_count": 108,
   "metadata": {},
   "outputs": [
    {
     "data": {
      "text/plain": [
       "array([[1, 5],\n",
       "       [2, 6],\n",
       "       [3, 7],\n",
       "       [4, 8]])"
      ]
     },
     "execution_count": 108,
     "metadata": {},
     "output_type": "execute_result"
    }
   ],
   "source": [
    "np.column_stack((np.array([1,2,3,4]),np.array([5,6,7,8])))"
   ]
  },
  {
   "cell_type": "markdown",
   "metadata": {},
   "source": [
    "### 3) newaxis 속성"
   ]
  },
  {
   "cell_type": "code",
   "execution_count": 3,
   "metadata": {},
   "outputs": [],
   "source": [
    "A = np.array((1,2,3,4))\n",
    "B = np.array((5,6,7,8))"
   ]
  },
  {
   "cell_type": "code",
   "execution_count": 4,
   "metadata": {},
   "outputs": [
    {
     "data": {
      "text/plain": [
       "array([[1],\n",
       "       [2],\n",
       "       [3],\n",
       "       [4]])"
      ]
     },
     "execution_count": 4,
     "metadata": {},
     "output_type": "execute_result"
    }
   ],
   "source": [
    "A[:,np.newaxis]"
   ]
  },
  {
   "cell_type": "code",
   "execution_count": 5,
   "metadata": {},
   "outputs": [
    {
     "data": {
      "text/plain": [
       "array([[1, 5],\n",
       "       [2, 6],\n",
       "       [3, 7],\n",
       "       [4, 8]])"
      ]
     },
     "execution_count": 5,
     "metadata": {},
     "output_type": "execute_result"
    }
   ],
   "source": [
    "np.column_stack((A,B))"
   ]
  },
  {
   "cell_type": "code",
   "execution_count": 6,
   "metadata": {},
   "outputs": [
    {
     "data": {
      "text/plain": [
       "array([[1, 5],\n",
       "       [2, 6],\n",
       "       [3, 7],\n",
       "       [4, 8]])"
      ]
     },
     "execution_count": 6,
     "metadata": {},
     "output_type": "execute_result"
    }
   ],
   "source": [
    "np.hstack((A[:,np.newaxis], B[:,np.newaxis]))"
   ]
  },
  {
   "cell_type": "code",
   "execution_count": 8,
   "metadata": {},
   "outputs": [
    {
     "data": {
      "text/plain": [
       "array([[1, 2, 3, 4],\n",
       "       [5, 6, 7, 8]])"
      ]
     },
     "execution_count": 8,
     "metadata": {},
     "output_type": "execute_result"
    }
   ],
   "source": [
    "np.row_stack((A,B))"
   ]
  },
  {
   "cell_type": "markdown",
   "metadata": {},
   "source": [
    "### 5) stack()|"
   ]
  },
  {
   "cell_type": "code",
   "execution_count": 60,
   "metadata": {},
   "outputs": [],
   "source": [
    "A = np.arange(12).reshape(3,4)\n",
    "B = np.arange(12,24).reshape(3,4)"
   ]
  },
  {
   "cell_type": "code",
   "execution_count": 61,
   "metadata": {},
   "outputs": [
    {
     "data": {
      "text/plain": [
       "array([[ 0,  1,  2,  3],\n",
       "       [ 4,  5,  6,  7],\n",
       "       [ 8,  9, 10, 11]])"
      ]
     },
     "execution_count": 61,
     "metadata": {},
     "output_type": "execute_result"
    }
   ],
   "source": [
    "A"
   ]
  },
  {
   "cell_type": "code",
   "execution_count": 62,
   "metadata": {},
   "outputs": [
    {
     "data": {
      "text/plain": [
       "array([[12, 13, 14, 15],\n",
       "       [16, 17, 18, 19],\n",
       "       [20, 21, 22, 23]])"
      ]
     },
     "execution_count": 62,
     "metadata": {},
     "output_type": "execute_result"
    }
   ],
   "source": [
    "B"
   ]
  },
  {
   "cell_type": "code",
   "execution_count": 63,
   "metadata": {},
   "outputs": [
    {
     "data": {
      "text/plain": [
       "array([[[ 0,  1,  2,  3],\n",
       "        [ 4,  5,  6,  7],\n",
       "        [ 8,  9, 10, 11]],\n",
       "\n",
       "       [[12, 13, 14, 15],\n",
       "        [16, 17, 18, 19],\n",
       "        [20, 21, 22, 23]]])"
      ]
     },
     "execution_count": 63,
     "metadata": {},
     "output_type": "execute_result"
    }
   ],
   "source": [
    "np.stack((A,B),axis = 0)"
   ]
  },
  {
   "cell_type": "code",
   "execution_count": 64,
   "metadata": {},
   "outputs": [
    {
     "data": {
      "text/plain": [
       "array([[[ 0,  1,  2,  3],\n",
       "        [12, 13, 14, 15]],\n",
       "\n",
       "       [[ 4,  5,  6,  7],\n",
       "        [16, 17, 18, 19]],\n",
       "\n",
       "       [[ 8,  9, 10, 11],\n",
       "        [20, 21, 22, 23]]])"
      ]
     },
     "execution_count": 64,
     "metadata": {},
     "output_type": "execute_result"
    }
   ],
   "source": [
    "np.stack((A,B), axis = 1)"
   ]
  },
  {
   "cell_type": "code",
   "execution_count": 65,
   "metadata": {},
   "outputs": [
    {
     "data": {
      "text/plain": [
       "array([[[ 0, 12],\n",
       "        [ 1, 13],\n",
       "        [ 2, 14],\n",
       "        [ 3, 15]],\n",
       "\n",
       "       [[ 4, 16],\n",
       "        [ 5, 17],\n",
       "        [ 6, 18],\n",
       "        [ 7, 19]],\n",
       "\n",
       "       [[ 8, 20],\n",
       "        [ 9, 21],\n",
       "        [10, 22],\n",
       "        [11, 23]]])"
      ]
     },
     "execution_count": 65,
     "metadata": {},
     "output_type": "execute_result"
    }
   ],
   "source": [
    "np.stack((A,B), axis = 2)"
   ]
  },
  {
   "cell_type": "markdown",
   "metadata": {},
   "source": [
    "## 3.3 r_, c_\n",
    " - 이 객체들은 한개의 축을 따라 데이터를 나열해서 배열을 만들 때 유용합니다."
   ]
  },
  {
   "cell_type": "code",
   "execution_count": 71,
   "metadata": {},
   "outputs": [],
   "source": [
    "special = np.arange(1,10)\n",
    "special2 = np.arange(11,20)"
   ]
  },
  {
   "cell_type": "code",
   "execution_count": 78,
   "metadata": {
    "scrolled": true
   },
   "outputs": [
    {
     "data": {
      "text/plain": [
       "array([[ 1, 11],\n",
       "       [ 2, 12],\n",
       "       [ 3, 13],\n",
       "       [ 4, 14],\n",
       "       [ 5, 15],\n",
       "       [ 6, 16],\n",
       "       [ 7, 17],\n",
       "       [ 8, 18],\n",
       "       [ 9, 19]])"
      ]
     },
     "execution_count": 78,
     "metadata": {},
     "output_type": "execute_result"
    }
   ],
   "source": [
    "np.hstack((special[:,np.newaxis],special2[:,np.newaxis]))"
   ]
  },
  {
   "cell_type": "code",
   "execution_count": 66,
   "metadata": {},
   "outputs": [],
   "source": [
    "A = np.array((1,2,3,4))\n",
    "B = np.array((5,6,7,8))\n",
    "C = np.array((9,10,11,12))"
   ]
  },
  {
   "cell_type": "code",
   "execution_count": 67,
   "metadata": {},
   "outputs": [
    {
     "data": {
      "text/plain": [
       "array([1, 2, 3, 4])"
      ]
     },
     "execution_count": 67,
     "metadata": {},
     "output_type": "execute_result"
    }
   ],
   "source": [
    "A"
   ]
  },
  {
   "cell_type": "code",
   "execution_count": 14,
   "metadata": {},
   "outputs": [
    {
     "data": {
      "text/plain": [
       "array([ 1,  2,  3,  4,  5,  6,  7,  8,  9, 10, 11, 12])"
      ]
     },
     "execution_count": 14,
     "metadata": {},
     "output_type": "execute_result"
    }
   ],
   "source": [
    "# 데이터를 행 단위로 합쳐준다\n",
    "\n",
    "np.r_[A,B,C]"
   ]
  },
  {
   "cell_type": "code",
   "execution_count": 15,
   "metadata": {},
   "outputs": [
    {
     "data": {
      "text/plain": [
       "array([[ 1,  2,  3,  4],\n",
       "       [ 5,  6,  7,  8],\n",
       "       [ 9, 10, 11, 12]])"
      ]
     },
     "execution_count": 15,
     "metadata": {},
     "output_type": "execute_result"
    }
   ],
   "source": [
    "# 차원을 추가하고 싶다면 기존 데이터를 []로 묶어주면 됩니다.\n",
    "\n",
    "np.r_[[A],[B],[C]]"
   ]
  },
  {
   "cell_type": "code",
   "execution_count": 16,
   "metadata": {},
   "outputs": [
    {
     "data": {
      "text/plain": [
       "array([[ 1,  5,  9],\n",
       "       [ 2,  6, 10],\n",
       "       [ 3,  7, 11],\n",
       "       [ 4,  8, 12]])"
      ]
     },
     "execution_count": 16,
     "metadata": {},
     "output_type": "execute_result"
    }
   ],
   "source": [
    "np.c_[A,B,C]"
   ]
  },
  {
   "cell_type": "code",
   "execution_count": 158,
   "metadata": {},
   "outputs": [
    {
     "data": {
      "text/plain": [
       "array([[ 1,  5,  9],\n",
       "       [ 2,  6, 10],\n",
       "       [ 3,  7, 11],\n",
       "       [ 4,  8, 12]])"
      ]
     },
     "execution_count": 158,
     "metadata": {},
     "output_type": "execute_result"
    }
   ],
   "source": [
    "np.hstack((A[:,np.newaxis],B[:,np.newaxis],C[:,np.newaxis]))"
   ]
  },
  {
   "cell_type": "markdown",
   "metadata": {},
   "source": [
    "## 3.4 하나의 배열을 여러 개의 작은 배열로 나누기"
   ]
  },
  {
   "cell_type": "markdown",
   "metadata": {},
   "source": [
    "### 1) vsplit(), hsplit(), dsplit()"
   ]
  },
  {
   "cell_type": "code",
   "execution_count": 81,
   "metadata": {},
   "outputs": [
    {
     "data": {
      "text/plain": [
       "array([[ 0,  1,  2,  3],\n",
       "       [ 4,  5,  6,  7],\n",
       "       [ 8,  9, 10, 11]])"
      ]
     },
     "execution_count": 81,
     "metadata": {},
     "output_type": "execute_result"
    }
   ],
   "source": [
    "a = np.arange(12).reshape(3,4)\n",
    "a"
   ]
  },
  {
   "cell_type": "code",
   "execution_count": 82,
   "metadata": {},
   "outputs": [
    {
     "data": {
      "text/plain": [
       "[array([[0, 1, 2, 3]]), array([[4, 5, 6, 7]]), array([[ 8,  9, 10, 11]])]"
      ]
     },
     "execution_count": 82,
     "metadata": {},
     "output_type": "execute_result"
    }
   ],
   "source": [
    "A_vsplit = np.vsplit(a,3)\n",
    "A_vsplit"
   ]
  },
  {
   "cell_type": "code",
   "execution_count": 23,
   "metadata": {},
   "outputs": [
    {
     "data": {
      "text/plain": [
       "array([[0, 1, 2, 3]])"
      ]
     },
     "execution_count": 23,
     "metadata": {},
     "output_type": "execute_result"
    }
   ],
   "source": [
    "A_vsplit[0]"
   ]
  },
  {
   "cell_type": "code",
   "execution_count": 24,
   "metadata": {},
   "outputs": [
    {
     "data": {
      "text/plain": [
       "array([[4, 5, 6, 7]])"
      ]
     },
     "execution_count": 24,
     "metadata": {},
     "output_type": "execute_result"
    }
   ],
   "source": [
    "A_vsplit[1]"
   ]
  },
  {
   "cell_type": "code",
   "execution_count": 25,
   "metadata": {},
   "outputs": [
    {
     "data": {
      "text/plain": [
       "array([[ 8,  9, 10, 11]])"
      ]
     },
     "execution_count": 25,
     "metadata": {},
     "output_type": "execute_result"
    }
   ],
   "source": [
    "A_vsplit[2]"
   ]
  },
  {
   "cell_type": "code",
   "execution_count": 27,
   "metadata": {},
   "outputs": [
    {
     "data": {
      "text/plain": [
       "10"
      ]
     },
     "execution_count": 27,
     "metadata": {},
     "output_type": "execute_result"
    }
   ],
   "source": [
    "A_vsplit[2][0][2]"
   ]
  },
  {
   "cell_type": "code",
   "execution_count": 83,
   "metadata": {},
   "outputs": [
    {
     "data": {
      "text/plain": [
       "[array([[0],\n",
       "        [4],\n",
       "        [8]]),\n",
       " array([[1],\n",
       "        [5],\n",
       "        [9]]),\n",
       " array([[ 2],\n",
       "        [ 6],\n",
       "        [10]]),\n",
       " array([[ 3],\n",
       "        [ 7],\n",
       "        [11]])]"
      ]
     },
     "execution_count": 83,
     "metadata": {},
     "output_type": "execute_result"
    }
   ],
   "source": [
    "np.hsplit(a,4)\n",
    "\n",
    "# 뒤에 vstack이면 행 갯수 언급, hstack 이면 열 개수 언급"
   ]
  },
  {
   "cell_type": "code",
   "execution_count": 84,
   "metadata": {},
   "outputs": [
    {
     "data": {
      "text/plain": [
       "[array([[0],\n",
       "        [4],\n",
       "        [8]]),\n",
       " array([[1],\n",
       "        [5],\n",
       "        [9]]),\n",
       " array([[ 2],\n",
       "        [ 6],\n",
       "        [10]]),\n",
       " array([[ 3],\n",
       "        [ 7],\n",
       "        [11]])]"
      ]
     },
     "execution_count": 84,
     "metadata": {},
     "output_type": "execute_result"
    }
   ],
   "source": [
    "A_hsplit = np.hsplit(a,4)\n",
    "A_hsplit"
   ]
  },
  {
   "cell_type": "code",
   "execution_count": 86,
   "metadata": {},
   "outputs": [
    {
     "data": {
      "text/html": [
       "<div>\n",
       "<style scoped>\n",
       "    .dataframe tbody tr th:only-of-type {\n",
       "        vertical-align: middle;\n",
       "    }\n",
       "\n",
       "    .dataframe tbody tr th {\n",
       "        vertical-align: top;\n",
       "    }\n",
       "\n",
       "    .dataframe thead th {\n",
       "        text-align: right;\n",
       "    }\n",
       "</style>\n",
       "<table border=\"1\" class=\"dataframe\">\n",
       "  <thead>\n",
       "    <tr style=\"text-align: right;\">\n",
       "      <th></th>\n",
       "      <th>eunho</th>\n",
       "      <th>juseok</th>\n",
       "      <th>seongpyung</th>\n",
       "      <th>sangyeon</th>\n",
       "    </tr>\n",
       "  </thead>\n",
       "  <tbody>\n",
       "    <tr>\n",
       "      <th>0</th>\n",
       "      <td>0</td>\n",
       "      <td>1</td>\n",
       "      <td>2</td>\n",
       "      <td>3</td>\n",
       "    </tr>\n",
       "    <tr>\n",
       "      <th>1</th>\n",
       "      <td>4</td>\n",
       "      <td>5</td>\n",
       "      <td>6</td>\n",
       "      <td>7</td>\n",
       "    </tr>\n",
       "    <tr>\n",
       "      <th>2</th>\n",
       "      <td>8</td>\n",
       "      <td>9</td>\n",
       "      <td>10</td>\n",
       "      <td>11</td>\n",
       "    </tr>\n",
       "  </tbody>\n",
       "</table>\n",
       "</div>"
      ],
      "text/plain": [
       "   eunho  juseok  seongpyung  sangyeon\n",
       "0      0       1           2         3\n",
       "1      4       5           6         7\n",
       "2      8       9          10        11"
      ]
     },
     "execution_count": 86,
     "metadata": {},
     "output_type": "execute_result"
    }
   ],
   "source": [
    "df_a = pd.DataFrame(a, columns = [\"eunho\",\"juseok\",\"seongpyung\",\"sangyeon\"])\n",
    "df_a"
   ]
  },
  {
   "cell_type": "code",
   "execution_count": 87,
   "metadata": {},
   "outputs": [
    {
     "data": {
      "text/plain": [
       "[   eunho\n",
       " 0      0\n",
       " 1      4\n",
       " 2      8,\n",
       "    juseok\n",
       " 0       1\n",
       " 1       5\n",
       " 2       9,\n",
       "    seongpyung\n",
       " 0           2\n",
       " 1           6\n",
       " 2          10,\n",
       "    sangyeon\n",
       " 0         3\n",
       " 1         7\n",
       " 2        11]"
      ]
     },
     "execution_count": 87,
     "metadata": {},
     "output_type": "execute_result"
    }
   ],
   "source": [
    "np.hsplit(df_a,4)"
   ]
  },
  {
   "cell_type": "markdown",
   "metadata": {},
   "source": [
    "### 2) hsplit()과 axis = 1\n",
    "- hsplit() 함수는 split() 함수의 axis 매개변수가 1일 때와 같습니다. 이것은 배열의 차원에 상관없이 항상 두번째 축을 이용해 나눕니다. 그래서 3차원 배열을 hsplit으로 이용해 나누면 "
   ]
  },
  {
   "cell_type": "code",
   "execution_count": 88,
   "metadata": {},
   "outputs": [
    {
     "data": {
      "text/plain": [
       "array([[[ 0,  1,  2,  3],\n",
       "        [ 4,  5,  6,  7],\n",
       "        [ 8,  9, 10, 11]],\n",
       "\n",
       "       [[12, 13, 14, 15],\n",
       "        [16, 17, 18, 19],\n",
       "        [20, 21, 22, 23]]])"
      ]
     },
     "execution_count": 88,
     "metadata": {},
     "output_type": "execute_result"
    }
   ],
   "source": [
    "C = np.arange(24).reshape(2,3,4)\n",
    "C"
   ]
  },
  {
   "cell_type": "code",
   "execution_count": 48,
   "metadata": {},
   "outputs": [],
   "source": [
    "C_hsplit = np.hsplit(C,3)"
   ]
  },
  {
   "cell_type": "code",
   "execution_count": 49,
   "metadata": {},
   "outputs": [
    {
     "data": {
      "text/plain": [
       "[array([[[ 0,  1,  2,  3]],\n",
       " \n",
       "        [[12, 13, 14, 15]]]),\n",
       " array([[[ 4,  5,  6,  7]],\n",
       " \n",
       "        [[16, 17, 18, 19]]]),\n",
       " array([[[ 8,  9, 10, 11]],\n",
       " \n",
       "        [[20, 21, 22, 23]]])]"
      ]
     },
     "execution_count": 49,
     "metadata": {},
     "output_type": "execute_result"
    }
   ],
   "source": [
    "C_hsplit"
   ]
  },
  {
   "cell_type": "code",
   "execution_count": 89,
   "metadata": {},
   "outputs": [],
   "source": [
    "C = np.arange(24).reshape(2,3,4)"
   ]
  },
  {
   "cell_type": "code",
   "execution_count": 51,
   "metadata": {},
   "outputs": [
    {
     "data": {
      "text/plain": [
       "[array([[[ 0,  1],\n",
       "         [ 4,  5],\n",
       "         [ 8,  9]],\n",
       " \n",
       "        [[12, 13],\n",
       "         [16, 17],\n",
       "         [20, 21]]]),\n",
       " array([[[ 2,  3],\n",
       "         [ 6,  7],\n",
       "         [10, 11]],\n",
       " \n",
       "        [[14, 15],\n",
       "         [18, 19],\n",
       "         [22, 23]]])]"
      ]
     },
     "execution_count": 51,
     "metadata": {},
     "output_type": "execute_result"
    }
   ],
   "source": [
    "np.dsplit(C,2)"
   ]
  },
  {
   "cell_type": "markdown",
   "metadata": {},
   "source": [
    "## 3) 인덱스 목록으로 나누기"
   ]
  },
  {
   "cell_type": "code",
   "execution_count": 90,
   "metadata": {},
   "outputs": [
    {
     "data": {
      "text/plain": [
       "array([[ 0,  1,  2,  3,  4,  5,  6,  7],\n",
       "       [ 8,  9, 10, 11, 12, 13, 14, 15],\n",
       "       [16, 17, 18, 19, 20, 21, 22, 23]])"
      ]
     },
     "execution_count": 90,
     "metadata": {},
     "output_type": "execute_result"
    }
   ],
   "source": [
    "A = np.arange(24).reshape(3,8)\n",
    "A"
   ]
  },
  {
   "cell_type": "code",
   "execution_count": 91,
   "metadata": {},
   "outputs": [
    {
     "data": {
      "text/plain": [
       "array([[ 0,  1,  2,  3,  4,  5,  6,  7,  8,  9, 10, 11],\n",
       "       [12, 13, 14, 15, 16, 17, 18, 19, 20, 21, 22, 23],\n",
       "       [24, 25, 26, 27, 28, 29, 30, 31, 32, 33, 34, 35],\n",
       "       [36, 37, 38, 39, 40, 41, 42, 43, 44, 45, 46, 47],\n",
       "       [48, 49, 50, 51, 52, 53, 54, 55, 56, 57, 58, 59],\n",
       "       [60, 61, 62, 63, 64, 65, 66, 67, 68, 69, 70, 71]])"
      ]
     },
     "execution_count": 91,
     "metadata": {},
     "output_type": "execute_result"
    }
   ],
   "source": [
    "a = np.arange(72).reshape(6,12)\n",
    "a"
   ]
  },
  {
   "cell_type": "code",
   "execution_count": 92,
   "metadata": {},
   "outputs": [],
   "source": [
    "import pandas as pd\n",
    "a = pd.DataFrame(a, columns = [\"a\",\"b\",\"c\",\"d\",\"e\",\"f\",\"g\",\"h\",\"i\",\"j\",\"k\",\"l\"])"
   ]
  },
  {
   "cell_type": "code",
   "execution_count": 165,
   "metadata": {},
   "outputs": [
    {
     "data": {
      "text/html": [
       "<div>\n",
       "<style scoped>\n",
       "    .dataframe tbody tr th:only-of-type {\n",
       "        vertical-align: middle;\n",
       "    }\n",
       "\n",
       "    .dataframe tbody tr th {\n",
       "        vertical-align: top;\n",
       "    }\n",
       "\n",
       "    .dataframe thead th {\n",
       "        text-align: right;\n",
       "    }\n",
       "</style>\n",
       "<table border=\"1\" class=\"dataframe\">\n",
       "  <thead>\n",
       "    <tr style=\"text-align: right;\">\n",
       "      <th></th>\n",
       "      <th>a</th>\n",
       "      <th>b</th>\n",
       "      <th>c</th>\n",
       "      <th>d</th>\n",
       "      <th>e</th>\n",
       "      <th>f</th>\n",
       "      <th>g</th>\n",
       "      <th>h</th>\n",
       "      <th>i</th>\n",
       "      <th>j</th>\n",
       "      <th>k</th>\n",
       "      <th>l</th>\n",
       "    </tr>\n",
       "  </thead>\n",
       "  <tbody>\n",
       "    <tr>\n",
       "      <th>0</th>\n",
       "      <td>0</td>\n",
       "      <td>1</td>\n",
       "      <td>2</td>\n",
       "      <td>3</td>\n",
       "      <td>4</td>\n",
       "      <td>5</td>\n",
       "      <td>6</td>\n",
       "      <td>7</td>\n",
       "      <td>8</td>\n",
       "      <td>9</td>\n",
       "      <td>10</td>\n",
       "      <td>11</td>\n",
       "    </tr>\n",
       "    <tr>\n",
       "      <th>1</th>\n",
       "      <td>12</td>\n",
       "      <td>13</td>\n",
       "      <td>14</td>\n",
       "      <td>15</td>\n",
       "      <td>16</td>\n",
       "      <td>17</td>\n",
       "      <td>18</td>\n",
       "      <td>19</td>\n",
       "      <td>20</td>\n",
       "      <td>21</td>\n",
       "      <td>22</td>\n",
       "      <td>23</td>\n",
       "    </tr>\n",
       "    <tr>\n",
       "      <th>2</th>\n",
       "      <td>24</td>\n",
       "      <td>25</td>\n",
       "      <td>26</td>\n",
       "      <td>27</td>\n",
       "      <td>28</td>\n",
       "      <td>29</td>\n",
       "      <td>30</td>\n",
       "      <td>31</td>\n",
       "      <td>32</td>\n",
       "      <td>33</td>\n",
       "      <td>34</td>\n",
       "      <td>35</td>\n",
       "    </tr>\n",
       "    <tr>\n",
       "      <th>3</th>\n",
       "      <td>36</td>\n",
       "      <td>37</td>\n",
       "      <td>38</td>\n",
       "      <td>39</td>\n",
       "      <td>40</td>\n",
       "      <td>41</td>\n",
       "      <td>42</td>\n",
       "      <td>43</td>\n",
       "      <td>44</td>\n",
       "      <td>45</td>\n",
       "      <td>46</td>\n",
       "      <td>47</td>\n",
       "    </tr>\n",
       "    <tr>\n",
       "      <th>4</th>\n",
       "      <td>48</td>\n",
       "      <td>49</td>\n",
       "      <td>50</td>\n",
       "      <td>51</td>\n",
       "      <td>52</td>\n",
       "      <td>53</td>\n",
       "      <td>54</td>\n",
       "      <td>55</td>\n",
       "      <td>56</td>\n",
       "      <td>57</td>\n",
       "      <td>58</td>\n",
       "      <td>59</td>\n",
       "    </tr>\n",
       "    <tr>\n",
       "      <th>5</th>\n",
       "      <td>60</td>\n",
       "      <td>61</td>\n",
       "      <td>62</td>\n",
       "      <td>63</td>\n",
       "      <td>64</td>\n",
       "      <td>65</td>\n",
       "      <td>66</td>\n",
       "      <td>67</td>\n",
       "      <td>68</td>\n",
       "      <td>69</td>\n",
       "      <td>70</td>\n",
       "      <td>71</td>\n",
       "    </tr>\n",
       "  </tbody>\n",
       "</table>\n",
       "</div>"
      ],
      "text/plain": [
       "    a   b   c   d   e   f   g   h   i   j   k   l\n",
       "0   0   1   2   3   4   5   6   7   8   9  10  11\n",
       "1  12  13  14  15  16  17  18  19  20  21  22  23\n",
       "2  24  25  26  27  28  29  30  31  32  33  34  35\n",
       "3  36  37  38  39  40  41  42  43  44  45  46  47\n",
       "4  48  49  50  51  52  53  54  55  56  57  58  59\n",
       "5  60  61  62  63  64  65  66  67  68  69  70  71"
      ]
     },
     "execution_count": 165,
     "metadata": {},
     "output_type": "execute_result"
    }
   ],
   "source": [
    "a"
   ]
  },
  {
   "cell_type": "code",
   "execution_count": 95,
   "metadata": {
    "scrolled": true
   },
   "outputs": [
    {
     "data": {
      "text/html": [
       "<div>\n",
       "<style scoped>\n",
       "    .dataframe tbody tr th:only-of-type {\n",
       "        vertical-align: middle;\n",
       "    }\n",
       "\n",
       "    .dataframe tbody tr th {\n",
       "        vertical-align: top;\n",
       "    }\n",
       "\n",
       "    .dataframe thead th {\n",
       "        text-align: right;\n",
       "    }\n",
       "</style>\n",
       "<table border=\"1\" class=\"dataframe\">\n",
       "  <thead>\n",
       "    <tr style=\"text-align: right;\">\n",
       "      <th></th>\n",
       "      <th>a</th>\n",
       "      <th>b</th>\n",
       "    </tr>\n",
       "  </thead>\n",
       "  <tbody>\n",
       "    <tr>\n",
       "      <th>0</th>\n",
       "      <td>0</td>\n",
       "      <td>1</td>\n",
       "    </tr>\n",
       "    <tr>\n",
       "      <th>1</th>\n",
       "      <td>12</td>\n",
       "      <td>13</td>\n",
       "    </tr>\n",
       "    <tr>\n",
       "      <th>2</th>\n",
       "      <td>24</td>\n",
       "      <td>25</td>\n",
       "    </tr>\n",
       "    <tr>\n",
       "      <th>3</th>\n",
       "      <td>36</td>\n",
       "      <td>37</td>\n",
       "    </tr>\n",
       "    <tr>\n",
       "      <th>4</th>\n",
       "      <td>48</td>\n",
       "      <td>49</td>\n",
       "    </tr>\n",
       "    <tr>\n",
       "      <th>5</th>\n",
       "      <td>60</td>\n",
       "      <td>61</td>\n",
       "    </tr>\n",
       "  </tbody>\n",
       "</table>\n",
       "</div>"
      ],
      "text/plain": [
       "    a   b\n",
       "0   0   1\n",
       "1  12  13\n",
       "2  24  25\n",
       "3  36  37\n",
       "4  48  49\n",
       "5  60  61"
      ]
     },
     "execution_count": 95,
     "metadata": {},
     "output_type": "execute_result"
    }
   ],
   "source": [
    "np.hsplit(a,(2,5,7))[0]"
   ]
  },
  {
   "cell_type": "code",
   "execution_count": 96,
   "metadata": {},
   "outputs": [
    {
     "data": {
      "text/html": [
       "<div>\n",
       "<style scoped>\n",
       "    .dataframe tbody tr th:only-of-type {\n",
       "        vertical-align: middle;\n",
       "    }\n",
       "\n",
       "    .dataframe tbody tr th {\n",
       "        vertical-align: top;\n",
       "    }\n",
       "\n",
       "    .dataframe thead th {\n",
       "        text-align: right;\n",
       "    }\n",
       "</style>\n",
       "<table border=\"1\" class=\"dataframe\">\n",
       "  <thead>\n",
       "    <tr style=\"text-align: right;\">\n",
       "      <th></th>\n",
       "      <th>c</th>\n",
       "      <th>d</th>\n",
       "      <th>e</th>\n",
       "    </tr>\n",
       "  </thead>\n",
       "  <tbody>\n",
       "    <tr>\n",
       "      <th>0</th>\n",
       "      <td>2</td>\n",
       "      <td>3</td>\n",
       "      <td>4</td>\n",
       "    </tr>\n",
       "    <tr>\n",
       "      <th>1</th>\n",
       "      <td>14</td>\n",
       "      <td>15</td>\n",
       "      <td>16</td>\n",
       "    </tr>\n",
       "    <tr>\n",
       "      <th>2</th>\n",
       "      <td>26</td>\n",
       "      <td>27</td>\n",
       "      <td>28</td>\n",
       "    </tr>\n",
       "    <tr>\n",
       "      <th>3</th>\n",
       "      <td>38</td>\n",
       "      <td>39</td>\n",
       "      <td>40</td>\n",
       "    </tr>\n",
       "    <tr>\n",
       "      <th>4</th>\n",
       "      <td>50</td>\n",
       "      <td>51</td>\n",
       "      <td>52</td>\n",
       "    </tr>\n",
       "    <tr>\n",
       "      <th>5</th>\n",
       "      <td>62</td>\n",
       "      <td>63</td>\n",
       "      <td>64</td>\n",
       "    </tr>\n",
       "  </tbody>\n",
       "</table>\n",
       "</div>"
      ],
      "text/plain": [
       "    c   d   e\n",
       "0   2   3   4\n",
       "1  14  15  16\n",
       "2  26  27  28\n",
       "3  38  39  40\n",
       "4  50  51  52\n",
       "5  62  63  64"
      ]
     },
     "execution_count": 96,
     "metadata": {},
     "output_type": "execute_result"
    }
   ],
   "source": [
    "np.hsplit(a,(2,5,7))[1]"
   ]
  },
  {
   "cell_type": "code",
   "execution_count": 171,
   "metadata": {},
   "outputs": [
    {
     "name": "stdout",
     "output_type": "stream",
     "text": [
      "    a   b\n",
      "0   0   1\n",
      "1  12  13\n",
      "2  24  25\n",
      "3  36  37\n",
      "4  48  49\n",
      "5  60  61\n",
      "    c   d   e\n",
      "0   2   3   4\n",
      "1  14  15  16\n",
      "2  26  27  28\n",
      "3  38  39  40\n",
      "4  50  51  52\n",
      "5  62  63  64\n",
      "    f   g\n",
      "0   5   6\n",
      "1  17  18\n",
      "2  29  30\n",
      "3  41  42\n",
      "4  53  54\n",
      "5  65  66\n",
      "    h   i   j   k   l\n",
      "0   7   8   9  10  11\n",
      "1  19  20  21  22  23\n",
      "2  31  32  33  34  35\n",
      "3  43  44  45  46  47\n",
      "4  55  56  57  58  59\n",
      "5  67  68  69  70  71\n"
     ]
    }
   ],
   "source": [
    "for i in np.hsplit(a,(2,5,7)):\n",
    "     pd.DataFrame(i)"
   ]
  },
  {
   "cell_type": "code",
   "execution_count": 53,
   "metadata": {},
   "outputs": [],
   "source": [
    "A_hsplit = np.hsplit(A,(2,5,6))\n",
    "\n",
    "# 인덱스 2,5,6을 기준으로 데이터가 분리됩니다."
   ]
  },
  {
   "cell_type": "code",
   "execution_count": 54,
   "metadata": {},
   "outputs": [
    {
     "data": {
      "text/plain": [
       "[array([[ 0,  1],\n",
       "        [ 8,  9],\n",
       "        [16, 17]]),\n",
       " array([[ 2,  3,  4],\n",
       "        [10, 11, 12],\n",
       "        [18, 19, 20]]),\n",
       " array([[ 5],\n",
       "        [13],\n",
       "        [21]]),\n",
       " array([[ 6,  7],\n",
       "        [14, 15],\n",
       "        [22, 23]])]"
      ]
     },
     "execution_count": 54,
     "metadata": {},
     "output_type": "execute_result"
    }
   ],
   "source": [
    "A_hsplit"
   ]
  },
  {
   "cell_type": "markdown",
   "metadata": {},
   "source": [
    "## 4) split()\n",
    "\n",
    " - np.split(array, indices_or_sections, axis = 0)\n",
    " - 두번째 파라미터에 정수를 입력하면 나눠질 수이고, 배열을 입력하면 그 배열을 인덱스로 기준삼아 나눈다."
   ]
  },
  {
   "cell_type": "code",
   "execution_count": 97,
   "metadata": {},
   "outputs": [
    {
     "data": {
      "text/plain": [
       "array([[ 0,  1,  2,  3,  4,  5,  6,  7],\n",
       "       [ 8,  9, 10, 11, 12, 13, 14, 15],\n",
       "       [16, 17, 18, 19, 20, 21, 22, 23]])"
      ]
     },
     "execution_count": 97,
     "metadata": {},
     "output_type": "execute_result"
    }
   ],
   "source": [
    "B = np.arange(24).reshape(3,8)\n",
    "B"
   ]
  },
  {
   "cell_type": "code",
   "execution_count": 98,
   "metadata": {},
   "outputs": [
    {
     "data": {
      "text/plain": [
       "[array([[0, 1, 2, 3, 4, 5, 6, 7]]),\n",
       " array([[ 8,  9, 10, 11, 12, 13, 14, 15]]),\n",
       " array([[16, 17, 18, 19, 20, 21, 22, 23]])]"
      ]
     },
     "execution_count": 98,
     "metadata": {},
     "output_type": "execute_result"
    }
   ],
   "source": [
    "np.split(B,3,axis = 0)"
   ]
  },
  {
   "cell_type": "code",
   "execution_count": 99,
   "metadata": {},
   "outputs": [
    {
     "data": {
      "text/plain": [
       "[array([[ 0],\n",
       "        [ 8],\n",
       "        [16]]),\n",
       " array([[ 1],\n",
       "        [ 9],\n",
       "        [17]]),\n",
       " array([[ 2],\n",
       "        [10],\n",
       "        [18]]),\n",
       " array([[ 3],\n",
       "        [11],\n",
       "        [19]]),\n",
       " array([[ 4],\n",
       "        [12],\n",
       "        [20]]),\n",
       " array([[ 5],\n",
       "        [13],\n",
       "        [21]]),\n",
       " array([[ 6],\n",
       "        [14],\n",
       "        [22]]),\n",
       " array([[ 7],\n",
       "        [15],\n",
       "        [23]])]"
      ]
     },
     "execution_count": 99,
     "metadata": {},
     "output_type": "execute_result"
    }
   ],
   "source": [
    "np.split(B,8,axis = 1)"
   ]
  },
  {
   "cell_type": "markdown",
   "metadata": {},
   "source": [
    "## 5) array_split()\n",
    "\n",
    "- array_split과 split의 유일한 차이점은 두번째 파라미터에서 딱 떨어지는 수를 입력하지 않아도 내재된 규칙에 따라 알아서 배분하여 나뉘어준다"
   ]
  },
  {
   "cell_type": "code",
   "execution_count": 172,
   "metadata": {},
   "outputs": [
    {
     "data": {
      "text/plain": [
       "array([[ 0,  1,  2,  3,  4,  5,  6,  7,  8,  9],\n",
       "       [10, 11, 12, 13, 14, 15, 16, 17, 18, 19]])"
      ]
     },
     "execution_count": 172,
     "metadata": {},
     "output_type": "execute_result"
    }
   ],
   "source": [
    "A = np.arange(20).reshape(2,10)\n",
    "A"
   ]
  },
  {
   "cell_type": "code",
   "execution_count": 61,
   "metadata": {},
   "outputs": [
    {
     "ename": "ValueError",
     "evalue": "array split does not result in an equal division",
     "output_type": "error",
     "traceback": [
      "\u001b[1;31m---------------------------------------------------------------------------\u001b[0m",
      "\u001b[1;31mTypeError\u001b[0m                                 Traceback (most recent call last)",
      "\u001b[1;32m~\\anaconda3\\lib\\site-packages\\numpy\\lib\\shape_base.py\u001b[0m in \u001b[0;36msplit\u001b[1;34m(ary, indices_or_sections, axis)\u001b[0m\n\u001b[0;32m    864\u001b[0m     \u001b[1;32mtry\u001b[0m\u001b[1;33m:\u001b[0m\u001b[1;33m\u001b[0m\u001b[1;33m\u001b[0m\u001b[0m\n\u001b[1;32m--> 865\u001b[1;33m         \u001b[0mlen\u001b[0m\u001b[1;33m(\u001b[0m\u001b[0mindices_or_sections\u001b[0m\u001b[1;33m)\u001b[0m\u001b[1;33m\u001b[0m\u001b[1;33m\u001b[0m\u001b[0m\n\u001b[0m\u001b[0;32m    866\u001b[0m     \u001b[1;32mexcept\u001b[0m \u001b[0mTypeError\u001b[0m\u001b[1;33m:\u001b[0m\u001b[1;33m\u001b[0m\u001b[1;33m\u001b[0m\u001b[0m\n",
      "\u001b[1;31mTypeError\u001b[0m: object of type 'int' has no len()",
      "\nDuring handling of the above exception, another exception occurred:\n",
      "\u001b[1;31mValueError\u001b[0m                                Traceback (most recent call last)",
      "\u001b[1;32m<ipython-input-61-fdbdae1f2676>\u001b[0m in \u001b[0;36m<module>\u001b[1;34m\u001b[0m\n\u001b[1;32m----> 1\u001b[1;33m \u001b[0mnp\u001b[0m\u001b[1;33m.\u001b[0m\u001b[0msplit\u001b[0m\u001b[1;33m(\u001b[0m\u001b[0mA\u001b[0m\u001b[1;33m,\u001b[0m\u001b[1;36m3\u001b[0m\u001b[1;33m,\u001b[0m \u001b[0maxis\u001b[0m \u001b[1;33m=\u001b[0m \u001b[1;36m1\u001b[0m\u001b[1;33m)\u001b[0m\u001b[1;33m\u001b[0m\u001b[1;33m\u001b[0m\u001b[0m\n\u001b[0m",
      "\u001b[1;32m<__array_function__ internals>\u001b[0m in \u001b[0;36msplit\u001b[1;34m(*args, **kwargs)\u001b[0m\n",
      "\u001b[1;32m~\\anaconda3\\lib\\site-packages\\numpy\\lib\\shape_base.py\u001b[0m in \u001b[0;36msplit\u001b[1;34m(ary, indices_or_sections, axis)\u001b[0m\n\u001b[0;32m    868\u001b[0m         \u001b[0mN\u001b[0m \u001b[1;33m=\u001b[0m \u001b[0mary\u001b[0m\u001b[1;33m.\u001b[0m\u001b[0mshape\u001b[0m\u001b[1;33m[\u001b[0m\u001b[0maxis\u001b[0m\u001b[1;33m]\u001b[0m\u001b[1;33m\u001b[0m\u001b[1;33m\u001b[0m\u001b[0m\n\u001b[0;32m    869\u001b[0m         \u001b[1;32mif\u001b[0m \u001b[0mN\u001b[0m \u001b[1;33m%\u001b[0m \u001b[0msections\u001b[0m\u001b[1;33m:\u001b[0m\u001b[1;33m\u001b[0m\u001b[1;33m\u001b[0m\u001b[0m\n\u001b[1;32m--> 870\u001b[1;33m             raise ValueError(\n\u001b[0m\u001b[0;32m    871\u001b[0m                 'array split does not result in an equal division')\n\u001b[0;32m    872\u001b[0m     \u001b[1;32mreturn\u001b[0m \u001b[0marray_split\u001b[0m\u001b[1;33m(\u001b[0m\u001b[0mary\u001b[0m\u001b[1;33m,\u001b[0m \u001b[0mindices_or_sections\u001b[0m\u001b[1;33m,\u001b[0m \u001b[0maxis\u001b[0m\u001b[1;33m)\u001b[0m\u001b[1;33m\u001b[0m\u001b[1;33m\u001b[0m\u001b[0m\n",
      "\u001b[1;31mValueError\u001b[0m: array split does not result in an equal division"
     ]
    }
   ],
   "source": [
    "np.split(A,3, axis = 1)"
   ]
  },
  {
   "cell_type": "code",
   "execution_count": 174,
   "metadata": {},
   "outputs": [
    {
     "data": {
      "text/plain": [
       "array([[ 0,  1,  2,  3,  4,  5,  6,  7,  8,  9],\n",
       "       [10, 11, 12, 13, 14, 15, 16, 17, 18, 19]])"
      ]
     },
     "execution_count": 174,
     "metadata": {},
     "output_type": "execute_result"
    }
   ],
   "source": [
    "A"
   ]
  },
  {
   "cell_type": "code",
   "execution_count": 173,
   "metadata": {},
   "outputs": [
    {
     "data": {
      "text/plain": [
       "[array([[ 0,  1,  2,  3],\n",
       "        [10, 11, 12, 13]]),\n",
       " array([[ 4,  5,  6],\n",
       "        [14, 15, 16]]),\n",
       " array([[ 7,  8,  9],\n",
       "        [17, 18, 19]])]"
      ]
     },
     "execution_count": 173,
     "metadata": {},
     "output_type": "execute_result"
    }
   ],
   "source": [
    "np.array_split(A,3, axis = 1)"
   ]
  },
  {
   "cell_type": "code",
   "execution_count": 63,
   "metadata": {},
   "outputs": [
    {
     "data": {
      "text/plain": [
       "[array([[ 0,  1,  2],\n",
       "        [10, 11, 12]]),\n",
       " array([[ 3,  4,  5],\n",
       "        [13, 14, 15]]),\n",
       " array([[ 6,  7],\n",
       "        [16, 17]]),\n",
       " array([[ 8,  9],\n",
       "        [18, 19]])]"
      ]
     },
     "execution_count": 63,
     "metadata": {},
     "output_type": "execute_result"
    }
   ],
   "source": [
    "np.array_split(A,4,axis= 1)"
   ]
  },
  {
   "cell_type": "markdown",
   "metadata": {},
   "source": [
    "# 4절. 복사와 뷰\n",
    "## 4.1 모두 복사 안 함"
   ]
  },
  {
   "cell_type": "code",
   "execution_count": 8,
   "metadata": {},
   "outputs": [],
   "source": [
    "import numpy as np"
   ]
  },
  {
   "cell_type": "code",
   "execution_count": 9,
   "metadata": {},
   "outputs": [
    {
     "data": {
      "text/plain": [
       "True"
      ]
     },
     "execution_count": 9,
     "metadata": {},
     "output_type": "execute_result"
    }
   ],
   "source": [
    "A = np.arange(12)\n",
    "B = A\n",
    "B is A"
   ]
  },
  {
   "cell_type": "code",
   "execution_count": 10,
   "metadata": {},
   "outputs": [
    {
     "data": {
      "text/plain": [
       "(3, 4)"
      ]
     },
     "execution_count": 10,
     "metadata": {},
     "output_type": "execute_result"
    }
   ],
   "source": [
    "B.shape = 3,4\n",
    "A.shape\n",
    "\n",
    "# A의 차원도 변경"
   ]
  },
  {
   "cell_type": "code",
   "execution_count": 11,
   "metadata": {
    "scrolled": true
   },
   "outputs": [
    {
     "data": {
      "text/plain": [
       "False"
      ]
     },
     "execution_count": 11,
     "metadata": {},
     "output_type": "execute_result"
    }
   ],
   "source": [
    "B = np.array(A, copy = True)\n",
    "B is A"
   ]
  },
  {
   "cell_type": "code",
   "execution_count": 12,
   "metadata": {},
   "outputs": [
    {
     "data": {
      "text/plain": [
       "True"
      ]
     },
     "execution_count": 12,
     "metadata": {},
     "output_type": "execute_result"
    }
   ],
   "source": [
    "A = np.arange(12)\n",
    "B = A\n",
    "B is A"
   ]
  },
  {
   "cell_type": "code",
   "execution_count": 13,
   "metadata": {},
   "outputs": [
    {
     "data": {
      "text/plain": [
       "(3, 4)"
      ]
     },
     "execution_count": 13,
     "metadata": {},
     "output_type": "execute_result"
    }
   ],
   "source": [
    "B.shape = 3,4\n",
    "A.shape"
   ]
  },
  {
   "cell_type": "code",
   "execution_count": 14,
   "metadata": {},
   "outputs": [
    {
     "data": {
      "text/plain": [
       "array([[ 0,  1,  2,  3],\n",
       "       [ 4,  5,  6,  7],\n",
       "       [ 8,  9, 10, 11]])"
      ]
     },
     "execution_count": 14,
     "metadata": {},
     "output_type": "execute_result"
    }
   ],
   "source": [
    "B"
   ]
  },
  {
   "cell_type": "code",
   "execution_count": 15,
   "metadata": {},
   "outputs": [
    {
     "data": {
      "text/plain": [
       "array([[ 0,  1,  2,  3],\n",
       "       [ 4,  5,  6,  7],\n",
       "       [ 8,  9, 10, 11]])"
      ]
     },
     "execution_count": 15,
     "metadata": {},
     "output_type": "execute_result"
    }
   ],
   "source": [
    "B[:]"
   ]
  },
  {
   "cell_type": "code",
   "execution_count": 16,
   "metadata": {},
   "outputs": [
    {
     "data": {
      "text/plain": [
       "array([[ 0,  1,  2,  3],\n",
       "       [ 8,  9, 10, 11]])"
      ]
     },
     "execution_count": 16,
     "metadata": {},
     "output_type": "execute_result"
    }
   ],
   "source": [
    "B[::2]"
   ]
  },
  {
   "cell_type": "code",
   "execution_count": 17,
   "metadata": {},
   "outputs": [
    {
     "data": {
      "text/plain": [
       "array([[0, 0, 0, 0],\n",
       "       [4, 5, 6, 7],\n",
       "       [0, 0, 0, 0]])"
      ]
     },
     "execution_count": 17,
     "metadata": {},
     "output_type": "execute_result"
    }
   ],
   "source": [
    "B[::2] = 0\n",
    "B"
   ]
  },
  {
   "cell_type": "code",
   "execution_count": 18,
   "metadata": {},
   "outputs": [
    {
     "data": {
      "text/plain": [
       "array([[0, 0, 0, 0],\n",
       "       [4, 5, 6, 7],\n",
       "       [0, 0, 0, 0]])"
      ]
     },
     "execution_count": 18,
     "metadata": {},
     "output_type": "execute_result"
    }
   ],
   "source": [
    "A"
   ]
  },
  {
   "cell_type": "code",
   "execution_count": 19,
   "metadata": {},
   "outputs": [],
   "source": [
    "def f(x) : \n",
    "    print(id(x))"
   ]
  },
  {
   "cell_type": "code",
   "execution_count": 20,
   "metadata": {},
   "outputs": [
    {
     "data": {
      "text/plain": [
       "2395143101008"
      ]
     },
     "execution_count": 20,
     "metadata": {},
     "output_type": "execute_result"
    }
   ],
   "source": [
    "id(A)"
   ]
  },
  {
   "cell_type": "code",
   "execution_count": 21,
   "metadata": {},
   "outputs": [
    {
     "name": "stdout",
     "output_type": "stream",
     "text": [
      "2395143101008\n"
     ]
    }
   ],
   "source": [
    "f(A)"
   ]
  },
  {
   "cell_type": "code",
   "execution_count": 22,
   "metadata": {},
   "outputs": [],
   "source": [
    "L = [1,2,3]"
   ]
  },
  {
   "cell_type": "code",
   "execution_count": 23,
   "metadata": {},
   "outputs": [],
   "source": [
    "def func(data = None) :\n",
    "    data.append(4)"
   ]
  },
  {
   "cell_type": "code",
   "execution_count": 24,
   "metadata": {},
   "outputs": [],
   "source": [
    "func(data = L)"
   ]
  },
  {
   "cell_type": "code",
   "execution_count": 25,
   "metadata": {},
   "outputs": [
    {
     "data": {
      "text/plain": [
       "[1, 2, 3, 4]"
      ]
     },
     "execution_count": 25,
     "metadata": {},
     "output_type": "execute_result"
    }
   ],
   "source": [
    "L"
   ]
  },
  {
   "cell_type": "markdown",
   "metadata": {},
   "source": [
    "## 4.2 얕은 복사 뷰(view)\n",
    " - view로 데이터 값을 받았을 경우, 데이터의 값은 공유하게 되지만 각자 다른 배열을 가질 수 있다."
   ]
  },
  {
   "cell_type": "code",
   "execution_count": 26,
   "metadata": {},
   "outputs": [
    {
     "data": {
      "text/plain": [
       "False"
      ]
     },
     "execution_count": 26,
     "metadata": {},
     "output_type": "execute_result"
    }
   ],
   "source": [
    "C = A.view()\n",
    "C is A"
   ]
  },
  {
   "cell_type": "code",
   "execution_count": 85,
   "metadata": {},
   "outputs": [
    {
     "data": {
      "text/plain": [
       "False"
      ]
     },
     "execution_count": 85,
     "metadata": {},
     "output_type": "execute_result"
    }
   ],
   "source": [
    "C.flags.owndata"
   ]
  },
  {
   "cell_type": "code",
   "execution_count": 86,
   "metadata": {},
   "outputs": [
    {
     "data": {
      "text/plain": [
       "True"
      ]
     },
     "execution_count": 86,
     "metadata": {},
     "output_type": "execute_result"
    }
   ],
   "source": [
    "C.base is A"
   ]
  },
  {
   "cell_type": "code",
   "execution_count": 27,
   "metadata": {},
   "outputs": [
    {
     "data": {
      "text/plain": [
       "((3, 4), (2, 6))"
      ]
     },
     "execution_count": 27,
     "metadata": {},
     "output_type": "execute_result"
    }
   ],
   "source": [
    "C.shape = (2,6)\n",
    "A.shape, C.shape"
   ]
  },
  {
   "cell_type": "code",
   "execution_count": 28,
   "metadata": {},
   "outputs": [
    {
     "data": {
      "text/plain": [
       "array([[1, 2, 3, 4],\n",
       "       [4, 5, 6, 7],\n",
       "       [0, 0, 0, 0]])"
      ]
     },
     "execution_count": 28,
     "metadata": {},
     "output_type": "execute_result"
    }
   ],
   "source": [
    "A[0,:] = [1,2,3,4]\n",
    "A"
   ]
  },
  {
   "cell_type": "code",
   "execution_count": 29,
   "metadata": {},
   "outputs": [
    {
     "data": {
      "text/plain": [
       "array([[1, 2, 3, 4, 4, 5],\n",
       "       [6, 7, 0, 0, 0, 0]])"
      ]
     },
     "execution_count": 29,
     "metadata": {},
     "output_type": "execute_result"
    }
   ],
   "source": [
    "# 같은 데이터를 참조하지만 shape은 다른 새로운 배열 객체를 만들 수 있다.\n",
    "\n",
    "C"
   ]
  },
  {
   "cell_type": "code",
   "execution_count": 30,
   "metadata": {},
   "outputs": [],
   "source": [
    "A = np.arange(12).reshape(3,4)"
   ]
  },
  {
   "cell_type": "code",
   "execution_count": 32,
   "metadata": {},
   "outputs": [
    {
     "data": {
      "text/plain": [
       "array([[ 1,  2],\n",
       "       [ 5,  6],\n",
       "       [ 9, 10]])"
      ]
     },
     "execution_count": 32,
     "metadata": {},
     "output_type": "execute_result"
    }
   ],
   "source": [
    "# 슬라이싱으로 배열을 자르면 뷰가 반환됩니다. 배열을 자르고 할당할 경우 원본 배열의 값이 바뀔 수 있으므로 주의해야한다.\n",
    "\n",
    "S = A[:,1:3]\n",
    "S"
   ]
  },
  {
   "cell_type": "code",
   "execution_count": 33,
   "metadata": {},
   "outputs": [
    {
     "data": {
      "text/plain": [
       "array([[ 1, 10],\n",
       "       [ 5, 10],\n",
       "       [ 9, 10]])"
      ]
     },
     "execution_count": 33,
     "metadata": {},
     "output_type": "execute_result"
    }
   ],
   "source": [
    "S[:,1] = 10\n",
    "S"
   ]
  },
  {
   "cell_type": "code",
   "execution_count": 34,
   "metadata": {},
   "outputs": [
    {
     "data": {
      "text/plain": [
       "array([[ 0,  1, 10,  3],\n",
       "       [ 4,  5, 10,  7],\n",
       "       [ 8,  9, 10, 11]])"
      ]
     },
     "execution_count": 34,
     "metadata": {},
     "output_type": "execute_result"
    }
   ],
   "source": [
    "A"
   ]
  },
  {
   "cell_type": "markdown",
   "metadata": {},
   "source": [
    "### 4.3 깊은 복사 카피\n",
    " - 전체 복사본을 만들다."
   ]
  },
  {
   "cell_type": "code",
   "execution_count": 35,
   "metadata": {},
   "outputs": [
    {
     "data": {
      "text/plain": [
       "array([[ 0,  1,  2,  3],\n",
       "       [ 4,  5,  6,  7],\n",
       "       [ 8,  9, 10, 11]])"
      ]
     },
     "execution_count": 35,
     "metadata": {},
     "output_type": "execute_result"
    }
   ],
   "source": [
    "A = np.arange(12).reshape(3,4)\n",
    "A"
   ]
  },
  {
   "cell_type": "code",
   "execution_count": 36,
   "metadata": {},
   "outputs": [
    {
     "data": {
      "text/plain": [
       "False"
      ]
     },
     "execution_count": 36,
     "metadata": {},
     "output_type": "execute_result"
    }
   ],
   "source": [
    "D = A.copy()\n",
    "D is A"
   ]
  },
  {
   "cell_type": "code",
   "execution_count": 37,
   "metadata": {},
   "outputs": [
    {
     "data": {
      "text/plain": [
       "False"
      ]
     },
     "execution_count": 37,
     "metadata": {},
     "output_type": "execute_result"
    }
   ],
   "source": [
    "D.base is A"
   ]
  },
  {
   "cell_type": "code",
   "execution_count": 38,
   "metadata": {
    "scrolled": true
   },
   "outputs": [
    {
     "data": {
      "text/plain": [
       "array([[10, 20, 30, 40],\n",
       "       [ 4,  5,  6,  7],\n",
       "       [ 8,  9, 10, 11]])"
      ]
     },
     "execution_count": 38,
     "metadata": {},
     "output_type": "execute_result"
    }
   ],
   "source": [
    "D[0,:] = [10,20,30,40]\n",
    "D"
   ]
  },
  {
   "cell_type": "code",
   "execution_count": 39,
   "metadata": {},
   "outputs": [
    {
     "data": {
      "text/plain": [
       "array([[ 0,  1,  2,  3],\n",
       "       [ 4,  5,  6,  7],\n",
       "       [ 8,  9, 10, 11]])"
      ]
     },
     "execution_count": 39,
     "metadata": {},
     "output_type": "execute_result"
    }
   ],
   "source": [
    "A"
   ]
  },
  {
   "cell_type": "markdown",
   "metadata": {},
   "source": [
    "## 5절 고급인덱싱\n",
    "### 5.1 인덱스 배열로 인덱싱"
   ]
  },
  {
   "cell_type": "code",
   "execution_count": 40,
   "metadata": {},
   "outputs": [
    {
     "data": {
      "text/plain": [
       "array([  0,   1,   4,   9,  16,  25,  36,  49,  64,  81, 100, 121],\n",
       "      dtype=int32)"
      ]
     },
     "execution_count": 40,
     "metadata": {},
     "output_type": "execute_result"
    }
   ],
   "source": [
    "A = np.arange(12)**2\n",
    "A"
   ]
  },
  {
   "cell_type": "code",
   "execution_count": 41,
   "metadata": {},
   "outputs": [
    {
     "data": {
      "text/plain": [
       "array([ 1,  1,  9, 64, 25], dtype=int32)"
      ]
     },
     "execution_count": 41,
     "metadata": {},
     "output_type": "execute_result"
    }
   ],
   "source": [
    "i = np.array([1,1,3,8,5])\n",
    "A[i]"
   ]
  },
  {
   "cell_type": "code",
   "execution_count": 42,
   "metadata": {},
   "outputs": [
    {
     "data": {
      "text/plain": [
       "array([[ 9, 16],\n",
       "       [81, 49]], dtype=int32)"
      ]
     },
     "execution_count": 42,
     "metadata": {},
     "output_type": "execute_result"
    }
   ],
   "source": [
    "j = np.array([[3,4],[9,7]])\n",
    "A[j]"
   ]
  },
  {
   "cell_type": "code",
   "execution_count": 44,
   "metadata": {},
   "outputs": [],
   "source": [
    "palette = np.array([[0, 0, 0],\n",
    "                    [255, 0, 0],\n",
    "                    [0, 255, 0],\n",
    "                    [0, 0, 255],\n",
    "                    [255, 255, 255]],\n",
    "                    dtype = np.uint8)"
   ]
  },
  {
   "cell_type": "code",
   "execution_count": 46,
   "metadata": {},
   "outputs": [],
   "source": [
    "image_index = np.array([[4,4,4,0,0,0,0,4,4,4],\n",
    "                        [4,0,0,4,4,4,4,0,0,4],\n",
    "                        [0,0,4,4,4,4,4,4,0,0],\n",
    "                        [0,4,4,1,4,4,3,4,4,0],\n",
    "                        [0,4,4,1,4,4,3,4,4,0],\n",
    "                        [0,4,4,4,4,4,4,4,4,0],\n",
    "                        [0,4,4,2,4,4,2,4,4,0],\n",
    "                        [4,0,4,4,2,2,4,4,0,4],\n",
    "                        [4,4,0,4,4,4,4,0,4,4],\n",
    "                        [4,4,4,0,0,0,0,4,4,4]])"
   ]
  },
  {
   "cell_type": "code",
   "execution_count": 99,
   "metadata": {},
   "outputs": [],
   "source": [
    "palette = np.array([\"red\",\"green\",\"blue\",\"black\",\"white\"])"
   ]
  },
  {
   "cell_type": "code",
   "execution_count": 47,
   "metadata": {},
   "outputs": [],
   "source": [
    "image_data = palette[image_index]"
   ]
  },
  {
   "cell_type": "code",
   "execution_count": 48,
   "metadata": {},
   "outputs": [
    {
     "data": {
      "image/png": "[encoded data removed]",
      "text/plain": [
       "<Figure size 640x480 with 1 Axes>"
      ]
     },
     "metadata": {},
     "output_type": "display_data"
    }
   ],
   "source": [
    "import matplotlib.pyplot as plt\n",
    "\n",
    "plt.imshow(image_data, interpolation = \"nearest\")\n",
    "plt.show()"
   ]
  },
  {
   "cell_type": "markdown",
   "metadata": {},
   "source": [
    "## 5.2 다차원 인덱싱"
   ]
  },
  {
   "cell_type": "code",
   "execution_count": 54,
   "metadata": {},
   "outputs": [],
   "source": [
    "import numpy as np"
   ]
  },
  {
   "cell_type": "code",
   "execution_count": 55,
   "metadata": {},
   "outputs": [
    {
     "data": {
      "text/plain": [
       "array([[ 0,  1,  2,  3],\n",
       "       [ 4,  5,  6,  7],\n",
       "       [ 8,  9, 10, 11]])"
      ]
     },
     "execution_count": 55,
     "metadata": {},
     "output_type": "execute_result"
    }
   ],
   "source": [
    "A = np.arange(12).reshape(3,4)\n",
    "A"
   ]
  },
  {
   "cell_type": "code",
   "execution_count": 58,
   "metadata": {},
   "outputs": [
    {
     "data": {
      "text/plain": [
       "array([ 7, 10])"
      ]
     },
     "execution_count": 58,
     "metadata": {},
     "output_type": "execute_result"
    }
   ],
   "source": [
    "A[[1,2],[3,2]]"
   ]
  },
  {
   "cell_type": "code",
   "execution_count": 59,
   "metadata": {},
   "outputs": [],
   "source": [
    "ind_i = np.array([[0,1],\n",
    "                  [1,2]])\n",
    "ind_j = np.array([[2,1],\n",
    "                  [3,3]])"
   ]
  },
  {
   "cell_type": "code",
   "execution_count": 60,
   "metadata": {},
   "outputs": [
    {
     "data": {
      "text/plain": [
       "array([[0, 1],\n",
       "       [1, 2]])"
      ]
     },
     "execution_count": 60,
     "metadata": {},
     "output_type": "execute_result"
    }
   ],
   "source": [
    "ind_i"
   ]
  },
  {
   "cell_type": "code",
   "execution_count": 62,
   "metadata": {},
   "outputs": [
    {
     "data": {
      "text/plain": [
       "array([[[ 0,  1,  2,  3],\n",
       "        [ 4,  5,  6,  7]],\n",
       "\n",
       "       [[ 4,  5,  6,  7],\n",
       "        [ 8,  9, 10, 11]]])"
      ]
     },
     "execution_count": 62,
     "metadata": {},
     "output_type": "execute_result"
    }
   ],
   "source": [
    "A[ind_i]"
   ]
  },
  {
   "cell_type": "code",
   "execution_count": 63,
   "metadata": {},
   "outputs": [
    {
     "data": {
      "text/plain": [
       "array([[ 2,  6],\n",
       "       [ 6, 10]])"
      ]
     },
     "execution_count": 63,
     "metadata": {},
     "output_type": "execute_result"
    }
   ],
   "source": [
    "A[ind_i,2]"
   ]
  },
  {
   "cell_type": "code",
   "execution_count": 64,
   "metadata": {},
   "outputs": [
    {
     "data": {
      "text/plain": [
       "array([[ 2,  5],\n",
       "       [ 7, 11]])"
      ]
     },
     "execution_count": 64,
     "metadata": {},
     "output_type": "execute_result"
    }
   ],
   "source": [
    "A[ind_i,ind_j]"
   ]
  },
  {
   "cell_type": "code",
   "execution_count": 57,
   "metadata": {},
   "outputs": [
    {
     "name": "stderr",
     "output_type": "stream",
     "text": [
      "C:\\Users\\82106\\AppData\\Local\\Temp\\ipykernel_54304\\643213303.py:2: FutureWarning: Using a non-tuple sequence for multidimensional indexing is deprecated; use `arr[tuple(seq)]` instead of `arr[seq]`. In the future this will be interpreted as an array index, `arr[np.array(seq)]`, which will result either in an error or a different result.\n",
      "  A[L]\n"
     ]
    },
    {
     "data": {
      "text/plain": [
       "array([[ 2,  5],\n",
       "       [ 7, 11]])"
      ]
     },
     "execution_count": 57,
     "metadata": {},
     "output_type": "execute_result"
    }
   ],
   "source": [
    "L = [ind_i,ind_j]\n",
    "A[L]"
   ]
  },
  {
   "cell_type": "code",
   "execution_count": 71,
   "metadata": {},
   "outputs": [
    {
     "data": {
      "text/plain": [
       "<AxesSubplot:>"
      ]
     },
     "execution_count": 71,
     "metadata": {},
     "output_type": "execute_result"
    },
    {
     "data": {
      "image/png": "[encoded data removed]",
      "text/plain": [
       "<Figure size 640x480 with 1 Axes>"
      ]
     },
     "metadata": {},
     "output_type": "display_data"
    }
   ],
   "source": [
    "import pandas as pd\n",
    "\n",
    "data = np.sin(np.arange(20))\n",
    "data = pd.DataFrame(data)\n",
    "data.plot()"
   ]
  },
  {
   "cell_type": "code",
   "execution_count": 73,
   "metadata": {
    "scrolled": true
   },
   "outputs": [
    {
     "data": {
      "text/plain": [
       "array([[ 0.        ,  0.84147098,  0.90929743,  0.14112001],\n",
       "       [-0.7568025 , -0.95892427, -0.2794155 ,  0.6569866 ],\n",
       "       [ 0.98935825,  0.41211849, -0.54402111, -0.99999021],\n",
       "       [-0.53657292,  0.42016704,  0.99060736,  0.65028784],\n",
       "       [-0.28790332, -0.96139749, -0.75098725,  0.14987721]])"
      ]
     },
     "execution_count": 73,
     "metadata": {},
     "output_type": "execute_result"
    }
   ],
   "source": [
    "data = np.sin(np.arange(20)).reshape(5,4)\n",
    "data"
   ]
  },
  {
   "cell_type": "code",
   "execution_count": 75,
   "metadata": {},
   "outputs": [
    {
     "data": {
      "text/plain": [
       "array([2, 0, 3, 1], dtype=int64)"
      ]
     },
     "execution_count": 75,
     "metadata": {},
     "output_type": "execute_result"
    }
   ],
   "source": [
    "ind = data.argmax(axis = 0)\n",
    "ind"
   ]
  },
  {
   "cell_type": "code",
   "execution_count": 77,
   "metadata": {},
   "outputs": [
    {
     "data": {
      "text/plain": [
       "[0, 1, 2, 3]"
      ]
     },
     "execution_count": 77,
     "metadata": {},
     "output_type": "execute_result"
    }
   ],
   "source": [
    "list(range(data.shape[1]))"
   ]
  },
  {
   "cell_type": "code",
   "execution_count": 76,
   "metadata": {},
   "outputs": [
    {
     "data": {
      "text/plain": [
       "array([0.98935825, 0.84147098, 0.99060736, 0.6569866 ])"
      ]
     },
     "execution_count": 76,
     "metadata": {},
     "output_type": "execute_result"
    }
   ],
   "source": [
    "data_max = data[ind, range(data.shape[1])]\n",
    "data_max"
   ]
  },
  {
   "cell_type": "code",
   "execution_count": 213,
   "metadata": {},
   "outputs": [
    {
     "data": {
      "text/plain": [
       "array([0.98935825, 0.84147098, 0.99060736, 0.6569866 ])"
      ]
     },
     "execution_count": 213,
     "metadata": {},
     "output_type": "execute_result"
    }
   ],
   "source": [
    "data[[2,0,3,1],[0,1,2,3]]"
   ]
  },
  {
   "cell_type": "code",
   "execution_count": 78,
   "metadata": {},
   "outputs": [
    {
     "data": {
      "text/plain": [
       "array([0.98935825, 0.84147098, 0.99060736, 0.6569866 ])"
      ]
     },
     "execution_count": 78,
     "metadata": {},
     "output_type": "execute_result"
    }
   ],
   "source": [
    "data.max(axis = 0)"
   ]
  },
  {
   "cell_type": "code",
   "execution_count": 84,
   "metadata": {},
   "outputs": [],
   "source": [
    "x = np.arange(72).reshape(12,6)\n",
    "x = np.cos(x)"
   ]
  },
  {
   "cell_type": "code",
   "execution_count": 83,
   "metadata": {},
   "outputs": [
    {
     "data": {
      "text/plain": [
       "array([[ 1.        ,  0.54030231, -0.41614684, -0.9899925 , -0.65364362,\n",
       "         0.28366219,  0.96017029,  0.75390225, -0.14550003, -0.91113026,\n",
       "        -0.83907153,  0.0044257 ],\n",
       "       [ 0.84385396,  0.90744678,  0.13673722, -0.75968791, -0.95765948,\n",
       "        -0.27516334,  0.66031671,  0.98870462,  0.40808206, -0.54772926,\n",
       "        -0.99996083, -0.53283302],\n",
       "       [ 0.42417901,  0.99120281,  0.64691932, -0.29213881, -0.96260587,\n",
       "        -0.74805753,  0.15425145,  0.91474236,  0.83422336, -0.01327675,\n",
       "        -0.84857027, -0.90369221],\n",
       "       [-0.12796369,  0.76541405,  0.95507364,  0.26664293, -0.66693806,\n",
       "        -0.98733928, -0.39998531,  0.5551133 ,  0.99984331,  0.52532199,\n",
       "        -0.43217794, -0.99233547],\n",
       "       [-0.64014434,  0.30059254,  0.96496603,  0.7421542 , -0.16299078,\n",
       "        -0.91828279, -0.82930983,  0.02212676,  0.85322011,  0.89986683,\n",
       "         0.11918014, -0.77108022],\n",
       "       [-0.95241298, -0.25810164,  0.67350716,  0.98589658,  0.39185723,\n",
       "        -0.56245385, -0.99964746, -0.5177698 ,  0.44014302,  0.99339038,\n",
       "         0.6333192 , -0.30902273]])"
      ]
     },
     "execution_count": 83,
     "metadata": {},
     "output_type": "execute_result"
    }
   ],
   "source": [
    "x"
   ]
  },
  {
   "cell_type": "code",
   "execution_count": 223,
   "metadata": {},
   "outputs": [],
   "source": [
    "x_ind = x.argmax(axis = 0)"
   ]
  },
  {
   "cell_type": "code",
   "execution_count": 224,
   "metadata": {
    "scrolled": true
   },
   "outputs": [
    {
     "data": {
      "text/plain": [
       "array([1.        , 0.99120281, 0.99984331, 0.99339038, 0.6333192 ,\n",
       "       0.28366219])"
      ]
     },
     "execution_count": 224,
     "metadata": {},
     "output_type": "execute_result"
    }
   ],
   "source": [
    "x[x_ind, range(x.shape[1])]"
   ]
  },
  {
   "cell_type": "markdown",
   "metadata": {},
   "source": [
    "## 5.4 논리 배열을 이용한 인덱싱"
   ]
  },
  {
   "cell_type": "code",
   "execution_count": 273,
   "metadata": {},
   "outputs": [
    {
     "data": {
      "text/plain": [
       "array([[ 0,  1,  2,  3,  4],\n",
       "       [ 5,  6,  7,  8,  9],\n",
       "       [10, 11, 12, 13, 14],\n",
       "       [15, 16, 17, 18, 19]])"
      ]
     },
     "execution_count": 273,
     "metadata": {},
     "output_type": "execute_result"
    }
   ],
   "source": [
    "A = np.arange(20).reshape(4,5)\n",
    "A"
   ]
  },
  {
   "cell_type": "code",
   "execution_count": 274,
   "metadata": {},
   "outputs": [
    {
     "data": {
      "text/plain": [
       "array([ 0,  2,  4,  6,  8, 10, 12, 14, 16, 18])"
      ]
     },
     "execution_count": 274,
     "metadata": {},
     "output_type": "execute_result"
    }
   ],
   "source": [
    "A[A % 2 == 0 ]"
   ]
  },
  {
   "cell_type": "code",
   "execution_count": 275,
   "metadata": {},
   "outputs": [
    {
     "data": {
      "text/plain": [
       "array([ 0,  2,  4,  6,  8, 10, 12, 14, 16, 18])"
      ]
     },
     "execution_count": 275,
     "metadata": {},
     "output_type": "execute_result"
    }
   ],
   "source": [
    "A[A % 2 == 0]"
   ]
  },
  {
   "cell_type": "code",
   "execution_count": 276,
   "metadata": {},
   "outputs": [
    {
     "data": {
      "text/plain": [
       "array([[  0,   1,   4,   3,  16],\n",
       "       [  5,  36,   7,  64,   9],\n",
       "       [100,  11, 144,  13, 196],\n",
       "       [ 15, 256,  17, 324,  19]])"
      ]
     },
     "execution_count": 276,
     "metadata": {},
     "output_type": "execute_result"
    }
   ],
   "source": [
    "# 짝수인 값만 그 값의 제곱으로 대체\n",
    "\n",
    "A[A % 2 == 0] = A[A % 2 == 0] **2\n",
    "\n",
    "A"
   ]
  },
  {
   "cell_type": "code",
   "execution_count": 67,
   "metadata": {},
   "outputs": [
    {
     "data": {
      "text/plain": [
       "array([[ 0,  1,  0,  3,  0],\n",
       "       [ 5,  0,  7,  0,  9],\n",
       "       [ 0, 11,  0, 13,  0],\n",
       "       [15,  0, 17,  0, 19]])"
      ]
     },
     "execution_count": 67,
     "metadata": {},
     "output_type": "execute_result"
    }
   ],
   "source": [
    "A[A % 2 == 0] = 0\n",
    "A"
   ]
  },
  {
   "cell_type": "markdown",
   "metadata": {},
   "source": [
    "## 5.5 ix_() 함수"
   ]
  },
  {
   "cell_type": "code",
   "execution_count": 277,
   "metadata": {},
   "outputs": [],
   "source": [
    "A = np.array([1,2,3,4])\n",
    "B = np.array([4,5,6])"
   ]
  },
  {
   "cell_type": "code",
   "execution_count": 278,
   "metadata": {},
   "outputs": [
    {
     "data": {
      "text/plain": [
       "array([1, 2, 3, 4])"
      ]
     },
     "execution_count": 278,
     "metadata": {},
     "output_type": "execute_result"
    }
   ],
   "source": [
    "A"
   ]
  },
  {
   "cell_type": "code",
   "execution_count": 279,
   "metadata": {},
   "outputs": [
    {
     "data": {
      "text/plain": [
       "array([4, 5, 6])"
      ]
     },
     "execution_count": 279,
     "metadata": {},
     "output_type": "execute_result"
    }
   ],
   "source": [
    "B"
   ]
  },
  {
   "cell_type": "code",
   "execution_count": 280,
   "metadata": {},
   "outputs": [],
   "source": [
    "AX, BX = np.ix_(A, B)"
   ]
  },
  {
   "cell_type": "code",
   "execution_count": 281,
   "metadata": {},
   "outputs": [
    {
     "data": {
      "text/plain": [
       "array([[1],\n",
       "       [2],\n",
       "       [3],\n",
       "       [4]])"
      ]
     },
     "execution_count": 281,
     "metadata": {},
     "output_type": "execute_result"
    }
   ],
   "source": [
    "AX"
   ]
  },
  {
   "cell_type": "code",
   "execution_count": 282,
   "metadata": {},
   "outputs": [
    {
     "data": {
      "text/plain": [
       "array([[4, 5, 6]])"
      ]
     },
     "execution_count": 282,
     "metadata": {},
     "output_type": "execute_result"
    }
   ],
   "source": [
    "BX"
   ]
  },
  {
   "cell_type": "code",
   "execution_count": 283,
   "metadata": {},
   "outputs": [
    {
     "data": {
      "text/plain": [
       "array([[ 4,  5,  6],\n",
       "       [ 8, 10, 12],\n",
       "       [12, 15, 18],\n",
       "       [16, 20, 24]])"
      ]
     },
     "execution_count": 283,
     "metadata": {},
     "output_type": "execute_result"
    }
   ],
   "source": [
    "AX * BX"
   ]
  },
  {
   "cell_type": "code",
   "execution_count": 284,
   "metadata": {},
   "outputs": [],
   "source": [
    "A = np.array([2,3,4,5])\n",
    "B = np.array([8,5,4])\n",
    "C = np.array([5,4,6,8,3])"
   ]
  },
  {
   "cell_type": "code",
   "execution_count": 76,
   "metadata": {},
   "outputs": [],
   "source": [
    "AX,BX,CX = np.ix_(A,B,C)"
   ]
  },
  {
   "cell_type": "code",
   "execution_count": 77,
   "metadata": {},
   "outputs": [
    {
     "data": {
      "text/plain": [
       "array([[[2]],\n",
       "\n",
       "       [[3]],\n",
       "\n",
       "       [[4]],\n",
       "\n",
       "       [[5]]])"
      ]
     },
     "execution_count": 77,
     "metadata": {},
     "output_type": "execute_result"
    }
   ],
   "source": [
    "AX"
   ]
  },
  {
   "cell_type": "code",
   "execution_count": 78,
   "metadata": {},
   "outputs": [
    {
     "data": {
      "text/plain": [
       "array([[[8],\n",
       "        [5],\n",
       "        [4]]])"
      ]
     },
     "execution_count": 78,
     "metadata": {},
     "output_type": "execute_result"
    }
   ],
   "source": [
    "BX"
   ]
  },
  {
   "cell_type": "code",
   "execution_count": 79,
   "metadata": {},
   "outputs": [
    {
     "data": {
      "text/plain": [
       "array([[[5, 4, 6, 8, 3]]])"
      ]
     },
     "execution_count": 79,
     "metadata": {},
     "output_type": "execute_result"
    }
   ],
   "source": [
    "CX"
   ]
  },
  {
   "cell_type": "code",
   "execution_count": 80,
   "metadata": {},
   "outputs": [
    {
     "name": "stdout",
     "output_type": "stream",
     "text": [
      "(4, 1, 1) (1, 3, 1) (1, 1, 5)\n"
     ]
    }
   ],
   "source": [
    "print(AX.shape, BX.shape, CX.shape)"
   ]
  },
  {
   "cell_type": "code",
   "execution_count": 83,
   "metadata": {},
   "outputs": [
    {
     "data": {
      "text/plain": [
       "array([[[15, 14, 16, 18, 13],\n",
       "        [12, 11, 13, 15, 10],\n",
       "        [11, 10, 12, 14,  9]],\n",
       "\n",
       "       [[16, 15, 17, 19, 14],\n",
       "        [13, 12, 14, 16, 11],\n",
       "        [12, 11, 13, 15, 10]],\n",
       "\n",
       "       [[17, 16, 18, 20, 15],\n",
       "        [14, 13, 15, 17, 12],\n",
       "        [13, 12, 14, 16, 11]],\n",
       "\n",
       "       [[18, 17, 19, 21, 16],\n",
       "        [15, 14, 16, 18, 13],\n",
       "        [14, 13, 15, 17, 12]]])"
      ]
     },
     "execution_count": 83,
     "metadata": {},
     "output_type": "execute_result"
    }
   ],
   "source": [
    "result = AX + BX + CX\n",
    "\n",
    "result"
   ]
  },
  {
   "cell_type": "code",
   "execution_count": 84,
   "metadata": {},
   "outputs": [
    {
     "data": {
      "text/plain": [
       "12"
      ]
     },
     "execution_count": 84,
     "metadata": {},
     "output_type": "execute_result"
    }
   ],
   "source": [
    "result[3,2,4]"
   ]
  },
  {
   "cell_type": "markdown",
   "metadata": {},
   "source": [
    "## 5.6 리듀스 함수의 구현"
   ]
  },
  {
   "cell_type": "code",
   "execution_count": 1,
   "metadata": {},
   "outputs": [],
   "source": [
    "import numpy as np"
   ]
  },
  {
   "cell_type": "code",
   "execution_count": 2,
   "metadata": {},
   "outputs": [],
   "source": [
    "A = np.array([2,3,4,5])\n",
    "B = np.array([8,5,4])\n",
    "C = np.array([5,4,6,8,3])"
   ]
  },
  {
   "cell_type": "code",
   "execution_count": 3,
   "metadata": {},
   "outputs": [],
   "source": [
    "def reduce_func(*arrs, func = np.add) : \n",
    "    aix = np.ix_(*arrs)\n",
    "    result = aix[0]\n",
    "    for item in aix[1:] :\n",
    "        result = func(result, item)\n",
    "    return result"
   ]
  },
  {
   "cell_type": "code",
   "execution_count": 5,
   "metadata": {},
   "outputs": [
    {
     "data": {
      "text/plain": [
       "array([[10,  7,  6],\n",
       "       [11,  8,  7],\n",
       "       [12,  9,  8],\n",
       "       [13, 10,  9]])"
      ]
     },
     "execution_count": 5,
     "metadata": {},
     "output_type": "execute_result"
    }
   ],
   "source": [
    "reduce_func(A,B)"
   ]
  },
  {
   "cell_type": "code",
   "execution_count": 7,
   "metadata": {},
   "outputs": [],
   "source": [
    "aix = np.ix_(A,B)"
   ]
  },
  {
   "cell_type": "code",
   "execution_count": 9,
   "metadata": {},
   "outputs": [
    {
     "data": {
      "text/plain": [
       "array([[2],\n",
       "       [3],\n",
       "       [4],\n",
       "       [5]])"
      ]
     },
     "execution_count": 9,
     "metadata": {},
     "output_type": "execute_result"
    }
   ],
   "source": [
    "aix[0]"
   ]
  },
  {
   "cell_type": "code",
   "execution_count": 10,
   "metadata": {},
   "outputs": [
    {
     "data": {
      "text/plain": [
       "(array([[8, 5, 4]]),)"
      ]
     },
     "execution_count": 10,
     "metadata": {},
     "output_type": "execute_result"
    }
   ],
   "source": [
    "aix[1:] "
   ]
  },
  {
   "cell_type": "code",
   "execution_count": 96,
   "metadata": {},
   "outputs": [
    {
     "data": {
      "text/plain": [
       "array([[10,  7,  6],\n",
       "       [11,  8,  7],\n",
       "       [12,  9,  8],\n",
       "       [13, 10,  9]])"
      ]
     },
     "execution_count": 96,
     "metadata": {},
     "output_type": "execute_result"
    }
   ],
   "source": [
    "aix[0] + aix[1]"
   ]
  },
  {
   "cell_type": "code",
   "execution_count": 11,
   "metadata": {},
   "outputs": [
    {
     "data": {
      "text/plain": [
       "array([[16, 10,  8],\n",
       "       [24, 15, 12],\n",
       "       [32, 20, 16],\n",
       "       [40, 25, 20]])"
      ]
     },
     "execution_count": 11,
     "metadata": {},
     "output_type": "execute_result"
    }
   ],
   "source": [
    "reduce_func(A,B, func = np.multiply)"
   ]
  },
  {
   "cell_type": "code",
   "execution_count": 12,
   "metadata": {},
   "outputs": [
    {
     "data": {
      "text/plain": [
       "array([[[15, 14, 16, 18, 13],\n",
       "        [12, 11, 13, 15, 10],\n",
       "        [11, 10, 12, 14,  9]],\n",
       "\n",
       "       [[16, 15, 17, 19, 14],\n",
       "        [13, 12, 14, 16, 11],\n",
       "        [12, 11, 13, 15, 10]],\n",
       "\n",
       "       [[17, 16, 18, 20, 15],\n",
       "        [14, 13, 15, 17, 12],\n",
       "        [13, 12, 14, 16, 11]],\n",
       "\n",
       "       [[18, 17, 19, 21, 16],\n",
       "        [15, 14, 16, 18, 13],\n",
       "        [14, 13, 15, 17, 12]]])"
      ]
     },
     "execution_count": 12,
     "metadata": {},
     "output_type": "execute_result"
    }
   ],
   "source": [
    "reduce_func(A,B,C)"
   ]
  },
  {
   "cell_type": "code",
   "execution_count": 13,
   "metadata": {},
   "outputs": [],
   "source": [
    "X = np.array([(\"Rex\",9,81.0),(\"Fido\",3,27.0)], dtype = [(\"name\", \"U10\"), (\"age\", \"i4\"), (\"weight\", \"f4\")])"
   ]
  },
  {
   "cell_type": "code",
   "execution_count": 14,
   "metadata": {},
   "outputs": [
    {
     "data": {
      "text/plain": [
       "array([('Rex', 9, 81.), ('Fido', 3, 27.)],\n",
       "      dtype=[('name', '<U10'), ('age', '<i4'), ('weight', '<f4')])"
      ]
     },
     "execution_count": 14,
     "metadata": {},
     "output_type": "execute_result"
    }
   ],
   "source": [
    "X"
   ]
  },
  {
   "cell_type": "code",
   "execution_count": 101,
   "metadata": {},
   "outputs": [
    {
     "data": {
      "text/plain": [
       "array(['Rex', 'Fido'], dtype='<U10')"
      ]
     },
     "execution_count": 101,
     "metadata": {},
     "output_type": "execute_result"
    }
   ],
   "source": [
    "X[\"name\"]"
   ]
  },
  {
   "cell_type": "markdown",
   "metadata": {},
   "source": [
    "## 6절 선형대수학"
   ]
  },
  {
   "cell_type": "code",
   "execution_count": 15,
   "metadata": {},
   "outputs": [
    {
     "data": {
      "text/plain": [
       "array([[1, 2],\n",
       "       [3, 4]])"
      ]
     },
     "execution_count": 15,
     "metadata": {},
     "output_type": "execute_result"
    }
   ],
   "source": [
    "import numpy as np\n",
    "A = np.array([[1,2],[3,4]])\n",
    "A"
   ]
  },
  {
   "cell_type": "code",
   "execution_count": 16,
   "metadata": {},
   "outputs": [
    {
     "data": {
      "text/plain": [
       "array([[ 0, -1],\n",
       "       [ 1,  0]])"
      ]
     },
     "execution_count": 16,
     "metadata": {},
     "output_type": "execute_result"
    }
   ],
   "source": [
    "B = np.array([[0,-1],[1,0]])\n",
    "B"
   ]
  },
  {
   "cell_type": "code",
   "execution_count": 17,
   "metadata": {},
   "outputs": [
    {
     "data": {
      "text/plain": [
       "array([[ 2, -1],\n",
       "       [ 4, -3]])"
      ]
     },
     "execution_count": 17,
     "metadata": {},
     "output_type": "execute_result"
    }
   ],
   "source": [
    "A @ B"
   ]
  },
  {
   "cell_type": "code",
   "execution_count": 18,
   "metadata": {},
   "outputs": [
    {
     "data": {
      "text/plain": [
       "array([[ 2, -1],\n",
       "       [ 4, -3]])"
      ]
     },
     "execution_count": 18,
     "metadata": {},
     "output_type": "execute_result"
    }
   ],
   "source": [
    "A.dot(B)"
   ]
  },
  {
   "cell_type": "code",
   "execution_count": 19,
   "metadata": {},
   "outputs": [
    {
     "data": {
      "text/plain": [
       "array([[-2. ,  1. ],\n",
       "       [ 1.5, -0.5]])"
      ]
     },
     "execution_count": 19,
     "metadata": {},
     "output_type": "execute_result"
    }
   ],
   "source": [
    "# 역행렬\n",
    "\n",
    "np.linalg.inv(A)"
   ]
  },
  {
   "cell_type": "code",
   "execution_count": 20,
   "metadata": {},
   "outputs": [
    {
     "data": {
      "text/plain": [
       "array([1, 4])"
      ]
     },
     "execution_count": 20,
     "metadata": {},
     "output_type": "execute_result"
    }
   ],
   "source": [
    "# 대각행렬의 값 구하기\n",
    "\n",
    "np.diag(A)"
   ]
  },
  {
   "cell_type": "code",
   "execution_count": 21,
   "metadata": {},
   "outputs": [
    {
     "data": {
      "text/plain": [
       "5"
      ]
     },
     "execution_count": 21,
     "metadata": {},
     "output_type": "execute_result"
    }
   ],
   "source": [
    "# 대각 행렬의 합 구하기\n",
    "\n",
    "np.trace(A)"
   ]
  },
  {
   "cell_type": "code",
   "execution_count": 22,
   "metadata": {},
   "outputs": [
    {
     "data": {
      "text/plain": [
       "-2.0000000000000004"
      ]
     },
     "execution_count": 22,
     "metadata": {},
     "output_type": "execute_result"
    }
   ],
   "source": [
    "# 행렬식 ad - bc = 0 인지 확인하는 식\n",
    "\n",
    "np.linalg.det(A)"
   ]
  },
  {
   "cell_type": "code",
   "execution_count": 23,
   "metadata": {},
   "outputs": [],
   "source": [
    "X = [2,3] ; Y = [6.8, 7.3]"
   ]
  },
  {
   "cell_type": "code",
   "execution_count": 29,
   "metadata": {},
   "outputs": [
    {
     "data": {
      "text/plain": [
       "array([[2., 1.],\n",
       "       [3., 1.]])"
      ]
     },
     "execution_count": 29,
     "metadata": {},
     "output_type": "execute_result"
    }
   ],
   "source": [
    "# 둘다 컬럼벡터로 정의해서 열을 기준으로 결합.\n",
    "\n",
    "np.c_[X,np.ones(2)]"
   ]
  },
  {
   "cell_type": "code",
   "execution_count": 27,
   "metadata": {
    "scrolled": true
   },
   "outputs": [
    {
     "data": {
      "text/plain": [
       "array([[1., 1.],\n",
       "       [1., 1.]])"
      ]
     },
     "execution_count": 27,
     "metadata": {},
     "output_type": "execute_result"
    }
   ],
   "source": [
    "np.ones((2,2))"
   ]
  },
  {
   "cell_type": "code",
   "execution_count": 30,
   "metadata": {},
   "outputs": [],
   "source": [
    "# 선형방정식이기 때문에 상수항이 존재하여 1이라는 값을 만들어준다\n",
    "\n",
    "A = np.c_[X, np.ones(2)]\n",
    "B = np.array(Y)"
   ]
  },
  {
   "cell_type": "code",
   "execution_count": 33,
   "metadata": {},
   "outputs": [
    {
     "data": {
      "text/plain": [
       "array([0.5, 5.8])"
      ]
     },
     "execution_count": 33,
     "metadata": {},
     "output_type": "execute_result"
    }
   ],
   "source": [
    "# (2, 6.8) , (3, 7.3)을 지나는 직선식을 구하기\n",
    "np.linalg.solve(A,B)\n",
    "\n",
    "# 밑의 값은 y = 0.5x + 5.8을 의미한다."
   ]
  },
  {
   "cell_type": "code",
   "execution_count": 34,
   "metadata": {},
   "outputs": [
    {
     "data": {
      "text/plain": [
       "(array([ 3.30277564, -0.30277564]),\n",
       " array([[ 0.60889368, -0.3983218 ],\n",
       "        [ 0.79325185,  0.91724574]]))"
      ]
     },
     "execution_count": 34,
     "metadata": {},
     "output_type": "execute_result"
    }
   ],
   "source": [
    "# 정사각형 배열의 고유값과 오른쪽 공유 벡터를 계산합니다.\n",
    "\n",
    "np.linalg.eig(A)"
   ]
  },
  {
   "cell_type": "code",
   "execution_count": 35,
   "metadata": {},
   "outputs": [
    {
     "data": {
      "text/plain": [
       "(array([[-0.57604844, -0.81741556],\n",
       "        [-0.81741556,  0.57604844]]),\n",
       " array([3.86432845, 0.25877718]),\n",
       " array([[-0.93272184, -0.36059668],\n",
       "        [ 0.36059668, -0.93272184]]))"
      ]
     },
     "execution_count": 35,
     "metadata": {},
     "output_type": "execute_result"
    }
   ],
   "source": [
    "# 특이값 분해\n",
    "\n",
    "np.linalg.svd(A)"
   ]
  },
  {
   "cell_type": "code",
   "execution_count": 36,
   "metadata": {},
   "outputs": [],
   "source": [
    "imgs = np.ones(shape = [4,3,28,28])"
   ]
  },
  {
   "cell_type": "code",
   "execution_count": 38,
   "metadata": {},
   "outputs": [
    {
     "data": {
      "text/plain": [
       "array([[[[1., 1., 1., ..., 1., 1., 1.],\n",
       "         [1., 1., 1., ..., 1., 1., 1.],\n",
       "         [1., 1., 1., ..., 1., 1., 1.],\n",
       "         ...,\n",
       "         [1., 1., 1., ..., 1., 1., 1.],\n",
       "         [1., 1., 1., ..., 1., 1., 1.],\n",
       "         [1., 1., 1., ..., 1., 1., 1.]],\n",
       "\n",
       "        [[1., 1., 1., ..., 1., 1., 1.],\n",
       "         [1., 1., 1., ..., 1., 1., 1.],\n",
       "         [1., 1., 1., ..., 1., 1., 1.],\n",
       "         ...,\n",
       "         [1., 1., 1., ..., 1., 1., 1.],\n",
       "         [1., 1., 1., ..., 1., 1., 1.],\n",
       "         [1., 1., 1., ..., 1., 1., 1.]],\n",
       "\n",
       "        [[1., 1., 1., ..., 1., 1., 1.],\n",
       "         [1., 1., 1., ..., 1., 1., 1.],\n",
       "         [1., 1., 1., ..., 1., 1., 1.],\n",
       "         ...,\n",
       "         [1., 1., 1., ..., 1., 1., 1.],\n",
       "         [1., 1., 1., ..., 1., 1., 1.],\n",
       "         [1., 1., 1., ..., 1., 1., 1.]]],\n",
       "\n",
       "\n",
       "       [[[1., 1., 1., ..., 1., 1., 1.],\n",
       "         [1., 1., 1., ..., 1., 1., 1.],\n",
       "         [1., 1., 1., ..., 1., 1., 1.],\n",
       "         ...,\n",
       "         [1., 1., 1., ..., 1., 1., 1.],\n",
       "         [1., 1., 1., ..., 1., 1., 1.],\n",
       "         [1., 1., 1., ..., 1., 1., 1.]],\n",
       "\n",
       "        [[1., 1., 1., ..., 1., 1., 1.],\n",
       "         [1., 1., 1., ..., 1., 1., 1.],\n",
       "         [1., 1., 1., ..., 1., 1., 1.],\n",
       "         ...,\n",
       "         [1., 1., 1., ..., 1., 1., 1.],\n",
       "         [1., 1., 1., ..., 1., 1., 1.],\n",
       "         [1., 1., 1., ..., 1., 1., 1.]],\n",
       "\n",
       "        [[1., 1., 1., ..., 1., 1., 1.],\n",
       "         [1., 1., 1., ..., 1., 1., 1.],\n",
       "         [1., 1., 1., ..., 1., 1., 1.],\n",
       "         ...,\n",
       "         [1., 1., 1., ..., 1., 1., 1.],\n",
       "         [1., 1., 1., ..., 1., 1., 1.],\n",
       "         [1., 1., 1., ..., 1., 1., 1.]]],\n",
       "\n",
       "\n",
       "       [[[1., 1., 1., ..., 1., 1., 1.],\n",
       "         [1., 1., 1., ..., 1., 1., 1.],\n",
       "         [1., 1., 1., ..., 1., 1., 1.],\n",
       "         ...,\n",
       "         [1., 1., 1., ..., 1., 1., 1.],\n",
       "         [1., 1., 1., ..., 1., 1., 1.],\n",
       "         [1., 1., 1., ..., 1., 1., 1.]],\n",
       "\n",
       "        [[1., 1., 1., ..., 1., 1., 1.],\n",
       "         [1., 1., 1., ..., 1., 1., 1.],\n",
       "         [1., 1., 1., ..., 1., 1., 1.],\n",
       "         ...,\n",
       "         [1., 1., 1., ..., 1., 1., 1.],\n",
       "         [1., 1., 1., ..., 1., 1., 1.],\n",
       "         [1., 1., 1., ..., 1., 1., 1.]],\n",
       "\n",
       "        [[1., 1., 1., ..., 1., 1., 1.],\n",
       "         [1., 1., 1., ..., 1., 1., 1.],\n",
       "         [1., 1., 1., ..., 1., 1., 1.],\n",
       "         ...,\n",
       "         [1., 1., 1., ..., 1., 1., 1.],\n",
       "         [1., 1., 1., ..., 1., 1., 1.],\n",
       "         [1., 1., 1., ..., 1., 1., 1.]]],\n",
       "\n",
       "\n",
       "       [[[1., 1., 1., ..., 1., 1., 1.],\n",
       "         [1., 1., 1., ..., 1., 1., 1.],\n",
       "         [1., 1., 1., ..., 1., 1., 1.],\n",
       "         ...,\n",
       "         [1., 1., 1., ..., 1., 1., 1.],\n",
       "         [1., 1., 1., ..., 1., 1., 1.],\n",
       "         [1., 1., 1., ..., 1., 1., 1.]],\n",
       "\n",
       "        [[1., 1., 1., ..., 1., 1., 1.],\n",
       "         [1., 1., 1., ..., 1., 1., 1.],\n",
       "         [1., 1., 1., ..., 1., 1., 1.],\n",
       "         ...,\n",
       "         [1., 1., 1., ..., 1., 1., 1.],\n",
       "         [1., 1., 1., ..., 1., 1., 1.],\n",
       "         [1., 1., 1., ..., 1., 1., 1.]],\n",
       "\n",
       "        [[1., 1., 1., ..., 1., 1., 1.],\n",
       "         [1., 1., 1., ..., 1., 1., 1.],\n",
       "         [1., 1., 1., ..., 1., 1., 1.],\n",
       "         ...,\n",
       "         [1., 1., 1., ..., 1., 1., 1.],\n",
       "         [1., 1., 1., ..., 1., 1., 1.],\n",
       "         [1., 1., 1., ..., 1., 1., 1.]]]])"
      ]
     },
     "execution_count": 38,
     "metadata": {},
     "output_type": "execute_result"
    }
   ],
   "source": [
    "imgs"
   ]
  },
  {
   "cell_type": "code",
   "execution_count": 39,
   "metadata": {},
   "outputs": [
    {
     "data": {
      "text/plain": [
       "(4, 3, 28, 28)"
      ]
     },
     "execution_count": 39,
     "metadata": {},
     "output_type": "execute_result"
    }
   ],
   "source": [
    "imgs.shape"
   ]
  },
  {
   "cell_type": "code",
   "execution_count": 40,
   "metadata": {},
   "outputs": [
    {
     "data": {
      "text/plain": [
       "(4, 28, 28, 3)"
      ]
     },
     "execution_count": 40,
     "metadata": {},
     "output_type": "execute_result"
    }
   ],
   "source": [
    "trans_imgs = imgs.transpose([0,2,3,1]) # trans_imgs = np.transpose(imgs, [0,2,3,1])\n",
    "trans_imgs.shape"
   ]
  },
  {
   "cell_type": "markdown",
   "metadata": {},
   "source": [
    "## 6.2 선형 연립방정식의 풀이"
   ]
  },
  {
   "cell_type": "code",
   "execution_count": 42,
   "metadata": {},
   "outputs": [],
   "source": [
    "X = [2,3]\n",
    "y = [6.8,7.3]"
   ]
  },
  {
   "cell_type": "code",
   "execution_count": 43,
   "metadata": {},
   "outputs": [],
   "source": [
    "A = np.c_[X, np.ones(2)]  # np.columns_stack((X, np.ones(2)))\n",
    "B = np.array(y)"
   ]
  },
  {
   "cell_type": "code",
   "execution_count": 45,
   "metadata": {},
   "outputs": [
    {
     "data": {
      "text/plain": [
       "array([[2., 1.],\n",
       "       [3., 1.]])"
      ]
     },
     "execution_count": 45,
     "metadata": {},
     "output_type": "execute_result"
    }
   ],
   "source": [
    "A"
   ]
  },
  {
   "cell_type": "code",
   "execution_count": 44,
   "metadata": {
    "scrolled": true
   },
   "outputs": [
    {
     "data": {
      "text/plain": [
       "array([[ 2., -5.],\n",
       "       [-5., 13.]])"
      ]
     },
     "execution_count": 44,
     "metadata": {},
     "output_type": "execute_result"
    }
   ],
   "source": [
    "np.linalg.inv(A.T @ A)"
   ]
  },
  {
   "cell_type": "code",
   "execution_count": 47,
   "metadata": {},
   "outputs": [
    {
     "data": {
      "text/plain": [
       "array([0.5, 5.8])"
      ]
     },
     "execution_count": 47,
     "metadata": {},
     "output_type": "execute_result"
    }
   ],
   "source": [
    "np.linalg.inv(A) @ B"
   ]
  },
  {
   "cell_type": "code",
   "execution_count": 26,
   "metadata": {
    "scrolled": true
   },
   "outputs": [
    {
     "data": {
      "text/plain": [
       "array([0.5, 5.8])"
      ]
     },
     "execution_count": 26,
     "metadata": {},
     "output_type": "execute_result"
    }
   ],
   "source": [
    "np.linalg.inv(A.T @ A) @ A.T @ B"
   ]
  },
  {
   "cell_type": "code",
   "execution_count": 48,
   "metadata": {},
   "outputs": [
    {
     "data": {
      "text/plain": [
       "array([6.8, 7.3])"
      ]
     },
     "execution_count": 48,
     "metadata": {},
     "output_type": "execute_result"
    }
   ],
   "source": [
    "np.multiply(X, 0.5) + 5.8"
   ]
  },
  {
   "cell_type": "code",
   "execution_count": 49,
   "metadata": {},
   "outputs": [
    {
     "data": {
      "text/plain": [
       "[<matplotlib.lines.Line2D at 0x240f66e9a30>]"
      ]
     },
     "execution_count": 49,
     "metadata": {},
     "output_type": "execute_result"
    },
    {
     "data": {
      "image/png": "[encoded data removed]",
      "text/plain": [
       "<Figure size 640x480 with 1 Axes>"
      ]
     },
     "metadata": {},
     "output_type": "display_data"
    }
   ],
   "source": [
    "import matplotlib.pyplot as plt\n",
    "\n",
    "plt.scatter(X,y)\n",
    "plt.plot(X, np.multiply(X,0.5) + 5.8)"
   ]
  },
  {
   "cell_type": "code",
   "execution_count": 50,
   "metadata": {},
   "outputs": [],
   "source": [
    "X = [32,64,96,118,126,144,152,158]\n",
    "y = [17,24,62,49,52,105,130,125]"
   ]
  },
  {
   "cell_type": "code",
   "execution_count": 51,
   "metadata": {},
   "outputs": [
    {
     "data": {
      "text/plain": [
       "(8, 8)"
      ]
     },
     "execution_count": 51,
     "metadata": {},
     "output_type": "execute_result"
    }
   ],
   "source": [
    "len(X), len(y)"
   ]
  },
  {
   "cell_type": "code",
   "execution_count": 52,
   "metadata": {},
   "outputs": [],
   "source": [
    "A = np.c_[X, np.ones(len(X))]"
   ]
  },
  {
   "cell_type": "code",
   "execution_count": 53,
   "metadata": {},
   "outputs": [
    {
     "data": {
      "text/plain": [
       "array([[ 32.,   1.],\n",
       "       [ 64.,   1.],\n",
       "       [ 96.,   1.],\n",
       "       [118.,   1.],\n",
       "       [126.,   1.],\n",
       "       [144.,   1.],\n",
       "       [152.,   1.],\n",
       "       [158.,   1.]])"
      ]
     },
     "execution_count": 53,
     "metadata": {},
     "output_type": "execute_result"
    }
   ],
   "source": [
    "A"
   ]
  },
  {
   "cell_type": "code",
   "execution_count": 54,
   "metadata": {},
   "outputs": [
    {
     "data": {
      "text/plain": [
       "array([ 17,  24,  62,  49,  52, 105, 130, 125])"
      ]
     },
     "execution_count": 54,
     "metadata": {},
     "output_type": "execute_result"
    }
   ],
   "source": [
    "B = np.array(y)\n",
    "B"
   ]
  },
  {
   "cell_type": "code",
   "execution_count": 55,
   "metadata": {},
   "outputs": [
    {
     "data": {
      "text/plain": [
       "(0.8796266379465089, -27.35846347154905)"
      ]
     },
     "execution_count": 55,
     "metadata": {},
     "output_type": "execute_result"
    }
   ],
   "source": [
    "inv_A = np.linalg.inv(A.T @ A) @ A.T\n",
    "w, b = inv_A @ B\n",
    "w, b"
   ]
  },
  {
   "cell_type": "code",
   "execution_count": 56,
   "metadata": {},
   "outputs": [
    {
     "data": {
      "text/plain": [
       "array([  0.87962664, -27.35846347])"
      ]
     },
     "execution_count": 56,
     "metadata": {},
     "output_type": "execute_result"
    }
   ],
   "source": [
    "inv_A @ B"
   ]
  },
  {
   "cell_type": "code",
   "execution_count": 57,
   "metadata": {},
   "outputs": [
    {
     "data": {
      "image/png": "[encoded data removed]",
      "text/plain": [
       "<Figure size 640x480 with 1 Axes>"
      ]
     },
     "metadata": {},
     "output_type": "display_data"
    }
   ],
   "source": [
    "plt.scatter(X,y)\n",
    "plt.plot(X, np.multiply(X,w) + b)\n",
    "plt.show()"
   ]
  },
  {
   "cell_type": "markdown",
   "metadata": {},
   "source": [
    "## 7절 유용한 정보 및 팁\n",
    "### 7.1 shape 자동 지정하기"
   ]
  },
  {
   "cell_type": "code",
   "execution_count": 58,
   "metadata": {},
   "outputs": [],
   "source": [
    "A = np.arange(30)"
   ]
  },
  {
   "cell_type": "code",
   "execution_count": 59,
   "metadata": {},
   "outputs": [],
   "source": [
    "A.shape = 2, -1, 3"
   ]
  },
  {
   "cell_type": "code",
   "execution_count": 60,
   "metadata": {},
   "outputs": [
    {
     "data": {
      "text/plain": [
       "array([[[ 0,  1,  2],\n",
       "        [ 3,  4,  5],\n",
       "        [ 6,  7,  8],\n",
       "        [ 9, 10, 11],\n",
       "        [12, 13, 14]],\n",
       "\n",
       "       [[15, 16, 17],\n",
       "        [18, 19, 20],\n",
       "        [21, 22, 23],\n",
       "        [24, 25, 26],\n",
       "        [27, 28, 29]]])"
      ]
     },
     "execution_count": 60,
     "metadata": {},
     "output_type": "execute_result"
    }
   ],
   "source": [
    "A"
   ]
  },
  {
   "cell_type": "code",
   "execution_count": 61,
   "metadata": {},
   "outputs": [
    {
     "data": {
      "text/plain": [
       "(2, 5, 3)"
      ]
     },
     "execution_count": 61,
     "metadata": {},
     "output_type": "execute_result"
    }
   ],
   "source": [
    "A.shape"
   ]
  },
  {
   "cell_type": "markdown",
   "metadata": {},
   "source": [
    "### 7.2 히스토그램"
   ]
  },
  {
   "cell_type": "code",
   "execution_count": 73,
   "metadata": {},
   "outputs": [],
   "source": [
    "mu, sigma = 2, 0.5\n",
    "v = np.random.normal(mu, sigma, 10000)  #다음 코드는 평균이 2이고 표준편차가 0.5인 임의 데이터 10000개를 생성"
   ]
  },
  {
   "cell_type": "code",
   "execution_count": 74,
   "metadata": {},
   "outputs": [],
   "source": [
    "(n, bins) = np.histogram(v, bins = 50, density = True)\n",
    "\n",
    "# 그래프가 아닌 데이터만 제공"
   ]
  },
  {
   "cell_type": "code",
   "execution_count": 75,
   "metadata": {},
   "outputs": [
    {
     "data": {
      "text/plain": [
       "array([0.00403868, 0.00403868, 0.00269245, 0.00673113, 0.0107698 ,\n",
       "       0.01884715, 0.02288583, 0.04981033, 0.06731125, 0.07808105,\n",
       "       0.09423575, 0.12250648, 0.1777017 , 0.2315507 , 0.27059123,\n",
       "       0.33790248, 0.35540341, 0.49944948, 0.58022299, 0.62195596,\n",
       "       0.65022669, 0.74176999, 0.76196337, 0.74042376, 0.78754164,\n",
       "       0.80773502, 0.67176629, 0.71215304, 0.64214934, 0.63407199,\n",
       "       0.53983624, 0.45502406, 0.36078831, 0.34463361, 0.27059123,\n",
       "       0.20731865, 0.16558568, 0.14269985, 0.07808105, 0.06731125,\n",
       "       0.04038675, 0.0269245 , 0.02423205, 0.00673113, 0.0053849 ,\n",
       "       0.00673113, 0.0053849 , 0.        , 0.00403868, 0.00403868])"
      ]
     },
     "execution_count": 75,
     "metadata": {},
     "output_type": "execute_result"
    }
   ],
   "source": [
    "n"
   ]
  },
  {
   "cell_type": "code",
   "execution_count": 76,
   "metadata": {
    "scrolled": true
   },
   "outputs": [
    {
     "data": {
      "text/plain": [
       "50"
      ]
     },
     "execution_count": 76,
     "metadata": {},
     "output_type": "execute_result"
    }
   ],
   "source": [
    "len(n)"
   ]
  },
  {
   "cell_type": "code",
   "execution_count": 79,
   "metadata": {},
   "outputs": [
    {
     "data": {
      "text/plain": [
       "array([0.18839747, 0.26267926, 0.33696104, 0.41124283, 0.48552462,\n",
       "       0.5598064 , 0.63408819, 0.70836997, 0.78265176, 0.85693355,\n",
       "       0.93121533, 1.00549712, 1.07977891, 1.15406069, 1.22834248,\n",
       "       1.30262427, 1.37690605, 1.45118784, 1.52546963, 1.59975141,\n",
       "       1.6740332 , 1.74831499, 1.82259677, 1.89687856, 1.97116034,\n",
       "       2.04544213, 2.11972392, 2.1940057 , 2.26828749, 2.34256928,\n",
       "       2.41685106, 2.49113285, 2.56541464, 2.63969642, 2.71397821,\n",
       "       2.78826   , 2.86254178, 2.93682357, 3.01110536, 3.08538714,\n",
       "       3.15966893, 3.23395071, 3.3082325 , 3.38251429, 3.45679607,\n",
       "       3.53107786, 3.60535965, 3.67964143, 3.75392322, 3.82820501,\n",
       "       3.90248679])"
      ]
     },
     "execution_count": 79,
     "metadata": {},
     "output_type": "execute_result"
    }
   ],
   "source": [
    "bins"
   ]
  },
  {
   "cell_type": "code",
   "execution_count": 80,
   "metadata": {},
   "outputs": [
    {
     "data": {
      "text/plain": [
       "(51,)"
      ]
     },
     "execution_count": 80,
     "metadata": {},
     "output_type": "execute_result"
    }
   ],
   "source": [
    "bins.shape"
   ]
  },
  {
   "cell_type": "code",
   "execution_count": 85,
   "metadata": {},
   "outputs": [
    {
     "data": {
      "text/plain": [
       "array([0.26267926, 0.33696104, 0.41124283, 0.48552462, 0.5598064 ,\n",
       "       0.63408819, 0.70836997, 0.78265176, 0.85693355, 0.93121533,\n",
       "       1.00549712, 1.07977891, 1.15406069, 1.22834248, 1.30262427,\n",
       "       1.37690605, 1.45118784, 1.52546963, 1.59975141, 1.6740332 ,\n",
       "       1.74831499, 1.82259677, 1.89687856, 1.97116034, 2.04544213,\n",
       "       2.11972392, 2.1940057 , 2.26828749, 2.34256928, 2.41685106,\n",
       "       2.49113285, 2.56541464, 2.63969642, 2.71397821, 2.78826   ,\n",
       "       2.86254178, 2.93682357, 3.01110536, 3.08538714, 3.15966893,\n",
       "       3.23395071, 3.3082325 , 3.38251429, 3.45679607, 3.53107786,\n",
       "       3.60535965, 3.67964143, 3.75392322, 3.82820501, 3.90248679])"
      ]
     },
     "execution_count": 85,
     "metadata": {},
     "output_type": "execute_result"
    }
   ],
   "source": [
    "bins[1:]"
   ]
  },
  {
   "cell_type": "code",
   "execution_count": 86,
   "metadata": {},
   "outputs": [
    {
     "data": {
      "text/plain": [
       "array([0.18839747, 0.26267926, 0.33696104, 0.41124283, 0.48552462,\n",
       "       0.5598064 , 0.63408819, 0.70836997, 0.78265176, 0.85693355,\n",
       "       0.93121533, 1.00549712, 1.07977891, 1.15406069, 1.22834248,\n",
       "       1.30262427, 1.37690605, 1.45118784, 1.52546963, 1.59975141,\n",
       "       1.6740332 , 1.74831499, 1.82259677, 1.89687856, 1.97116034,\n",
       "       2.04544213, 2.11972392, 2.1940057 , 2.26828749, 2.34256928,\n",
       "       2.41685106, 2.49113285, 2.56541464, 2.63969642, 2.71397821,\n",
       "       2.78826   , 2.86254178, 2.93682357, 3.01110536, 3.08538714,\n",
       "       3.15966893, 3.23395071, 3.3082325 , 3.38251429, 3.45679607,\n",
       "       3.53107786, 3.60535965, 3.67964143, 3.75392322, 3.82820501])"
      ]
     },
     "execution_count": 86,
     "metadata": {},
     "output_type": "execute_result"
    }
   ],
   "source": [
    "bins[:-1]"
   ]
  },
  {
   "cell_type": "code",
   "execution_count": 87,
   "metadata": {},
   "outputs": [
    {
     "data": {
      "text/plain": [
       "array([0.22553836, 0.29982015, 0.37410194, 0.44838372, 0.52266551,\n",
       "       0.59694729, 0.67122908, 0.74551087, 0.81979265, 0.89407444,\n",
       "       0.96835623, 1.04263801, 1.1169198 , 1.19120159, 1.26548337,\n",
       "       1.33976516, 1.41404695, 1.48832873, 1.56261052, 1.63689231,\n",
       "       1.71117409, 1.78545588, 1.85973766, 1.93401945, 2.00830124,\n",
       "       2.08258302, 2.15686481, 2.2311466 , 2.30542838, 2.37971017,\n",
       "       2.45399196, 2.52827374, 2.60255553, 2.67683732, 2.7511191 ,\n",
       "       2.82540089, 2.89968268, 2.97396446, 3.04824625, 3.12252804,\n",
       "       3.19680982, 3.27109161, 3.34537339, 3.41965518, 3.49393697,\n",
       "       3.56821875, 3.64250054, 3.71678233, 3.79106411, 3.8653459 ])"
      ]
     },
     "execution_count": 87,
     "metadata": {},
     "output_type": "execute_result"
    }
   ],
   "source": [
    "(bins[1:]+bins[:-1])/2"
   ]
  },
  {
   "cell_type": "code",
   "execution_count": 88,
   "metadata": {},
   "outputs": [
    {
     "data": {
      "image/png": "[encoded data removed]",
      "text/plain": [
       "<Figure size 640x480 with 1 Axes>"
      ]
     },
     "metadata": {},
     "output_type": "display_data"
    }
   ],
   "source": [
    "plt.plot((bins[1:]+bins[:-1])/2, n)\n",
    "plt.show()"
   ]
  },
  {
   "cell_type": "code",
   "execution_count": 94,
   "metadata": {},
   "outputs": [
    {
     "data": {
      "text/plain": [
       "(array([0.00403868, 0.00403868, 0.00269245, 0.00673113, 0.0107698 ,\n",
       "        0.01884715, 0.02288583, 0.04981033, 0.06731125, 0.07808105,\n",
       "        0.09423575, 0.12250648, 0.1777017 , 0.2315507 , 0.27059123,\n",
       "        0.33790248, 0.35540341, 0.49944948, 0.58022299, 0.62195596,\n",
       "        0.65022669, 0.74176999, 0.76196337, 0.74042376, 0.78754164,\n",
       "        0.80773502, 0.67176629, 0.71215304, 0.64214934, 0.63407199,\n",
       "        0.53983624, 0.45502406, 0.36078831, 0.34463361, 0.27059123,\n",
       "        0.20731865, 0.16558568, 0.14269985, 0.07808105, 0.06731125,\n",
       "        0.04038675, 0.0269245 , 0.02423205, 0.00673113, 0.0053849 ,\n",
       "        0.00673113, 0.0053849 , 0.        , 0.00403868, 0.00403868]),\n",
       " array([0.18839747, 0.26267926, 0.33696104, 0.41124283, 0.48552462,\n",
       "        0.5598064 , 0.63408819, 0.70836997, 0.78265176, 0.85693355,\n",
       "        0.93121533, 1.00549712, 1.07977891, 1.15406069, 1.22834248,\n",
       "        1.30262427, 1.37690605, 1.45118784, 1.52546963, 1.59975141,\n",
       "        1.6740332 , 1.74831499, 1.82259677, 1.89687856, 1.97116034,\n",
       "        2.04544213, 2.11972392, 2.1940057 , 2.26828749, 2.34256928,\n",
       "        2.41685106, 2.49113285, 2.56541464, 2.63969642, 2.71397821,\n",
       "        2.78826   , 2.86254178, 2.93682357, 3.01110536, 3.08538714,\n",
       "        3.15966893, 3.23395071, 3.3082325 , 3.38251429, 3.45679607,\n",
       "        3.53107786, 3.60535965, 3.67964143, 3.75392322, 3.82820501,\n",
       "        3.90248679]),\n",
       " <BarContainer object of 50 artists>)"
      ]
     },
     "execution_count": 94,
     "metadata": {},
     "output_type": "execute_result"
    },
    {
     "data": {
      "image/png": "[encoded data removed]",
      "text/plain": [
       "<Figure size 640x480 with 1 Axes>"
      ]
     },
     "metadata": {},
     "output_type": "display_data"
    }
   ],
   "source": [
    "plt.hist(v, bins = 50, density = 1)"
   ]
  },
  {
   "cell_type": "code",
   "execution_count": 100,
   "metadata": {},
   "outputs": [],
   "source": [
    "# 실습예제\n",
    "from sklearn.datasets import load_iris\n",
    "iris = load_iris()"
   ]
  },
  {
   "cell_type": "code",
   "execution_count": 101,
   "metadata": {},
   "outputs": [],
   "source": [
    "iris_data = iris.data"
   ]
  },
  {
   "cell_type": "code",
   "execution_count": 103,
   "metadata": {
    "scrolled": false
   },
   "outputs": [
    {
     "data": {
      "text/plain": [
       "array([[<AxesSubplot:title={'center':'sepal length (cm)'}>,\n",
       "        <AxesSubplot:title={'center':'sepal width (cm)'}>],\n",
       "       [<AxesSubplot:title={'center':'petal length (cm)'}>,\n",
       "        <AxesSubplot:title={'center':'petal width (cm)'}>]], dtype=object)"
      ]
     },
     "execution_count": 103,
     "metadata": {},
     "output_type": "execute_result"
    },
    {
     "data": {
      "image/png": "[encoded data removed]",
      "text/plain": [
       "<Figure size 640x480 with 4 Axes>"
      ]
     },
     "metadata": {},
     "output_type": "display_data"
    }
   ],
   "source": [
    "import pandas as pd\n",
    "\n",
    "pd.DataFrame(iris_data, columns = iris.feature_names).hist(bins = 10)"
   ]
  },
  {
   "cell_type": "markdown",
   "metadata": {},
   "source": [
    "## 연습문제"
   ]
  },
  {
   "cell_type": "code",
   "execution_count": 50,
   "metadata": {},
   "outputs": [],
   "source": [
    "# 1)\n",
    "\n",
    "import numpy as np\n",
    "from sklearn import datasets\n",
    "iris = datasets.load_iris()\n",
    "iris_data = iris.data"
   ]
  },
  {
   "cell_type": "code",
   "execution_count": 58,
   "metadata": {},
   "outputs": [
    {
     "data": {
      "text/plain": [
       "array([5.84333333, 3.05733333, 3.758     , 1.19933333])"
      ]
     },
     "execution_count": 58,
     "metadata": {},
     "output_type": "execute_result"
    }
   ],
   "source": [
    "iris_data.mean(axis = 0)"
   ]
  },
  {
   "cell_type": "code",
   "execution_count": 62,
   "metadata": {},
   "outputs": [
    {
     "data": {
      "text/plain": [
       "array([[5.1, 3.5, 1.4, 0.2],\n",
       "       [4.9, 3. , 1.4, 0.2],\n",
       "       [4.7, 3.2, 1.3, 0.2],\n",
       "       [4.6, 3.1, 1.5, 0.2],\n",
       "       [5. , 3.6, 1.4, 0.2]])"
      ]
     },
     "execution_count": 62,
     "metadata": {},
     "output_type": "execute_result"
    }
   ],
   "source": [
    "iris_data[:5,:]"
   ]
  },
  {
   "cell_type": "code",
   "execution_count": 63,
   "metadata": {},
   "outputs": [
    {
     "data": {
      "text/plain": [
       "array([[5.1, 3.5, 1.4],\n",
       "       [4.9, 3. , 1.4],\n",
       "       [4.7, 3.2, 1.3],\n",
       "       [4.6, 3.1, 1.5],\n",
       "       [5. , 3.6, 1.4]])"
      ]
     },
     "execution_count": 63,
     "metadata": {},
     "output_type": "execute_result"
    }
   ],
   "source": [
    "iris_data[:5,:-1]"
   ]
  },
  {
   "cell_type": "code",
   "execution_count": 66,
   "metadata": {},
   "outputs": [
    {
     "data": {
      "text/plain": [
       "array([0.2, 0.2, 0.2, 0.2, 0.2])"
      ]
     },
     "execution_count": 66,
     "metadata": {},
     "output_type": "execute_result"
    }
   ],
   "source": [
    "iris_data[:5,:][:,3]"
   ]
  },
  {
   "cell_type": "code",
   "execution_count": 75,
   "metadata": {},
   "outputs": [],
   "source": [
    "a = iris_data[:5,:][:,3]\n",
    "a.shape = 5, 1"
   ]
  },
  {
   "cell_type": "code",
   "execution_count": 76,
   "metadata": {},
   "outputs": [
    {
     "data": {
      "text/plain": [
       "array([[0.2],\n",
       "       [0.2],\n",
       "       [0.2],\n",
       "       [0.2],\n",
       "       [0.2]])"
      ]
     },
     "execution_count": 76,
     "metadata": {},
     "output_type": "execute_result"
    }
   ],
   "source": [
    "a"
   ]
  },
  {
   "cell_type": "code",
   "execution_count": 79,
   "metadata": {},
   "outputs": [
    {
     "data": {
      "text/plain": [
       "array([[5.1, 3.5, 1.4, 0.2],\n",
       "       [4.9, 3. , 1.4, 0.2],\n",
       "       [4.7, 3.2, 1.3, 0.2],\n",
       "       [4.6, 3.1, 1.5, 0.2],\n",
       "       [5. , 3.6, 1.4, 0.2]])"
      ]
     },
     "execution_count": 79,
     "metadata": {},
     "output_type": "execute_result"
    }
   ],
   "source": [
    "np.column_stack((iris_data[:5,:-1],a))"
   ]
  },
  {
   "cell_type": "code",
   "execution_count": 82,
   "metadata": {},
   "outputs": [
    {
     "data": {
      "text/plain": [
       "array([[False,  True, False, False],\n",
       "       [False, False, False, False],\n",
       "       [False,  True, False, False],\n",
       "       [False,  True, False, False],\n",
       "       [False,  True, False, False]])"
      ]
     },
     "execution_count": 82,
     "metadata": {},
     "output_type": "execute_result"
    }
   ],
   "source": [
    "iris_data[:5,:]>iris_data.mean(axis = 0)"
   ]
  },
  {
   "cell_type": "code",
   "execution_count": 81,
   "metadata": {},
   "outputs": [
    {
     "data": {
      "text/plain": [
       "array([5.84333333, 3.05733333, 3.758     , 1.19933333])"
      ]
     },
     "execution_count": 81,
     "metadata": {},
     "output_type": "execute_result"
    }
   ],
   "source": [
    "iris_data.mean(axis = 0)"
   ]
  },
  {
   "cell_type": "code",
   "execution_count": 87,
   "metadata": {},
   "outputs": [
    {
     "data": {
      "text/plain": [
       "array([[False,  True, False, False],\n",
       "       [False, False, False, False],\n",
       "       [False,  True, False, False],\n",
       "       [False,  True, False, False],\n",
       "       [False,  True, False, False]])"
      ]
     },
     "execution_count": 87,
     "metadata": {},
     "output_type": "execute_result"
    }
   ],
   "source": [
    "iris_data[:5,:]>iris_data.mean(axis = 0)"
   ]
  },
  {
   "cell_type": "code",
   "execution_count": 88,
   "metadata": {},
   "outputs": [
    {
     "data": {
      "text/plain": [
       "array([[5.1, 3.5, 1.4, 0.2],\n",
       "       [4.9, 3. , 1.4, 0.2],\n",
       "       [4.7, 3.2, 1.3, 0.2],\n",
       "       [4.6, 3.1, 1.5, 0.2],\n",
       "       [5. , 3.6, 1.4, 0.2]])"
      ]
     },
     "execution_count": 88,
     "metadata": {},
     "output_type": "execute_result"
    }
   ],
   "source": [
    "iris_sample = iris_data[0:5,]\n",
    "iris_sample"
   ]
  },
  {
   "cell_type": "code",
   "execution_count": 92,
   "metadata": {},
   "outputs": [
    {
     "data": {
      "text/plain": [
       "array([5.1, 3.5, 4.9, 1.5, 5. , 3.6])"
      ]
     },
     "execution_count": 92,
     "metadata": {},
     "output_type": "execute_result"
    }
   ],
   "source": [
    "iris_sample = iris_data[0:5,]\n",
    "iris_sample[iris_sample > np.mean(iris_sample, axis = 0)]"
   ]
  },
  {
   "cell_type": "markdown",
   "metadata": {},
   "source": [
    "### 8.2"
   ]
  },
  {
   "cell_type": "code",
   "execution_count": 94,
   "metadata": {},
   "outputs": [
    {
     "data": {
      "text/plain": [
       "array([[ 0,  1,  2,  3],\n",
       "       [ 4,  5,  6,  7],\n",
       "       [ 8,  9, 10, 11]])"
      ]
     },
     "execution_count": 94,
     "metadata": {},
     "output_type": "execute_result"
    }
   ],
   "source": [
    "A = np.arange(12).reshape(3,4)\n",
    "A"
   ]
  },
  {
   "cell_type": "code",
   "execution_count": 95,
   "metadata": {},
   "outputs": [],
   "source": [
    "A = np.arange(12).reshape(3,4)"
   ]
  },
  {
   "cell_type": "code",
   "execution_count": 98,
   "metadata": {},
   "outputs": [
    {
     "data": {
      "text/plain": [
       "array([[0, 1, 2, 3],\n",
       "       [4, 5, 6, 7]])"
      ]
     },
     "execution_count": 98,
     "metadata": {},
     "output_type": "execute_result"
    }
   ],
   "source": [
    "A[0:2,]"
   ]
  },
  {
   "cell_type": "markdown",
   "metadata": {},
   "source": [
    "## random 서브모듈"
   ]
  },
  {
   "cell_type": "markdown",
   "metadata": {},
   "source": [
    " - rand : 0과 1 사이의 분포로 랜덤한 ndarray 생성"
   ]
  },
  {
   "cell_type": "code",
   "execution_count": 2,
   "metadata": {},
   "outputs": [
    {
     "data": {
      "text/plain": [
       "array([[[0.65293126, 0.82384484, 0.94860085, 0.06369408],\n",
       "        [0.98619532, 0.86307928, 0.27812589, 0.43450802],\n",
       "        [0.12179456, 0.50052874, 0.46733687, 0.29835261]],\n",
       "\n",
       "       [[0.26979619, 0.79172567, 0.09707868, 0.901101  ],\n",
       "        [0.95626524, 0.64243792, 0.58572294, 0.52088299],\n",
       "        [0.90103127, 0.51230194, 0.17681767, 0.76704354]]])"
      ]
     },
     "execution_count": 2,
     "metadata": {},
     "output_type": "execute_result"
    }
   ],
   "source": [
    "import numpy as np\n",
    "\n",
    "np.random.rand(2,3,4)"
   ]
  },
  {
   "cell_type": "markdown",
   "metadata": {},
   "source": [
    " - randn함수 : 정규분포로 샘플링된 랜덤 ndarray 생성"
   ]
  },
  {
   "cell_type": "code",
   "execution_count": 4,
   "metadata": {},
   "outputs": [
    {
     "data": {
      "text/plain": [
       "array([[[ 1.24480794,  0.20333736,  0.85864764,  0.73802948],\n",
       "        [-0.82613782,  0.53171476, -1.40291195, -0.8204956 ],\n",
       "        [-0.95875384, -0.54494534, -0.84703267,  1.61989844],\n",
       "        [ 0.25785582, -0.32851729,  0.98558091, -0.31516034]],\n",
       "\n",
       "       [[ 0.66839815, -0.74223672,  1.72778018,  0.47257242],\n",
       "        [ 0.9203487 , -0.21279548, -1.15499636,  0.92826483],\n",
       "        [ 0.55360484, -1.99286611,  0.33532345, -2.23550238],\n",
       "        [-0.76687049,  0.49545815, -0.41062492,  0.22495594]],\n",
       "\n",
       "       [[-1.40230409,  0.72799825,  0.70964257, -1.05087336],\n",
       "        [ 0.09396192, -0.26521947, -0.09471301, -0.20993204],\n",
       "        [-2.69337899, -0.98637752,  0.66231985, -1.28471393],\n",
       "        [-0.54265074, -0.1036879 ,  1.81392239,  0.26432536]]])"
      ]
     },
     "execution_count": 4,
     "metadata": {},
     "output_type": "execute_result"
    }
   ],
   "source": [
    "np.random.randn(3,4,4)"
   ]
  },
  {
   "cell_type": "code",
   "execution_count": 7,
   "metadata": {},
   "outputs": [],
   "source": [
    " a = np.random.randn(100)"
   ]
  },
  {
   "cell_type": "code",
   "execution_count": 13,
   "metadata": {},
   "outputs": [
    {
     "data": {
      "text/plain": [
       "(array([ 2.,  6.,  7., 12., 16., 19., 13., 11.,  8.,  6.]),\n",
       " array([-2.40760472, -1.94723148, -1.48685824, -1.026485  , -0.56611176,\n",
       "        -0.10573851,  0.35463473,  0.81500797,  1.27538121,  1.73575445,\n",
       "         2.19612769]),\n",
       " <BarContainer object of 10 artists>)"
      ]
     },
     "execution_count": 13,
     "metadata": {},
     "output_type": "execute_result"
    },
    {
     "data": {
      "image/png": "[encoded data removed]",
      "text/plain": [
       "<Figure size 640x480 with 1 Axes>"
      ]
     },
     "metadata": {},
     "output_type": "display_data"
    }
   ],
   "source": [
    "import matplotlib.pyplot as plt\n",
    "\n",
    "a = list(a)\n",
    "plt.hist(a)"
   ]
  },
  {
   "cell_type": "code",
   "execution_count": 17,
   "metadata": {
    "scrolled": true
   },
   "outputs": [
    {
     "data": {
      "text/plain": [
       "0   -0.508663\n",
       "dtype: float64"
      ]
     },
     "execution_count": 17,
     "metadata": {},
     "output_type": "execute_result"
    }
   ],
   "source": [
    "import pandas as pd\n",
    "\n",
    "a = pd.DataFrame(a)\n",
    "\n",
    "a.kurt()"
   ]
  },
  {
   "cell_type": "code",
   "execution_count": 18,
   "metadata": {},
   "outputs": [
    {
     "data": {
      "text/plain": [
       "0   -0.04901\n",
       "dtype: float64"
      ]
     },
     "execution_count": 18,
     "metadata": {},
     "output_type": "execute_result"
    }
   ],
   "source": [
    "a.skew()"
   ]
  },
  {
   "cell_type": "markdown",
   "metadata": {},
   "source": [
    " - randint : 특정 정수 사이에서 랜덤하게 샘플링"
   ]
  },
  {
   "cell_type": "code",
   "execution_count": 19,
   "metadata": {},
   "outputs": [
    {
     "data": {
      "text/plain": [
       "array([45, 87, 83, 51, 24,  5, 81, 17, 73, 65,  6, 85, 69,  1, 75, 13, 26,\n",
       "       33, 45, 45,  5, 97, 16,  1, 12, 40, 64,  9, 97, 21,  9, 25, 55, 36,\n",
       "       33, 88, 45, 27, 93, 11, 44, 74, 81, 88, 99, 23, 87, 20, 95, 55, 85,\n",
       "       49, 41, 57, 73, 24,  2, 49, 52, 44, 83, 47, 39, 12, 86, 47, 30, 59,\n",
       "        1, 95, 10, 56, 94,  4, 34, 78,  5, 90, 70, 91, 71, 10, 56, 98, 68,\n",
       "       76, 32, 40, 22, 28,  8, 28, 16, 16, 69, 44, 73, 46,  2, 61])"
      ]
     },
     "execution_count": 19,
     "metadata": {},
     "output_type": "execute_result"
    }
   ],
   "source": [
    "np.random.randint(1,100, size = 100)"
   ]
  },
  {
   "cell_type": "code",
   "execution_count": 20,
   "metadata": {},
   "outputs": [
    {
     "data": {
      "text/plain": [
       "array([[54, 95, 74, 89, 29],\n",
       "       [15, 62,  5, 69, 95],\n",
       "       [65, 32, 27, 75,  4]])"
      ]
     },
     "execution_count": 20,
     "metadata": {},
     "output_type": "execute_result"
    }
   ],
   "source": [
    "np.random.randint(1,100, size = (3,5))"
   ]
  },
  {
   "cell_type": "code",
   "execution_count": 24,
   "metadata": {},
   "outputs": [
    {
     "data": {
      "text/plain": [
       "array([ 9, 25, 68, 88, 80, 49, 11, 95, 53, 99, 54, 67, 99, 15, 35, 25, 16,\n",
       "       61, 59, 17])"
      ]
     },
     "execution_count": 24,
     "metadata": {},
     "output_type": "execute_result"
    }
   ],
   "source": [
    "np.random.seed(100)\n",
    "\n",
    "np.random.randint(1,100, 20)"
   ]
  },
  {
   "cell_type": "markdown",
   "metadata": {},
   "source": [
    " - choice\n",
    " - 주어진 1차원 ndarray로부터 랜덤으로 샘플링\n",
    " - 정수가 주어진 경우, np.arange(해당숫자) 간주"
   ]
  },
  {
   "cell_type": "code",
   "execution_count": 26,
   "metadata": {},
   "outputs": [
    {
     "data": {
      "text/plain": [
       "array([[59, 67,  7, 49],\n",
       "       [47, 65, 61, 14],\n",
       "       [55, 71, 80,  2]])"
      ]
     },
     "execution_count": 26,
     "metadata": {},
     "output_type": "execute_result"
    }
   ],
   "source": [
    "# 100까지의 값에서 3,4 행렬을 출력\n",
    "\n",
    "np.random.choice(100, size = (3,4))"
   ]
  },
  {
   "cell_type": "code",
   "execution_count": 27,
   "metadata": {},
   "outputs": [
    {
     "data": {
      "text/plain": [
       "array([[95, 20, 99, 64],\n",
       "       [54, 28, 57, 31],\n",
       "       [49, 48, 40, 39]])"
      ]
     },
     "execution_count": 27,
     "metadata": {},
     "output_type": "execute_result"
    }
   ],
   "source": [
    "x = np.arange(1,101)\n",
    "\n",
    "np.random.choice(x, size = (3,4))"
   ]
  },
  {
   "cell_type": "code",
   "execution_count": 28,
   "metadata": {},
   "outputs": [
    {
     "data": {
      "text/plain": [
       "array([[100,  12,  15,  16],\n",
       "       [  8,  28,  33,   2],\n",
       "       [ 52,  46,  41,  97]])"
      ]
     },
     "execution_count": 28,
     "metadata": {},
     "output_type": "execute_result"
    }
   ],
   "source": [
    "x = np.arange(1,101)\n",
    "\n",
    "np.random.choice(x, size = (3,4),replace = False)\n",
    "# False이면 비복원추출, True이면 복원추출"
   ]
  },
  {
   "cell_type": "markdown",
   "metadata": {},
   "source": [
    " - 확률분포에 따른 ndarray 생성\n",
    " - uniform\n",
    " - normal 등등\n",
    " - 해당 분포에 대해서 샘플을 사용하고 싶을 때"
   ]
  },
  {
   "cell_type": "code",
   "execution_count": 29,
   "metadata": {},
   "outputs": [
    {
     "data": {
      "text/plain": [
       "array([[1.17801259, 2.40297545, 1.77114424, 1.03484509, 1.10193374],\n",
       "       [1.87014348, 2.95368773, 1.18756662, 2.103039  , 2.28620629],\n",
       "       [1.88050927, 2.57774764, 2.40891508, 2.44091672, 1.99355347],\n",
       "       [2.46719115, 2.74906502, 2.11979883, 2.36082935, 1.73686169]])"
      ]
     },
     "execution_count": 29,
     "metadata": {},
     "output_type": "execute_result"
    }
   ],
   "source": [
    "# 주어진 범위에서 균등하게 개수를 뽑아준다\n",
    "\n",
    "np.random.uniform(1,3, size = (4,5))"
   ]
  },
  {
   "cell_type": "code",
   "execution_count": 32,
   "metadata": {},
   "outputs": [
    {
     "data": {
      "text/plain": [
       "(array([2., 3., 2., 2., 1., 2., 2., 1., 0., 0., 4., 3., 5., 2., 3., 1., 3.,\n",
       "        2., 2., 3., 2., 0., 1., 4., 1., 2., 2., 2., 0., 2., 3., 2., 5., 1.,\n",
       "        2., 2., 3., 4., 2., 2., 1., 2., 0., 2., 1., 3., 4., 1., 0., 1.]),\n",
       " array([1.30731742, 1.47997198, 1.65262654, 1.82528111, 1.99793567,\n",
       "        2.17059023, 2.34324479, 2.51589935, 2.68855391, 2.86120848,\n",
       "        3.03386304, 3.2065176 , 3.37917216, 3.55182672, 3.72448128,\n",
       "        3.89713585, 4.06979041, 4.24244497, 4.41509953, 4.58775409,\n",
       "        4.76040865, 4.93306322, 5.10571778, 5.27837234, 5.4510269 ,\n",
       "        5.62368146, 5.79633602, 5.96899059, 6.14164515, 6.31429971,\n",
       "        6.48695427, 6.65960883, 6.83226339, 7.00491796, 7.17757252,\n",
       "        7.35022708, 7.52288164, 7.6955362 , 7.86819077, 8.04084533,\n",
       "        8.21349989, 8.38615445, 8.55880901, 8.73146357, 8.90411814,\n",
       "        9.0767727 , 9.24942726, 9.42208182, 9.59473638, 9.76739094,\n",
       "        9.94004551]),\n",
       " <BarContainer object of 50 artists>)"
      ]
     },
     "execution_count": 32,
     "metadata": {},
     "output_type": "execute_result"
    },
    {
     "data": {
      "image/png": "[encoded data removed]",
      "text/plain": [
       "<Figure size 640x480 with 1 Axes>"
      ]
     },
     "metadata": {},
     "output_type": "display_data"
    }
   ],
   "source": [
    "a = np.random.uniform(1,10,100)\n",
    "\n",
    "plt.hist(a, bins = 50)"
   ]
  },
  {
   "cell_type": "code",
   "execution_count": 65,
   "metadata": {},
   "outputs": [
    {
     "data": {
      "text/plain": [
       "(array([ 4.,  2.,  8., 14., 16., 22., 18.,  9.,  6.,  1.]),\n",
       " array([-2.58512836, -2.09101609, -1.59690382, -1.10279155, -0.60867928,\n",
       "        -0.11456701,  0.37954527,  0.87365754,  1.36776981,  1.86188208,\n",
       "         2.35599435]),\n",
       " <BarContainer object of 10 artists>)"
      ]
     },
     "execution_count": 65,
     "metadata": {},
     "output_type": "execute_result"
    },
    {
     "data": {
      "image/png": "[encoded data removed]",
      "text/plain": [
       "<Figure size 640x480 with 1 Axes>"
      ]
     },
     "metadata": {},
     "output_type": "display_data"
    }
   ],
   "source": [
    "# 정규분포 함수 : 평균, 표준편차, 개수\n",
    "a = np.random.normal(0,1,100)\n",
    "plt.hist(a, bins = 10)"
   ]
  },
  {
   "cell_type": "code",
   "execution_count": 66,
   "metadata": {},
   "outputs": [
    {
     "data": {
      "text/plain": [
       "19"
      ]
     },
     "execution_count": 66,
     "metadata": {},
     "output_type": "execute_result"
    }
   ],
   "source": [
    "(a < -1).sum()"
   ]
  },
  {
   "cell_type": "code",
   "execution_count": 67,
   "metadata": {},
   "outputs": [
    {
     "data": {
      "text/plain": [
       "15"
      ]
     },
     "execution_count": 67,
     "metadata": {},
     "output_type": "execute_result"
    }
   ],
   "source": [
    "(a > 1).sum()"
   ]
  },
  {
   "cell_type": "code",
   "execution_count": 68,
   "metadata": {},
   "outputs": [],
   "source": [
    "b = (a < -1).sum() +(a > 1).sum()"
   ]
  },
  {
   "cell_type": "code",
   "execution_count": 69,
   "metadata": {},
   "outputs": [
    {
     "data": {
      "text/plain": [
       "34"
      ]
     },
     "execution_count": 69,
     "metadata": {},
     "output_type": "execute_result"
    }
   ],
   "source": [
    "b"
   ]
  },
  {
   "cell_type": "code",
   "execution_count": 79,
   "metadata": {},
   "outputs": [
    {
     "data": {
      "text/plain": [
       "31.63"
      ]
     },
     "execution_count": 79,
     "metadata": {},
     "output_type": "execute_result"
    }
   ],
   "source": [
    "# 정규분포 함수 : 평균, 표준편차, 개수\n",
    "\n",
    "\n",
    "number = 0\n",
    "count = []\n",
    "while number < 100 :\n",
    "    a = np.random.normal(0,1,100)\n",
    "    count.append((a < -1).sum() + (a > 1).sum())\n",
    "    number += 1 \n",
    "\n",
    "np.mean(count)\n"
   ]
  },
  {
   "cell_type": "code",
   "execution_count": 78,
   "metadata": {},
   "outputs": [
    {
     "data": {
      "text/plain": [
       "31.93"
      ]
     },
     "execution_count": 78,
     "metadata": {},
     "output_type": "execute_result"
    }
   ],
   "source": [
    "np.mean(count)"
   ]
  },
  {
   "cell_type": "markdown",
   "metadata": {},
   "source": [
    "## flatten\n",
    " - 다차원 배열을 1차원으로 변경\n",
    " - ravel과의 차이점 : copy를 생성하여 변경함(즉 원본 데이터가 아닌 복사본을 반환)\n",
    " - 'order' 파라미터\n",
    "      - \"C\" - row 우선변경\n",
    "      - \"F\" - column 우선변경"
   ]
  },
  {
   "cell_type": "code",
   "execution_count": 80,
   "metadata": {},
   "outputs": [
    {
     "name": "stdout",
     "output_type": "stream",
     "text": [
      "[[ 0  1  2  3  4]\n",
      " [ 5  6  7  8  9]\n",
      " [10 11 12 13 14]]\n"
     ]
    }
   ],
   "source": [
    "y = np.arange(15).reshape(3,5)\n",
    "print(y)"
   ]
  },
  {
   "cell_type": "code",
   "execution_count": 81,
   "metadata": {},
   "outputs": [
    {
     "data": {
      "text/plain": [
       "array([ 0,  1,  2,  3,  4,  5,  6,  7,  8,  9, 10, 11, 12, 13, 14])"
      ]
     },
     "execution_count": 81,
     "metadata": {},
     "output_type": "execute_result"
    }
   ],
   "source": [
    "y.flatten(order = \"C\")"
   ]
  },
  {
   "cell_type": "code",
   "execution_count": 82,
   "metadata": {},
   "outputs": [
    {
     "data": {
      "text/plain": [
       "array([ 0,  5, 10,  1,  6, 11,  2,  7, 12,  3,  8, 13,  4,  9, 14])"
      ]
     },
     "execution_count": 82,
     "metadata": {},
     "output_type": "execute_result"
    }
   ],
   "source": [
    "y.flatten(order = \"F\")"
   ]
  },
  {
   "cell_type": "code",
   "execution_count": 83,
   "metadata": {},
   "outputs": [
    {
     "data": {
      "text/plain": [
       "array([ 0,  1,  2,  3,  4,  5,  6,  7,  8,  9, 10, 11, 12, 13, 14])"
      ]
     },
     "execution_count": 83,
     "metadata": {},
     "output_type": "execute_result"
    }
   ],
   "source": [
    "temp = y.ravel()\n",
    "temp"
   ]
  },
  {
   "cell_type": "code",
   "execution_count": 84,
   "metadata": {},
   "outputs": [
    {
     "data": {
      "text/plain": [
       "array([100,   1,   2,   3,   4,   5,   6,   7,   8,   9,  10,  11,  12,\n",
       "        13,  14])"
      ]
     },
     "execution_count": 84,
     "metadata": {},
     "output_type": "execute_result"
    }
   ],
   "source": [
    "temp[0] = 100\n",
    "temp"
   ]
  },
  {
   "cell_type": "code",
   "execution_count": 85,
   "metadata": {},
   "outputs": [
    {
     "data": {
      "text/plain": [
       "array([[100,   1,   2,   3,   4],\n",
       "       [  5,   6,   7,   8,   9],\n",
       "       [ 10,  11,  12,  13,  14]])"
      ]
     },
     "execution_count": 85,
     "metadata": {},
     "output_type": "execute_result"
    }
   ],
   "source": [
    "y"
   ]
  },
  {
   "cell_type": "code",
   "execution_count": 86,
   "metadata": {},
   "outputs": [
    {
     "data": {
      "text/plain": [
       "array([100,   5,  10,   1,   6,  11,   2,   7,  12,   3,   8,  13,   4,\n",
       "         9,  14])"
      ]
     },
     "execution_count": 86,
     "metadata": {},
     "output_type": "execute_result"
    }
   ],
   "source": [
    "y.ravel(order = \"F\")"
   ]
  },
  {
   "cell_type": "code",
   "execution_count": 87,
   "metadata": {},
   "outputs": [
    {
     "data": {
      "text/plain": [
       "array([100,   1,   2,   3,   4,   5,   6,   7,   8,   9,  10,  11,  12,\n",
       "        13,  14])"
      ]
     },
     "execution_count": 87,
     "metadata": {},
     "output_type": "execute_result"
    }
   ],
   "source": [
    "y.ravel(order = \"C\")"
   ]
  },
  {
   "cell_type": "code",
   "execution_count": 91,
   "metadata": {},
   "outputs": [
    {
     "data": {
      "text/plain": [
       "array([1, 2, 0, 0], dtype=int64)"
      ]
     },
     "execution_count": 91,
     "metadata": {},
     "output_type": "execute_result"
    }
   ],
   "source": [
    "(np.random.normal(0,1,(3,4))).argmax(axis = 0)"
   ]
  },
  {
   "cell_type": "code",
   "execution_count": 100,
   "metadata": {},
   "outputs": [
    {
     "name": "stdout",
     "output_type": "stream",
     "text": [
      "[1 1 0 2]\n",
      "[1 1 0 2]\n"
     ]
    }
   ],
   "source": [
    "np.random.seed(100)\n",
    "a = np.random.normal(0,1,(3,4))\n",
    "\n",
    "                     \n",
    "print(np.argmax(a, axis = 0))\n",
    "print(a.argmax(axis = 0))"
   ]
  },
  {
   "cell_type": "markdown",
   "metadata": {},
   "source": [
    "## 집계함수\n",
    "- sum\n",
    "- cumsum : 누적 합 그래프 그릴 때 편리하다."
   ]
  },
  {
   "cell_type": "markdown",
   "metadata": {},
   "source": [
    "## any, all함수\n",
    " - any : 특정 조건을 만족하는 것이 하나라도 있으며 True, 아니면 False\n",
    " - all : 모든 원소가 특정 조건을 만족한다면 True 아니면 False"
   ]
  },
  {
   "cell_type": "code",
   "execution_count": 101,
   "metadata": {},
   "outputs": [
    {
     "name": "stdout",
     "output_type": "stream",
     "text": [
      "[-0.58359505  0.81684707  0.67272081 -0.10441114 -0.53128038  1.02973269\n",
      " -0.43813562 -1.11831825  1.61898166  1.54160517]\n"
     ]
    }
   ],
   "source": [
    "z = np.random.randn(10)\n",
    "print(z)"
   ]
  },
  {
   "cell_type": "code",
   "execution_count": 102,
   "metadata": {},
   "outputs": [
    {
     "data": {
      "text/plain": [
       "True"
      ]
     },
     "execution_count": 102,
     "metadata": {},
     "output_type": "execute_result"
    }
   ],
   "source": [
    "np.any(z < 0)"
   ]
  },
  {
   "cell_type": "code",
   "execution_count": 103,
   "metadata": {},
   "outputs": [
    {
     "data": {
      "text/plain": [
       "False"
      ]
     },
     "execution_count": 103,
     "metadata": {},
     "output_type": "execute_result"
    }
   ],
   "source": [
    "np.all(z < 0)"
   ]
  },
  {
   "cell_type": "markdown",
   "metadata": {},
   "source": [
    "## where 함수 \n",
    " - 조건에 따라 선별적으로 값을 선택 가능"
   ]
  },
  {
   "cell_type": "code",
   "execution_count": 104,
   "metadata": {},
   "outputs": [
    {
     "data": {
      "text/plain": [
       "array([-0.25187914, -0.84243574,  0.18451869,  0.9370822 ,  0.73100034,\n",
       "        1.36155613, -0.32623806,  0.05567601,  0.22239961, -1.443217  ])"
      ]
     },
     "execution_count": 104,
     "metadata": {},
     "output_type": "execute_result"
    }
   ],
   "source": [
    "z = np.random.randn(10)\n",
    "z"
   ]
  },
  {
   "cell_type": "code",
   "execution_count": 105,
   "metadata": {},
   "outputs": [
    {
     "data": {
      "text/plain": [
       "array([-0.25187914, -0.84243574,  0.        ,  0.        ,  0.        ,\n",
       "        0.        , -0.32623806,  0.        ,  0.        , -1.443217  ])"
      ]
     },
     "execution_count": 105,
     "metadata": {},
     "output_type": "execute_result"
    }
   ],
   "source": [
    "np.where(z<0,z,0) # 조건, 조건이 참일 때 반환할 값, 거짓일 때 반환할 값"
   ]
  },
  {
   "cell_type": "markdown",
   "metadata": {},
   "source": [
    "## axis 이해하기\n",
    " - 몇몇 함수에는 axis keyword 파라미터가 존재\n",
    " - axis 값이 없는 경우에는 전체 데이터에 대해 적용\n",
    " - axis 값이 있는 경우에는, 해당 axis를 따라서 연산 적용\n",
    " - axis 파라미터를 갖는 함수를 이용하기\n",
    "     - 거의 대부분의 연산 함숟르이 axis 파라미터를 사용\n",
    "     - 이 경우, 해당 값이 주어졌을 때, 해당 axis를 따라서 연산이 적용\n",
    "     - 따라서 결과는 해당 axis가 제외된 나머지 차원의 데이터만 남게 됌"
   ]
  },
  {
   "cell_type": "code",
   "execution_count": 107,
   "metadata": {},
   "outputs": [
    {
     "name": "stdout",
     "output_type": "stream",
     "text": [
      "105\n",
      "105\n"
     ]
    }
   ],
   "source": [
    "# 1차원 데이터\n",
    "x = np.arange(15)\n",
    "print(np.sum(x, axis = 0))\n",
    "print(np.sum(x))"
   ]
  },
  {
   "cell_type": "code",
   "execution_count": 110,
   "metadata": {},
   "outputs": [
    {
     "name": "stdout",
     "output_type": "stream",
     "text": [
      "[15 18 21 24 27]\n",
      "[10 35 60]\n"
     ]
    }
   ],
   "source": [
    "y = x.reshape(3,5)\n",
    "print(np.sum(y, axis = 0))\n",
    "print(np.sum(y, axis = 1))"
   ]
  },
  {
   "cell_type": "code",
   "execution_count": 112,
   "metadata": {},
   "outputs": [
    {
     "data": {
      "text/plain": [
       "array([198, 210, 222])"
      ]
     },
     "execution_count": 112,
     "metadata": {},
     "output_type": "execute_result"
    }
   ],
   "source": [
    "# axis  값이 튜플인 경우\n",
    "\n",
    "z = np.arange(36).reshape(3,4,-1)\n",
    "np.sum(z, axis = (0,1))"
   ]
  },
  {
   "cell_type": "code",
   "execution_count": null,
   "metadata": {},
   "outputs": [],
   "source": []
  }
 ],
 "metadata": {
  "hide_input": false,
  "kernelspec": {
   "display_name": "Python 3 (ipykernel)",
   "language": "python",
   "name": "python3"
  },
  "language_info": {
   "codemirror_mode": {
    "name": "ipython",
    "version": 3
   },
   "file_extension": ".py",
   "mimetype": "text/x-python",
   "name": "python",
   "nbconvert_exporter": "python",
   "pygments_lexer": "ipython3",
   "version": "3.9.13"
  },
  "toc": {
   "base_numbering": 1,
   "nav_menu": {},
   "number_sections": true,
   "sideBar": true,
   "skip_h1_title": false,
   "title_cell": "Table of Contents",
   "title_sidebar": "Contents",
   "toc_cell": false,
   "toc_position": {},
   "toc_section_display": true,
   "toc_window_display": false
  }
 },
 "nbformat": 4,
 "nbformat_minor": 4
}
