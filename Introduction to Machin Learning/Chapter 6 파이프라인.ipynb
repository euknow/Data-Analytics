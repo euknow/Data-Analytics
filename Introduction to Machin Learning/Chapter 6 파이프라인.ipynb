{
 "cells": [
  {
   "cell_type": "code",
   "execution_count": 70,
   "id": "f42e5fc9",
   "metadata": {
    "ExecuteTime": {
     "end_time": "2023-03-09T04:49:02.903952Z",
     "start_time": "2023-03-09T04:49:02.893041Z"
    }
   },
   "outputs": [],
   "source": [
    "from sklearn.svm import SVC\n",
    "from sklearn.datasets import load_breast_cancer\n",
    "from sklearn.model_selection import train_test_split\n",
    "from sklearn.preprocessing import MinMaxScaler"
   ]
  },
  {
   "cell_type": "code",
   "execution_count": 72,
   "id": "47ccdcbc",
   "metadata": {
    "ExecuteTime": {
     "end_time": "2023-03-09T04:49:16.678394Z",
     "start_time": "2023-03-09T04:49:16.633903Z"
    }
   },
   "outputs": [
    {
     "name": "stdout",
     "output_type": "stream",
     "text": [
      "Test Score : 0.9720\n"
     ]
    }
   ],
   "source": [
    "cancer = load_breast_cancer()\n",
    "X_train, X_test, y_train, y_test = train_test_split(cancer.data, cancer.target, random_state = 0)\n",
    "\n",
    "scaler = MinMaxScaler().fit(X_train)\n",
    "\n",
    "scaled_X_train = scaler.transform(X_train)\n",
    "scaled_X_test = scaler.transform(X_test)\n",
    "\n",
    "\n",
    "svm = SVC()\n",
    "svm.fit(scaled_X_train, y_train)\n",
    "\n",
    "print(f\"Test Score : {svm.score(scaled_X_test, y_test):.4f}\")"
   ]
  },
  {
   "cell_type": "code",
   "execution_count": 3,
   "id": "80cbbb8c",
   "metadata": {
    "ExecuteTime": {
     "end_time": "2023-03-09T01:54:05.809361Z",
     "start_time": "2023-03-09T01:54:03.334014Z"
    }
   },
   "outputs": [
    {
     "name": "stdout",
     "output_type": "stream",
     "text": [
      "Best validation score : 0.98\n",
      "Test Score : 0.972027972027972\n",
      "Best Params :  {'C': 1, 'gamma': 1}\n"
     ]
    }
   ],
   "source": [
    "from sklearn.model_selection import GridSearchCV\n",
    "\n",
    "param_grid = {\"C\":[0.001, 0.01, 0.1, 1, 10, 100],\n",
    "              \"gamma\" : [0.001, 0.01, 0.1, 1, 10, 100]}\n",
    "\n",
    "grid = GridSearchCV(SVC(), param_grid = param_grid, cv = 5)\n",
    "grid.fit(scaled_X_train, y_train)\n",
    "\n",
    "print(f\"Best validation score : {grid.best_score_:.2f}\")\n",
    "print(f\"Test Score : {grid.score(scaled_X_test, y_test)}\")\n",
    "print(\"Best Params : \", grid.best_params_)\n"
   ]
  },
  {
   "cell_type": "markdown",
   "id": "28ad6b9e",
   "metadata": {},
   "source": [
    "# 파이프라인 구축하기"
   ]
  },
  {
   "cell_type": "code",
   "execution_count": 73,
   "id": "1e5cad05",
   "metadata": {
    "ExecuteTime": {
     "end_time": "2023-03-09T05:55:24.289698Z",
     "start_time": "2023-03-09T05:55:24.256238Z"
    }
   },
   "outputs": [
    {
     "name": "stdout",
     "output_type": "stream",
     "text": [
      "Test Score :  0.97\n"
     ]
    }
   ],
   "source": [
    "from sklearn.pipeline import Pipeline\n",
    "\n",
    "pipe = Pipeline([(\"scaler\", MinMaxScaler()), (\"svm\", SVC())])\n",
    "pipe.fit(X_train, y_train)\n",
    "\n",
    "print(f\"Test Score : {pipe.score(X_test , y_test) : .2f}\")"
   ]
  },
  {
   "cell_type": "markdown",
   "id": "fcb7ed81",
   "metadata": {},
   "source": [
    "# 그리드 서치에 파이프라인 적용하기"
   ]
  },
  {
   "cell_type": "code",
   "execution_count": 7,
   "id": "f5ba7608",
   "metadata": {
    "ExecuteTime": {
     "end_time": "2023-03-09T01:54:05.902919Z",
     "start_time": "2023-03-09T01:54:05.891516Z"
    }
   },
   "outputs": [],
   "source": [
    "param_grid = {'svm__C' : [0.001, 0.01, 0.1, 1, 10, 100],\n",
    "              'svm__gamma' : [0.001, 0.01, 0.1, 1, 10, 100]}"
   ]
  },
  {
   "cell_type": "code",
   "execution_count": 8,
   "id": "f9e20acd",
   "metadata": {
    "ExecuteTime": {
     "end_time": "2023-03-09T01:54:08.745976Z",
     "start_time": "2023-03-09T01:54:05.908442Z"
    }
   },
   "outputs": [
    {
     "name": "stdout",
     "output_type": "stream",
     "text": [
      "Best validation score : 0.98\n",
      "Test Score : 0.972027972027972\n",
      "Best Params :  {'svm__C': 1, 'svm__gamma': 1}\n"
     ]
    }
   ],
   "source": [
    "grid = GridSearchCV(pipe, param_grid = param_grid, cv = 5)\n",
    "grid.fit(X_train, y_train)\n",
    "\n",
    "print(f\"Best validation score : {grid.best_score_:.2f}\")\n",
    "print(f\"Test Score : {grid.score(X_test, y_test)}\")\n",
    "print(\"Best Params : \", grid.best_params_)"
   ]
  },
  {
   "cell_type": "code",
   "execution_count": 9,
   "id": "71924bc6",
   "metadata": {
    "ExecuteTime": {
     "end_time": "2023-03-09T01:54:08.761494Z",
     "start_time": "2023-03-09T01:54:08.749045Z"
    }
   },
   "outputs": [],
   "source": [
    "def fit(self, X, y):\n",
    "    X_transformed = X\n",
    "    for name, estimator in self.steps[:-1]:\n",
    "        X_transformed = estimator.fit_transform(X_transformed, y)\n",
    "    self.steps[-1][1].fit(X_transformed, y)\n",
    "    return self"
   ]
  },
  {
   "cell_type": "markdown",
   "id": "ad6d37a4",
   "metadata": {},
   "source": [
    "# make_pipeline을 이용한 파이프라인 생성"
   ]
  },
  {
   "cell_type": "code",
   "execution_count": 10,
   "id": "ef102e5f",
   "metadata": {
    "ExecuteTime": {
     "end_time": "2023-03-09T01:54:08.777284Z",
     "start_time": "2023-03-09T01:54:08.766876Z"
    }
   },
   "outputs": [],
   "source": [
    "from sklearn.pipeline import make_pipeline\n",
    "\n",
    "pipe_long = Pipeline([('scaler', MinMaxScaler()), ('svm', SVC(C = 100))])\n",
    "\n",
    "pipe_short = make_pipeline(MinMaxScaler(), SVC(C = 100))"
   ]
  },
  {
   "cell_type": "code",
   "execution_count": 11,
   "id": "1ac16245",
   "metadata": {
    "ExecuteTime": {
     "end_time": "2023-03-09T01:54:08.792515Z",
     "start_time": "2023-03-09T01:54:08.780264Z"
    }
   },
   "outputs": [
    {
     "name": "stdout",
     "output_type": "stream",
     "text": [
      "[('minmaxscaler', MinMaxScaler()), ('svc', SVC(C=100))]\n"
     ]
    }
   ],
   "source": [
    "print(pipe_short.steps)"
   ]
  },
  {
   "cell_type": "code",
   "execution_count": 13,
   "id": "82fdfd73",
   "metadata": {
    "ExecuteTime": {
     "end_time": "2023-03-09T02:58:33.517889Z",
     "start_time": "2023-03-09T02:58:33.496092Z"
    }
   },
   "outputs": [
    {
     "name": "stdout",
     "output_type": "stream",
     "text": [
      "[('standardscaler-1', StandardScaler()), ('pca', PCA(n_components=2)), ('standardscaler-2', StandardScaler())]\n"
     ]
    }
   ],
   "source": [
    "from sklearn.preprocessing import StandardScaler\n",
    "from sklearn.decomposition import PCA\n",
    "\n",
    "pipe = make_pipeline(StandardScaler(), PCA(n_components = 2), StandardScaler())\n",
    "print(pipe.steps)"
   ]
  },
  {
   "cell_type": "code",
   "execution_count": 17,
   "id": "3ccac02b",
   "metadata": {
    "ExecuteTime": {
     "end_time": "2023-03-09T02:59:32.445799Z",
     "start_time": "2023-03-09T02:59:32.428960Z"
    }
   },
   "outputs": [
    {
     "data": {
      "text/plain": [
       "(2, 30)"
      ]
     },
     "execution_count": 17,
     "metadata": {},
     "output_type": "execute_result"
    }
   ],
   "source": [
    "pipe.fit(cancer.data)\n",
    "components = pipe.named_steps[\"pca\"].components_\n",
    "components.shape"
   ]
  },
  {
   "cell_type": "markdown",
   "id": "bf7983c9",
   "metadata": {},
   "source": [
    "# 그리드 서치 안의 파이프라인 속성에 접근하기"
   ]
  },
  {
   "cell_type": "code",
   "execution_count": 76,
   "id": "66c3fcab",
   "metadata": {
    "ExecuteTime": {
     "end_time": "2023-03-09T06:30:52.536326Z",
     "start_time": "2023-03-09T06:30:52.502125Z"
    }
   },
   "outputs": [],
   "source": [
    "from sklearn.linear_model import LogisticRegression\n",
    "from sklearn.datasets import load_breast_cancer\n",
    "\n",
    "cancer = load_breast_cancer()\n",
    "\n",
    "pipe = make_pipeline(StandardScaler(), LogisticRegression(max_iter = 1000))"
   ]
  },
  {
   "cell_type": "code",
   "execution_count": 77,
   "id": "119ae70f",
   "metadata": {
    "ExecuteTime": {
     "end_time": "2023-03-09T06:30:52.644459Z",
     "start_time": "2023-03-09T06:30:52.633311Z"
    }
   },
   "outputs": [],
   "source": [
    "param_grid = {\"logisticregression__C\" : [0.001, 0.01, 0.1, 1, 10, 100]}"
   ]
  },
  {
   "cell_type": "code",
   "execution_count": 78,
   "id": "6fc8ea17",
   "metadata": {
    "ExecuteTime": {
     "end_time": "2023-03-09T06:30:53.340519Z",
     "start_time": "2023-03-09T06:30:52.727506Z"
    }
   },
   "outputs": [
    {
     "data": {
      "text/plain": [
       "GridSearchCV(cv=5,\n",
       "             estimator=Pipeline(steps=[('standardscaler', StandardScaler()),\n",
       "                                       ('logisticregression',\n",
       "                                        LogisticRegression(max_iter=1000))]),\n",
       "             param_grid={'logisticregression__C': [0.001, 0.01, 0.1, 1, 10,\n",
       "                                                   100]})"
      ]
     },
     "execution_count": 78,
     "metadata": {},
     "output_type": "execute_result"
    }
   ],
   "source": [
    "X_train, X_test, y_train, y_test = train_test_split(cancer.data, cancer.target, random_state = 4)\n",
    "grid = GridSearchCV(pipe, param_grid, cv = 5)\n",
    "grid.fit(X_train, y_train)"
   ]
  },
  {
   "cell_type": "code",
   "execution_count": 79,
   "id": "3e67c17b",
   "metadata": {
    "ExecuteTime": {
     "end_time": "2023-03-09T06:30:53.355922Z",
     "start_time": "2023-03-09T06:30:53.343779Z"
    }
   },
   "outputs": [
    {
     "data": {
      "text/plain": [
       "Pipeline(steps=[('standardscaler', StandardScaler()),\n",
       "                ('logisticregression', LogisticRegression(C=1, max_iter=1000))])"
      ]
     },
     "execution_count": 79,
     "metadata": {},
     "output_type": "execute_result"
    }
   ],
   "source": [
    "grid.best_estimator_"
   ]
  },
  {
   "cell_type": "code",
   "execution_count": 80,
   "id": "2c490c40",
   "metadata": {
    "ExecuteTime": {
     "end_time": "2023-03-09T06:30:53.370882Z",
     "start_time": "2023-03-09T06:30:53.358915Z"
    }
   },
   "outputs": [
    {
     "name": "stdout",
     "output_type": "stream",
     "text": [
      "로지스틱 회귀 단계 :  LogisticRegression(C=1, max_iter=1000)\n"
     ]
    }
   ],
   "source": [
    "print(\"로지스틱 회귀 단계 : \",grid.best_estimator_.named_steps[\"logisticregression\"])"
   ]
  },
  {
   "cell_type": "code",
   "execution_count": 82,
   "id": "f92ce978",
   "metadata": {
    "ExecuteTime": {
     "end_time": "2023-03-09T06:31:40.951158Z",
     "start_time": "2023-03-09T06:31:40.934196Z"
    }
   },
   "outputs": [
    {
     "name": "stdout",
     "output_type": "stream",
     "text": [
      "로지스틱 회귀 계수 : \n",
      " [[-0.43570655 -0.34266946 -0.40809443 -0.5344574  -0.14971847  0.61034122\n",
      "  -0.72634347 -0.78538827  0.03886087  0.27497198 -1.29780109  0.04926005\n",
      "  -0.67336941 -0.93447426 -0.13939555  0.45032641 -0.13009864 -0.10144273\n",
      "   0.43432027  0.71596578 -1.09068862 -1.09463976 -0.85183755 -1.06406198\n",
      "  -0.74316099  0.07252425 -0.82323903 -0.65321239 -0.64379499 -0.42026013]]\n"
     ]
    }
   ],
   "source": [
    "print(\"로지스틱 회귀 계수 : \\n\",grid.best_estimator_.named_steps[\"logisticregression\"].coef_)"
   ]
  },
  {
   "cell_type": "markdown",
   "id": "2ac9a5b1",
   "metadata": {},
   "source": [
    "# 전처리와 모델의 매개변수를 위한 그리드 서치"
   ]
  },
  {
   "cell_type": "code",
   "execution_count": 83,
   "id": "d685b29f",
   "metadata": {
    "ExecuteTime": {
     "end_time": "2023-03-09T06:35:10.576304Z",
     "start_time": "2023-03-09T06:35:03.759568Z"
    }
   },
   "outputs": [
    {
     "name": "stderr",
     "output_type": "stream",
     "text": [
      "C:\\Users\\User\\anaconda3\\lib\\site-packages\\sklearn\\utils\\deprecation.py:87: FutureWarning: Function load_boston is deprecated; `load_boston` is deprecated in 1.0 and will be removed in 1.2.\n",
      "\n",
      "    The Boston housing prices dataset has an ethical problem. You can refer to\n",
      "    the documentation of this function for further details.\n",
      "\n",
      "    The scikit-learn maintainers therefore strongly discourage the use of this\n",
      "    dataset unless the purpose of the code is to study and educate about\n",
      "    ethical issues in data science and machine learning.\n",
      "\n",
      "    In this special case, you can fetch the dataset from the original\n",
      "    source::\n",
      "\n",
      "        import pandas as pd\n",
      "        import numpy as np\n",
      "\n",
      "\n",
      "        data_url = \"http://lib.stat.cmu.edu/datasets/boston\"\n",
      "        raw_df = pd.read_csv(data_url, sep=\"\\s+\", skiprows=22, header=None)\n",
      "        data = np.hstack([raw_df.values[::2, :], raw_df.values[1::2, :2]])\n",
      "        target = raw_df.values[1::2, 2]\n",
      "\n",
      "    Alternative datasets include the California housing dataset (i.e.\n",
      "    :func:`~sklearn.datasets.fetch_california_housing`) and the Ames housing\n",
      "    dataset. You can load the datasets as follows::\n",
      "\n",
      "        from sklearn.datasets import fetch_california_housing\n",
      "        housing = fetch_california_housing()\n",
      "\n",
      "    for the California housing dataset and::\n",
      "\n",
      "        from sklearn.datasets import fetch_openml\n",
      "        housing = fetch_openml(name=\"house_prices\", as_frame=True)\n",
      "\n",
      "    for the Ames housing dataset.\n",
      "    \n",
      "  warnings.warn(msg, category=FutureWarning)\n"
     ]
    },
    {
     "data": {
      "text/plain": [
       "GridSearchCV(cv=5,\n",
       "             estimator=Pipeline(steps=[('standardscaler', StandardScaler()),\n",
       "                                       ('polynomialfeatures',\n",
       "                                        PolynomialFeatures()),\n",
       "                                       ('ridge', Ridge())]),\n",
       "             n_jobs=-1,\n",
       "             param_grid={'polynomialfeatures__degree': [1, 2, 3],\n",
       "                         'ridge__alpha': [0.001, 0.01, 0.1, 1, 10, 100]})"
      ]
     },
     "execution_count": 83,
     "metadata": {},
     "output_type": "execute_result"
    }
   ],
   "source": [
    "from sklearn.datasets import load_boston\n",
    "from sklearn.linear_model import Ridge\n",
    "\n",
    "\n",
    "boston = load_boston()\n",
    "\n",
    "X_train, X_test, y_train, y_test = train_test_split(boston.data, boston.target, random_state = 0)\n",
    "\n",
    "from sklearn.preprocessing import PolynomialFeatures\n",
    "pipe = make_pipeline(StandardScaler(), PolynomialFeatures(), Ridge())\n",
    "\n",
    "param_grid = {\"polynomialfeatures__degree\" : [1,2,3],\n",
    "              \"ridge__alpha\" : [0.001,0.01,0.1,1,10,100]}\n",
    "\n",
    "grid = GridSearchCV(pipe, param_grid = param_grid, cv = 5, n_jobs = -1)\n",
    "grid.fit(X_train, y_train)"
   ]
  },
  {
   "cell_type": "code",
   "execution_count": 88,
   "id": "118e6c58",
   "metadata": {
    "ExecuteTime": {
     "end_time": "2023-03-09T06:42:21.045557Z",
     "start_time": "2023-03-09T06:42:20.731459Z"
    }
   },
   "outputs": [
    {
     "data": {
      "image/png": "[encoded data removed]",
      "text/plain": [
       "<Figure size 1000x600 with 2 Axes>"
      ]
     },
     "metadata": {},
     "output_type": "display_data"
    }
   ],
   "source": [
    "import seaborn as sns\n",
    "import matplotlib.pyplot as plt\n",
    "import numpy as np\n",
    "import pandas as pd\n",
    "\n",
    "plt.figure(figsize = (10, 6))\n",
    "\n",
    "results = pd.DataFrame(grid.cv_results_[\"mean_test_score\"].reshape(3,-1))\n",
    "results.columns = [0.001,0.01,0.1,1,10,100]\n",
    "results.index = [1,2,3]\n",
    "\n",
    "sns.heatmap(results, annot = True, annot_kws = {\"size\":15}, fmt = \".2f\",vmin = 0,vmax = 1,\n",
    "            cmap = \"YlGnBu\")\n",
    "\n",
    "plt.xlabel(\"ridge_alpha\")\n",
    "plt.ylabel(\"poly_degree\");\n"
   ]
  },
  {
   "cell_type": "code",
   "execution_count": 89,
   "id": "c8ab0292",
   "metadata": {
    "ExecuteTime": {
     "end_time": "2023-03-09T06:44:14.886749Z",
     "start_time": "2023-03-09T06:44:14.872533Z"
    }
   },
   "outputs": [
    {
     "name": "stdout",
     "output_type": "stream",
     "text": [
      "최적의 매개변수 :  {'polynomialfeatures__degree': 2, 'ridge__alpha': 10}\n",
      "Test Score : 0.768304546410014\n"
     ]
    }
   ],
   "source": [
    "print(\"최적의 매개변수 : \",grid.best_params_)\n",
    "print(f\"Test Score : {grid.score(X_test, y_test)}\")"
   ]
  },
  {
   "cell_type": "code",
   "execution_count": 90,
   "id": "6f2a8538",
   "metadata": {
    "ExecuteTime": {
     "end_time": "2023-03-09T06:46:32.665056Z",
     "start_time": "2023-03-09T06:46:32.515863Z"
    }
   },
   "outputs": [
    {
     "name": "stdout",
     "output_type": "stream",
     "text": [
      "다항 특성이 없을 때 Test Score : 0.6272671927504456\n"
     ]
    }
   ],
   "source": [
    "param_grid = {\"ridge__alpha\" : [0.001,0.01,0.1,1,10,100]}\n",
    "pipe = make_pipeline(StandardScaler(), Ridge())\n",
    "grid = GridSearchCV(pipe, param_grid, cv = 5)\n",
    "grid.fit(X_train, y_train)\n",
    "\n",
    "print(f\"다항 특성이 없을 때 Test Score : {grid.score(X_test, y_test)}\")"
   ]
  },
  {
   "cell_type": "markdown",
   "id": "fc99245c",
   "metadata": {},
   "source": [
    "# 모델 선택을 위한 그리드 서치"
   ]
  },
  {
   "cell_type": "code",
   "execution_count": 62,
   "id": "7da0ba24",
   "metadata": {
    "ExecuteTime": {
     "end_time": "2023-03-09T04:16:55.144708Z",
     "start_time": "2023-03-09T04:16:55.129469Z"
    }
   },
   "outputs": [],
   "source": [
    "from sklearn.svm import SVC"
   ]
  },
  {
   "cell_type": "code",
   "execution_count": 64,
   "id": "794eb1f5",
   "metadata": {
    "ExecuteTime": {
     "end_time": "2023-03-09T04:17:08.074583Z",
     "start_time": "2023-03-09T04:17:08.058481Z"
    }
   },
   "outputs": [],
   "source": [
    "from sklearn.svm import SVC\n",
    "from sklearn.ensemble import RandomForestClassifier\n"
   ]
  },
  {
   "cell_type": "code",
   "execution_count": 91,
   "id": "5f245280",
   "metadata": {
    "ExecuteTime": {
     "end_time": "2023-03-09T06:54:06.081723Z",
     "start_time": "2023-03-09T06:54:00.331936Z"
    }
   },
   "outputs": [
    {
     "data": {
      "text/plain": [
       "GridSearchCV(cv=5,\n",
       "             estimator=Pipeline(steps=[('preprocessing', StandardScaler()),\n",
       "                                       ('classifier', SVC())]),\n",
       "             param_grid=[{'classifier': [SVC(C=10, gamma=0.01)],\n",
       "                          'classifier__C': [0.001, 0.01, 0.1, 1, 10, 100],\n",
       "                          'classifier__gamma': [0.001, 0.01, 0.1, 1, 10, 100],\n",
       "                          'preprocessing': [StandardScaler()]},\n",
       "                         {'classifier': [RandomForestClassifier()],\n",
       "                          'classifier__max_features': [1, 2, 3],\n",
       "                          'preprocessing': [None]}])"
      ]
     },
     "execution_count": 91,
     "metadata": {},
     "output_type": "execute_result"
    }
   ],
   "source": [
    "from sklearn.svm import SVC\n",
    "from sklearn.ensemble import RandomForestClassifier\n",
    "\n",
    "pipe = Pipeline([('preprocessing', StandardScaler()), (\"classifier\", SVC())])\n",
    "\n",
    "param_grid = [\n",
    "    {\"classifier\" : [SVC()], \"preprocessing\" : [StandardScaler()],\n",
    "     \"classifier__gamma\" : [0.001, 0.01, 0.1, 1, 10, 100],\n",
    "     \"classifier__C\" : [0.001, 0.01, 0.1, 1, 10, 100]},\n",
    "    {\"classifier\" : [RandomForestClassifier()],\n",
    "     \"preprocessing\" : [None],\n",
    "     \"classifier__max_features\" : [1,2,3]}\n",
    "]\n",
    "\n",
    "\n",
    "X_train, X_test, y_train, y_test = train_test_split(cancer.data, cancer.target, random_state = 0)\n",
    "grid = GridSearchCV(pipe, param_grid, cv = 5)\n",
    "grid.fit(X_train, y_train)"
   ]
  },
  {
   "cell_type": "code",
   "execution_count": 69,
   "id": "1a9cf130",
   "metadata": {
    "ExecuteTime": {
     "end_time": "2023-03-09T04:23:12.057955Z",
     "start_time": "2023-03-09T04:23:12.038220Z"
    }
   },
   "outputs": [
    {
     "name": "stdout",
     "output_type": "stream",
     "text": [
      "최적의 매개변수:\n",
      "{'classifier': SVC(C=10, gamma=0.01), 'classifier__C': 10, 'classifier__gamma': 0.01, 'preprocessing': StandardScaler()}\n",
      "\n",
      "최상의 교차 검증 점수 : 0.9859\n",
      "테스트 세트 점수 : 0.9790\n"
     ]
    }
   ],
   "source": [
    "print(f\"최적의 매개변수:\\n{grid.best_params_}\\n\")\n",
    "print(f\"최상의 교차 검증 점수 : {grid.best_score_:.4f}\")\n",
    "print(f\"테스트 세트 점수 : {grid.score(X_test, y_test):.4f}\")"
   ]
  },
  {
   "cell_type": "code",
   "execution_count": null,
   "id": "7829e79c",
   "metadata": {},
   "outputs": [],
   "source": []
  }
 ],
 "metadata": {
  "hide_input": false,
  "kernelspec": {
   "display_name": "Python 3 (ipykernel)",
   "language": "python",
   "name": "python3"
  },
  "language_info": {
   "codemirror_mode": {
    "name": "ipython",
    "version": 3
   },
   "file_extension": ".py",
   "mimetype": "text/x-python",
   "name": "python",
   "nbconvert_exporter": "python",
   "pygments_lexer": "ipython3",
   "version": "3.9.13"
  },
  "toc": {
   "base_numbering": 1,
   "nav_menu": {},
   "number_sections": false,
   "sideBar": true,
   "skip_h1_title": false,
   "title_cell": "Table of Contents",
   "title_sidebar": "Contents",
   "toc_cell": false,
   "toc_position": {
    "height": "762px",
    "left": "24px",
    "top": "111.125px",
    "width": "165px"
   },
   "toc_section_display": true,
   "toc_window_display": false
  }
 },
 "nbformat": 4,
 "nbformat_minor": 5
}
