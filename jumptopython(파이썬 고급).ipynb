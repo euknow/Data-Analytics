{
 "cells": [
  {
   "cell_type": "code",
   "execution_count": 1,
   "id": "6865eac8",
   "metadata": {},
   "outputs": [],
   "source": [
    "import numpy as np\n",
    "import pandas as pd\n",
    "import matplotlib.pyplot as plt\n",
    "import seaborn as sns"
   ]
  },
  {
   "cell_type": "code",
   "execution_count": 6,
   "id": "8833a0c8",
   "metadata": {},
   "outputs": [],
   "source": [
    "f = open(\"새파일.txt\",\"w\")   # w, r, a\n",
    "for i in range(1,10) : \n",
    "    data = f\"이 데이터는 {i}입니다.\\n\"\n",
    "    f.write(data)\n",
    "    \n",
    "f.close()"
   ]
  },
  {
   "cell_type": "code",
   "execution_count": 7,
   "id": "9a1627c5",
   "metadata": {},
   "outputs": [
    {
     "name": "stdout",
     "output_type": "stream",
     "text": [
      "이 데이터는 1입니다.\n",
      "\n"
     ]
    }
   ],
   "source": [
    "f = open(\"새파일.txt\",\"r\")\n",
    "line = f.readline()\n",
    "print(line)\n",
    "f.close()"
   ]
  },
  {
   "cell_type": "code",
   "execution_count": 9,
   "id": "2aaa061b",
   "metadata": {},
   "outputs": [
    {
     "name": "stdout",
     "output_type": "stream",
     "text": [
      "이 데이터는 1입니다.\n",
      "\n",
      "이 데이터는 2입니다.\n",
      "\n",
      "이 데이터는 3입니다.\n",
      "\n",
      "이 데이터는 4입니다.\n",
      "\n",
      "이 데이터는 5입니다.\n",
      "\n",
      "이 데이터는 6입니다.\n",
      "\n",
      "이 데이터는 7입니다.\n",
      "\n",
      "이 데이터는 8입니다.\n",
      "\n",
      "이 데이터는 9입니다.\n",
      "\n"
     ]
    }
   ],
   "source": [
    "f = open(\"새파일.txt\", \"r\")\n",
    "while True:\n",
    "    line = f.readline()\n",
    "    if not line: break\n",
    "    print(line)\n",
    "f.close()"
   ]
  },
  {
   "cell_type": "code",
   "execution_count": 11,
   "id": "62672a5d",
   "metadata": {},
   "outputs": [
    {
     "name": "stdout",
     "output_type": "stream",
     "text": [
      "은호\n",
      "은호\n",
      "은호\n",
      "은호\n",
      "은호\n",
      "은호\n",
      "\n"
     ]
    }
   ],
   "source": [
    "while True:\n",
    "    data = input()\n",
    "    if not data:break\n",
    "    print(data)"
   ]
  },
  {
   "cell_type": "code",
   "execution_count": 13,
   "id": "7311eeef",
   "metadata": {},
   "outputs": [
    {
     "name": "stdout",
     "output_type": "stream",
     "text": [
      "이 데이터는 1입니다.\n",
      "이 데이터는 2입니다.\n",
      "이 데이터는 3입니다.\n",
      "이 데이터는 4입니다.\n",
      "이 데이터는 5입니다.\n",
      "이 데이터는 6입니다.\n",
      "이 데이터는 7입니다.\n",
      "이 데이터는 8입니다.\n",
      "이 데이터는 9입니다.\n"
     ]
    }
   ],
   "source": [
    "f = open(\"새파일.txt\", \"r\")\n",
    "lines = f.readlines()\n",
    "for line in lines:\n",
    "    print(line.strip()) # 줄 끝의 줄 바꿈 문자를 제거한다.\n",
    "f.close()"
   ]
  },
  {
   "cell_type": "code",
   "execution_count": 15,
   "id": "e8615ceb",
   "metadata": {},
   "outputs": [
    {
     "name": "stdout",
     "output_type": "stream",
     "text": [
      "이 데이터는 1입니다.\n",
      "이 데이터는 2입니다.\n",
      "이 데이터는 3입니다.\n",
      "이 데이터는 4입니다.\n",
      "이 데이터는 5입니다.\n",
      "이 데이터는 6입니다.\n",
      "이 데이터는 7입니다.\n",
      "이 데이터는 8입니다.\n",
      "이 데이터는 9입니다.\n",
      "\n"
     ]
    }
   ],
   "source": [
    "f = open(\"새파일.txt\", \"r\")\n",
    "data = f.read()\n",
    "print(data)\n",
    "f.close()\n",
    "\n",
    "# 파일의 내용 전체를 문자열로 리턴"
   ]
  },
  {
   "cell_type": "code",
   "execution_count": 16,
   "id": "db211b04",
   "metadata": {},
   "outputs": [
    {
     "data": {
      "text/plain": [
       "'이 데이터는 1입니다.\\n이 데이터는 2입니다.\\n이 데이터는 3입니다.\\n이 데이터는 4입니다.\\n이 데이터는 5입니다.\\n이 데이터는 6입니다.\\n이 데이터는 7입니다.\\n이 데이터는 8입니다.\\n이 데이터는 9입니다.\\n'"
      ]
     },
     "execution_count": 16,
     "metadata": {},
     "output_type": "execute_result"
    }
   ],
   "source": [
    "data"
   ]
  },
  {
   "cell_type": "code",
   "execution_count": 17,
   "id": "0520c360",
   "metadata": {},
   "outputs": [
    {
     "name": "stdout",
     "output_type": "stream",
     "text": [
      "이 데이터는 1입니다.\n",
      "\n",
      "이 데이터는 2입니다.\n",
      "\n",
      "이 데이터는 3입니다.\n",
      "\n",
      "이 데이터는 4입니다.\n",
      "\n",
      "이 데이터는 5입니다.\n",
      "\n",
      "이 데이터는 6입니다.\n",
      "\n",
      "이 데이터는 7입니다.\n",
      "\n",
      "이 데이터는 8입니다.\n",
      "\n",
      "이 데이터는 9입니다.\n",
      "\n"
     ]
    }
   ],
   "source": [
    "f = open(\"새파일.txt\", \"r\")\n",
    "for line in f:\n",
    "    print(line)\n",
    "f.close()"
   ]
  },
  {
   "cell_type": "code",
   "execution_count": 20,
   "id": "0febebe9",
   "metadata": {},
   "outputs": [],
   "source": [
    "f = open(\"새파일.txt\", \"a\")\n",
    "for i in range(11,20):\n",
    "    data = f\"이 데이터는 {i}입니다.\\n\"\n",
    "    f.write(data)\n",
    "f.close()"
   ]
  },
  {
   "cell_type": "code",
   "execution_count": 22,
   "id": "5582aea8",
   "metadata": {},
   "outputs": [
    {
     "name": "stdout",
     "output_type": "stream",
     "text": [
      "이 데이터는 1입니다.\n",
      "\n",
      "이 데이터는 2입니다.\n",
      "\n",
      "이 데이터는 3입니다.\n",
      "\n",
      "이 데이터는 4입니다.\n",
      "\n",
      "이 데이터는 5입니다.\n",
      "\n",
      "이 데이터는 6입니다.\n",
      "\n",
      "이 데이터는 7입니다.\n",
      "\n",
      "이 데이터는 8입니다.\n",
      "\n",
      "이 데이터는 9입니다.\n",
      "\n",
      "이 데이터는 12입니다.\n",
      "\n",
      "이 데이터는 13입니다.\n",
      "\n",
      "이 데이터는 14입니다.\n",
      "\n",
      "이 데이터는 15입니다.\n",
      "\n",
      "이 데이터는 16입니다.\n",
      "\n",
      "이 데이터는 17입니다.\n",
      "\n",
      "이 데이터는 18입니다.\n",
      "\n",
      "이 데이터는 19입니다.\n",
      "\n"
     ]
    }
   ],
   "source": [
    "f = open(\"새파일.txt\", \"r\")\n",
    "lines = f.readlines()\n",
    "for line in lines:\n",
    "    print(line)"
   ]
  },
  {
   "cell_type": "code",
   "execution_count": 23,
   "id": "3368bb44",
   "metadata": {},
   "outputs": [],
   "source": [
    "# with문과 함게\n",
    "\n",
    "with open(\"새파일.txt\", \"a\") as f:\n",
    "    f.write(\"Life is too short, you need python\")"
   ]
  },
  {
   "cell_type": "code",
   "execution_count": 24,
   "id": "452cbb48",
   "metadata": {},
   "outputs": [
    {
     "name": "stdout",
     "output_type": "stream",
     "text": [
      "이 데이터는 1입니다.\n",
      "\n",
      "이 데이터는 2입니다.\n",
      "\n",
      "이 데이터는 3입니다.\n",
      "\n",
      "이 데이터는 4입니다.\n",
      "\n",
      "이 데이터는 5입니다.\n",
      "\n",
      "이 데이터는 6입니다.\n",
      "\n",
      "이 데이터는 7입니다.\n",
      "\n",
      "이 데이터는 8입니다.\n",
      "\n",
      "이 데이터는 9입니다.\n",
      "\n",
      "이 데이터는 12입니다.\n",
      "\n",
      "이 데이터는 13입니다.\n",
      "\n",
      "이 데이터는 14입니다.\n",
      "\n",
      "이 데이터는 15입니다.\n",
      "\n",
      "이 데이터는 16입니다.\n",
      "\n",
      "이 데이터는 17입니다.\n",
      "\n",
      "이 데이터는 18입니다.\n",
      "\n",
      "이 데이터는 19입니다.\n",
      "\n",
      "Life is too short, you need python\n"
     ]
    }
   ],
   "source": [
    "f = open(\"새파일.txt\", \"r\")\n",
    "lines = f.readlines()\n",
    "for line in lines:\n",
    "    print(line)"
   ]
  },
  {
   "cell_type": "markdown",
   "id": "f2bb0b58",
   "metadata": {},
   "source": [
    "## 연습01"
   ]
  },
  {
   "cell_type": "markdown",
   "id": "6f612feb",
   "metadata": {},
   "source": [
    "$  y = ax + b  $"
   ]
  },
  {
   "cell_type": "markdown",
   "id": "bdd65f88",
   "metadata": {},
   "source": [
    "$$  y = ax + b  $$"
   ]
  },
  {
   "cell_type": "markdown",
   "id": "26c34cc7",
   "metadata": {},
   "source": [
    "$$  \\large  y = ax + b  $$"
   ]
  },
  {
   "cell_type": "markdown",
   "id": "acb6c592",
   "metadata": {},
   "source": [
    "$$ \\huge y = ax + b  $$"
   ]
  },
  {
   "cell_type": "markdown",
   "id": "84848f25",
   "metadata": {},
   "source": [
    "$$ \\huge y = ax + \\frac{1}{2}b  \\sum x_i $$"
   ]
  },
  {
   "cell_type": "markdown",
   "id": "6be38efc",
   "metadata": {},
   "source": [
    "## class"
   ]
  },
  {
   "cell_type": "code",
   "execution_count": 188,
   "id": "59816100",
   "metadata": {},
   "outputs": [],
   "source": [
    "class FourCal:\n",
    "    pass"
   ]
  },
  {
   "cell_type": "code",
   "execution_count": 189,
   "id": "47aed7da",
   "metadata": {},
   "outputs": [
    {
     "data": {
      "text/plain": [
       "__main__.FourCal"
      ]
     },
     "execution_count": 189,
     "metadata": {},
     "output_type": "execute_result"
    }
   ],
   "source": [
    "a = FourCal()\n",
    "type(a)"
   ]
  },
  {
   "cell_type": "code",
   "execution_count": 192,
   "id": "dd2f5c6f",
   "metadata": {},
   "outputs": [],
   "source": [
    "class FourCal:\n",
    "    def setdata(self, first, second):   # 클래스 안에 구현된 함수는 메서드\n",
    "        self.first = first\n",
    "        self.second = second"
   ]
  },
  {
   "cell_type": "markdown",
   "id": "b6522861",
   "metadata": {},
   "source": [
    " - **코드셀**은 실행이 됩니다."
   ]
  },
  {
   "cell_type": "code",
   "execution_count": 194,
   "id": "fb7295b4",
   "metadata": {},
   "outputs": [
    {
     "data": {
      "text/plain": [
       "(4, 2)"
      ]
     },
     "execution_count": 194,
     "metadata": {},
     "output_type": "execute_result"
    }
   ],
   "source": [
    "a = FourCal()\n",
    "a.setdata(4,2)\n",
    "\n",
    "a.first, a.second"
   ]
  },
  {
   "cell_type": "code",
   "execution_count": 195,
   "id": "4c7391a7",
   "metadata": {},
   "outputs": [],
   "source": [
    "a = FourCal()\n",
    "b = FourCal()\n",
    "\n"
   ]
  },
  {
   "cell_type": "code",
   "execution_count": 196,
   "id": "3bff6c5b",
   "metadata": {},
   "outputs": [
    {
     "data": {
      "text/plain": [
       "3"
      ]
     },
     "execution_count": 196,
     "metadata": {},
     "output_type": "execute_result"
    }
   ],
   "source": [
    "b.setdata(3,7)\n",
    "b.first"
   ]
  },
  {
   "cell_type": "code",
   "execution_count": 197,
   "id": "b588e5ca",
   "metadata": {},
   "outputs": [],
   "source": [
    "# 더하기 기능 만들기\n",
    "\n",
    "class FourCal:\n",
    "    def setdata(self, first, second):   # 클래스 안에 구현된 함수는 메서드\n",
    "        self.first = first\n",
    "        self.second = second\n",
    "        \n",
    "    def add(self):\n",
    "        result = self.first + self.second\n",
    "        return result"
   ]
  },
  {
   "cell_type": "code",
   "execution_count": 13,
   "id": "2604f372",
   "metadata": {},
   "outputs": [],
   "source": [
    "a = FourCal()\n",
    "a.setdata(4, 2)"
   ]
  },
  {
   "cell_type": "code",
   "execution_count": 15,
   "id": "e9c8557f",
   "metadata": {},
   "outputs": [
    {
     "name": "stdout",
     "output_type": "stream",
     "text": [
      "6\n"
     ]
    }
   ],
   "source": [
    "print(a.add())"
   ]
  },
  {
   "cell_type": "code",
   "execution_count": 17,
   "id": "1d4fb4eb",
   "metadata": {},
   "outputs": [],
   "source": [
    "class FourCal:\n",
    "    def setdata(self, first, second):   # 클래스 안에 구현된 함수는 메서드\n",
    "        self.first = first\n",
    "        self.second = second\n",
    "        \n",
    "    def add(self):\n",
    "        result = self.first + self.second\n",
    "        return result\n",
    "    \n",
    "    def mul(self):\n",
    "        result = self.first * self.second\n",
    "        return result\n",
    "    \n",
    "    def sub(self):\n",
    "        result = self.first - self.second\n",
    "        return result\n",
    "    \n",
    "    def div(self):\n",
    "        result = self.first / self.second\n",
    "        return result"
   ]
  },
  {
   "cell_type": "code",
   "execution_count": 18,
   "id": "a40f80ec",
   "metadata": {},
   "outputs": [],
   "source": [
    "a = FourCal()\n",
    "b = FourCal()"
   ]
  },
  {
   "cell_type": "code",
   "execution_count": 19,
   "id": "cb19ec12",
   "metadata": {},
   "outputs": [],
   "source": [
    "a.setdata(4,2)\n",
    "b.setdata(3,8)"
   ]
  },
  {
   "cell_type": "code",
   "execution_count": 20,
   "id": "759b5ded",
   "metadata": {},
   "outputs": [
    {
     "data": {
      "text/plain": [
       "(6, 8, 2)"
      ]
     },
     "execution_count": 20,
     "metadata": {},
     "output_type": "execute_result"
    }
   ],
   "source": [
    "a.add(), a.mul(), a.sub()"
   ]
  },
  {
   "cell_type": "code",
   "execution_count": 21,
   "id": "7a9cbaf6",
   "metadata": {},
   "outputs": [
    {
     "ename": "AttributeError",
     "evalue": "'FourCal' object has no attribute 'first'",
     "output_type": "error",
     "traceback": [
      "\u001b[1;31m---------------------------------------------------------------------------\u001b[0m",
      "\u001b[1;31mAttributeError\u001b[0m                            Traceback (most recent call last)",
      "Cell \u001b[1;32mIn[21], line 4\u001b[0m\n\u001b[0;32m      1\u001b[0m \u001b[38;5;66;03m# 생성자\u001b[39;00m\n\u001b[0;32m      3\u001b[0m a \u001b[38;5;241m=\u001b[39m FourCal()\n\u001b[1;32m----> 4\u001b[0m \u001b[43ma\u001b[49m\u001b[38;5;241;43m.\u001b[39;49m\u001b[43madd\u001b[49m\u001b[43m(\u001b[49m\u001b[43m)\u001b[49m\n",
      "Cell \u001b[1;32mIn[17], line 7\u001b[0m, in \u001b[0;36mFourCal.add\u001b[1;34m(self)\u001b[0m\n\u001b[0;32m      6\u001b[0m \u001b[38;5;28;01mdef\u001b[39;00m \u001b[38;5;21madd\u001b[39m(\u001b[38;5;28mself\u001b[39m):\n\u001b[1;32m----> 7\u001b[0m     result \u001b[38;5;241m=\u001b[39m \u001b[38;5;28;43mself\u001b[39;49m\u001b[38;5;241;43m.\u001b[39;49m\u001b[43mfirst\u001b[49m \u001b[38;5;241m+\u001b[39m \u001b[38;5;28mself\u001b[39m\u001b[38;5;241m.\u001b[39msecond\n\u001b[0;32m      8\u001b[0m     \u001b[38;5;28;01mreturn\u001b[39;00m result\n",
      "\u001b[1;31mAttributeError\u001b[0m: 'FourCal' object has no attribute 'first'"
     ]
    }
   ],
   "source": [
    "# 생성자\n",
    "# setdata를 입력안하면\n",
    "\n",
    "\n",
    "a = FourCal()\n",
    "a.add()"
   ]
  },
  {
   "cell_type": "code",
   "execution_count": 22,
   "id": "c2ca9c92",
   "metadata": {},
   "outputs": [],
   "source": [
    "class FourCal:\n",
    "    def __init__(self, first, second):  # 객체가 생성되는 시점에 자동으로 호출\n",
    "        self.first = first\n",
    "        self.second = second\n",
    "    \n",
    "    def setdata(self, first, second):   \n",
    "        self.first = first\n",
    "        self.second = second\n",
    "        \n",
    "    def add(self):\n",
    "        result = self.first + self.second\n",
    "        return result\n",
    "    \n",
    "    def mul(self):\n",
    "        result = self.first * self.second\n",
    "        return result\n",
    "    \n",
    "    def sub(self):\n",
    "        result = self.first - self.second\n",
    "        return result\n",
    "    \n",
    "    def div(self):\n",
    "        result = self.first / self.second\n",
    "        return result"
   ]
  },
  {
   "cell_type": "code",
   "execution_count": 24,
   "id": "71131fae",
   "metadata": {},
   "outputs": [
    {
     "ename": "TypeError",
     "evalue": "__init__() missing 2 required positional arguments: 'first' and 'second'",
     "output_type": "error",
     "traceback": [
      "\u001b[1;31m---------------------------------------------------------------------------\u001b[0m",
      "\u001b[1;31mTypeError\u001b[0m                                 Traceback (most recent call last)",
      "Cell \u001b[1;32mIn[24], line 1\u001b[0m\n\u001b[1;32m----> 1\u001b[0m a \u001b[38;5;241m=\u001b[39m \u001b[43mFourCal\u001b[49m\u001b[43m(\u001b[49m\u001b[43m)\u001b[49m\n",
      "\u001b[1;31mTypeError\u001b[0m: __init__() missing 2 required positional arguments: 'first' and 'second'"
     ]
    }
   ],
   "source": [
    "a = FourCal()"
   ]
  },
  {
   "cell_type": "code",
   "execution_count": 26,
   "id": "e1ff0e7d",
   "metadata": {},
   "outputs": [],
   "source": [
    "a = FourCal(4,2)  #처음에 바로 입력해야함"
   ]
  },
  {
   "cell_type": "markdown",
   "id": "fa2013be",
   "metadata": {},
   "source": [
    "### 클래스의 상속"
   ]
  },
  {
   "cell_type": "code",
   "execution_count": 29,
   "id": "6e47f4a7",
   "metadata": {},
   "outputs": [],
   "source": [
    "class MoreFourCal(FourCal):\n",
    "    def pow(self):\n",
    "        result = self.first ** self.second\n",
    "        return result"
   ]
  },
  {
   "cell_type": "code",
   "execution_count": 32,
   "id": "57d82ea7",
   "metadata": {},
   "outputs": [
    {
     "data": {
      "text/plain": [
       "(16, 6)"
      ]
     },
     "execution_count": 32,
     "metadata": {},
     "output_type": "execute_result"
    }
   ],
   "source": [
    "a = MoreFourCal(4,2)\n",
    "a.pow(), a.add()"
   ]
  },
  {
   "cell_type": "code",
   "execution_count": 33,
   "id": "a67061fd",
   "metadata": {},
   "outputs": [
    {
     "ename": "ZeroDivisionError",
     "evalue": "division by zero",
     "output_type": "error",
     "traceback": [
      "\u001b[1;31m---------------------------------------------------------------------------\u001b[0m",
      "\u001b[1;31mZeroDivisionError\u001b[0m                         Traceback (most recent call last)",
      "Cell \u001b[1;32mIn[33], line 4\u001b[0m\n\u001b[0;32m      1\u001b[0m \u001b[38;5;66;03m# 메서드 오버라이딩\u001b[39;00m\n\u001b[0;32m      3\u001b[0m a \u001b[38;5;241m=\u001b[39m FourCal(\u001b[38;5;241m4\u001b[39m,\u001b[38;5;241m0\u001b[39m)\n\u001b[1;32m----> 4\u001b[0m \u001b[43ma\u001b[49m\u001b[38;5;241;43m.\u001b[39;49m\u001b[43mdiv\u001b[49m\u001b[43m(\u001b[49m\u001b[43m)\u001b[49m\n",
      "Cell \u001b[1;32mIn[22], line 23\u001b[0m, in \u001b[0;36mFourCal.div\u001b[1;34m(self)\u001b[0m\n\u001b[0;32m     22\u001b[0m \u001b[38;5;28;01mdef\u001b[39;00m \u001b[38;5;21mdiv\u001b[39m(\u001b[38;5;28mself\u001b[39m):\n\u001b[1;32m---> 23\u001b[0m     result \u001b[38;5;241m=\u001b[39m \u001b[38;5;28;43mself\u001b[39;49m\u001b[38;5;241;43m.\u001b[39;49m\u001b[43mfirst\u001b[49m\u001b[43m \u001b[49m\u001b[38;5;241;43m/\u001b[39;49m\u001b[43m \u001b[49m\u001b[38;5;28;43mself\u001b[39;49m\u001b[38;5;241;43m.\u001b[39;49m\u001b[43msecond\u001b[49m\n\u001b[0;32m     24\u001b[0m     \u001b[38;5;28;01mreturn\u001b[39;00m result\n",
      "\u001b[1;31mZeroDivisionError\u001b[0m: division by zero"
     ]
    }
   ],
   "source": [
    "# 메서드 오버라이딩\n",
    "\n",
    "a = FourCal(4,0)\n",
    "a.div()"
   ]
  },
  {
   "cell_type": "code",
   "execution_count": 34,
   "id": "10a046fe",
   "metadata": {},
   "outputs": [],
   "source": [
    "class SafeFourCal(FourCal):\n",
    "    def div(self):\n",
    "        if self.second == 0 :\n",
    "            return 0 \n",
    "        else :\n",
    "            return self.first / self.second"
   ]
  },
  {
   "cell_type": "code",
   "execution_count": 35,
   "id": "d0daccc8",
   "metadata": {},
   "outputs": [
    {
     "data": {
      "text/plain": [
       "0"
      ]
     },
     "execution_count": 35,
     "metadata": {},
     "output_type": "execute_result"
    }
   ],
   "source": [
    "a = SafeFourCal(4,0)\n",
    "\n",
    "a.div()"
   ]
  },
  {
   "cell_type": "code",
   "execution_count": 43,
   "id": "ff3822e0",
   "metadata": {},
   "outputs": [],
   "source": [
    "# 클래스 변수\n",
    "\n",
    "class Family : \n",
    "    lastname = \"박\""
   ]
  },
  {
   "cell_type": "code",
   "execution_count": 44,
   "id": "2df22235",
   "metadata": {},
   "outputs": [
    {
     "data": {
      "text/plain": [
       "'박'"
      ]
     },
     "execution_count": 44,
     "metadata": {},
     "output_type": "execute_result"
    }
   ],
   "source": [
    "Family.lastname"
   ]
  },
  {
   "cell_type": "code",
   "execution_count": 47,
   "id": "40431564",
   "metadata": {},
   "outputs": [
    {
     "data": {
      "text/plain": [
       "'박'"
      ]
     },
     "execution_count": 47,
     "metadata": {},
     "output_type": "execute_result"
    }
   ],
   "source": [
    "a = Family\n",
    "a.lastname"
   ]
  },
  {
   "cell_type": "code",
   "execution_count": 48,
   "id": "20d67094",
   "metadata": {},
   "outputs": [
    {
     "data": {
      "text/plain": [
       "'최'"
      ]
     },
     "execution_count": 48,
     "metadata": {},
     "output_type": "execute_result"
    }
   ],
   "source": [
    "a = Family()\n",
    "a.lastname = \"최\"\n",
    "a.lastname"
   ]
  },
  {
   "cell_type": "code",
   "execution_count": 49,
   "id": "e16ab8ef",
   "metadata": {},
   "outputs": [
    {
     "data": {
      "text/plain": [
       "'박'"
      ]
     },
     "execution_count": 49,
     "metadata": {},
     "output_type": "execute_result"
    }
   ],
   "source": [
    "Family.lastname"
   ]
  },
  {
   "cell_type": "markdown",
   "id": "8b011d5d",
   "metadata": {},
   "source": [
    "## 모듈 만들기"
   ]
  },
  {
   "cell_type": "code",
   "execution_count": 51,
   "id": "e3dd831b",
   "metadata": {},
   "outputs": [],
   "source": [
    "# module1"
   ]
  },
  {
   "cell_type": "code",
   "execution_count": null,
   "id": "6e7d9918",
   "metadata": {},
   "outputs": [],
   "source": [
    "def sayMyName():\n",
    "    print(\"BlockDMask\")\n",
    "\n",
    "\n",
    "def addNumbers(*args):\n",
    "    result = 0\n",
    "    for val in args:\n",
    "        result += val\n",
    "\n",
    "    return result\n",
    "\n",
    "\n",
    "def mulNumbers(*args):\n",
    "    result = 1\n",
    "    for val in args:\n",
    "        result *= val\n",
    "\n",
    "    return result"
   ]
  },
  {
   "cell_type": "code",
   "execution_count": 198,
   "id": "ccce0568",
   "metadata": {},
   "outputs": [],
   "source": [
    "import module1"
   ]
  },
  {
   "cell_type": "code",
   "execution_count": 199,
   "id": "78f13e7b",
   "metadata": {},
   "outputs": [
    {
     "name": "stdout",
     "output_type": "stream",
     "text": [
      "BlockDMask\n"
     ]
    }
   ],
   "source": [
    "module1.sayMyName()"
   ]
  },
  {
   "cell_type": "code",
   "execution_count": 201,
   "id": "ef1299fa",
   "metadata": {},
   "outputs": [],
   "source": [
    "from module1 import *  # 내재된 함수 다 불러오기"
   ]
  },
  {
   "cell_type": "code",
   "execution_count": 202,
   "id": "4098c964",
   "metadata": {},
   "outputs": [
    {
     "data": {
      "text/plain": [
       "15"
      ]
     },
     "execution_count": 202,
     "metadata": {},
     "output_type": "execute_result"
    }
   ],
   "source": [
    "addNumbers(1,2,3,4,5)"
   ]
  },
  {
   "cell_type": "code",
   "execution_count": 203,
   "id": "9d6e17b3",
   "metadata": {},
   "outputs": [
    {
     "data": {
      "text/plain": [
       "120"
      ]
     },
     "execution_count": 203,
     "metadata": {},
     "output_type": "execute_result"
    }
   ],
   "source": [
    "mulNumbers(1,2,3,4,5)"
   ]
  },
  {
   "cell_type": "code",
   "execution_count": 204,
   "id": "6c426d0f",
   "metadata": {},
   "outputs": [
    {
     "data": {
      "text/plain": [
       "'module1'"
      ]
     },
     "execution_count": 204,
     "metadata": {},
     "output_type": "execute_result"
    }
   ],
   "source": [
    "module1.__name__"
   ]
  },
  {
   "cell_type": "code",
   "execution_count": 65,
   "id": "be983889",
   "metadata": {},
   "outputs": [
    {
     "data": {
      "text/plain": [
       "['1', '2', '3', '4', '5', '6', '7', '8', '9']"
      ]
     },
     "execution_count": 65,
     "metadata": {},
     "output_type": "execute_result"
    }
   ],
   "source": [
    "x = \"1,2,3,4,5,6,7,8,9\"\n",
    "a = x.split(\",\")\n",
    "a"
   ]
  },
  {
   "cell_type": "code",
   "execution_count": 66,
   "id": "8a568c4a",
   "metadata": {},
   "outputs": [
    {
     "ename": "AttributeError",
     "evalue": "'list' object has no attribute 'join'",
     "output_type": "error",
     "traceback": [
      "\u001b[1;31m---------------------------------------------------------------------------\u001b[0m",
      "\u001b[1;31mAttributeError\u001b[0m                            Traceback (most recent call last)",
      "Cell \u001b[1;32mIn[66], line 1\u001b[0m\n\u001b[1;32m----> 1\u001b[0m b \u001b[38;5;241m=\u001b[39m \u001b[43ma\u001b[49m\u001b[38;5;241;43m.\u001b[39;49m\u001b[43mjoin\u001b[49m(\u001b[38;5;124m\"\u001b[39m\u001b[38;5;124m,\u001b[39m\u001b[38;5;124m\"\u001b[39m)\n\u001b[0;32m      2\u001b[0m b\n",
      "\u001b[1;31mAttributeError\u001b[0m: 'list' object has no attribute 'join'"
     ]
    }
   ],
   "source": [
    "b = a.join(\",\")\n",
    "b"
   ]
  },
  {
   "cell_type": "code",
   "execution_count": 67,
   "id": "7cdc6768",
   "metadata": {},
   "outputs": [
    {
     "data": {
      "text/plain": [
       "'1,2,3,4,5,6,7,8,9'"
      ]
     },
     "execution_count": 67,
     "metadata": {},
     "output_type": "execute_result"
    }
   ],
   "source": [
    "b = \",\".join(a)\n",
    "b"
   ]
  },
  {
   "cell_type": "markdown",
   "id": "de506d65",
   "metadata": {},
   "source": [
    "## 예외 처리"
   ]
  },
  {
   "cell_type": "code",
   "execution_count": 68,
   "id": "8be9504a",
   "metadata": {},
   "outputs": [],
   "source": [
    "# try:\n",
    "#     ...\n",
    "# except [발생오류 [as 오류변수]] :\n",
    "#     ..."
   ]
  },
  {
   "cell_type": "code",
   "execution_count": 69,
   "id": "c87f429a",
   "metadata": {},
   "outputs": [
    {
     "name": "stdout",
     "output_type": "stream",
     "text": [
      "division by zero\n"
     ]
    }
   ],
   "source": [
    "try :\n",
    "    4/0\n",
    "except ZeroDivisionError as e:\n",
    "    print(e)"
   ]
  },
  {
   "cell_type": "code",
   "execution_count": 91,
   "id": "d767cf8b",
   "metadata": {},
   "outputs": [
    {
     "ename": "TypeError",
     "evalue": "unsupported operand type(s) for /: 'str' and 'int'",
     "output_type": "error",
     "traceback": [
      "\u001b[1;31m---------------------------------------------------------------------------\u001b[0m",
      "\u001b[1;31mTypeError\u001b[0m                                 Traceback (most recent call last)",
      "Cell \u001b[1;32mIn[91], line 2\u001b[0m\n\u001b[0;32m      1\u001b[0m a \u001b[38;5;241m=\u001b[39m \u001b[38;5;124m\"\u001b[39m\u001b[38;5;124m이 데이터는 6입니다.\u001b[39m\u001b[38;5;124m\"\u001b[39m\n\u001b[1;32m----> 2\u001b[0m \u001b[43ma\u001b[49m\u001b[38;5;241;43m/\u001b[39;49m\u001b[38;5;241;43m2\u001b[39;49m\n",
      "\u001b[1;31mTypeError\u001b[0m: unsupported operand type(s) for /: 'str' and 'int'"
     ]
    }
   ],
   "source": [
    "a = \"이 데이터는 6입니다.\"\n",
    "a/2"
   ]
  },
  {
   "cell_type": "code",
   "execution_count": 205,
   "id": "96c54943",
   "metadata": {
    "scrolled": false
   },
   "outputs": [
    {
     "name": "stdout",
     "output_type": "stream",
     "text": [
      "이 데이터는 1입니다.\n",
      "\n",
      "이 데이터는 2입니다.\n",
      "\n",
      "이 데이터는 3입니다.\n",
      "\n",
      "이 데이터는 4입니다.\n",
      "\n",
      "이 데이터는 5입니다.\n",
      "\n",
      "unsupported operand type(s) for /: 'str' and 'int'\n",
      "파일 닫힘\n"
     ]
    }
   ],
   "source": [
    "try :\n",
    "    f = open(\"새파일.txt\", \"r\")\n",
    "    lines = f.readlines()\n",
    "    for line in lines:\n",
    "        if line == \"이 데이터는 6입니다.\\n\":\n",
    "            print(line/2)\n",
    "        else : \n",
    "            print(line)\n",
    "        \n",
    "except TypeError as e:\n",
    "    print(e)\n",
    "    \n",
    "finally:\n",
    "    f.close()\n",
    "    print(\"파일 닫힘\")"
   ]
  },
  {
   "cell_type": "code",
   "execution_count": 97,
   "id": "4aaef606",
   "metadata": {},
   "outputs": [
    {
     "name": "stdout",
     "output_type": "stream",
     "text": [
      "이 데이터는 1입니다.\n",
      "\n",
      "이 데이터는 2입니다.\n",
      "\n",
      "이 데이터는 3입니다.\n",
      "\n",
      "이 데이터는 4입니다.\n",
      "\n",
      "이 데이터는 5입니다.\n",
      "\n",
      "파일 닫힘\n"
     ]
    }
   ],
   "source": [
    "try :\n",
    "    f = open(\"새파일.txt\", \"r\")\n",
    "    lines = f.readlines()\n",
    "    for line in lines:\n",
    "        if line == \"이 데이터는 6입니다.\\n\":\n",
    "            print(line/2)\n",
    "        else : \n",
    "            print(line)\n",
    "        \n",
    "except TypeError as e:\n",
    "    pass\n",
    "    \n",
    "else :   \n",
    "    \n",
    "finally:\n",
    "    f.close()\n",
    "    print(\"파일 닫힘\")"
   ]
  },
  {
   "cell_type": "code",
   "execution_count": 206,
   "id": "7801aa0d",
   "metadata": {},
   "outputs": [
    {
     "name": "stdout",
     "output_type": "stream",
     "text": [
      "이 데이터는 1입니다.\n",
      "\n",
      "이 데이터는 2입니다.\n",
      "\n",
      "이 데이터는 3입니다.\n",
      "\n",
      "이 데이터는 4입니다.\n",
      "\n",
      "이 데이터는 5입니다.\n",
      "\n",
      "unsupported operand type(s) for /: 'str' and 'int'\n",
      "이 데이터는 7입니다.\n",
      "\n",
      "이 데이터는 8입니다.\n",
      "\n",
      "이 데이터는 9입니다.\n",
      "\n",
      "이 데이터는 12입니다.\n",
      "\n",
      "이 데이터는 13입니다.\n",
      "\n",
      "이 데이터는 14입니다.\n",
      "\n",
      "이 데이터는 15입니다.\n",
      "\n",
      "이 데이터는 16입니다.\n",
      "\n",
      "이 데이터는 17입니다.\n",
      "\n",
      "이 데이터는 18입니다.\n",
      "\n",
      "이 데이터는 19입니다.\n",
      "\n",
      "Life is too short, you need python\n",
      "파일 닫힘\n"
     ]
    }
   ],
   "source": [
    "f = open(\"새파일.txt\", \"r\")\n",
    "lines = f.readlines()\n",
    "\n",
    "for line in lines:\n",
    "    try:\n",
    "        if line == \"이 데이터는 6입니다.\\n\":\n",
    "            print(line/2)\n",
    "        else : \n",
    "            print(line)\n",
    "        \n",
    "    except TypeError as e:\n",
    "        print(e)\n",
    "    \n",
    "f.close()\n",
    "print(\"파일 닫힘\")"
   ]
  },
  {
   "cell_type": "code",
   "execution_count": 71,
   "id": "e81bd623",
   "metadata": {},
   "outputs": [
    {
     "name": "stdout",
     "output_type": "stream",
     "text": [
      "인덱싱 할 수 없습니다.\n"
     ]
    }
   ],
   "source": [
    "# 여러개 오류 처리\n",
    "\n",
    "try :\n",
    "    a = [1,2]\n",
    "    print(a[3])\n",
    "    4/0\n",
    "    \n",
    "except ZeroDivisionError :\n",
    "    print(\"0으로 나눌 수 없습니다.\")\n",
    "\n",
    "except IndexError:\n",
    "    print(\"인덱싱 할 수 없습니다.\")"
   ]
  },
  {
   "cell_type": "code",
   "execution_count": 72,
   "id": "507a9f6e",
   "metadata": {},
   "outputs": [
    {
     "name": "stdout",
     "output_type": "stream",
     "text": [
      "list index out of range\n"
     ]
    }
   ],
   "source": [
    "try :\n",
    "    a = [1,2]\n",
    "    print(a[3])\n",
    "    4/0\n",
    "    \n",
    "except (ZeroDivisionError, IndexError) as e :\n",
    "    print(e)"
   ]
  },
  {
   "cell_type": "code",
   "execution_count": 74,
   "id": "ad8bd5fa",
   "metadata": {},
   "outputs": [
    {
     "name": "stdout",
     "output_type": "stream",
     "text": [
      "나이를 입력하세요 : 20\n",
      "환영합니다.\n"
     ]
    }
   ],
   "source": [
    "try:\n",
    "    age = int(input(\"나이를 입력하세요 : \"))\n",
    "\n",
    "except:\n",
    "    print(\"입력이 정확하지 않습니다.\")\n",
    "    \n",
    "else:\n",
    "    if age <= 18 :\n",
    "        print(\"미성년자는 출입금지입니다.\")\n",
    "    else :\n",
    "        print(\"환영합니다.\")"
   ]
  },
  {
   "cell_type": "code",
   "execution_count": 75,
   "id": "da5ae948",
   "metadata": {},
   "outputs": [],
   "source": [
    "# 오류 회피하기\n",
    "\n",
    "try:\n",
    "    f = open(\"은호.txt\",\"r\")\n",
    "\n",
    "except FileNotFoundError:\n",
    "    pass"
   ]
  },
  {
   "cell_type": "code",
   "execution_count": 76,
   "id": "a241b63c",
   "metadata": {},
   "outputs": [],
   "source": [
    "# 오류 일부러 발생시키기\n",
    "\n",
    "class Bird:\n",
    "    def fly(self):\n",
    "        raise NotImplementedError"
   ]
  },
  {
   "cell_type": "code",
   "execution_count": 78,
   "id": "1bcacc17",
   "metadata": {},
   "outputs": [
    {
     "ename": "NotImplementedError",
     "evalue": "",
     "output_type": "error",
     "traceback": [
      "\u001b[1;31m---------------------------------------------------------------------------\u001b[0m",
      "\u001b[1;31mNotImplementedError\u001b[0m                       Traceback (most recent call last)",
      "Cell \u001b[1;32mIn[78], line 3\u001b[0m\n\u001b[0;32m      1\u001b[0m a \u001b[38;5;241m=\u001b[39m Bird()\n\u001b[1;32m----> 3\u001b[0m \u001b[43ma\u001b[49m\u001b[38;5;241;43m.\u001b[39;49m\u001b[43mfly\u001b[49m\u001b[43m(\u001b[49m\u001b[43m)\u001b[49m\n",
      "Cell \u001b[1;32mIn[76], line 5\u001b[0m, in \u001b[0;36mBird.fly\u001b[1;34m(self)\u001b[0m\n\u001b[0;32m      4\u001b[0m \u001b[38;5;28;01mdef\u001b[39;00m \u001b[38;5;21mfly\u001b[39m(\u001b[38;5;28mself\u001b[39m):\n\u001b[1;32m----> 5\u001b[0m     \u001b[38;5;28;01mraise\u001b[39;00m \u001b[38;5;167;01mNotImplementedError\u001b[39;00m\n",
      "\u001b[1;31mNotImplementedError\u001b[0m: "
     ]
    }
   ],
   "source": [
    "a = Bird()\n",
    "\n",
    "a.fly()"
   ]
  },
  {
   "cell_type": "markdown",
   "id": "3bb28c3d",
   "metadata": {},
   "source": [
    "### 예외 만들기"
   ]
  },
  {
   "cell_type": "code",
   "execution_count": 79,
   "id": "b5523ae5",
   "metadata": {},
   "outputs": [],
   "source": [
    "class MyError(Exception) :\n",
    "    pass"
   ]
  },
  {
   "cell_type": "code",
   "execution_count": 80,
   "id": "3dd3559c",
   "metadata": {},
   "outputs": [],
   "source": [
    "def say_nick(nick):\n",
    "    if nick == \"바보\":\n",
    "        raise MyError()\n",
    "    print(nick)"
   ]
  },
  {
   "cell_type": "code",
   "execution_count": 82,
   "id": "de118c6d",
   "metadata": {},
   "outputs": [
    {
     "name": "stdout",
     "output_type": "stream",
     "text": [
      "천사\n"
     ]
    },
    {
     "ename": "MyError",
     "evalue": "",
     "output_type": "error",
     "traceback": [
      "\u001b[1;31m---------------------------------------------------------------------------\u001b[0m",
      "\u001b[1;31mMyError\u001b[0m                                   Traceback (most recent call last)",
      "Cell \u001b[1;32mIn[82], line 2\u001b[0m\n\u001b[0;32m      1\u001b[0m say_nick(\u001b[38;5;124m\"\u001b[39m\u001b[38;5;124m천사\u001b[39m\u001b[38;5;124m\"\u001b[39m)\n\u001b[1;32m----> 2\u001b[0m \u001b[43msay_nick\u001b[49m\u001b[43m(\u001b[49m\u001b[38;5;124;43m\"\u001b[39;49m\u001b[38;5;124;43m바보\u001b[39;49m\u001b[38;5;124;43m\"\u001b[39;49m\u001b[43m)\u001b[49m\n",
      "Cell \u001b[1;32mIn[80], line 3\u001b[0m, in \u001b[0;36msay_nick\u001b[1;34m(nick)\u001b[0m\n\u001b[0;32m      1\u001b[0m \u001b[38;5;28;01mdef\u001b[39;00m \u001b[38;5;21msay_nick\u001b[39m(nick):\n\u001b[0;32m      2\u001b[0m     \u001b[38;5;28;01mif\u001b[39;00m nick \u001b[38;5;241m==\u001b[39m \u001b[38;5;124m\"\u001b[39m\u001b[38;5;124m바보\u001b[39m\u001b[38;5;124m\"\u001b[39m:\n\u001b[1;32m----> 3\u001b[0m         \u001b[38;5;28;01mraise\u001b[39;00m MyError()\n\u001b[0;32m      4\u001b[0m     \u001b[38;5;28mprint\u001b[39m(nick)\n",
      "\u001b[1;31mMyError\u001b[0m: "
     ]
    }
   ],
   "source": [
    "say_nick(\"천사\")\n",
    "say_nick(\"바보\")"
   ]
  },
  {
   "cell_type": "code",
   "execution_count": 83,
   "id": "5d5a5494",
   "metadata": {},
   "outputs": [
    {
     "name": "stdout",
     "output_type": "stream",
     "text": [
      "천사\n",
      "허용되지 않는 별명입니다.\n"
     ]
    }
   ],
   "source": [
    "try:\n",
    "    say_nick(\"천사\")\n",
    "    say_nick(\"바보\")\n",
    "\n",
    "except MyError:\n",
    "    print(\"허용되지 않는 별명입니다.\")"
   ]
  },
  {
   "cell_type": "code",
   "execution_count": 84,
   "id": "cd68e152",
   "metadata": {},
   "outputs": [
    {
     "name": "stdout",
     "output_type": "stream",
     "text": [
      "천사\n",
      "\n"
     ]
    }
   ],
   "source": [
    "try:\n",
    "    say_nick(\"천사\")\n",
    "    say_nick(\"바보\")\n",
    "except MyError as e:\n",
    "    print(e)"
   ]
  },
  {
   "cell_type": "code",
   "execution_count": 85,
   "id": "321a4f2b",
   "metadata": {},
   "outputs": [],
   "source": [
    "class MyError(Exception):\n",
    "    def __str__(self):        # error값은 __str__을 반환한다.\n",
    "        return \"허용되지 않는 별명입니다.\""
   ]
  },
  {
   "cell_type": "code",
   "execution_count": 86,
   "id": "9c592c98",
   "metadata": {},
   "outputs": [
    {
     "name": "stdout",
     "output_type": "stream",
     "text": [
      "천사\n",
      "허용되지 않는 별명입니다.\n"
     ]
    }
   ],
   "source": [
    "try:\n",
    "    say_nick(\"천사\")\n",
    "    say_nick(\"바보\")\n",
    "except MyError as e:\n",
    "    print(e)"
   ]
  },
  {
   "cell_type": "markdown",
   "id": "8185a424",
   "metadata": {},
   "source": [
    "## 내재 함수"
   ]
  },
  {
   "cell_type": "code",
   "execution_count": 100,
   "id": "c4f25515",
   "metadata": {
    "scrolled": true
   },
   "outputs": [
    {
     "data": {
      "text/plain": [
       "['__add__',\n",
       " '__class__',\n",
       " '__class_getitem__',\n",
       " '__contains__',\n",
       " '__delattr__',\n",
       " '__delitem__',\n",
       " '__dir__',\n",
       " '__doc__',\n",
       " '__eq__',\n",
       " '__format__',\n",
       " '__ge__',\n",
       " '__getattribute__',\n",
       " '__getitem__',\n",
       " '__gt__',\n",
       " '__hash__',\n",
       " '__iadd__',\n",
       " '__imul__',\n",
       " '__init__',\n",
       " '__init_subclass__',\n",
       " '__iter__',\n",
       " '__le__',\n",
       " '__len__',\n",
       " '__lt__',\n",
       " '__mul__',\n",
       " '__ne__',\n",
       " '__new__',\n",
       " '__reduce__',\n",
       " '__reduce_ex__',\n",
       " '__repr__',\n",
       " '__reversed__',\n",
       " '__rmul__',\n",
       " '__setattr__',\n",
       " '__setitem__',\n",
       " '__sizeof__',\n",
       " '__str__',\n",
       " '__subclasshook__',\n",
       " 'append',\n",
       " 'clear',\n",
       " 'copy',\n",
       " 'count',\n",
       " 'extend',\n",
       " 'index',\n",
       " 'insert',\n",
       " 'pop',\n",
       " 'remove',\n",
       " 'reverse',\n",
       " 'sort']"
      ]
     },
     "execution_count": 100,
     "metadata": {},
     "output_type": "execute_result"
    }
   ],
   "source": [
    "dir([1])"
   ]
  },
  {
   "cell_type": "code",
   "execution_count": 101,
   "id": "f2ce57ea",
   "metadata": {},
   "outputs": [
    {
     "data": {
      "text/plain": [
       "['__class__',\n",
       " '__class_getitem__',\n",
       " '__contains__',\n",
       " '__delattr__',\n",
       " '__delitem__',\n",
       " '__dir__',\n",
       " '__doc__',\n",
       " '__eq__',\n",
       " '__format__',\n",
       " '__ge__',\n",
       " '__getattribute__',\n",
       " '__getitem__',\n",
       " '__gt__',\n",
       " '__hash__',\n",
       " '__init__',\n",
       " '__init_subclass__',\n",
       " '__ior__',\n",
       " '__iter__',\n",
       " '__le__',\n",
       " '__len__',\n",
       " '__lt__',\n",
       " '__ne__',\n",
       " '__new__',\n",
       " '__or__',\n",
       " '__reduce__',\n",
       " '__reduce_ex__',\n",
       " '__repr__',\n",
       " '__reversed__',\n",
       " '__ror__',\n",
       " '__setattr__',\n",
       " '__setitem__',\n",
       " '__sizeof__',\n",
       " '__str__',\n",
       " '__subclasshook__',\n",
       " 'clear',\n",
       " 'copy',\n",
       " 'fromkeys',\n",
       " 'get',\n",
       " 'items',\n",
       " 'keys',\n",
       " 'pop',\n",
       " 'popitem',\n",
       " 'setdefault',\n",
       " 'update',\n",
       " 'values']"
      ]
     },
     "execution_count": 101,
     "metadata": {},
     "output_type": "execute_result"
    }
   ],
   "source": [
    "dir({\"은호\":\"nice\"})"
   ]
  },
  {
   "cell_type": "code",
   "execution_count": 102,
   "id": "8d840b02",
   "metadata": {},
   "outputs": [
    {
     "data": {
      "text/plain": [
       "(3, 1)"
      ]
     },
     "execution_count": 102,
     "metadata": {},
     "output_type": "execute_result"
    }
   ],
   "source": [
    "divmod(10,3)"
   ]
  },
  {
   "cell_type": "code",
   "execution_count": 103,
   "id": "5b4f87e0",
   "metadata": {},
   "outputs": [
    {
     "data": {
      "text/plain": [
       "[1, 2, 6]"
      ]
     },
     "execution_count": 103,
     "metadata": {},
     "output_type": "execute_result"
    }
   ],
   "source": [
    "# filter(함수, 반복가능데이터) : 반환값이 참인 것만 묶어서 리턴\n",
    "# 람다랑 같이 많이 사용\n",
    "\n",
    "list(filter(lambda x:x > 0, [1,-3,2,0,-5,6]))"
   ]
  },
  {
   "cell_type": "code",
   "execution_count": 104,
   "id": "95944ee2",
   "metadata": {},
   "outputs": [
    {
     "data": {
      "text/plain": [
       "2084070189424"
      ]
     },
     "execution_count": 104,
     "metadata": {},
     "output_type": "execute_result"
    }
   ],
   "source": [
    "id(3)"
   ]
  },
  {
   "cell_type": "code",
   "execution_count": 105,
   "id": "64358dfc",
   "metadata": {},
   "outputs": [
    {
     "data": {
      "text/plain": [
       "['p', 'y', 't', 'h', 'o', 'n']"
      ]
     },
     "execution_count": 105,
     "metadata": {},
     "output_type": "execute_result"
    }
   ],
   "source": [
    "list(\"python\")"
   ]
  },
  {
   "cell_type": "code",
   "execution_count": 107,
   "id": "bd887f4a",
   "metadata": {},
   "outputs": [
    {
     "data": {
      "text/plain": [
       "[2, 4, 6, 8]"
      ]
     },
     "execution_count": 107,
     "metadata": {},
     "output_type": "execute_result"
    }
   ],
   "source": [
    "# map(함수, iterable)\n",
    "\n",
    "list(map(lambda x : x*2,[1,2,3,4]))"
   ]
  },
  {
   "cell_type": "code",
   "execution_count": 108,
   "id": "1ca550ab",
   "metadata": {},
   "outputs": [
    {
     "data": {
      "text/plain": [
       "['a', 'b', 'c', 'd', 'e']"
      ]
     },
     "execution_count": 108,
     "metadata": {},
     "output_type": "execute_result"
    }
   ],
   "source": [
    "b = \"abcde\"\n",
    "b = list(b)\n",
    "b"
   ]
  },
  {
   "cell_type": "code",
   "execution_count": 109,
   "id": "bd95926e",
   "metadata": {},
   "outputs": [
    {
     "name": "stdout",
     "output_type": "stream",
     "text": [
      "1 a\n",
      "2 b\n",
      "3 c\n",
      "4 d\n",
      "5 e\n"
     ]
    }
   ],
   "source": [
    "a = [1,2,3,4,5]\n",
    "\n",
    "for i,j in zip(a,b):\n",
    "    print(i,j)"
   ]
  },
  {
   "cell_type": "markdown",
   "id": "1fa670cf",
   "metadata": {},
   "source": [
    "## 표준 라이브러리"
   ]
  },
  {
   "cell_type": "code",
   "execution_count": 110,
   "id": "1eb3d9d2",
   "metadata": {},
   "outputs": [],
   "source": [
    "import datetime\n",
    "import time"
   ]
  },
  {
   "cell_type": "code",
   "execution_count": 121,
   "id": "a87e88b0",
   "metadata": {},
   "outputs": [
    {
     "data": {
      "text/plain": [
       "datetime.date(2019, 12, 14)"
      ]
     },
     "execution_count": 121,
     "metadata": {},
     "output_type": "execute_result"
    }
   ],
   "source": [
    "day = datetime.date(2019,12,14)\n",
    "day"
   ]
  },
  {
   "cell_type": "code",
   "execution_count": 122,
   "id": "d1ad4e10",
   "metadata": {},
   "outputs": [
    {
     "data": {
      "text/plain": [
       "366"
      ]
     },
     "execution_count": 122,
     "metadata": {},
     "output_type": "execute_result"
    }
   ],
   "source": [
    "day1 = datetime.date(2019,12,14)\n",
    "day2 = datetime.date(2020,12,14)\n",
    "\n",
    "diff = day2-day1\n",
    "diff.days"
   ]
  },
  {
   "cell_type": "code",
   "execution_count": 124,
   "id": "e17ede6f",
   "metadata": {},
   "outputs": [
    {
     "data": {
      "text/plain": [
       "(6, 5)"
      ]
     },
     "execution_count": 124,
     "metadata": {},
     "output_type": "execute_result"
    }
   ],
   "source": [
    "day.isoweekday() , day.weekday()"
   ]
  },
  {
   "cell_type": "code",
   "execution_count": 127,
   "id": "3389c926",
   "metadata": {},
   "outputs": [
    {
     "data": {
      "text/plain": [
       "1675231927.6016002"
      ]
     },
     "execution_count": 127,
     "metadata": {},
     "output_type": "execute_result"
    }
   ],
   "source": [
    "import time\n",
    "\n",
    "time.time()"
   ]
  },
  {
   "cell_type": "code",
   "execution_count": 128,
   "id": "3514b0e7",
   "metadata": {},
   "outputs": [
    {
     "data": {
      "text/plain": [
       "time.struct_time(tm_year=2023, tm_mon=2, tm_mday=1, tm_hour=15, tm_min=12, tm_sec=53, tm_wday=2, tm_yday=32, tm_isdst=0)"
      ]
     },
     "execution_count": 128,
     "metadata": {},
     "output_type": "execute_result"
    }
   ],
   "source": [
    "time.localtime(time.time())"
   ]
  },
  {
   "cell_type": "code",
   "execution_count": 131,
   "id": "26ce630c",
   "metadata": {},
   "outputs": [
    {
     "data": {
      "text/plain": [
       "'Wed Feb  1 15:14:09 2023'"
      ]
     },
     "execution_count": 131,
     "metadata": {},
     "output_type": "execute_result"
    }
   ],
   "source": [
    "time.asctime(time.localtime(time.time()))"
   ]
  },
  {
   "cell_type": "code",
   "execution_count": 133,
   "id": "f05af1d6",
   "metadata": {},
   "outputs": [
    {
     "data": {
      "text/plain": [
       "'Wed Feb  1 15:14:39 2023'"
      ]
     },
     "execution_count": 133,
     "metadata": {},
     "output_type": "execute_result"
    }
   ],
   "source": [
    "time.ctime()  #현재 시간만 가능"
   ]
  },
  {
   "cell_type": "code",
   "execution_count": 139,
   "id": "385a5ab8",
   "metadata": {},
   "outputs": [
    {
     "data": {
      "text/plain": [
       "'Wed Feb  1 15:17:18 2023'"
      ]
     },
     "execution_count": 139,
     "metadata": {},
     "output_type": "execute_result"
    }
   ],
   "source": [
    "time.asctime(time.localtime(time.time()))"
   ]
  },
  {
   "cell_type": "code",
   "execution_count": 140,
   "id": "4c26022d",
   "metadata": {},
   "outputs": [
    {
     "ename": "TypeError",
     "evalue": "Tuple or struct_time argument required",
     "output_type": "error",
     "traceback": [
      "\u001b[1;31m---------------------------------------------------------------------------\u001b[0m",
      "\u001b[1;31mTypeError\u001b[0m                                 Traceback (most recent call last)",
      "Cell \u001b[1;32mIn[140], line 2\u001b[0m\n\u001b[0;32m      1\u001b[0m \u001b[38;5;28;01mimport\u001b[39;00m \u001b[38;5;21;01mtime\u001b[39;00m\n\u001b[1;32m----> 2\u001b[0m \u001b[43mtime\u001b[49m\u001b[38;5;241;43m.\u001b[39;49m\u001b[43mstrftime\u001b[49m\u001b[43m(\u001b[49m\u001b[38;5;124;43m'\u001b[39;49m\u001b[38;5;132;43;01m%x\u001b[39;49;00m\u001b[38;5;124;43m'\u001b[39;49m\u001b[43m,\u001b[49m\u001b[43m \u001b[49m\u001b[43mtime\u001b[49m\u001b[38;5;241;43m.\u001b[39;49m\u001b[43masctime\u001b[49m\u001b[43m(\u001b[49m\u001b[43mtime\u001b[49m\u001b[38;5;241;43m.\u001b[39;49m\u001b[43mlocaltime\u001b[49m\u001b[43m(\u001b[49m\u001b[43mtime\u001b[49m\u001b[38;5;241;43m.\u001b[39;49m\u001b[43mtime\u001b[49m\u001b[43m(\u001b[49m\u001b[43m)\u001b[49m\u001b[43m)\u001b[49m\u001b[43m)\u001b[49m\u001b[43m)\u001b[49m\n",
      "\u001b[1;31mTypeError\u001b[0m: Tuple or struct_time argument required"
     ]
    }
   ],
   "source": [
    "import time\n",
    "time.strftime('%x', time.localtime(time.time()))"
   ]
  },
  {
   "cell_type": "code",
   "execution_count": 137,
   "id": "848ac98b",
   "metadata": {},
   "outputs": [
    {
     "data": {
      "text/plain": [
       "'Wed Feb  1 15:16:29 2023'"
      ]
     },
     "execution_count": 137,
     "metadata": {},
     "output_type": "execute_result"
    }
   ],
   "source": [
    "time.strftime('%c', time.localtime(time.time()))"
   ]
  },
  {
   "cell_type": "code",
   "execution_count": 141,
   "id": "8c829311",
   "metadata": {},
   "outputs": [
    {
     "name": "stdout",
     "output_type": "stream",
     "text": [
      "0\n",
      "1\n",
      "2\n",
      "3\n",
      "4\n",
      "5\n",
      "6\n",
      "7\n",
      "8\n",
      "9\n"
     ]
    }
   ],
   "source": [
    "import time\n",
    "\n",
    "for i in range(10):\n",
    "    print(i)\n",
    "    time.sleep(1)   # 1초 딜레이"
   ]
  },
  {
   "cell_type": "code",
   "execution_count": 142,
   "id": "f0dce041",
   "metadata": {},
   "outputs": [],
   "source": [
    "import math"
   ]
  },
  {
   "cell_type": "code",
   "execution_count": 143,
   "id": "33b41317",
   "metadata": {},
   "outputs": [
    {
     "data": {
      "text/plain": [
       "20"
      ]
     },
     "execution_count": 143,
     "metadata": {},
     "output_type": "execute_result"
    }
   ],
   "source": [
    "math.gcd(60,100,80)  #최대공약수"
   ]
  },
  {
   "cell_type": "code",
   "execution_count": 144,
   "id": "886236c0",
   "metadata": {},
   "outputs": [
    {
     "data": {
      "text/plain": [
       "1"
      ]
     },
     "execution_count": 144,
     "metadata": {},
     "output_type": "execute_result"
    }
   ],
   "source": [
    "math.lcm()  # 최소공배수"
   ]
  },
  {
   "cell_type": "code",
   "execution_count": 146,
   "id": "25dffba8",
   "metadata": {},
   "outputs": [
    {
     "data": {
      "text/plain": [
       "0.03268728713667479"
      ]
     },
     "execution_count": 146,
     "metadata": {},
     "output_type": "execute_result"
    }
   ],
   "source": [
    "import random\n",
    "\n",
    "random.random()  # 0 ~ 1 사이의 실수 중에서 난수 값을 돌려준다."
   ]
  },
  {
   "cell_type": "code",
   "execution_count": 148,
   "id": "944c051c",
   "metadata": {},
   "outputs": [
    {
     "data": {
      "text/plain": [
       "9"
      ]
     },
     "execution_count": 148,
     "metadata": {},
     "output_type": "execute_result"
    }
   ],
   "source": [
    "random.randint(1, 10) # 1~10사이의 값"
   ]
  },
  {
   "cell_type": "code",
   "execution_count": 149,
   "id": "56ff220b",
   "metadata": {},
   "outputs": [
    {
     "data": {
      "text/plain": [
       "array([[6, 9, 7],\n",
       "       [2, 4, 4]])"
      ]
     },
     "execution_count": 149,
     "metadata": {},
     "output_type": "execute_result"
    }
   ],
   "source": [
    "import numpy as np\n",
    "\n",
    "np.random.randint(1, 10, (2,3))"
   ]
  },
  {
   "cell_type": "code",
   "execution_count": 151,
   "id": "e348db1b",
   "metadata": {},
   "outputs": [],
   "source": [
    "import random\n",
    "\n",
    "def random_pop(data):\n",
    "    number = random.randint(0, len(data)-1)\n",
    "    return data.pop(number)"
   ]
  },
  {
   "cell_type": "code",
   "execution_count": 154,
   "id": "39435028",
   "metadata": {},
   "outputs": [
    {
     "name": "stdout",
     "output_type": "stream",
     "text": [
      "3\n",
      "1\n",
      "4\n",
      "5\n",
      "2\n"
     ]
    }
   ],
   "source": [
    "if True :\n",
    "    data = [1, 2, 3, 4, 5]\n",
    "    while data: \n",
    "        print(random_pop(data))"
   ]
  },
  {
   "cell_type": "code",
   "execution_count": 155,
   "id": "1c50c63f",
   "metadata": {},
   "outputs": [],
   "source": [
    "def random_pop(data):\n",
    "    number = random.choice(data)\n",
    "    data.remove(number)\n",
    "    return number"
   ]
  },
  {
   "cell_type": "code",
   "execution_count": 156,
   "id": "b754b4b1",
   "metadata": {},
   "outputs": [
    {
     "data": {
      "text/plain": [
       "[2, 4, 3, 1, 5]"
      ]
     },
     "execution_count": 156,
     "metadata": {},
     "output_type": "execute_result"
    }
   ],
   "source": [
    "a = [1,2,3,4,5]\n",
    "\n",
    "random.sample(a, len(a))"
   ]
  },
  {
   "cell_type": "code",
   "execution_count": null,
   "id": "588ebe24",
   "metadata": {},
   "outputs": [],
   "source": []
  },
  {
   "cell_type": "code",
   "execution_count": 157,
   "id": "fc47966e",
   "metadata": {},
   "outputs": [
    {
     "name": "stdout",
     "output_type": "stream",
     "text": [
      "[('한민서', '사탕'), ('황지민', '초컬릿'), ('이영철', '젤리')]\n"
     ]
    }
   ],
   "source": [
    "# itertools.zip_longest(*iterables, fillvalue = None)\n",
    "\n",
    "students = ['한민서', '황지민', '이영철', '이광수', '김승민']\n",
    "snacks = ['사탕', '초컬릿', '젤리']\n",
    "\n",
    "result = zip(students, snacks)\n",
    "print(list(result))"
   ]
  },
  {
   "cell_type": "code",
   "execution_count": 158,
   "id": "ba75b79a",
   "metadata": {},
   "outputs": [
    {
     "name": "stdout",
     "output_type": "stream",
     "text": [
      "[('한민서', '사탕'), ('황지민', '초컬릿'), ('이영철', '젤리'), ('이광수', '새우깡'), ('김승민', '새우깡')]\n"
     ]
    }
   ],
   "source": [
    "import itertools  # 원래는 짧은 것을 기준으로 하지만 이것은 긴 것을 기준으로\n",
    "\n",
    "students = ['한민서', '황지민', '이영철', '이광수', '김승민']\n",
    "snacks = ['사탕', '초컬릿', '젤리']\n",
    "\n",
    "result = itertools.zip_longest(students, snacks, fillvalue='새우깡')\n",
    "print(list(result))"
   ]
  },
  {
   "cell_type": "code",
   "execution_count": 160,
   "id": "4cfdae83",
   "metadata": {},
   "outputs": [
    {
     "data": {
      "text/plain": [
       "[('1', '2'), ('1', '3'), ('2', '1'), ('2', '3'), ('3', '1'), ('3', '2')]"
      ]
     },
     "execution_count": 160,
     "metadata": {},
     "output_type": "execute_result"
    }
   ],
   "source": [
    "import itertools   # 3개중 2개를 선택하는 경우의 수 (순서 고려) : 순열?\n",
    "list(itertools.permutations([\"1\",\"2\",\"3\"],2))"
   ]
  },
  {
   "cell_type": "code",
   "execution_count": 161,
   "id": "7bf91617",
   "metadata": {},
   "outputs": [
    {
     "data": {
      "text/plain": [
       "[('1', '2'), ('1', '3'), ('2', '3')]"
      ]
     },
     "execution_count": 161,
     "metadata": {},
     "output_type": "execute_result"
    }
   ],
   "source": [
    "import itertools  # 조합\n",
    "\n",
    "list(itertools.combinations(['1', '2', '3'], 2))\n"
   ]
  },
  {
   "cell_type": "code",
   "execution_count": null,
   "id": "c0b9b4e3",
   "metadata": {},
   "outputs": [],
   "source": [
    "it = itertools.combinations(range(1, 46), 6)\n",
    "\n",
    "for num in it[1]:\n",
    "    print(num)"
   ]
  },
  {
   "cell_type": "code",
   "execution_count": 167,
   "id": "617f7a0b",
   "metadata": {},
   "outputs": [
    {
     "data": {
      "text/plain": [
       "8145060"
      ]
     },
     "execution_count": 167,
     "metadata": {},
     "output_type": "execute_result"
    }
   ],
   "source": [
    "len(list(itertools.combinations(range(1, 46), 6)))\n"
   ]
  },
  {
   "cell_type": "code",
   "execution_count": null,
   "id": "022ee1eb",
   "metadata": {},
   "outputs": [],
   "source": [
    "# 중복 조합(복원 추출)\n",
    "\n",
    "itertools.combinations_with_replacement()"
   ]
  },
  {
   "cell_type": "markdown",
   "id": "e29e218f",
   "metadata": {},
   "source": [
    "### functools.reduce\n",
    "    "
   ]
  },
  {
   "cell_type": "code",
   "execution_count": 169,
   "id": "c57d746c",
   "metadata": {},
   "outputs": [
    {
     "name": "stdout",
     "output_type": "stream",
     "text": [
      "15\n"
     ]
    }
   ],
   "source": [
    "def add(data):\n",
    "    result = 0 \n",
    "    for i in data:\n",
    "        result += i\n",
    "    return result\n",
    "\n",
    "\n",
    "data = [1,2,3,4,5]\n",
    "result = add(data)\n",
    "print(result)"
   ]
  },
  {
   "cell_type": "code",
   "execution_count": 170,
   "id": "e79b6024",
   "metadata": {},
   "outputs": [
    {
     "name": "stdout",
     "output_type": "stream",
     "text": [
      "15\n"
     ]
    }
   ],
   "source": [
    "import functools\n",
    "\n",
    "data = [1, 2, 3, 4, 5]\n",
    "result = functools.reduce(lambda x, y: x + y, data)\n",
    "print(result)  # 15 출력\n",
    "\n",
    "\n",
    "# ((((1+2)+3)+4)+5)"
   ]
  },
  {
   "cell_type": "code",
   "execution_count": 1,
   "id": "d0958983",
   "metadata": {},
   "outputs": [
    {
     "ename": "NameError",
     "evalue": "name 'functools' is not defined",
     "output_type": "error",
     "traceback": [
      "\u001b[1;31m---------------------------------------------------------------------------\u001b[0m",
      "\u001b[1;31mNameError\u001b[0m                                 Traceback (most recent call last)",
      "Cell \u001b[1;32mIn[1], line 3\u001b[0m\n\u001b[0;32m      1\u001b[0m num_list \u001b[38;5;241m=\u001b[39m [\u001b[38;5;241m3\u001b[39m,\u001b[38;5;241m2\u001b[39m,\u001b[38;5;241m8\u001b[39m,\u001b[38;5;241m1\u001b[39m,\u001b[38;5;241m6\u001b[39m,\u001b[38;5;241m7\u001b[39m]\n\u001b[1;32m----> 3\u001b[0m max_num \u001b[38;5;241m=\u001b[39m \u001b[43mfunctools\u001b[49m\u001b[38;5;241m.\u001b[39mreduce(\u001b[38;5;28;01mlambda\u001b[39;00m x,y : x \u001b[38;5;28;01mif\u001b[39;00m x \u001b[38;5;241m>\u001b[39m y \u001b[38;5;28;01melse\u001b[39;00m y, num_list)\n\u001b[0;32m      5\u001b[0m \u001b[38;5;28mprint\u001b[39m(max_num)\n",
      "\u001b[1;31mNameError\u001b[0m: name 'functools' is not defined"
     ]
    }
   ],
   "source": [
    "num_list = [3,2,8,1,6,7]\n",
    "\n",
    "max_num = functools.reduce(lambda x,y : x if x > y else y, num_list)\n",
    "\n",
    "print(max_num)"
   ]
  },
  {
   "cell_type": "markdown",
   "id": "8a4f8b80",
   "metadata": {},
   "source": [
    "### operator.itemgetter"
   ]
  },
  {
   "cell_type": "code",
   "execution_count": 172,
   "id": "66254f8e",
   "metadata": {},
   "outputs": [],
   "source": [
    "students = [\n",
    "    (\"jane\", 22, 'A'),\n",
    "    (\"dave\", 32, 'B'),\n",
    "    (\"sally\", 17, 'B'),]"
   ]
  },
  {
   "cell_type": "code",
   "execution_count": 173,
   "id": "6a063b03",
   "metadata": {},
   "outputs": [
    {
     "name": "stdout",
     "output_type": "stream",
     "text": [
      "[('sally', 17, 'B'), ('jane', 22, 'A'), ('dave', 32, 'B')]\n"
     ]
    }
   ],
   "source": [
    "from operator import itemgetter\n",
    "\n",
    "result = sorted(students, key = itemgetter(1))  \n",
    "# itemgetter : item의 튜플의 2번째 요소를 기준으로\n",
    "\n",
    "print(result)"
   ]
  },
  {
   "cell_type": "code",
   "execution_count": 174,
   "id": "456afb64",
   "metadata": {},
   "outputs": [
    {
     "name": "stdout",
     "output_type": "stream",
     "text": [
      "[{'name': 'sally', 'age': 17, 'grade': 'B'}, {'name': 'jane', 'age': 22, 'grade': 'A'}, {'name': 'dave', 'age': 32, 'grade': 'B'}]\n"
     ]
    }
   ],
   "source": [
    "students = [\n",
    "    {\"name\": \"jane\", \"age\": 22, \"grade\": 'A'},\n",
    "    {\"name\": \"dave\", \"age\": 32, \"grade\": 'B'},\n",
    "    {\"name\": \"sally\", \"age\": 17, \"grade\": 'B'},\n",
    "]\n",
    "\n",
    "result = sorted(students, key=itemgetter('age'))  #딕셔너리일 경우 key 입력\n",
    "print(result)"
   ]
  },
  {
   "cell_type": "code",
   "execution_count": 175,
   "id": "369b039f",
   "metadata": {},
   "outputs": [
    {
     "data": {
      "text/plain": [
       "environ{'ALLUSERSPROFILE': 'C:\\\\ProgramData',\n",
       "        'APPDATA': 'C:\\\\Users\\\\User\\\\AppData\\\\Roaming',\n",
       "        'COMMONPROGRAMFILES': 'C:\\\\Program Files\\\\Common Files',\n",
       "        'COMMONPROGRAMFILES(X86)': 'C:\\\\Program Files (x86)\\\\Common Files',\n",
       "        'COMMONPROGRAMW6432': 'C:\\\\Program Files\\\\Common Files',\n",
       "        'COMPUTERNAME': 'DESKTOP-L657DDQ',\n",
       "        'COMSPEC': 'C:\\\\Windows\\\\system32\\\\cmd.exe',\n",
       "        'DRIVERDATA': 'C:\\\\Windows\\\\System32\\\\Drivers\\\\DriverData',\n",
       "        'FPS_BROWSER_APP_PROFILE_STRING': 'Internet Explorer',\n",
       "        'FPS_BROWSER_USER_PROFILE_STRING': 'Default',\n",
       "        'HOMEDRIVE': 'C:',\n",
       "        'HOMEPATH': '\\\\Users\\\\User',\n",
       "        'LOCALAPPDATA': 'C:\\\\Users\\\\User\\\\AppData\\\\Local',\n",
       "        'LOGONSERVER': '\\\\\\\\DESKTOP-L657DDQ',\n",
       "        'NUMBER_OF_PROCESSORS': '8',\n",
       "        'ONEDRIVE': 'C:\\\\Users\\\\User\\\\OneDrive',\n",
       "        'OS': 'Windows_NT',\n",
       "        'PATH': 'C:\\\\Users\\\\User\\\\anaconda3;C:\\\\Users\\\\User\\\\anaconda3\\\\Library\\\\mingw-w64\\\\bin;C:\\\\Users\\\\User\\\\anaconda3\\\\Library\\\\usr\\\\bin;C:\\\\Users\\\\User\\\\anaconda3\\\\Library\\\\bin;C:\\\\Users\\\\User\\\\anaconda3\\\\Scripts;C:\\\\Windows\\\\system32;C:\\\\Windows;C:\\\\Windows\\\\System32\\\\Wbem;C:\\\\Windows\\\\System32\\\\WindowsPowerShell\\\\v1.0\\\\;C:\\\\Windows\\\\System32\\\\OpenSSH\\\\;C:\\\\Program Files\\\\Bandizip\\\\;C:\\\\Program Files\\\\Git\\\\cmd;C:\\\\Users\\\\User\\\\AppData\\\\Local\\\\Programs\\\\Python\\\\Python310\\\\Scripts\\\\;C:\\\\Users\\\\User\\\\AppData\\\\Local\\\\Programs\\\\Python\\\\Python310\\\\;C:\\\\Program Files\\\\MySQL\\\\MySQL Shell 8.0\\\\bin\\\\;C:\\\\Users\\\\User\\\\AppData\\\\Local\\\\Microsoft\\\\WindowsApps;C:\\\\Users\\\\User\\\\AppData\\\\Local\\\\Programs\\\\Microsoft VS Code\\\\bin',\n",
       "        'PATHEXT': '.COM;.EXE;.BAT;.CMD;.VBS;.VBE;.JS;.JSE;.WSF;.WSH;.MSC',\n",
       "        'PROCESSOR_ARCHITECTURE': 'AMD64',\n",
       "        'PROCESSOR_IDENTIFIER': 'Intel64 Family 6 Model 142 Stepping 12, GenuineIntel',\n",
       "        'PROCESSOR_LEVEL': '6',\n",
       "        'PROCESSOR_REVISION': '8e0c',\n",
       "        'PROGRAMDATA': 'C:\\\\ProgramData',\n",
       "        'PROGRAMFILES': 'C:\\\\Program Files',\n",
       "        'PROGRAMFILES(X86)': 'C:\\\\Program Files (x86)',\n",
       "        'PROGRAMW6432': 'C:\\\\Program Files',\n",
       "        'PSMODULEPATH': 'C:\\\\Program Files\\\\WindowsPowerShell\\\\Modules;C:\\\\Windows\\\\system32\\\\WindowsPowerShell\\\\v1.0\\\\Modules',\n",
       "        'PUBLIC': 'C:\\\\Users\\\\Public',\n",
       "        'SESSIONNAME': 'Console',\n",
       "        'SYSTEMDRIVE': 'C:',\n",
       "        'SYSTEMROOT': 'C:\\\\Windows',\n",
       "        'TEMP': 'C:\\\\Users\\\\User\\\\AppData\\\\Local\\\\Temp',\n",
       "        'TMP': 'C:\\\\Users\\\\User\\\\AppData\\\\Local\\\\Temp',\n",
       "        'USERDOMAIN': 'DESKTOP-L657DDQ',\n",
       "        'USERDOMAIN_ROAMINGPROFILE': 'DESKTOP-L657DDQ',\n",
       "        'USERNAME': 'User',\n",
       "        'USERPROFILE': 'C:\\\\Users\\\\User',\n",
       "        'VBOX_MSI_INSTALL_PATH': 'C:\\\\Program Files\\\\Oracle\\\\VirtualBox\\\\',\n",
       "        'WINDIR': 'C:\\\\Windows',\n",
       "        'CONDA_PREFIX': 'C:\\\\Users\\\\User\\\\anaconda3',\n",
       "        'JPY_INTERRUPT_EVENT': '2408',\n",
       "        'IPY_INTERRUPT_EVENT': '2408',\n",
       "        'JPY_PARENT_PID': '2508',\n",
       "        'TERM': 'xterm-color',\n",
       "        'CLICOLOR': '1',\n",
       "        'FORCE_COLOR': '1',\n",
       "        'CLICOLOR_FORCE': '1',\n",
       "        'PAGER': 'cat',\n",
       "        'GIT_PAGER': 'cat',\n",
       "        'MPLBACKEND': 'module://matplotlib_inline.backend_inline'}"
      ]
     },
     "execution_count": 175,
     "metadata": {},
     "output_type": "execute_result"
    }
   ],
   "source": [
    "import os\n",
    "os.environ"
   ]
  },
  {
   "cell_type": "code",
   "execution_count": 176,
   "id": "c2078149",
   "metadata": {},
   "outputs": [
    {
     "data": {
      "text/plain": [
       "0"
      ]
     },
     "execution_count": 176,
     "metadata": {},
     "output_type": "execute_result"
    }
   ],
   "source": [
    "os.system(\"dir\")"
   ]
  },
  {
   "cell_type": "code",
   "execution_count": 177,
   "id": "03b1d850",
   "metadata": {},
   "outputs": [
    {
     "data": {
      "text/plain": [
       "'C:\\\\Users\\\\User\\\\KT AIVLE SCHOOL\\\\python'"
      ]
     },
     "execution_count": 177,
     "metadata": {},
     "output_type": "execute_result"
    }
   ],
   "source": [
    " os.getcwd()"
   ]
  },
  {
   "cell_type": "code",
   "execution_count": 178,
   "id": "bafb44f1",
   "metadata": {},
   "outputs": [],
   "source": [
    "a = 1 ; b = 2 ; c = 3"
   ]
  },
  {
   "cell_type": "code",
   "execution_count": 179,
   "id": "a5ba1a8d",
   "metadata": {},
   "outputs": [
    {
     "data": {
      "text/plain": [
       "(1, 2, 3)"
      ]
     },
     "execution_count": 179,
     "metadata": {},
     "output_type": "execute_result"
    }
   ],
   "source": [
    "a, b, c"
   ]
  },
  {
   "cell_type": "code",
   "execution_count": 180,
   "id": "d7f68c37",
   "metadata": {},
   "outputs": [],
   "source": [
    "import json"
   ]
  },
  {
   "cell_type": "code",
   "execution_count": 181,
   "id": "e39086d7",
   "metadata": {},
   "outputs": [
    {
     "data": {
      "text/latex": [
       "$\\displaystyle x$"
      ],
      "text/plain": [
       "x"
      ]
     },
     "execution_count": 181,
     "metadata": {},
     "output_type": "execute_result"
    }
   ],
   "source": [
    "from fractions import Fraction\n",
    "import sympy\n",
    "\n",
    "\n",
    "x = sympy.symbols(\"x\")\n",
    "x"
   ]
  },
  {
   "cell_type": "code",
   "execution_count": 184,
   "id": "bc07c1b0",
   "metadata": {},
   "outputs": [
    {
     "data": {
      "text/latex": [
       "$\\displaystyle \\frac{2 x}{5} = 1760$"
      ],
      "text/plain": [
       "Eq(2*x/5, 1760)"
      ]
     },
     "execution_count": 184,
     "metadata": {},
     "output_type": "execute_result"
    }
   ],
   "source": [
    "f = sympy.Eq(x*Fraction('2/5'), 1760)\n",
    "f"
   ]
  },
  {
   "cell_type": "code",
   "execution_count": 185,
   "id": "0999b858",
   "metadata": {},
   "outputs": [
    {
     "data": {
      "text/plain": [
       "[4400]"
      ]
     },
     "execution_count": 185,
     "metadata": {},
     "output_type": "execute_result"
    }
   ],
   "source": [
    "result = sympy.solve(f)\n",
    "result"
   ]
  },
  {
   "cell_type": "code",
   "execution_count": 2,
   "id": "b5dd99bb",
   "metadata": {},
   "outputs": [
    {
     "name": "stdout",
     "output_type": "stream",
     "text": [
      "숫자를 입력하세요 : 1\n",
      "10.0\n",
      "숫자를 입력하세요 : 2\n",
      "5.0\n",
      "숫자를 입력하세요 : 3\n",
      "3.3333333333333335\n",
      "숫자를 입력하세요 : 0\n",
      "error\n",
      "숫자를 입력하세요 : 0\n",
      "error\n",
      "숫자를 입력하세요 : 10\n"
     ]
    }
   ],
   "source": [
    "while True :\n",
    "    b = 10\n",
    "    a = int(input(\"숫자를 입력하세요 : \"))\n",
    "    try :\n",
    "        if b/a == 1 :\n",
    "            break\n",
    "        else :\n",
    "            print(b/a)\n",
    "    except :\n",
    "        print(\"error\")"
   ]
  },
  {
   "cell_type": "code",
   "execution_count": null,
   "id": "ec78fb7d",
   "metadata": {},
   "outputs": [],
   "source": []
  }
 ],
 "metadata": {
  "hide_input": false,
  "kernelspec": {
   "display_name": "Python 3 (ipykernel)",
   "language": "python",
   "name": "python3"
  },
  "language_info": {
   "codemirror_mode": {
    "name": "ipython",
    "version": 3
   },
   "file_extension": ".py",
   "mimetype": "text/x-python",
   "name": "python",
   "nbconvert_exporter": "python",
   "pygments_lexer": "ipython3",
   "version": "3.9.13"
  },
  "toc": {
   "base_numbering": 1,
   "nav_menu": {},
   "number_sections": true,
   "sideBar": true,
   "skip_h1_title": false,
   "title_cell": "Table of Contents",
   "title_sidebar": "Contents",
   "toc_cell": false,
   "toc_position": {},
   "toc_section_display": true,
   "toc_window_display": false
  }
 },
 "nbformat": 4,
 "nbformat_minor": 5
}
