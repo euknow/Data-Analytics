{
 "cells": [
  {
   "cell_type": "markdown",
   "id": "44a54a57",
   "metadata": {},
   "source": [
    "##  . ^ $ * + ? { } [ ] \\ | ( )"
   ]
  },
  {
   "cell_type": "markdown",
   "id": "d7df0dbc",
   "metadata": {},
   "source": [
    "### [] \n",
    " - []사이의 문자들과 매치\n",
    " - ex) : [abc]라면 이 표현식은 \" a,b,c 중 한 개의 문자와 매치\"\n",
    " - [a-c] : 두 문자 사이에 하이픈을 입력하면 from-to를 의미한다\n",
    "     - ex) [0-5] : [0123345]\n",
    "     - [a-zA-Z] : 알파벳모두\n",
    "     - [0-9] : 숫자"
   ]
  },
  {
   "cell_type": "markdown",
   "id": "3d6e9860",
   "metadata": {},
   "source": [
    "### ^\n",
    " - [^]:안에 것을 포함하지 않는 것만 매치\n",
    " - ex) [^0-9] : 숫자가 아닌 문자만 매치"
   ]
  },
  {
   "cell_type": "markdown",
   "id": "7763070f",
   "metadata": {},
   "source": [
    "### 자주 사용하는 문자 클래스\n",
    "\n",
    "- \\d - 숫자와 매치, [0-9]와 동일한 표현식이다.\n",
    "- \\D - 숫자가 아닌 것과 매치, [^0-9]와 동일한 표현식이다.\n",
    "- \\s - whitespace 문자와 매치, [ \\t\\n\\r\\f\\v]와 동일한 표현식이다. 맨 앞의 빈 칸은공백문자(space)를 의미한다.\n",
    "- \\S - whitespace 문자가 아닌 것과 매치, [^ \\t\\n\\r\\f\\v]와 동일한 표현식이다.\n",
    "- \\w - 문자+숫자(alphanumeric)와 매치, [a-zA-Z0-9_]와 동일한 표현식이다.\n",
    "- \\W - 문자+숫자(alphanumeric)가 아닌 문자와 매치, [^a-zA-Z0-9_]와 동일한 표현식이다.\n",
    "\n",
    "\n",
    "- 대문자로 사용된 것은 소문자의 반대임을 추측할 수 있다."
   ]
  },
  {
   "cell_type": "markdown",
   "id": "9edadef9",
   "metadata": {},
   "source": [
    "## Dot(.)\n",
    "- 줄바꿈 문자인 \\n을 제외한 모든 문자와 매치됨\n",
    "- re.DOTALL 옵션을 주면 \\n 문자와도 매치된다\n",
    "- a.b  = \"a + 모든문자 + b\"\n",
    "- 무조건 하나는 있어야한다.\n",
    "- a[.]b : 오로지 \"a.b\"와 매치"
   ]
  },
  {
   "cell_type": "markdown",
   "id": "f57236c1",
   "metadata": {},
   "source": [
    "### 반복(*)\n",
    " - 바로 앞에 있는 문자가  **0 ~ 무한대**로 반복될 수 있다는 것을 의미\n",
    " - ex) ca*t : a가 무한대로 반복되어도 매치\n",
    " - 0번이어도 매치"
   ]
  },
  {
   "cell_type": "markdown",
   "id": "dfad1aff",
   "metadata": {},
   "source": [
    "### 반복(+)\n",
    " - **최소 1번 이상** 반복될 때 사용한다."
   ]
  },
  {
   "cell_type": "markdown",
   "id": "2c4d12e2",
   "metadata": {},
   "source": [
    "### 반복 {m,n} \n",
    " - 반복횟수 m~n 까지 제한\n",
    " - ex) {3,} : 3 이상인경우, {,3} : 3 이하인 경우\n",
    " - ex) a{5}b : a가 반드시 5번 반복 "
   ]
  },
  {
   "cell_type": "markdown",
   "id": "2ff05ae9",
   "metadata": {},
   "source": [
    "### 반복(?)\n",
    " - {0,1}\n",
    " - 있어도 되고 없어도 된다."
   ]
  },
  {
   "cell_type": "markdown",
   "id": "ef90a363",
   "metadata": {},
   "source": [
    "## 파이썬에서 정규 표현식을 지원하는 re모듈\n",
    "### Method\n",
    " - match() : 문자열의 처음부터 정규식과 매치되는지 조사한다.\n",
    " - search() : 문자열 전체를 검색하여 정규식과 매치되는지 조사한다.\n",
    " - findall() : 정규식과 매치되는 모든 문자열을 리스트로 리턴한다.\n",
    " - finditer() : 정규식과 매치되는 모든 문자열을 반복 가능한 객체로 리턴한다."
   ]
  },
  {
   "cell_type": "code",
   "execution_count": 1,
   "id": "abda11a8",
   "metadata": {},
   "outputs": [],
   "source": [
    "import re\n",
    "p = re.compile(\"ab*\")"
   ]
  },
  {
   "cell_type": "code",
   "execution_count": 3,
   "id": "c413be68",
   "metadata": {},
   "outputs": [
    {
     "name": "stdout",
     "output_type": "stream",
     "text": [
      "<re.Match object; span=(0, 6), match='python'>\n"
     ]
    }
   ],
   "source": [
    "# match\n",
    "\n",
    "p = re.compile(\"[a-z]+\")\n",
    "\n",
    "m = p.match(\"python\")\n",
    "print(m)"
   ]
  },
  {
   "cell_type": "code",
   "execution_count": 4,
   "id": "f2dcfdc2",
   "metadata": {},
   "outputs": [
    {
     "name": "stdout",
     "output_type": "stream",
     "text": [
      "None\n"
     ]
    }
   ],
   "source": [
    "m = p.match(\"3 python\")\n",
    "print(m)"
   ]
  },
  {
   "cell_type": "code",
   "execution_count": 5,
   "id": "882e5461",
   "metadata": {},
   "outputs": [
    {
     "name": "stdout",
     "output_type": "stream",
     "text": [
      "Match found:  s\n"
     ]
    }
   ],
   "source": [
    "p = re.compile(\"[a-z]\")\n",
    "m = p.match('string goes here')\n",
    "if m:\n",
    "    print('Match found: ', m.group())\n",
    "else:\n",
    "    print('No match')"
   ]
  },
  {
   "cell_type": "code",
   "execution_count": 78,
   "id": "9a66b4ab",
   "metadata": {},
   "outputs": [
    {
     "name": "stdout",
     "output_type": "stream",
     "text": [
      "Match found:  ['s', 't', 'r', 'i', 'n', 'g', 'g', 'o', 'e', 's', 'h', 'e', 'r', 'e']\n"
     ]
    }
   ],
   "source": [
    "p = re.compile(\"[a-z]\")\n",
    "m = p.findall('string goes here')\n",
    "if m:\n",
    "    print('Match found: ', m)\n",
    "else:\n",
    "    print('No match')"
   ]
  },
  {
   "cell_type": "code",
   "execution_count": 79,
   "id": "6e64cd3d",
   "metadata": {},
   "outputs": [
    {
     "name": "stdout",
     "output_type": "stream",
     "text": [
      "<re.Match object; span=(2, 8), match='python'>\n"
     ]
    }
   ],
   "source": [
    "# search\n",
    "\n",
    "\n",
    "p = re.compile(\"[a-z]+\")\n",
    "m = p.search(\"3 python\")\n",
    "print(m)"
   ]
  },
  {
   "cell_type": "code",
   "execution_count": 81,
   "id": "916fd296",
   "metadata": {},
   "outputs": [
    {
     "data": {
      "text/plain": [
       "('python', 2, (2, 8))"
      ]
     },
     "execution_count": 81,
     "metadata": {},
     "output_type": "execute_result"
    }
   ],
   "source": [
    "m.group(), m.start(), m.end(), m.span()"
   ]
  },
  {
   "cell_type": "code",
   "execution_count": 9,
   "id": "c0240d3c",
   "metadata": {},
   "outputs": [
    {
     "name": "stdout",
     "output_type": "stream",
     "text": [
      "['life', 'is', 'too', 'short']\n"
     ]
    }
   ],
   "source": [
    "# findall\n",
    "\n",
    "result = p.findall(\"life is too short\")\n",
    "print(result)"
   ]
  },
  {
   "cell_type": "code",
   "execution_count": 32,
   "id": "9a62a519",
   "metadata": {},
   "outputs": [
    {
     "name": "stdout",
     "output_type": "stream",
     "text": [
      "<callable_iterator object at 0x000001EA947581C0>\n"
     ]
    }
   ],
   "source": [
    "# finditer\n",
    "\n",
    "results = p.finditer(\"life is too short\")\n",
    "print(results)\n"
   ]
  },
  {
   "cell_type": "code",
   "execution_count": 31,
   "id": "1b130fdf",
   "metadata": {},
   "outputs": [
    {
     "name": "stdout",
     "output_type": "stream",
     "text": [
      "<re.Match object; span=(0, 4), match='life'>\n",
      "<re.Match object; span=(5, 7), match='is'>\n",
      "<re.Match object; span=(8, 11), match='too'>\n",
      "<re.Match object; span=(12, 17), match='short'>\n"
     ]
    }
   ],
   "source": [
    "for result in results:\n",
    "    print(result)"
   ]
  },
  {
   "cell_type": "markdown",
   "id": "50e36a8e",
   "metadata": {},
   "source": [
    "### method\n",
    " - group() : 매치된 문자열을 리턴한다.\n",
    " - start() : 매치된 문자열의 시작 위치를 리턴한다.\n",
    " - end() : 매치된 문자열의 끝 위치를 리턴한다.\n",
    " - span() : 매치된 문자열의 (시작, 끝)에 해당하는 튜플을 리턴한다."
   ]
  },
  {
   "cell_type": "code",
   "execution_count": 33,
   "id": "7d86af81",
   "metadata": {},
   "outputs": [
    {
     "data": {
      "text/plain": [
       "<re.Match object; span=(0, 6), match='python'>"
      ]
     },
     "execution_count": 33,
     "metadata": {},
     "output_type": "execute_result"
    }
   ],
   "source": [
    "m = p.match(\"python\")\n",
    "m"
   ]
  },
  {
   "cell_type": "code",
   "execution_count": 34,
   "id": "cf0ae5d6",
   "metadata": {},
   "outputs": [
    {
     "data": {
      "text/plain": [
       "'python'"
      ]
     },
     "execution_count": 34,
     "metadata": {},
     "output_type": "execute_result"
    }
   ],
   "source": [
    "m = p.match(\"python\")\n",
    "m.group()"
   ]
  },
  {
   "cell_type": "code",
   "execution_count": 36,
   "id": "9ebd7823",
   "metadata": {},
   "outputs": [
    {
     "data": {
      "text/plain": [
       "(0, 6, (0, 6))"
      ]
     },
     "execution_count": 36,
     "metadata": {},
     "output_type": "execute_result"
    }
   ],
   "source": [
    "m.start(), m.end() , m.span()"
   ]
  },
  {
   "cell_type": "code",
   "execution_count": 39,
   "id": "24fed4ec",
   "metadata": {},
   "outputs": [
    {
     "data": {
      "text/plain": [
       "'python'"
      ]
     },
     "execution_count": 39,
     "metadata": {},
     "output_type": "execute_result"
    }
   ],
   "source": [
    "m = re.match(\"[a-z]+\", \"python\")\n",
    "m.group()"
   ]
  },
  {
   "cell_type": "markdown",
   "id": "415b7deb",
   "metadata": {},
   "source": [
    "### 컴파일 옵션\n",
    " #### re.DOTALL처럼 전체 옵션 이름을 써도 되고 re.S처럼 약어를 써도 된다.\n",
    " - DOTALL() : (.)이 줄바꿈 문자를 포함하여 모든 문자와 매치할 수 있도록 한다.\n",
    " - IGNORECASE(I) : 대소문자에 관계없이 매치할 수 있도록 한다.\n",
    " - MULTILINE(M) : 여러줄과 매치할 수 있도록 한다.( ^, $ 메타문자의 사용과 관계가 있는 옵션이다.)\n",
    " - VERBOSE(X) : verbose모드를 사용할 수 있도록 한다.(정규식을 보기 편하게 만들 수 있고 주석 등을 사용할 수 있게 된다.)\n",
    " \n",
    " \n"
   ]
  },
  {
   "cell_type": "code",
   "execution_count": 40,
   "id": "2ea11033",
   "metadata": {},
   "outputs": [
    {
     "name": "stdout",
     "output_type": "stream",
     "text": [
      "None\n"
     ]
    }
   ],
   "source": [
    "# DOTALL\n",
    "\n",
    "import re\n",
    "p = re.compile(\"a.b\")\n",
    "m = p.match(\"a\\nb\")\n",
    "print(m)"
   ]
  },
  {
   "cell_type": "code",
   "execution_count": 42,
   "id": "0616dc31",
   "metadata": {},
   "outputs": [
    {
     "name": "stdout",
     "output_type": "stream",
     "text": [
      "<re.Match object; span=(0, 3), match='a\\nb'>\n"
     ]
    }
   ],
   "source": [
    "p = re.compile('a.b', re.DOTALL)\n",
    "m = p.match('a\\nb')\n",
    "print(m)"
   ]
  },
  {
   "cell_type": "code",
   "execution_count": 43,
   "id": "1803c837",
   "metadata": {},
   "outputs": [
    {
     "data": {
      "text/plain": [
       "<re.Match object; span=(0, 6), match='python'>"
      ]
     },
     "execution_count": 43,
     "metadata": {},
     "output_type": "execute_result"
    }
   ],
   "source": [
    "# IGNORECASE\n",
    "\n",
    "p = re.compile(\"[a-z]+\", re.I)\n",
    "p.match(\"python\")"
   ]
  },
  {
   "cell_type": "code",
   "execution_count": 44,
   "id": "a28774ad",
   "metadata": {},
   "outputs": [
    {
     "data": {
      "text/plain": [
       "<re.Match object; span=(0, 6), match='Python'>"
      ]
     },
     "execution_count": 44,
     "metadata": {},
     "output_type": "execute_result"
    }
   ],
   "source": [
    "p.match(\"Python\")"
   ]
  },
  {
   "cell_type": "code",
   "execution_count": 45,
   "id": "bbe00cf4",
   "metadata": {},
   "outputs": [
    {
     "name": "stdout",
     "output_type": "stream",
     "text": [
      "['python one']\n"
     ]
    }
   ],
   "source": [
    "# MULTILINE\n",
    "# ^,$ 와 연관된 옵션이다. ^는 문자열의 처음 $는 문자열의 마지막을 의미\n",
    "# 만약 ^python 이면 문자열의 처음은 항상 python으로 시작해야 매치되고\n",
    "# python$이면 문자열의 마지막이 항상 python으로 끝나야 매치된다.\n",
    "\n",
    "p = re.compile(\"^python\\s\\w+\")\n",
    "\n",
    "data = \"\"\"python one\n",
    "life is too short\n",
    "python two\n",
    "you need python\n",
    "python three\"\"\"\n",
    "\n",
    "print(p.findall(data))\n",
    "\n",
    "# ^ 메타 문자에 의해 python이라는 문자열을 사용한 첫번째 줄만 매치..."
   ]
  },
  {
   "cell_type": "code",
   "execution_count": 49,
   "id": "2e5b5436",
   "metadata": {},
   "outputs": [
    {
     "name": "stdout",
     "output_type": "stream",
     "text": [
      "['python one', 'python two', 'python three']\n"
     ]
    }
   ],
   "source": [
    "# 하지만 ^ 메타 문자를 문자열 전체의 처음이 아니라 각 라인의 처음으로 인식시키고 싶은 경우도 있을 것이다. \n",
    "# 이럴 때 사용할 수 있는 옵션이 바로 re.MULTILINE 또는 re.M이다.\n",
    "\n",
    "\n",
    "p = re.compile(\"^python\\s\\w+\", re.MULTILINE)\n",
    "\n",
    "data = \"\"\"python one\n",
    "life is too short\n",
    "python two\n",
    "you need python\n",
    "python three\"\"\"\n",
    "\n",
    "print(p.findall(data))\n"
   ]
  },
  {
   "cell_type": "code",
   "execution_count": null,
   "id": "5f5240e7",
   "metadata": {},
   "outputs": [],
   "source": []
  },
  {
   "cell_type": "code",
   "execution_count": 50,
   "id": "db57c948",
   "metadata": {},
   "outputs": [],
   "source": [
    "# VERBOSE\n",
    "# 정규식을 주석 또는 줄 단위로 구분할 수 있도록 도와준다.\n",
    "# re.VERBOSE 옵션을 사용하면 문자열에 사용된 whitespace는 컴파일할 때 제거된다\n",
    "\n",
    "charref1 = re.compile(r'&[#](0[0-7]+|[0-9]+|x[0-9a-fA-F]+);')\n",
    "\n",
    "charref2 = re.compile(r\"\"\"\n",
    " &[#]                # Start of a numeric entity reference\n",
    " (\n",
    "     0[0-7]+         # Octal form\n",
    "   | [0-9]+          # Decimal form\n",
    "   | x[0-9a-fA-F]+   # Hexadecimal form\n",
    " )\n",
    " ;                   # Trailing semicolon\n",
    "\"\"\", re.VERBOSE)"
   ]
  },
  {
   "cell_type": "markdown",
   "id": "984a3f84",
   "metadata": {},
   "source": [
    "### 백슬래시 문제\n",
    "\"\\section\"을 찾을 때, \\s를 whitespace를 인식할 수 있다.  \n",
    "이 때, \\\\s를 입력하면 된다."
   ]
  },
  {
   "cell_type": "code",
   "execution_count": 51,
   "id": "f83816f7",
   "metadata": {},
   "outputs": [],
   "source": [
    "p = re.compile('\\\\section')"
   ]
  },
  {
   "cell_type": "code",
   "execution_count": 52,
   "id": "80727387",
   "metadata": {},
   "outputs": [],
   "source": [
    "p = re.compile('\\\\\\\\section')"
   ]
  },
  {
   "cell_type": "code",
   "execution_count": 83,
   "id": "c63ab5f3",
   "metadata": {},
   "outputs": [
    {
     "name": "stdout",
     "output_type": "stream",
     "text": [
      "<re.Match object; span=(0, 8), match='\\\\section'>\n"
     ]
    }
   ],
   "source": [
    "# 만약 위와 같이 \\를 사용한 표현이 계속 반복되는 정규식이라면 너무 복잡해서 이해하기 쉽지않을 것이다. \n",
    "# 이러한 문제를 해결하려면 Raw String을 사용해야 한다. \n",
    "\n",
    "p = re.compile(r'\\\\section')\n",
    "m = p.search(\"\\section\")\n",
    "print(m)"
   ]
  },
  {
   "cell_type": "markdown",
   "id": "e115d8ea",
   "metadata": {},
   "source": [
    "## 강력한 정규표현식\n",
    " - 앞에서 살펴본 메타문자는 매치가 진행될 때 현재 매치되고 있는 문자열의 위치가 변경된다(보콩 \"소비된다\"고 표현).\n",
    " - 하지만 이와 달리 문자열을 소비시키지 않는 메타문자도 있다.\n",
    " - 이번에는 이런 문자열 소비가 없는(zerowidth assertions) 메타 문자에 대해 살펴보자"
   ]
  },
  {
   "cell_type": "markdown",
   "id": "c7a6eb12",
   "metadata": {},
   "source": [
    "### |\n",
    " - or과 동일한 의미\n",
    " - A|B : A 또는 B"
   ]
  },
  {
   "cell_type": "code",
   "execution_count": 54,
   "id": "ca90961a",
   "metadata": {},
   "outputs": [
    {
     "name": "stdout",
     "output_type": "stream",
     "text": [
      "<re.Match object; span=(0, 4), match='Crow'>\n"
     ]
    }
   ],
   "source": [
    "p = re.compile('Crow|Servo')\n",
    "m = p.match('CrowHello')\n",
    "print(m)"
   ]
  },
  {
   "cell_type": "code",
   "execution_count": 85,
   "id": "55002a5e",
   "metadata": {},
   "outputs": [
    {
     "name": "stdout",
     "output_type": "stream",
     "text": [
      "None\n"
     ]
    }
   ],
   "source": [
    "p = re.compile('Cros|wervo')\n",
    "m = p.match('CrowHello')\n",
    "print(m)"
   ]
  },
  {
   "cell_type": "code",
   "execution_count": 86,
   "id": "c98ff8b2",
   "metadata": {},
   "outputs": [
    {
     "name": "stdout",
     "output_type": "stream",
     "text": [
      "<re.Match object; span=(0, 4), match='your'>\n"
     ]
    }
   ],
   "source": [
    "p = re.compile('my|your')\n",
    "m = p.match('yourback')\n",
    "print(m)"
   ]
  },
  {
   "cell_type": "code",
   "execution_count": 87,
   "id": "fcfb505a",
   "metadata": {},
   "outputs": [
    {
     "name": "stdout",
     "output_type": "stream",
     "text": [
      "<re.Match object; span=(0, 2), match='my'>\n"
     ]
    }
   ],
   "source": [
    "p = re.compile('my|your')\n",
    "m = p.match('myback')\n",
    "print(m)"
   ]
  },
  {
   "cell_type": "markdown",
   "id": "f87df978",
   "metadata": {},
   "source": [
    "### ^\n",
    " - 맨 처음과 일치함\n",
    " - ^Life 정규식은 Life 문자열이 처음에 온 경우에는 매치하지만 처음 위치가 아닌 경우에는 매치되지 않음"
   ]
  },
  {
   "cell_type": "code",
   "execution_count": 55,
   "id": "2d664d60",
   "metadata": {},
   "outputs": [
    {
     "name": "stdout",
     "output_type": "stream",
     "text": [
      "<re.Match object; span=(0, 4), match='Life'>\n",
      "None\n"
     ]
    }
   ],
   "source": [
    "print(re.search(\"^Life\", \"Life is too short\"))\n",
    "print(re.search(\"^Life\", \"My Life is too short\"))"
   ]
  },
  {
   "cell_type": "markdown",
   "id": "21483dfd",
   "metadata": {},
   "source": [
    "### $\n",
    " - 끝과 매치"
   ]
  },
  {
   "cell_type": "code",
   "execution_count": 56,
   "id": "1ca34637",
   "metadata": {},
   "outputs": [
    {
     "name": "stdout",
     "output_type": "stream",
     "text": [
      "<re.Match object; span=(12, 17), match='short'>\n"
     ]
    }
   ],
   "source": [
    "print(re.search('short$', 'Life is too short'))"
   ]
  },
  {
   "cell_type": "code",
   "execution_count": 57,
   "id": "58f46dd0",
   "metadata": {},
   "outputs": [
    {
     "name": "stdout",
     "output_type": "stream",
     "text": [
      "None\n"
     ]
    }
   ],
   "source": [
    "print(re.search('short$', \"Life is too short, you need python\"))"
   ]
  },
  {
   "cell_type": "code",
   "execution_count": 58,
   "id": "89e0ce8a",
   "metadata": {},
   "outputs": [],
   "source": [
    "# 그 자체로 매치하고 싶으면 \\^, \\$를 사용"
   ]
  },
  {
   "cell_type": "markdown",
   "id": "f9b3804d",
   "metadata": {},
   "source": [
    "### \\A\n",
    " - 문자열의 처음과 매치, ^ 메타 문자와 동일한 의미지만 \n",
    " - re.MULTILINE 옵션을 시작할 경우 다르게 해석된다.\n",
    " - ^은 각 줄의 문자열의 처음과 매치되지만, \\A는 줄고 상관없이 전체 문자열의 처음하고만 매치\n",
    " \n",
    "\n",
    "### \\Z \n",
    " - 문자열의 끝과 매치, 위와 동일\n",
    " \n",
    " \n",
    "### \\b \n",
    " - 단어 구분장이다. 보통 단어는 whitespace에 의해 구분된다."
   ]
  },
  {
   "cell_type": "code",
   "execution_count": 59,
   "id": "51f96c86",
   "metadata": {},
   "outputs": [
    {
     "name": "stdout",
     "output_type": "stream",
     "text": [
      "<re.Match object; span=(3, 8), match='class'>\n"
     ]
    }
   ],
   "source": [
    "p = re.compile(r'\\bclass\\b')\n",
    "print(p.search('no class at all'))  "
   ]
  },
  {
   "cell_type": "markdown",
   "id": "5340d007",
   "metadata": {},
   "source": [
    "### \\B\n",
    " - \\b와 반대\n",
    " - whitespace로 구분된 단어가 아닌 경우에만 매치"
   ]
  },
  {
   "cell_type": "code",
   "execution_count": 60,
   "id": "138dd194",
   "metadata": {},
   "outputs": [
    {
     "name": "stdout",
     "output_type": "stream",
     "text": [
      "None\n"
     ]
    }
   ],
   "source": [
    "p = re.compile(r'\\Bclass\\B')\n",
    "print(p.search('no class at all'))"
   ]
  },
  {
   "cell_type": "code",
   "execution_count": 61,
   "id": "9cc6413b",
   "metadata": {},
   "outputs": [
    {
     "name": "stdout",
     "output_type": "stream",
     "text": [
      "<re.Match object; span=(6, 11), match='class'>\n"
     ]
    }
   ],
   "source": [
    "print(p.search('the declassified algorithm'))"
   ]
  },
  {
   "cell_type": "code",
   "execution_count": 62,
   "id": "0dfe2db0",
   "metadata": {},
   "outputs": [
    {
     "name": "stdout",
     "output_type": "stream",
     "text": [
      "None\n"
     ]
    }
   ],
   "source": [
    "print(p.search('one subclass is'))"
   ]
  },
  {
   "cell_type": "markdown",
   "id": "b7517ed1",
   "metadata": {},
   "source": [
    "## 그루핑\n",
    " - ()\n",
    " - group(0) : 매치된 전체 문자열\n",
    " - 1 : 첫번째 그룹에 해당되는 문자열\n",
    " - 2 : 두번째\n",
    " - ...n : n번째"
   ]
  },
  {
   "cell_type": "code",
   "execution_count": 64,
   "id": "0d012dbd",
   "metadata": {},
   "outputs": [
    {
     "name": "stdout",
     "output_type": "stream",
     "text": [
      "<re.Match object; span=(0, 9), match='ABCABCABC'>\n"
     ]
    }
   ],
   "source": [
    "p = re.compile('(ABC)+')\n",
    "m = p.search('ABCABCABC OK?')\n",
    "print(m)"
   ]
  },
  {
   "cell_type": "code",
   "execution_count": 65,
   "id": "4469cdb0",
   "metadata": {},
   "outputs": [
    {
     "name": "stdout",
     "output_type": "stream",
     "text": [
      "ABCABCABC\n"
     ]
    }
   ],
   "source": [
    "print(m.group())"
   ]
  },
  {
   "cell_type": "code",
   "execution_count": 73,
   "id": "77a6e6e6",
   "metadata": {},
   "outputs": [
    {
     "data": {
      "text/plain": [
       "'park'"
      ]
     },
     "execution_count": 73,
     "metadata": {},
     "output_type": "execute_result"
    }
   ],
   "source": [
    "p = re.compile(r\"(\\w+)\\s+\\d+[-]\\d+[-]\\d+\")\n",
    "m = p.search(\"park 010-1234-1234\")\n",
    "\n",
    "m.group(1)"
   ]
  },
  {
   "cell_type": "code",
   "execution_count": 74,
   "id": "7fef0b23",
   "metadata": {},
   "outputs": [
    {
     "name": "stdout",
     "output_type": "stream",
     "text": [
      "010-1234-1234\n"
     ]
    }
   ],
   "source": [
    "p = re.compile(r\"(\\w+)\\s+(\\d+[-]\\d+[-]\\d+)\")\n",
    "m = p.search(\"park 010-1234-1234\")\n",
    "print(m.group(2))"
   ]
  },
  {
   "cell_type": "code",
   "execution_count": 75,
   "id": "174c3837",
   "metadata": {},
   "outputs": [
    {
     "name": "stdout",
     "output_type": "stream",
     "text": [
      "010\n"
     ]
    }
   ],
   "source": [
    "p = re.compile(r\"(\\w+)\\s+((\\d+)[-]\\d+[-]\\d+)\")\n",
    "m = p.search(\"park 010-1234-1234\")\n",
    "print(m.group(3))\n",
    "\n",
    "# 그룹 중첩 가능\n",
    "# 중첩 시, 바깥쪽부터 시작하여 안쪽으로 들어갈수록 인덱스가 증가"
   ]
  },
  {
   "cell_type": "markdown",
   "id": "d84b4622",
   "metadata": {},
   "source": [
    "### 그루핑된 문자열 재참조하기\n",
    " - 그룹의 또 하나 좋은 점은 한번 그루핑한 문자열을 재참조(Backreferences)할 수 있다는 것"
   ]
  },
  {
   "cell_type": "code",
   "execution_count": 7,
   "id": "a570fe49",
   "metadata": {},
   "outputs": [
    {
     "data": {
      "text/plain": [
       "'the the'"
      ]
     },
     "execution_count": 7,
     "metadata": {},
     "output_type": "execute_result"
    }
   ],
   "source": [
    "import re\n",
    "\n",
    "p = re.compile(r'(\\b\\w+)\\s+\\1')\n",
    "p.search('Paris in the the spring').group()\n",
    "# \\1 : 첫번째 그룹 재참조 = (\\b\\w+)\n",
    "# \\2 : 두번째 그룹 참조"
   ]
  },
  {
   "cell_type": "markdown",
   "id": "90e472ec",
   "metadata": {},
   "source": [
    "### 그루핑된 문자열에 이름 붙이기"
   ]
  },
  {
   "cell_type": "code",
   "execution_count": null,
   "id": "742afe31",
   "metadata": {},
   "outputs": [],
   "source": [
    "# (?P<name>\\w+)\\s+((\\d+)[-]\\d+[-]\\d+)\n",
    "# (\\w+) --> (?P<name>\\w+)\n",
    "\n",
    "# (?P<그룹명>...)"
   ]
  },
  {
   "cell_type": "code",
   "execution_count": 89,
   "id": "1eee12f9",
   "metadata": {},
   "outputs": [
    {
     "name": "stdout",
     "output_type": "stream",
     "text": [
      "park\n"
     ]
    }
   ],
   "source": [
    "p = re.compile(r\"(?P<name>\\w+)\\s+((\\d+)[-]\\d+[-]\\d+)\")\n",
    "m = p.search(\"park 010-1234-1234\")\n",
    "print(m.group(\"name\"))\n"
   ]
  },
  {
   "cell_type": "code",
   "execution_count": 90,
   "id": "ac180aa0",
   "metadata": {},
   "outputs": [
    {
     "data": {
      "text/plain": [
       "'the the'"
      ]
     },
     "execution_count": 90,
     "metadata": {},
     "output_type": "execute_result"
    }
   ],
   "source": [
    "# 그룹 이름 지정시, 재참조\n",
    "\n",
    "p = re.compile(r'(?P<word>\\b\\w+)\\s+(?P=word)')\n",
    "p.search('Paris in the the spring').group()"
   ]
  },
  {
   "cell_type": "markdown",
   "id": "d57477f6",
   "metadata": {},
   "source": [
    "### 전방 탐색"
   ]
  },
  {
   "cell_type": "code",
   "execution_count": 91,
   "id": "ee2d392f",
   "metadata": {},
   "outputs": [
    {
     "name": "stdout",
     "output_type": "stream",
     "text": [
      "http:\n"
     ]
    }
   ],
   "source": [
    "p = re.compile(\".+:\")\n",
    "m = p.search(\"http://google.com\")\n",
    "print(m.group())"
   ]
  },
  {
   "cell_type": "markdown",
   "id": "63c561fd",
   "metadata": {},
   "source": [
    " - 긍정형 전방 탐색((?=...)) - ... 에 해당되는 정규식과 매치되어야 하며 조건이 통과되어도 문자열이 소비되지 않는다.\n",
    " - 부정형 전방 탐색((?!...)) - ...에 해당되는 정규식과 매치되지 않아야 하며 조건이 통과되어도 문자열이 소비되지 않는다."
   ]
  },
  {
   "cell_type": "code",
   "execution_count": 93,
   "id": "675bb28e",
   "metadata": {},
   "outputs": [
    {
     "name": "stdout",
     "output_type": "stream",
     "text": [
      "http\n"
     ]
    }
   ],
   "source": [
    "# 긍정형\n",
    "\n",
    "p = re.compile(\".+(?=:)\")\n",
    "m = p.search(\"http://google.com\")\n",
    "print(m.group())\n",
    "\n",
    "# 검색결과에서 :이 제외되고 돌려준다"
   ]
  },
  {
   "cell_type": "code",
   "execution_count": 94,
   "id": "a6535de6",
   "metadata": {},
   "outputs": [],
   "source": [
    "# 부정형\n",
    "\n",
    "# *[.]([^b]..|.[^a].|..[^t])$ --> *[.](?!bat$).*$"
   ]
  },
  {
   "cell_type": "markdown",
   "id": "4d3e6ddb",
   "metadata": {},
   "source": [
    "### 문자열 바꾸기\n",
    "- sub(바꿀 문자열, 대상 문자열)"
   ]
  },
  {
   "cell_type": "code",
   "execution_count": 95,
   "id": "f0a632b8",
   "metadata": {},
   "outputs": [
    {
     "data": {
      "text/plain": [
       "'colour socks and colour shoes'"
      ]
     },
     "execution_count": 95,
     "metadata": {},
     "output_type": "execute_result"
    }
   ],
   "source": [
    "p = re.compile('(blue|white|red)')\n",
    "p.sub('colour', 'blue socks and red shoes')"
   ]
  },
  {
   "cell_type": "code",
   "execution_count": 97,
   "id": "56b69ea6",
   "metadata": {},
   "outputs": [
    {
     "data": {
      "text/plain": [
       "'colour socks and red shoes'"
      ]
     },
     "execution_count": 97,
     "metadata": {},
     "output_type": "execute_result"
    }
   ],
   "source": [
    "p = re.compile('(blue|white|red)')\n",
    "p.sub('colour', 'blue socks and red shoes', count = 1)\n",
    "\n",
    " # 바꾸기 횟수 제한"
   ]
  },
  {
   "cell_type": "code",
   "execution_count": 99,
   "id": "bf31717d",
   "metadata": {},
   "outputs": [
    {
     "data": {
      "text/plain": [
       "('colour socks and colour shoes', 2)"
      ]
     },
     "execution_count": 99,
     "metadata": {},
     "output_type": "execute_result"
    }
   ],
   "source": [
    "# subn : 튜플을 리턴 (변경 후 문자열, 바꾸기 발생한 횟수)\n",
    "p = re.compile('(blue|white|red)')\n",
    "p.subn('colour', 'blue socks and red shoes')"
   ]
  },
  {
   "cell_type": "code",
   "execution_count": 100,
   "id": "ce4d35f7",
   "metadata": {},
   "outputs": [
    {
     "name": "stdout",
     "output_type": "stream",
     "text": [
      "010-1234-1234 park\n"
     ]
    }
   ],
   "source": [
    "# sub 메서드 사용 시 참조 구문 사용하기\n",
    "\n",
    "p = re.compile(r\"(?P<name>\\w+)\\s+(?P<phone>(\\d+)[-]\\d+[-]\\d+)\")\n",
    "print(p.sub(\"\\g<phone> \\g<name>\", \"park 010-1234-1234\"))"
   ]
  },
  {
   "cell_type": "code",
   "execution_count": 101,
   "id": "99aff37b",
   "metadata": {},
   "outputs": [
    {
     "name": "stdout",
     "output_type": "stream",
     "text": [
      "010-1234-1234 park\n"
     ]
    }
   ],
   "source": [
    "p = re.compile(r\"(?P<name>\\w+)\\s+(?P<phone>(\\d+)[-]\\d+[-]\\d+)\")\n",
    "print(p.sub(\"\\g<2> \\g<1>\", \"park 010-1234-1234\"))"
   ]
  },
  {
   "cell_type": "code",
   "execution_count": 102,
   "id": "ae693a5e",
   "metadata": {},
   "outputs": [
    {
     "data": {
      "text/plain": [
       "'Call 0xffd2 for printing, 0xc000 for user code.'"
      ]
     },
     "execution_count": 102,
     "metadata": {},
     "output_type": "execute_result"
    }
   ],
   "source": [
    "# sub 메서드의 매개변수로 함수 넣기\n",
    "\n",
    "def hexrepl(match):\n",
    "    value = int(match.group())\n",
    "    return hex(value)\n",
    "\n",
    "p = re.compile(r'\\d+')\n",
    "p.sub(hexrepl, 'Call 65490 for printing, 49152 for user code.')\n",
    "\n",
    "# sub의 첫 번째 인수로 함수를 사용할 경우 해당 함수의 첫 번째 매개변수에는 정규식과 매치된 match 객체가 입력된다. \n",
    "# 그리고 매치되는 문자열은 함수의 리턴 값으로 바뀌게 된다.\n"
   ]
  },
  {
   "cell_type": "markdown",
   "id": "e01a1587",
   "metadata": {},
   "source": [
    "### Greedy vs Non-Greedy"
   ]
  },
  {
   "cell_type": "code",
   "execution_count": 104,
   "id": "992cc892",
   "metadata": {},
   "outputs": [
    {
     "data": {
      "text/plain": [
       "32"
      ]
     },
     "execution_count": 104,
     "metadata": {},
     "output_type": "execute_result"
    }
   ],
   "source": [
    "s = '<html><head><title>Title</title>'\n",
    "len(s)"
   ]
  },
  {
   "cell_type": "code",
   "execution_count": 106,
   "id": "d42e965a",
   "metadata": {},
   "outputs": [
    {
     "name": "stdout",
     "output_type": "stream",
     "text": [
      "(0, 32)\n"
     ]
    }
   ],
   "source": [
    "print(re.match('<.*>', s).span())"
   ]
  },
  {
   "cell_type": "code",
   "execution_count": 107,
   "id": "5ad0bf8a",
   "metadata": {},
   "outputs": [
    {
     "name": "stdout",
     "output_type": "stream",
     "text": [
      "<html><head><title>Title</title>\n"
     ]
    }
   ],
   "source": [
    "print(re.match('<.*>', s).group())"
   ]
  },
  {
   "cell_type": "code",
   "execution_count": 108,
   "id": "575f9454",
   "metadata": {},
   "outputs": [],
   "source": [
    "# 최대한의 문자열을 소비"
   ]
  },
  {
   "cell_type": "code",
   "execution_count": 109,
   "id": "02d95b9f",
   "metadata": {},
   "outputs": [
    {
     "name": "stdout",
     "output_type": "stream",
     "text": [
      "<html>\n"
     ]
    }
   ],
   "source": [
    "# ?\n",
    "# 탐욕을 제한\n",
    "print(re.match('<.*?>', s).group())"
   ]
  },
  {
   "cell_type": "markdown",
   "id": "d84622cc",
   "metadata": {},
   "source": [
    " - non-greedy 문자인 ?는 *?, +?, ??, {m,n}?와 같이 사용할 수 있다. 가능한 한 가장 최소한의 반복을 수행하도록 도와주는 역할을 한다."
   ]
  },
  {
   "cell_type": "markdown",
   "id": "7cce5444",
   "metadata": {},
   "source": [
    "### 실습"
   ]
  },
  {
   "cell_type": "code",
   "execution_count": 1,
   "id": "68086756",
   "metadata": {},
   "outputs": [
    {
     "data": {
      "text/plain": [
       "'홍길동 : 800104 - *******  일지매 : 760405 - ******* '"
      ]
     },
     "execution_count": 1,
     "metadata": {},
     "output_type": "execute_result"
    }
   ],
   "source": [
    "peoples = '홍길동:800104-1049234 일지매:760405-1052114'\n",
    "\n",
    "import re\n",
    "p = re.compile('(?P<name>\\w+)[:]\\s?(?P<front_number>\\d{,6})[-](?P<back_number>\\d{,7})')\n",
    "p.sub(\"\\g<name> : \\g<front_number> - ******* \", peoples)"
   ]
  },
  {
   "cell_type": "code",
   "execution_count": 2,
   "id": "9781f8ca",
   "metadata": {},
   "outputs": [
    {
     "name": "stdout",
     "output_type": "stream",
     "text": [
      "name :  홍길동\n",
      "앞자리 :  800104\n",
      "뒷자리 :  1049234 \n",
      "\n",
      "name :  일지매\n",
      "앞자리 :  760405\n",
      "뒷자리 :  1052114 \n",
      "\n"
     ]
    }
   ],
   "source": [
    "peoples = '홍길동:800104-1049234 일지매:760405-1052114'\n",
    "\n",
    "import re\n",
    "p = re.compile('(?P<name>\\w+)[:]\\s?(?P<front_number>\\d{,6})[-](?P<back_number>\\d{,7})')\n",
    "matches= p.finditer(peoples)\n",
    "\n",
    "for m in matches:\n",
    "    print(\"name : \",m.group(\"name\"))\n",
    "    print(\"앞자리 : \",m.group(\"front_number\"))\n",
    "    print(\"뒷자리 : \",m.group(\"back_number\"),\"\\n\")\n",
    "    \n",
    "# finditer의 각 요소는 match(search)의 리스트\n",
    "# finditer의 각 요소는 group, start, end, span이 가능한 형태"
   ]
  },
  {
   "cell_type": "code",
   "execution_count": null,
   "id": "dce5e897",
   "metadata": {},
   "outputs": [],
   "source": []
  }
 ],
 "metadata": {
  "kernelspec": {
   "display_name": "Python 3 (ipykernel)",
   "language": "python",
   "name": "python3"
  },
  "language_info": {
   "codemirror_mode": {
    "name": "ipython",
    "version": 3
   },
   "file_extension": ".py",
   "mimetype": "text/x-python",
   "name": "python",
   "nbconvert_exporter": "python",
   "pygments_lexer": "ipython3",
   "version": "3.9.13"
  }
 },
 "nbformat": 4,
 "nbformat_minor": 5
}
